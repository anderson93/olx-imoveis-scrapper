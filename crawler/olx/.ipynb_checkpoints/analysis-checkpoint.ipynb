{
 "cells": [
  {
   "cell_type": "code",
   "execution_count": 185,
   "metadata": {},
   "outputs": [],
   "source": [
    "from pony.orm import *\n",
    "\n",
    "db = Database()\n",
    "db.bind(provider='postgres', user='anderson', password='oncase12', host='localhost', database='olxcrawler')\n",
    "\n",
    "\n",
    "from datetime import datetime\n",
    "\n",
    "class AdEntity(db.Entity):\n",
    "    portal_name = Required(str)\n",
    "    updated_at = Required(datetime)\n",
    "    address = Optional(str)\n",
    "    zip_code = Optional(str)\n",
    "    bedrooms = Required(str)\n",
    "    parking_spaces = Optional(str)\n",
    "    is_sold = Optional(bool)\n",
    "    area = Optional(str)\n",
    "    price_per_sqt_meters = Optional(str)\n",
    "    bathrooms = Optional(str)\n",
    "    total_price = Optional(str)\n",
    "    type = Optional(str)\n",
    "    release_year = Optional(str)\n",
    "    url = Optional(str)\n",
    "    lat = Optional(int)\n",
    "    lng = Optional(int)\n",
    "    portal_id = Required(str)\n",
    "    PrimaryKey(portal_name, portal_id)\n",
    "\n",
    "db.generate_mapping(create_tables=True)\n",
    "\n",
    "import pandas as pd\n",
    "\n",
    "data = pd.DataFrame(db.select(\"select * from AdEntity\"), columns=['portal_name', 'updated_at', 'address',\n",
    "                                                                'zip_code', 'bedrooms', 'parking_spaces',\n",
    "                                                                'is_sold', 'area', 'price_per_sqt_meters',\n",
    "                                                                'bathrooms', 'total_price', 'type',\n",
    "                                                                'release_year', 'url', 'lat', 'lng',\n",
    "                                                                'portal_id'])\n",
    "\n",
    "data = data.dropna(how='all', axis=1).drop(['release_year'], axis=1)"
   ]
  },
  {
   "cell_type": "code",
   "execution_count": 186,
   "metadata": {},
   "outputs": [
    {
     "data": {
      "text/plain": [
       "(4980, 13)"
      ]
     },
     "execution_count": 186,
     "metadata": {},
     "output_type": "execute_result"
    }
   ],
   "source": [
    "data.shape"
   ]
  },
  {
   "cell_type": "code",
   "execution_count": null,
   "metadata": {
    "scrolled": true
   },
   "outputs": [
    {
     "name": "stdout",
     "output_type": "stream",
     "text": [
      "{'erro': True} 2\n",
      "{'erro': True} 2\n",
      "{'erro': True} 2\n",
      "{'erro': True} 2\n",
      "{'erro': True} 2\n",
      "{'erro': True} 2\n",
      "{'erro': True} 2\n",
      "{'erro': True} 2\n",
      "{'erro': True} 2\n",
      "{'erro': True} 2\n",
      "{'erro': True} 2\n",
      "{'erro': True} 2\n",
      "{'erro': True} 2\n",
      "{'erro': True} 2\n",
      "{'erro': True} 2\n",
      "{'erro': True} 2\n",
      "{'erro': True} 2\n",
      "{'erro': True} 2\n",
      "{'erro': True} 2\n",
      "{'erro': True} 2\n",
      "{'erro': True} 2\n",
      "{'erro': True} 2\n",
      "{'erro': True} 2\n",
      "{'erro': True} 2\n",
      "{'erro': True} 2\n",
      "{'erro': True} 2\n",
      "{'erro': True} 2\n",
      "{'erro': True} 2\n",
      "{'erro': True} 2\n",
      "{'erro': True} 2\n",
      "{'erro': True} 2\n",
      "{'erro': True} 2\n",
      "{'erro': True} 2\n"
     ]
    }
   ],
   "source": [
    "import requests\n",
    "import pycep_correios\n",
    "import numpy as np\n",
    "import time\n",
    "from tqdm import tqdm\n",
    "\n",
    "enderecos = []\n",
    "for cep in [cep for cep in pd.unique(data.zip_code) if not (cep in results_correios.cep.str.replace('-','').values)]:\n",
    "    try:\n",
    "        endereco = pycep_correios.get_address_from_cep(cep)\n",
    "        enderecos.append(endereco)\n",
    "        print(endereco, '1')\n",
    "    except:\n",
    "        try:\n",
    "            endereco = requests.get(f'https://viacep.com.br/ws/{cep}/json/').json()\n",
    "            enderecos.append(endereco)\n",
    "            print(endereco, '2')\n",
    "        except:\n",
    "            enderecos.append(None)\n",
    "#     time.sleep(np.random.rand())"
   ]
  },
  {
   "cell_type": "code",
   "execution_count": 106,
   "metadata": {
    "scrolled": true
   },
   "outputs": [
    {
     "data": {
      "text/plain": [
       "['51160006',\n",
       " '51100000',\n",
       " '51021912',\n",
       " '50020060',\n",
       " '51021918',\n",
       " '50070310',\n",
       " '51021905',\n",
       " '51021906',\n",
       " '52050010',\n",
       " '51120180',\n",
       " '50070330',\n",
       " '50060005',\n",
       " '50050200',\n",
       " '51030064',\n",
       " '50070020',\n",
       " '51120220',\n",
       " '51910400',\n",
       " '50070021',\n",
       " '51030200',\n",
       " '51021911',\n",
       " '51021111',\n",
       " '51021919',\n",
       " '50050010',\n",
       " '51021913',\n",
       " '50070022',\n",
       " '50070023',\n",
       " '51021920',\n",
       " '51021899',\n",
       " '51021030',\n",
       " '51021921',\n",
       " '51021987',\n",
       " '51021922',\n",
       " '50070030',\n",
       " '51024240',\n",
       " '51011020',\n",
       " '51010010',\n",
       " '51020703',\n",
       " '51021914',\n",
       " '51021915',\n",
       " '51021923',\n",
       " '50021060',\n",
       " '50021040',\n",
       " '52050061',\n",
       " '51130950',\n",
       " '50070025',\n",
       " '51150002',\n",
       " '50070024',\n",
       " '51021900',\n",
       " '51130367',\n",
       " '51021917',\n",
       " '51060020',\n",
       " '50060025',\n",
       " '51021940',\n",
       " '52011069']"
      ]
     },
     "execution_count": 106,
     "metadata": {},
     "output_type": "execute_result"
    }
   ],
   "source": [
    "[cep for cep in pd.unique(data.zip_code) if not (cep in results_correios.cep.str.replace('-','').values)]"
   ]
  },
  {
   "cell_type": "code",
   "execution_count": 50,
   "metadata": {},
   "outputs": [
    {
     "data": {
      "text/plain": [
       "0"
      ]
     },
     "execution_count": 50,
     "metadata": {},
     "output_type": "execute_result"
    }
   ],
   "source": [
    "results_correios_2 = pd.DataFrame([x for x in enderecos if x is not None])\n",
    "len(results_correios_2)"
   ]
  },
  {
   "cell_type": "code",
   "execution_count": 45,
   "metadata": {},
   "outputs": [],
   "source": [
    "results_correios = results_correios.append(results_correios_2).reset_index(drop=True).drop_duplicates()"
   ]
  },
  {
   "cell_type": "code",
   "execution_count": 46,
   "metadata": {
    "scrolled": true
   },
   "outputs": [],
   "source": [
    "results_correios.to_csv('../../data/results_correios.csv')"
   ]
  },
  {
   "cell_type": "code",
   "execution_count": 48,
   "metadata": {},
   "outputs": [
    {
     "data": {
      "text/plain": [
       "54"
      ]
     },
     "execution_count": 48,
     "metadata": {},
     "output_type": "execute_result"
    }
   ],
   "source": [
    "len([cep for cep in pd.unique(data.zip_code) if not (cep in results_correios.cep.str.replace('-','').values)])"
   ]
  },
  {
   "cell_type": "code",
   "execution_count": 17,
   "metadata": {},
   "outputs": [
    {
     "data": {
      "text/html": [
       "<div>\n",
       "<style scoped>\n",
       "    .dataframe tbody tr th:only-of-type {\n",
       "        vertical-align: middle;\n",
       "    }\n",
       "\n",
       "    .dataframe tbody tr th {\n",
       "        vertical-align: top;\n",
       "    }\n",
       "\n",
       "    .dataframe thead th {\n",
       "        text-align: right;\n",
       "    }\n",
       "</style>\n",
       "<table border=\"1\" class=\"dataframe\">\n",
       "  <thead>\n",
       "    <tr style=\"text-align: right;\">\n",
       "      <th></th>\n",
       "      <th>centroid_lat</th>\n",
       "      <th>centroid_lon</th>\n",
       "      <th>car_hours</th>\n",
       "      <th>peak_hour</th>\n",
       "    </tr>\n",
       "  </thead>\n",
       "  <tbody>\n",
       "    <tr>\n",
       "      <th>0</th>\n",
       "      <td>45.471549</td>\n",
       "      <td>-73.588684</td>\n",
       "      <td>1772.750000</td>\n",
       "      <td>2</td>\n",
       "    </tr>\n",
       "    <tr>\n",
       "      <th>1</th>\n",
       "      <td>45.543865</td>\n",
       "      <td>-73.562456</td>\n",
       "      <td>986.333333</td>\n",
       "      <td>23</td>\n",
       "    </tr>\n",
       "    <tr>\n",
       "      <th>2</th>\n",
       "      <td>45.487640</td>\n",
       "      <td>-73.642767</td>\n",
       "      <td>354.750000</td>\n",
       "      <td>20</td>\n",
       "    </tr>\n",
       "    <tr>\n",
       "      <th>3</th>\n",
       "      <td>45.522870</td>\n",
       "      <td>-73.595677</td>\n",
       "      <td>560.166667</td>\n",
       "      <td>23</td>\n",
       "    </tr>\n",
       "    <tr>\n",
       "      <th>4</th>\n",
       "      <td>45.453971</td>\n",
       "      <td>-73.738946</td>\n",
       "      <td>2836.666667</td>\n",
       "      <td>19</td>\n",
       "    </tr>\n",
       "    <tr>\n",
       "      <th>...</th>\n",
       "      <td>...</td>\n",
       "      <td>...</td>\n",
       "      <td>...</td>\n",
       "      <td>...</td>\n",
       "    </tr>\n",
       "    <tr>\n",
       "      <th>244</th>\n",
       "      <td>45.547171</td>\n",
       "      <td>-73.556258</td>\n",
       "      <td>951.416667</td>\n",
       "      <td>3</td>\n",
       "    </tr>\n",
       "    <tr>\n",
       "      <th>245</th>\n",
       "      <td>45.546482</td>\n",
       "      <td>-73.574939</td>\n",
       "      <td>795.416667</td>\n",
       "      <td>2</td>\n",
       "    </tr>\n",
       "    <tr>\n",
       "      <th>246</th>\n",
       "      <td>45.495523</td>\n",
       "      <td>-73.627725</td>\n",
       "      <td>425.750000</td>\n",
       "      <td>8</td>\n",
       "    </tr>\n",
       "    <tr>\n",
       "      <th>247</th>\n",
       "      <td>45.521199</td>\n",
       "      <td>-73.581789</td>\n",
       "      <td>1044.833333</td>\n",
       "      <td>17</td>\n",
       "    </tr>\n",
       "    <tr>\n",
       "      <th>248</th>\n",
       "      <td>45.532564</td>\n",
       "      <td>-73.567535</td>\n",
       "      <td>694.916667</td>\n",
       "      <td>5</td>\n",
       "    </tr>\n",
       "  </tbody>\n",
       "</table>\n",
       "<p>249 rows × 4 columns</p>\n",
       "</div>"
      ],
      "text/plain": [
       "     centroid_lat  centroid_lon    car_hours  peak_hour\n",
       "0       45.471549    -73.588684  1772.750000          2\n",
       "1       45.543865    -73.562456   986.333333         23\n",
       "2       45.487640    -73.642767   354.750000         20\n",
       "3       45.522870    -73.595677   560.166667         23\n",
       "4       45.453971    -73.738946  2836.666667         19\n",
       "..            ...           ...          ...        ...\n",
       "244     45.547171    -73.556258   951.416667          3\n",
       "245     45.546482    -73.574939   795.416667          2\n",
       "246     45.495523    -73.627725   425.750000          8\n",
       "247     45.521199    -73.581789  1044.833333         17\n",
       "248     45.532564    -73.567535   694.916667          5\n",
       "\n",
       "[249 rows x 4 columns]"
      ]
     },
     "execution_count": 17,
     "metadata": {},
     "output_type": "execute_result"
    }
   ],
   "source": [
    "df"
   ]
  },
  {
   "cell_type": "code",
   "execution_count": 195,
   "metadata": {},
   "outputs": [
    {
     "data": {
      "text/plain": [
       "'Boa Viagem 51020-040 Recife Avenida Engenheiro Domingos Ferreira PE de 3044 a 3818 - lado par'"
      ]
     },
     "execution_count": 195,
     "metadata": {},
     "output_type": "execute_result"
    }
   ],
   "source": [
    "' '.join(endereco.values())"
   ]
  },
  {
   "cell_type": "code",
   "execution_count": 7,
   "metadata": {},
   "outputs": [
    {
     "data": {
      "text/plain": [
       "{'bairro': 'Boa Viagem',\n",
       " 'cep': '51020-040',\n",
       " 'cidade': 'Recife',\n",
       " 'logradouro': 'Avenida Engenheiro Domingos Ferreira',\n",
       " 'uf': 'PE',\n",
       " 'complemento': 'de 3044 a 3818 - lado par'}"
      ]
     },
     "execution_count": 7,
     "metadata": {},
     "output_type": "execute_result"
    }
   ],
   "source": [
    "endereco"
   ]
  },
  {
   "cell_type": "code",
   "execution_count": 8,
   "metadata": {},
   "outputs": [
    {
     "data": {
      "text/plain": [
       "{'street': 'Avenida Engenheiro Domingos Ferreira de 3044 a 3818 - lado par',\n",
       " 'city': 'Recife',\n",
       " 'county': 'Boa Viagem',\n",
       " 'state': 'PE',\n",
       " 'country': 'Brazil',\n",
       " 'postalcode': '51020-040'}"
      ]
     },
     "execution_count": 8,
     "metadata": {},
     "output_type": "execute_result"
    }
   ],
   "source": [
    "dict(street=endereco['logradouro']+' '+endereco['complemento'],\n",
    "     city=endereco['cidade'],\n",
    "     county=endereco['bairro'],\n",
    "     state=endereco['uf'],\n",
    "     country='Brazil',\n",
    "     postalcode=endereco['cep'])"
   ]
  },
  {
   "cell_type": "code",
   "execution_count": 57,
   "metadata": {},
   "outputs": [
    {
     "name": "stdout",
     "output_type": "stream",
     "text": [
      "Avenida Engenheiro Domingos Ferreira, Boa Viagem, Recife, Região Geográgica Imediata do Recife, Região Metropolitana do Recife, Região Geográfica Intermediária do Recife, Pernambuco, Região Nordeste, 51021-909, Brasil\n",
      "(-8.1289251, -34.9019489)\n"
     ]
    }
   ],
   "source": [
    "import numpy as np\n",
    "from geopy.geocoders import Nominatim\n",
    "\n",
    "USER_AGENTS = [\n",
    "    (\n",
    "        \"Mozilla/5.0 (X11; Linux x86_64) \"\n",
    "        \"AppleWebKit/537.36 (KHTML, like Gecko) \"\n",
    "        \"Chrome/57.0.2987.110 \"\n",
    "        \"Safari/537.36\"\n",
    "    ),  # chrome\n",
    "    (\n",
    "        \"Mozilla/5.0 (X11; Linux x86_64) \"\n",
    "        \"AppleWebKit/537.36 (KHTML, like Gecko) \"\n",
    "        \"Chrome/61.0.3163.79 \"\n",
    "        \"Safari/537.36\"\n",
    "    ),  # chrome\n",
    "    (\n",
    "        \"Mozilla/5.0 (X11; Ubuntu; Linux x86_64; rv:55.0) \"\n",
    "        \"Gecko/20100101 \"\n",
    "        \"Firefox/55.0\"\n",
    "    ),  # firefox\n",
    "    (\n",
    "        \"Mozilla/5.0 (X11; Linux x86_64) \"\n",
    "        \"AppleWebKit/537.36 (KHTML, like Gecko) \"\n",
    "        \"Chrome/61.0.3163.91 \"\n",
    "        \"Safari/537.36\"\n",
    "    ),  # chrome\n",
    "    (\n",
    "        \"Mozilla/5.0 (X11; Linux x86_64) \"\n",
    "        \"AppleWebKit/537.36 (KHTML, like Gecko) \"\n",
    "        \"Chrome/62.0.3202.89 \"\n",
    "        \"Safari/537.36\"\n",
    "    ),  # chrome\n",
    "    (\n",
    "        \"Mozilla/5.0 (X11; Linux x86_64) \"\n",
    "        \"AppleWebKit/537.36 (KHTML, like Gecko) \"\n",
    "        \"Chrome/63.0.3239.108 \"\n",
    "        \"Safari/537.36\"\n",
    "    ),  # chrome\n",
    "]\n",
    "\n",
    "geolocator = Nominatim(user_agent=USER_AGENTS[np.random.randint(len(USER_AGENTS))])\n",
    "\n",
    "location = geolocator.geocode(dict(street='Avenida Engenheiro Domingos Ferreira de 3044 a 3818 - lado par',\n",
    "                                 city=endereco['cidade'],\n",
    "                                 state=endereco['uf'],\n",
    "                                 country='Brazil',\n",
    "                                 postalcode=endereco['cep']))\n",
    "print(location.address)\n",
    "print((location.latitude, location.longitude))"
   ]
  },
  {
   "cell_type": "code",
   "execution_count": 15,
   "metadata": {},
   "outputs": [
    {
     "name": "stdout",
     "output_type": "stream",
     "text": [
      "Avenida Engenheiro Domingos Ferreira, Boa Viagem, Recife, Região Geográgica Imediata do Recife, Região Metropolitana do Recife, Região Geográfica Intermediária do Recife, Pernambuco, Região Nordeste, 51111-020, Brasil\n",
      "(-8.1132614, -34.8940289)\n"
     ]
    }
   ],
   "source": [
    "geolocator = Nominatim(user_agent=USER_AGENTS[np.random.randint(len(USER_AGENTS))])\n",
    "\n",
    "location = geolocator.geocode(endereco['logradouro'])\n",
    "print(location.address)\n",
    "print((location.latitude, location.longitude))"
   ]
  },
  {
   "cell_type": "code",
   "execution_count": 97,
   "metadata": {},
   "outputs": [],
   "source": [
    "import re\n",
    "from functools import partial\n",
    "find_numbers = partial(re.findall, '\\d+')\n",
    "\n",
    "\n",
    "results_correios['adress_number'] = results_correios.complemento.map(find_numbers)\n",
    "results_correios['adress_number'] = results_correios['adress_number'].map(lambda x: x[0] if len(x)>1 else '')"
   ]
  },
  {
   "cell_type": "code",
   "execution_count": 99,
   "metadata": {},
   "outputs": [],
   "source": [
    "results_correios['complete_address'] = list(map(lambda x: ' '.join(x), results_correios[['logradouro','adress_number']].values))"
   ]
  },
  {
   "cell_type": "code",
   "execution_count": 100,
   "metadata": {},
   "outputs": [
    {
     "data": {
      "application/vnd.jupyter.widget-view+json": {
       "model_id": "5c438c00db694a44a105c95b8d07d3c5",
       "version_major": 2,
       "version_minor": 0
      },
      "text/plain": [
       "HBox(children=(FloatProgress(value=0.0, max=256.0), HTML(value='')))"
      ]
     },
     "metadata": {},
     "output_type": "display_data"
    },
    {
     "name": "stdout",
     "output_type": "stream",
     "text": [
      "\n"
     ]
    }
   ],
   "source": [
    "import time\n",
    "from tqdm.notebook import tqdm\n",
    "import numpy as np\n",
    "\n",
    "latlong = []\n",
    "\n",
    "for cep in tqdm(pd.unique(results_correios['complete_address'].values)):\n",
    "    try:\n",
    "        geolocator = Nominatim(user_agent=USER_AGENTS[np.random.randint(len(USER_AGENTS))])\n",
    "        location = geolocator.geocode(str(cep))\n",
    "        latlong.append(location)\n",
    "    except:\n",
    "        latlong.append(None)\n",
    "    time.sleep(1+np.random.rand())"
   ]
  },
  {
   "cell_type": "code",
   "execution_count": 180,
   "metadata": {},
   "outputs": [
    {
     "data": {
      "text/plain": [
       "Location(Pernambuco, Ipixuna, Microrregião de Juruá, Região Geográfica Intermediária de Tefé, Amazonas, Região Norte, Brasil, (-6.9809698, -71.4765089, 0.0))"
      ]
     },
     "execution_count": 180,
     "metadata": {},
     "output_type": "execute_result"
    }
   ],
   "source": [
    "geolocator = Nominatim(user_agent=USER_AGENTS[np.random.randint(len(USER_AGENTS))])\n",
    "\n",
    "geolocator.geocode(str(cep) + ' pernambuco brasil')"
   ]
  },
  {
   "cell_type": "code",
   "execution_count": 151,
   "metadata": {},
   "outputs": [],
   "source": [
    "results_nominatim = pd.DataFrame({'complete_address':pd.unique(results_correios['complete_address'].values),\n",
    "                                 'location':latlong})\n",
    "\n",
    "results_nominatim['latitude'] = results_nominatim['location'].map(lambda x: x.latitude if x is not None else None)\n",
    "results_nominatim['longitude'] = results_nominatim['location'].map(lambda x: x.longitude if x is not None else None)\n",
    "\n",
    "results_nominatim.drop('complete_address', axis=1).to_csv('../../data/results_nominatim.csv')\n",
    "\n",
    "complete_results = results_correios.set_index('complete_address').join(results_nominatim.set_index('complete_address'), how='left').reset_index()\n",
    "\n",
    "complete_results.cep = complete_results.cep.str.replace('-','')\n",
    "complete_results = data.set_index('zip_code').join(complete_results.set_index('cep'), how='left').reset_index(drop=True)"
   ]
  },
  {
   "cell_type": "code",
   "execution_count": 153,
   "metadata": {
    "scrolled": true
   },
   "outputs": [
    {
     "data": {
      "text/plain": [
       "portal_name                                                           olx\n",
       "updated_at                                     2020-06-19 16:28:26.575292\n",
       "address                                                                  \n",
       "bedrooms                                                                3\n",
       "parking_spaces                                                          0\n",
       "area                                                                100m²\n",
       "price_per_sqt_meters                                                     \n",
       "bathrooms                                                               2\n",
       "total_price                                                      R$ 1.500\n",
       "type                                                         Apartamentos\n",
       "url                     https://pe.olx.com.br/grande-recife/imoveis/at...\n",
       "portal_id                                                       710586240\n",
       "complete_address                                      Avenida Guararapes \n",
       "bairro                                                      Santo Antônio\n",
       "cidade                                                             Recife\n",
       "logradouro                                             Avenida Guararapes\n",
       "uf                                                                     PE\n",
       "complemento                                                              \n",
       "adress_number                                                            \n",
       "location                                                             None\n",
       "latitude                                                              NaN\n",
       "longitude                                                             NaN\n",
       "Name: 0, dtype: object"
      ]
     },
     "execution_count": 153,
     "metadata": {},
     "output_type": "execute_result"
    }
   ],
   "source": [
    "complete_results.iloc[0]"
   ]
  },
  {
   "cell_type": "code",
   "execution_count": 181,
   "metadata": {
    "scrolled": true
   },
   "outputs": [],
   "source": [
    "complete_results['price_size'] = complete_results.total_price.str.strip('R$').str.replace('.','').astype(int)/10"
   ]
  },
  {
   "cell_type": "code",
   "execution_count": 182,
   "metadata": {
    "scrolled": false
   },
   "outputs": [
    {
     "data": {
      "application/vnd.plotly.v1+json": {
       "config": {
        "plotlyServerURL": "https://plot.ly"
       },
       "data": [
        {
         "customdata": [
          [
           "3",
           "2",
           "100m²",
           "https://pe.olx.com.br/grande-recife/imoveis/atencao-otima-opcao-para-locacao-na-guararapes-710586240",
           "Apartamentos"
          ],
          [
           "2",
           "2",
           "75m²",
           "https://pe.olx.com.br/grande-recife/imoveis/edf-inconfidencia-747120032",
           "Apartamentos"
          ],
          [
           "1",
           "1",
           "30m²",
           "https://pe.olx.com.br/grande-recife/imoveis/aluga-um-kitinet-743188105",
           "Apartamentos"
          ],
          [
           "1",
           "1",
           "",
           "https://pe.olx.com.br/grande-recife/imoveis/alugo-kitnet-r-750-00-744547250",
           "Apartamentos"
          ],
          [
           "1",
           "1",
           "42m²",
           "https://pe.olx.com.br/grande-recife/imoveis/excelente-oportunidade-no-coracao-do-recife-com-linda-vista-para-olinda-e-recife-752586318",
           "Apartamentos"
          ],
          [
           "1",
           "1",
           "0m²",
           "https://pe.olx.com.br/grande-recife/imoveis/apartamento-para-alugar-edf-continental-santo-antonio-recife-744820646",
           "Apartamentos"
          ],
          [
           "1",
           "1",
           "32m²",
           "https://pe.olx.com.br/grande-recife/imoveis/centro-recife-av-guararapes-vista-para-o-rio-capibaribe-conjugado-750086406",
           "Apartamentos"
          ],
          [
           "2",
           "2",
           "78m²",
           "https://pe.olx.com.br/grande-recife/imoveis/apartamento-739609159",
           "Apartamentos"
          ],
          [
           "3",
           "2",
           "100m²",
           "https://pe.olx.com.br/grande-recife/imoveis/apartamento-na-avenida-dantas-barreto-747856087",
           "Apartamentos"
          ],
          [
           "2",
           "1",
           "40m²",
           "https://pe.olx.com.br/grande-recife/imoveis/alugo-temporada-novinho-e-com-lazer-completo-756951750",
           "Apartamentos"
          ],
          [
           "2",
           "1",
           "0m²",
           "https://pe.olx.com.br/grande-recife/imoveis/apartamento-bairro-de-sao-jose-706706344",
           "Apartamentos"
          ],
          [
           "1",
           "1",
           "40m²",
           "https://pe.olx.com.br/grande-recife/imoveis/lindo-mobiliado-5-minutos-doar-coracao-de-boa-viagem-755594403",
           "Apartamentos"
          ],
          [
           "2",
           "1",
           "65m²",
           "https://pe.olx.com.br/grande-recife/imoveis/achei-2-quartos-tudo-novo-lazer-completo-praia-e-shoping-755593866",
           "Apartamentos"
          ],
          [
           "1",
           "1",
           "",
           "https://pe.olx.com.br/grande-recife/imoveis/alugo-apt-boa-vista-744860380",
           "Apartamentos"
          ],
          [
           "1",
           "1",
           "50m²",
           "https://pe.olx.com.br/grande-recife/imoveis/aluguel-apartamento-sala-e-quarto-na-boa-vista-750522084",
           "Apartamentos"
          ],
          [
           "1",
           "1",
           "53m²",
           "https://pe.olx.com.br/grande-recife/imoveis/kitnet-ed-ebano-boa-vista-r-da-aurora-325-recife-735666426",
           "Apartamentos"
          ],
          [
           "1",
           "1",
           "50m²",
           "https://pe.olx.com.br/grande-recife/imoveis/encima-boa-vista-tudo-incluso-seguro-sossegado-753859463",
           "Apartamentos"
          ],
          [
           "2",
           "1",
           "70m²",
           "https://pe.olx.com.br/grande-recife/imoveis/apartamento-2-quartos-centro-do-recife-751603388",
           "Apartamentos"
          ],
          [
           "2",
           "1",
           "70m²",
           "https://pe.olx.com.br/grande-recife/imoveis/apartamento-2-quartos-conde-da-boa-vista-756510023",
           "Apartamentos"
          ],
          [
           "1",
           "1",
           "60m²",
           "https://pe.olx.com.br/grande-recife/imoveis/apto-pronto-para-morar-756840053",
           "Apartamentos"
          ],
          [
           "1",
           "1",
           "52m²",
           "https://pe.olx.com.br/grande-recife/imoveis/apto-na-boa-vista-1-300-00-com-condominio-e-iptu-ja-incluso-732259848",
           "Apartamentos"
          ],
          [
           "2",
           "1",
           "48m²",
           "https://pe.olx.com.br/grande-recife/imoveis/apartamento-para-alugar-756076906",
           "Apartamentos"
          ],
          [
           "2",
           "1",
           "0m²",
           "https://pe.olx.com.br/grande-recife/imoveis/procuro-alguem-para-dividir-apartamento-no-centro-da-cidade-do-recife-739519173",
           "Apartamentos"
          ],
          [
           "1",
           "1",
           "50m²",
           "https://pe.olx.com.br/grande-recife/imoveis/more-central-apto-50m2-1qto-sala-cozamericana-wc-alto-ventilado-vistas-boa-vista-750tudo-736982626",
           "Apartamentos"
          ],
          [
           "1",
           "1",
           "",
           "https://pe.olx.com.br/grande-recife/imoveis/kitnet-grande-na-boa-vista-738075013",
           "Apartamentos"
          ],
          [
           "1",
           "1",
           "48m²",
           "https://pe.olx.com.br/grande-recife/imoveis/apartamento-mobiliado-752035142",
           "Apartamentos"
          ],
          [
           "3",
           "2",
           "118m²",
           "https://pe.olx.com.br/grande-recife/imoveis/apartamento-na-boa-vista-750616913",
           "Apartamentos"
          ],
          [
           "3",
           "2",
           "85m²",
           "https://pe.olx.com.br/grande-recife/imoveis/edificio-fernandes-vieira-744975460",
           "Apartamentos"
          ],
          [
           "2",
           "1",
           "0m²",
           "https://pe.olx.com.br/grande-recife/imoveis/apartamento-na-boa-vista-745423625",
           "Apartamentos"
          ],
          [
           "1",
           "1",
           "35m²",
           "https://pe.olx.com.br/grande-recife/imoveis/alugo-apartamento-tipo-flat-mobiliado-e-sem-mobilia-733772682",
           "Apartamentos"
          ],
          [
           "1",
           "1",
           "35m²",
           "https://pe.olx.com.br/grande-recife/imoveis/en-vendo-ou-alugo-flat-na-boa-vista-745457533",
           "Apartamentos"
          ],
          [
           "1",
           "1",
           "",
           "https://pe.olx.com.br/grande-recife/imoveis/flat-na-boa-vista-738790482",
           "Apartamentos"
          ],
          [
           "1",
           "1",
           "39m²",
           "https://pe.olx.com.br/grande-recife/imoveis/flat-mobiliado-na-boa-vista-754371083",
           "Apartamentos"
          ],
          [
           "1",
           "1",
           "",
           "https://pe.olx.com.br/grande-recife/imoveis/alugo-apartamento-mobiliado-studio-flat-na-boa-vista-754693163",
           "Apartamentos"
          ],
          [
           "3",
           "1",
           "91m²",
           "https://pe.olx.com.br/grande-recife/imoveis/apartamento-para-aluguel-3-quartos-1-vaga-gracas-recife-pe-683513611",
           "Apartamentos"
          ],
          [
           "2",
           "2",
           "",
           "https://pe.olx.com.br/grande-recife/imoveis/alugo-aptos-p-univ-proximo-ao-oswaldo-cruz-734717722",
           "Apartamentos"
          ],
          [
           "1",
           "1",
           "30m²",
           "https://pe.olx.com.br/grande-recife/imoveis/01-quarto-suite-para-uma-pessoa-no-terreo-por-tras-de-um-predio-na-boa-vista-742997436",
           "Apartamentos"
          ],
          [
           "3",
           "2",
           "",
           "https://pe.olx.com.br/grande-recife/imoveis/alugo-750759366",
           "Apartamentos"
          ],
          [
           "2",
           "1",
           "80m²",
           "https://pe.olx.com.br/grande-recife/imoveis/edificio-presidente-kennedy-754122676",
           "Apartamentos"
          ],
          [
           "2",
           "3",
           "70m²",
           "https://pe.olx.com.br/grande-recife/imoveis/rara-oportunidade-perto-da-universidade-catolica-757228126",
           "Apartamentos"
          ],
          [
           "1",
           "1",
           "45m²",
           "https://pe.olx.com.br/grande-recife/imoveis/ap-200m-universidade-catolica-do-recife-elevador-1-vg-semi-mobiliado-kitnet-752103071",
           "Apartamentos"
          ],
          [
           "2",
           "1",
           "46m²",
           "https://pe.olx.com.br/grande-recife/imoveis/alugo-apartamento-sala-edificio-sao-cristovao-rua-da-aurora-748537117",
           "Apartamentos"
          ],
          [
           "1",
           "1",
           "56m²",
           "https://pe.olx.com.br/grande-recife/imoveis/excelente-apartamento-na-boa-vista-752696241",
           "Apartamentos"
          ],
          [
           "1",
           "1",
           "",
           "https://pe.olx.com.br/grande-recife/imoveis/alugo-740235794",
           "Apartamentos"
          ],
          [
           "1",
           "1",
           "32m²",
           "https://pe.olx.com.br/grande-recife/imoveis/aluguel-oportunidade-quarto-e-sala-na-boa-vista-756567329",
           "Apartamentos"
          ],
          [
           "1",
           "1",
           "",
           "https://pe.olx.com.br/grande-recife/imoveis/apartamento-745721021",
           "Apartamentos"
          ],
          [
           "3",
           "2",
           "100m²",
           "https://pe.olx.com.br/grande-recife/imoveis/boa-vista-rua-da-aurora-apt-3qts-sala-coz-14-andar-100m2-1-500ctudo-732993268",
           "Apartamentos"
          ],
          [
           "3",
           "2",
           "70m²",
           "https://pe.olx.com.br/grande-recife/imoveis/boa-vista-rua-sete-de-setembro-apt-3-quartos-sala-coz-70m2-1-100ctudo-740402800",
           "Apartamentos"
          ],
          [
           "3",
           "2",
           "100m²",
           "https://pe.olx.com.br/grande-recife/imoveis/rua-da-uniao-apt-3quartos-sala-coz-100m2-14-andar-1-500-contudo-741472421",
           "Apartamentos"
          ],
          [
           "3",
           "2",
           "70m²",
           "https://pe.olx.com.br/grande-recife/imoveis/boa-vista-rua-sete-de-setembro-apt-3-quartos-sala-coz-70m2-1-100-741337850",
           "Apartamentos"
          ],
          [
           "3",
           "2",
           "70m²",
           "https://pe.olx.com.br/grande-recife/imoveis/boa-vista-rua-sete-de-setembro-3-quartos-sala-coz-70m2-reformada-743399896",
           "Apartamentos"
          ],
          [
           "3",
           "2",
           "100m²",
           "https://pe.olx.com.br/grande-recife/imoveis/rua-da-aurora-apt-3-quartos-sala-coz-wc-100m2-14-andar-1-500-747185735",
           "Apartamentos"
          ],
          [
           "3",
           "3",
           "100m²",
           "https://pe.olx.com.br/grande-recife/imoveis/boa-vista-rua-da-uniao-apt-3-quartos-sala-coz-wc-100m2-14-andar-750388664",
           "Apartamentos"
          ],
          [
           "3",
           "2",
           "100m²",
           "https://pe.olx.com.br/grande-recife/imoveis/rua-da-aurora-apt-3-quartos-sala-coz-wc-100m2-14-andar-c-vista-pro-rio-capibaribe-750847471",
           "Apartamentos"
          ],
          [
           "3",
           "2",
           "100m²",
           "https://pe.olx.com.br/grande-recife/imoveis/boa-vista-rua-da-aurora-apt-3-quartos-sala-coz-wc-100m2-14-andar-1-500ctudo-751583041",
           "Apartamentos"
          ],
          [
           "3",
           "2",
           "0m²",
           "https://pe.olx.com.br/grande-recife/imoveis/rua-da-aurora-apt-3-quartos-sala-coz-wc-100m2-1-500ctudo-753185808",
           "Apartamentos"
          ],
          [
           "3",
           "2",
           "100m²",
           "https://pe.olx.com.br/grande-recife/imoveis/boa-vista-rua-da-aurora-apt-3quartos-sala-coz-wc-100m2-14andar-1-500ctudo-733562472",
           "Apartamentos"
          ],
          [
           "1",
           "1",
           "50m²",
           "https://pe.olx.com.br/grande-recife/imoveis/boa-vista-rua-da-uniao-1-quarto-sala-coz-50m2-elevador-1-100ctudo-757624533",
           "Apartamentos"
          ],
          [
           "3",
           "2",
           "100m²",
           "https://pe.olx.com.br/grande-recife/imoveis/boa-vista-rua-da-uniao-prox-ao-cinema-sao-luiz-3qts-sala-coz-100m2-14ndar-757638245",
           "Apartamentos"
          ],
          [
           "1",
           "1",
           "35m²",
           "https://pe.olx.com.br/grande-recife/imoveis/av-c-da-b-vista-16-andar-c-cidade-otimo-ap-academia-s-festa-piscina-pot-24h-751722652",
           "Apartamentos"
          ],
          [
           "3",
           "2",
           "88m²",
           "https://pe.olx.com.br/grande-recife/imoveis/aluguel-de-apartamento-na-boa-vista-1482-03-quartos-734219185",
           "Apartamentos"
          ],
          [
           "1",
           "1",
           "50m²",
           "https://pe.olx.com.br/grande-recife/imoveis/apt-na-boa-vista-01-qto-742624591",
           "Apartamentos"
          ],
          [
           "2",
           "1",
           "60m²",
           "https://pe.olx.com.br/grande-recife/imoveis/aluguel-de-apartamento-na-boa-vista-recife-pe-741554533",
           "Apartamentos"
          ],
          [
           "1",
           "1",
           "25m²",
           "https://pe.olx.com.br/grande-recife/imoveis/al0706-apto-com-1-qrt-cozinha-americana-excelente-oportunidade-na-boa-vista-750278812",
           "Apartamentos"
          ],
          [
           "3",
           "2",
           "100m²",
           "https://pe.olx.com.br/grande-recife/imoveis/boa-vista-rua-da-aurora-3quartos-sala-coz-wc-100m2-1-500-743394088",
           "Apartamentos"
          ],
          [
           "3",
           "2",
           "100m²",
           "https://pe.olx.com.br/grande-recife/imoveis/boa-vista-rua-da-aurora-3qts-sala-coz-wc-100m2-14-andar-753665875",
           "Apartamentos"
          ],
          [
           "2",
           "1",
           "70m²",
           "https://pe.olx.com.br/grande-recife/imoveis/1-ou-2-qtos-mobilia-completa-a-partir-de-1-499-00-754330382",
           "Apartamentos"
          ],
          [
           "1",
           "1",
           "50m²",
           "https://pe.olx.com.br/grande-recife/imoveis/alugo-apartamento-1-quarto-taxas-inclusas-744529205",
           "Apartamentos"
          ],
          [
           "1",
           "1",
           "",
           "https://pe.olx.com.br/grande-recife/imoveis/aluguel-de-apartamento-730228530",
           "Apartamentos"
          ],
          [
           "2",
           "1",
           "50m²",
           "https://pe.olx.com.br/grande-recife/imoveis/apartamento-central-com-taxa-de-condominio-e-iptu-inclusos-743946265",
           "Apartamentos"
          ],
          [
           "1",
           "1",
           "50m²",
           "https://pe.olx.com.br/grande-recife/imoveis/rua-da-aurora-apartamento-com-1-quarto-sala-coz-wc-50m2-1-100ctudo-733555244",
           "Apartamentos"
          ],
          [
           "3",
           "2",
           "100m²",
           "https://pe.olx.com.br/grande-recife/imoveis/rua-da-aurora-edf-sao-crsitovao-apt-3-quartos-sala-coz-wc-14andar-100m-740390145",
           "Apartamentos"
          ],
          [
           "3",
           "2",
           "70m²",
           "https://pe.olx.com.br/grande-recife/imoveis/rua-sete-de-setembro-apt-3-quartos-sala-coz-70m2-1-100-contudo-741474121",
           "Apartamentos"
          ],
          [
           "3",
           "2",
           "100m²",
           "https://pe.olx.com.br/grande-recife/imoveis/rua-da-aurora-apt-3-quartos-sala-coz-wc-100m2-14-andar-1-500-741340746",
           "Apartamentos"
          ],
          [
           "3",
           "2",
           "100m²",
           "https://pe.olx.com.br/grande-recife/imoveis/rua-da-aurora-apartamento-com-3qts-sala-coz-wc-100m2-14-andar-755369191",
           "Apartamentos"
          ],
          [
           "1",
           "1",
           "45m²",
           "https://pe.olx.com.br/grande-recife/imoveis/apt-1-quarto-45-m2-shop-boa-vista-714650737",
           "Apartamentos"
          ],
          [
           "1",
           "1",
           "",
           "https://pe.olx.com.br/grande-recife/imoveis/apartamento-boa-vista-650-00-753990705",
           "Apartamentos"
          ],
          [
           "1",
           "1",
           "",
           "https://pe.olx.com.br/grande-recife/imoveis/apto-kit-net-733808910",
           "Apartamentos"
          ],
          [
           "1",
           "1",
           "50m²",
           "https://pe.olx.com.br/grande-recife/imoveis/799-00-para-alugar-logo-apt-boa-vista-direto-proprietario-697239376",
           "Apartamentos"
          ],
          [
           "3",
           "2",
           "",
           "https://pe.olx.com.br/grande-recife/imoveis/centralizado-apartamento-na-boa-vista-629797101",
           "Apartamentos"
          ],
          [
           "2",
           "1",
           "38m²",
           "https://pe.olx.com.br/grande-recife/imoveis/apartamento-na-boa-vista-2-quartos-c-ar-na-boa-vista-751943936",
           "Apartamentos"
          ],
          [
           "1",
           "1",
           "35m²",
           "https://pe.olx.com.br/grande-recife/imoveis/apartamento-de-1-quarto-na-boa-vista-centro-da-cidade-748316432",
           "Apartamentos"
          ],
          [
           "2",
           "1",
           "45m²",
           "https://pe.olx.com.br/grande-recife/imoveis/apartamento-mobiliado-2-quartos-boa-vista-com-internet-free-749494632",
           "Apartamentos"
          ],
          [
           "1",
           "1",
           "",
           "https://pe.olx.com.br/grande-recife/imoveis/alugo-apto-1-quarto-na-rua-da-gloria-prox-ao-imip-671895697",
           "Apartamentos"
          ],
          [
           "2",
           "1",
           "60m²",
           "https://pe.olx.com.br/grande-recife/imoveis/aluga-se-excelente-apartamento-749122663",
           "Apartamentos"
          ],
          [
           "3",
           "3",
           "114m²",
           "https://pe.olx.com.br/grande-recife/imoveis/boa-vista-3-quartos-com-suite-taxas-inclusas-734894945",
           "Apartamentos"
          ],
          [
           "1",
           "1",
           "40m²",
           "https://pe.olx.com.br/grande-recife/imoveis/apartamento-para-aluguel-1-quarto-1-vaga-boa-vista-recife-pe-733212757",
           "Apartamentos"
          ],
          [
           "2",
           "2",
           "87m²",
           "https://pe.olx.com.br/grande-recife/imoveis/super-oportunidade-742770057",
           "Apartamentos"
          ],
          [
           "1",
           "1",
           "49m²",
           "https://pe.olx.com.br/grande-recife/imoveis/apartamento-quarto-e-sala-melhor-trecho-boa-vista-750754422",
           "Apartamentos"
          ],
          [
           "3",
           "3",
           "114m²",
           "https://pe.olx.com.br/grande-recife/imoveis/boa-vista-3-quartos-com-suite-753772646",
           "Apartamentos"
          ],
          [
           "1",
           "1",
           "55m²",
           "https://pe.olx.com.br/grande-recife/imoveis/aluguel-apartamento-ao-lado-do-shopping-boa-vista-734741687",
           "Apartamentos"
          ],
          [
           "1",
           "1",
           "55m²",
           "https://pe.olx.com.br/grande-recife/imoveis/apartamento-ao-lado-do-shopping-boa-vista-746725206",
           "Apartamentos"
          ],
          [
           "3",
           "1",
           "",
           "https://pe.olx.com.br/grande-recife/imoveis/apartamento-para-alugar-boa-viagem-737582741",
           "Apartamentos"
          ],
          [
           "3",
           "2",
           "80m²",
           "https://pe.olx.com.br/grande-recife/imoveis/boa-vista-edf-florida-03-qts-dependencia-elevador-r-1-400-00-com-taxas-inclusas-754832324",
           "Apartamentos"
          ],
          [
           "3",
           "2",
           "92m²",
           "https://pe.olx.com.br/grande-recife/imoveis/apartamento-para-alugar-com-3-dormitorios-em-boa-vista-recife-cod-al369-748113015",
           "Apartamentos"
          ],
          [
           "3",
           "2",
           "90m²",
           "https://pe.olx.com.br/grande-recife/imoveis/tm-apt-3qts-dep-na-boa-vista-749554160",
           "Apartamentos"
          ],
          [
           "3",
           "2",
           "92m²",
           "https://pe.olx.com.br/grande-recife/imoveis/mt-alugo-apt-3qts-dep-na-boa-vista-755819237",
           "Apartamentos"
          ],
          [
           "3",
           "1",
           "92m²",
           "https://pe.olx.com.br/grande-recife/imoveis/tm-r-1499-00-3qts-prox-ao-consulado-americano-boa-vista-754308277",
           "Apartamentos"
          ],
          [
           "1",
           "1",
           "47m²",
           "https://pe.olx.com.br/grande-recife/imoveis/lindo-apart-no-centro-do-recife-prox-ao-shopping-boa-vista-756141197",
           "Apartamentos"
          ],
          [
           "3",
           "2",
           "92m²",
           "https://pe.olx.com.br/grande-recife/imoveis/tm-apt-92m-na-boa-vista-750220329",
           "Apartamentos"
          ],
          [
           "3",
           "2",
           "92m²",
           "https://pe.olx.com.br/grande-recife/imoveis/mt-apt-92m-na-boa-vista-750801864",
           "Apartamentos"
          ],
          [
           "3",
           "2",
           "91m²",
           "https://pe.olx.com.br/grande-recife/imoveis/tm-alugo-apt-3qts-prox-ao-consulado-americano-boa-vista-753584311",
           "Apartamentos"
          ],
          [
           "3",
           "2",
           "93m²",
           "https://pe.olx.com.br/grande-recife/imoveis/tm-apt-3qts-dep-na-boa-vista-751861119",
           "Apartamentos"
          ],
          [
           "3",
           "2",
           "91m²",
           "https://pe.olx.com.br/grande-recife/imoveis/tm-alugo-apt-3qts-dep-completa-na-rua-do-progresso-boa-vista-755325037",
           "Apartamentos"
          ],
          [
           "3",
           "2",
           "93m²",
           "https://pe.olx.com.br/grande-recife/imoveis/tm-apt-3qts-dep-completa-na-boa-vista-752279327",
           "Apartamentos"
          ],
          [
           "3",
           "2",
           "89m²",
           "https://pe.olx.com.br/grande-recife/imoveis/tm-apt-90m-na-boa-vista-753234414",
           "Apartamentos"
          ],
          [
           "3",
           "2",
           "92m²",
           "https://pe.olx.com.br/grande-recife/imoveis/jr-al369-procura-apartamento-na-soledade-e-taxas-inclusas-81-753116592",
           "Apartamentos"
          ],
          [
           "1",
           "1",
           "40m²",
           "https://pe.olx.com.br/grande-recife/imoveis/apartamento-a-200-metros-do-shopping-boa-vista-aluguel-754451205",
           "Apartamentos"
          ],
          [
           "1",
           "1",
           "40m²",
           "https://pe.olx.com.br/grande-recife/imoveis/apartamento-a-200-metros-do-shopping-boa-vista-aluguel-754450002",
           "Apartamentos"
          ],
          [
           "1",
           "1",
           "40m²",
           "https://pe.olx.com.br/grande-recife/imoveis/apartamento-kitnet-mobiliado-boa-vista-754681354",
           "Apartamentos"
          ],
          [
           "1",
           "1",
           "40m²",
           "https://pe.olx.com.br/grande-recife/imoveis/apartamento-para-alugar-na-boa-vista-a-200-metros-do-shopping-boa-vista-749269406",
           "Apartamentos"
          ],
          [
           "1",
           "1",
           "42m²",
           "https://pe.olx.com.br/grande-recife/imoveis/r-1-100-apartamento-42m-sendo-1-quarto-elevador-nascente-na-boa-vista-756395114",
           "Apartamentos"
          ],
          [
           "1",
           "1",
           "60m²",
           "https://pe.olx.com.br/grande-recife/imoveis/espetacular-apto-60m2-super-ventilado-756144658",
           "Apartamentos"
          ],
          [
           "1",
           "1",
           "30m²",
           "https://pe.olx.com.br/grande-recife/imoveis/apartamento-boa-vista-1-quarto-ed-arpege-754300315",
           "Apartamentos"
          ],
          [
           "1",
           "1",
           "42m²",
           "https://pe.olx.com.br/grande-recife/imoveis/apartamento-para-alugar-ou-vender-na-boa-vista-753184366",
           "Apartamentos"
          ],
          [
           "3",
           "3",
           "105m²",
           "https://pe.olx.com.br/grande-recife/imoveis/dmr-apartamento-com-3-quartos-para-alugar-105-m-por-r-1-400-mes-714376611",
           "Apartamentos"
          ],
          [
           "1",
           "1",
           "40m²",
           "https://pe.olx.com.br/grande-recife/imoveis/flat-na-boa-vista-top-745188569",
           "Apartamentos"
          ],
          [
           "1",
           "1",
           "40m²",
           "https://pe.olx.com.br/grande-recife/imoveis/apartamento-01-quarto-centro-cidade-745841230",
           "Apartamentos"
          ],
          [
           "1",
           "1",
           "35m²",
           "https://pe.olx.com.br/grande-recife/imoveis/alugo-flat-na-boa-vista-com-lavanderia-e-servicos-de-camareira-756491487",
           "Apartamentos"
          ],
          [
           "3",
           "1",
           "",
           "https://pe.olx.com.br/grande-recife/imoveis/aluguel-de-quarto-756699960",
           "Apartamentos"
          ],
          [
           "2",
           "2",
           "",
           "https://pe.olx.com.br/grande-recife/imoveis/alugo-apartamento-753232981",
           "Apartamentos"
          ],
          [
           "2",
           "2",
           "69m²",
           "https://pe.olx.com.br/grande-recife/imoveis/alugo-apartamento-753235412",
           "Apartamentos"
          ],
          [
           "1",
           "1",
           "35m²",
           "https://pe.olx.com.br/grande-recife/imoveis/apartamento-para-alugar-com-1-dormitorios-em-boa-vista-recife-cod-imo000491-757061579",
           "Apartamentos"
          ],
          [
           "2",
           "2",
           "70m²",
           "https://pe.olx.com.br/grande-recife/imoveis/alugo-apartamento-na-boa-vista-com-2-quartos-e-varanda-755689874",
           "Apartamentos"
          ],
          [
           "1",
           "1",
           "45m²",
           "https://pe.olx.com.br/grande-recife/imoveis/apto-na-conde-da-boa-vista-ed-ambassador-735081080",
           "Apartamentos"
          ],
          [
           "1",
           "1",
           "40m²",
           "https://pe.olx.com.br/grande-recife/imoveis/apartamento-mobilhado-na-boa-vista-recife-740599407",
           "Apartamentos"
          ],
          [
           "1",
           "1",
           "45m²",
           "https://pe.olx.com.br/grande-recife/imoveis/aparatamento-alugar-735630523",
           "Apartamentos"
          ],
          [
           "1",
           "1",
           "40m²",
           "https://pe.olx.com.br/grande-recife/imoveis/aluguel-de-apartamento-1-quarto-736585309",
           "Apartamentos"
          ],
          [
           "1",
           "1",
           "",
           "https://pe.olx.com.br/grande-recife/imoveis/apartamento-na-boa-vista-664439810",
           "Apartamentos"
          ],
          [
           "1",
           "1",
           "40m²",
           "https://pe.olx.com.br/grande-recife/imoveis/apartamento-reformado-prox-shopping-boa-vista-rua-jose-de-alencar-edf-sao-judas-tadeu-753878042",
           "Apartamentos"
          ],
          [
           "1",
           "1",
           "35m²",
           "https://pe.olx.com.br/grande-recife/imoveis/flat-na-boa-vista-743144318",
           "Apartamentos"
          ],
          [
           "3",
           "2",
           "0m²",
           "https://pe.olx.com.br/grande-recife/imoveis/apartamento-na-boa-vista-705628287",
           "Apartamentos"
          ],
          [
           "1",
           "1",
           "40m²",
           "https://pe.olx.com.br/grande-recife/imoveis/apartamento-na-boa-vista-taxas-inclusas-755534446",
           "Apartamentos"
          ],
          [
           "1",
           "1",
           "35m²",
           "https://pe.olx.com.br/grande-recife/imoveis/apartamento-na-boa-vista-taxas-inclusas-753541788",
           "Apartamentos"
          ],
          [
           "1",
           "1",
           "40m²",
           "https://pe.olx.com.br/grande-recife/imoveis/apartamento-para-aluguel-1-quarto-1-vaga-boa-vista-recife-pe-757058039",
           "Apartamentos"
          ],
          [
           "1",
           "1",
           "0m²",
           "https://pe.olx.com.br/grande-recife/imoveis/apartamento-na-boa-vista-736203426",
           "Apartamentos"
          ],
          [
           "3",
           "3",
           "97m²",
           "https://pe.olx.com.br/grande-recife/imoveis/aluguel-de-imovel-748644780",
           "Apartamentos"
          ],
          [
           "2",
           "1",
           "0m²",
           "https://pe.olx.com.br/grande-recife/imoveis/alugo-apartamento-boa-vista-747082829",
           "Apartamentos"
          ],
          [
           "1",
           "1",
           "0m²",
           "https://pe.olx.com.br/grande-recife/imoveis/mobiliado-1-quarto-predio-com-recepcao-piscina-e-internet-na-boa-vista-739801991",
           "Apartamentos"
          ],
          [
           "1",
           "1",
           "0m²",
           "https://pe.olx.com.br/grande-recife/imoveis/apartamento-de-1-quarto-novo-e-compacto-tudo-de-bom-740712074",
           "Apartamentos"
          ],
          [
           "1",
           "1",
           "0m²",
           "https://pe.olx.com.br/grande-recife/imoveis/mobiliado-sala-quarto-cozinha-banheiro-com-wifi-e-lavanderia-na-boa-vista-739569466",
           "Apartamentos"
          ],
          [
           "2",
           "1",
           "75m²",
           "https://pe.olx.com.br/grande-recife/imoveis/apartamento-para-aluguel-2-quartos-2-vagas-boa-vista-recife-pe-683092865",
           "Apartamentos"
          ],
          [
           "1",
           "1",
           "45m²",
           "https://pe.olx.com.br/grande-recife/imoveis/alugo-apart-de-01-quarto-na-boa-vista-745950483",
           "Apartamentos"
          ],
          [
           "1",
           "1",
           "",
           "https://pe.olx.com.br/grande-recife/imoveis/apartamentos-mobiliados-na-boa-vista-proximo-ao-imip-611220099",
           "Apartamentos"
          ],
          [
           "3",
           "2",
           "98m²",
           "https://pe.olx.com.br/grande-recife/imoveis/alugo-apto-terreo-c-3qtos-1dep-ilha-do-leite-732615999",
           "Apartamentos"
          ],
          [
           "2",
           "2",
           "30m²",
           "https://pe.olx.com.br/grande-recife/imoveis/salas-comerciais-754852545",
           "Apartamentos"
          ],
          [
           "1",
           "1",
           "0m²",
           "https://pe.olx.com.br/grande-recife/imoveis/aluga-se-ap-na-boa-vista-tratar-com-oliveira-fones-ou-753327951",
           "Apartamentos"
          ],
          [
           "3",
           "1",
           "100m²",
           "https://pe.olx.com.br/grande-recife/imoveis/casa-no-cabanga-ou-escritorio-comercio-r-1-000-733722839",
           "Apartamentos"
          ],
          [
           "1",
           "1",
           "25m²",
           "https://pe.olx.com.br/grande-recife/imoveis/kitnet-no-cabanga-r-450-com-taxas-inclusas-746829774",
           "Apartamentos"
          ],
          [
           "2",
           "1",
           "60m²",
           "https://pe.olx.com.br/grande-recife/imoveis/2-quartos-brasilia-teimosa-748880622",
           "Apartamentos"
          ],
          [
           "2",
           "1",
           "60m²",
           "https://pe.olx.com.br/grande-recife/imoveis/alugo-apartamento-60m2-com-2-quartos-brasila-teimosa-723321111",
           "Apartamentos"
          ],
          [
           "1",
           "1",
           "50m²",
           "https://pe.olx.com.br/grande-recife/imoveis/oferta-imperdivel-aluguel-baixou-732008183",
           "Apartamentos"
          ],
          [
           "1",
           "1",
           "32m²",
           "https://pe.olx.com.br/grande-recife/imoveis/flat-para-aluguel-1-quarto-1-vaga-pina-recife-pe-744120020",
           "Apartamentos"
          ],
          [
           "1",
           "1",
           "34m²",
           "https://pe.olx.com.br/grande-recife/imoveis/flat-para-aluguel-1-quarto-1-vaga-pina-recife-pe-735280839",
           "Apartamentos"
          ],
          [
           "1",
           "1",
           "32m²",
           "https://pe.olx.com.br/grande-recife/imoveis/flat-para-aluguel-1-quarto-1-vaga-pina-recife-pe-744120015",
           "Apartamentos"
          ],
          [
           "1",
           "1",
           "36m²",
           "https://pe.olx.com.br/grande-recife/imoveis/neri-1qt-mobiliado-c-camareira-pisc-av-boa-viagem-no-pina-so-1500-tudo-751264242",
           "Apartamentos"
          ],
          [
           "1",
           "1",
           "25m²",
           "https://pe.olx.com.br/grande-recife/imoveis/apartamento-mobiliado-em-boa-viagem-com-1-quarto-25m2-nascente-andar-alto-e-lazer-754681453",
           "Apartamentos"
          ],
          [
           "1",
           "1",
           "",
           "https://pe.olx.com.br/grande-recife/imoveis/apartamento-para-alugar-pina-boa-viagem-742910715",
           "Apartamentos"
          ],
          [
           "1",
           "1",
           "30m²",
           "https://pe.olx.com.br/grande-recife/imoveis/flat-com-linda-vista-para-a-praia-e-a-100-metros-do-calcadao-751664184",
           "Apartamentos"
          ],
          [
           "1",
           "1",
           "",
           "https://pe.olx.com.br/grande-recife/imoveis/apartamento-mobiliado-1-qt-piedade-748808866",
           "Apartamentos"
          ],
          [
           "2",
           "2",
           "90m²",
           "https://pe.olx.com.br/grande-recife/imoveis/aluga-se-apartamento-em-boa-viagem-conjunto-pernambucano-755034615",
           "Apartamentos"
          ],
          [
           "2",
           "3",
           "90m²",
           "https://pe.olx.com.br/grande-recife/imoveis/oportunidade-em-boa-viagem-1350-com-condominio-incluso-754856104",
           "Apartamentos"
          ],
          [
           "1",
           "1",
           "37m²",
           "https://pe.olx.com.br/grande-recife/imoveis/studio-743656875",
           "Apartamentos"
          ],
          [
           "1",
           "1",
           "28m²",
           "https://pe.olx.com.br/grande-recife/imoveis/student-housing-studio-b-praia-de-boa-viagem-pina-28m2-557994174",
           "Apartamentos"
          ],
          [
           "1",
           "1",
           "20m²",
           "https://pe.olx.com.br/grande-recife/imoveis/residencial-senior-senior-life-747877916",
           "Apartamentos"
          ],
          [
           "1",
           "1",
           "30m²",
           "https://pe.olx.com.br/grande-recife/imoveis/mobiliado-no-pina-conselheiro-aguiar-723960808",
           "Apartamentos"
          ],
          [
           "3",
           "2",
           "110m²",
           "https://pe.olx.com.br/grande-recife/imoveis/alugo-casa-com-3-quartos-sendo-uma-suite-no-pina-746359203",
           "Apartamentos"
          ],
          [
           "1",
           "1",
           "0m²",
           "https://pe.olx.com.br/grande-recife/imoveis/kit-a-500-metros-da-praia-do-pina-incluso-agua-luz-senha-do-wifi-como-bonus-600-00-751538770",
           "Apartamentos"
          ],
          [
           "1",
           "1",
           "0m²",
           "https://pe.olx.com.br/grande-recife/imoveis/kit-no-pina-a-500-metros-da-praia-incluso-agua-luz-senha-do-wifi-como-bonus-500-00-751536797",
           "Apartamentos"
          ],
          [
           "2",
           "1",
           "42m²",
           "https://pe.olx.com.br/grande-recife/imoveis/casa-segundo-andar-no-pina-753042407",
           "Apartamentos"
          ],
          [
           "1",
           "1",
           "0m²",
           "https://pe.olx.com.br/grande-recife/imoveis/quarto-755122755",
           "Apartamentos"
          ],
          [
           "1",
           "1",
           "",
           "https://pe.olx.com.br/grande-recife/imoveis/kitinet-pina-747687392",
           "Apartamentos"
          ],
          [
           "1",
           "1",
           "30m²",
           "https://pe.olx.com.br/grande-recife/imoveis/kitnet-pina-boa-viagem-752460872",
           "Apartamentos"
          ],
          [
           "1",
           "1",
           "",
           "https://pe.olx.com.br/grande-recife/imoveis/flat-755691594",
           "Apartamentos"
          ],
          [
           "1",
           "1",
           "852589m²",
           "https://pe.olx.com.br/grande-recife/imoveis/kitnet-no-pina-755739810",
           "Apartamentos"
          ],
          [
           "2",
           "1",
           "43m²",
           "https://pe.olx.com.br/grande-recife/imoveis/vende-se-troca-se-ou-aluga-se-756936506",
           "Apartamentos"
          ],
          [
           "1",
           "1",
           "28m²",
           "https://pe.olx.com.br/grande-recife/imoveis/alugo-flat-em-boa-viagem-proximo-ao-shopping-recife-743023763",
           "Apartamentos"
          ],
          [
           "1",
           "1",
           "33m²",
           "https://pe.olx.com.br/grande-recife/imoveis/apartamento-739253313",
           "Apartamentos"
          ],
          [
           "1",
           "1",
           "0m²",
           "https://pe.olx.com.br/grande-recife/imoveis/flat-no-coracao-de-boa-viagem-completo-751498623",
           "Apartamentos"
          ],
          [
           "1",
           "1",
           "25m²",
           "https://pe.olx.com.br/grande-recife/imoveis/flat-mobiliado-em-boa-viagem-751886370",
           "Apartamentos"
          ],
          [
           "1",
           "1",
           "25m²",
           "https://pe.olx.com.br/grande-recife/imoveis/alugo-flat-no-edf-golden-shopping-home-vista-mar-ao-lado-do-shopping-recife-752225842",
           "Apartamentos"
          ],
          [
           "1",
           "1",
           "31m²",
           "https://pe.olx.com.br/grande-recife/imoveis/apartamento-de-1-quarto-a-300-m-da-praia-de-boa-viagem-612781857",
           "Apartamentos"
          ],
          [
           "3",
           "2",
           "132m²",
           "https://pe.olx.com.br/grande-recife/imoveis/apartamento-em-boa-viagem-132-metros-3-quartos-1-suite-1-vaga-753467110",
           "Apartamentos"
          ],
          [
           "1",
           "1",
           "25m²",
           "https://pe.olx.com.br/grande-recife/imoveis/flat-totalmente-mobiliado-boa-viagem-728498808",
           "Apartamentos"
          ],
          [
           "1",
           "1",
           "50m²",
           "https://pe.olx.com.br/grande-recife/imoveis/alugo-apartamento-top-na-navegantes-c-747463473",
           "Apartamentos"
          ],
          [
           "2",
           "2",
           "70m²",
           "https://pe.olx.com.br/grande-recife/imoveis/grande-oportunidade-nessa-crise-baixamos-apt-2-quartos-uma-suite-em-plena-navegantes-750166685",
           "Apartamentos"
          ],
          [
           "3",
           "1",
           "90m²",
           "https://pe.olx.com.br/grande-recife/imoveis/ref-al30648-rua-dos-navegantes-sala-para-2-ambientes-3-quartos-e-wc-social-697294519",
           "Apartamentos"
          ],
          [
           "2",
           "2",
           "70m²",
           "https://pe.olx.com.br/grande-recife/imoveis/grande-oportunidade-baixamos-o-preco-p-alugar-rapido-apt-2-quartos-em-plena-navegantes-749320599",
           "Apartamentos"
          ],
          [
           "2",
           "2",
           "70m²",
           "https://pe.olx.com.br/grande-recife/imoveis/baixou-em-tempo-de-pandemia-apt-2-quartos-uma-suite-na-navegantes-749325302",
           "Apartamentos"
          ],
          [
           "3",
           "2",
           "70m²",
           "https://pe.olx.com.br/grande-recife/imoveis/tempo-de-crise-preco-imbativel-apt-2-quartos-em-plena-navegantes-e-ha-100-metros-da-praia-743040368",
           "Apartamentos"
          ],
          [
           "1",
           "1",
           "50m²",
           "https://pe.olx.com.br/grande-recife/imoveis/apto-742009676",
           "Apartamentos"
          ],
          [
           "2",
           "1",
           "54m²",
           "https://pe.olx.com.br/grande-recife/imoveis/excelente-localizacao-744722203",
           "Apartamentos"
          ],
          [
           "2",
           "1",
           "57m²",
           "https://pe.olx.com.br/grande-recife/imoveis/alugo-apto-rua-dos-navegantes-boa-viagem-736587371",
           "Apartamentos"
          ],
          [
           "2",
           "1",
           "60m²",
           "https://pe.olx.com.br/grande-recife/imoveis/apt-mobiliado-2qts-cons-aguiar-esquina-altura-padaria-boa-viagem-otima-localizacao-655344637",
           "Apartamentos"
          ],
          [
           "3",
           "2",
           "0m²",
           "https://pe.olx.com.br/grande-recife/imoveis/3-quartos-av-conselheiro-aguiar-boa-viagem-1-350-tudo-736671657",
           "Apartamentos"
          ],
          [
           "3",
           "3",
           "100m²",
           "https://pe.olx.com.br/grande-recife/imoveis/apt-de-3-quartos-com-dependencia-completa-na-av-conselheiro-aguiar-752377537",
           "Apartamentos"
          ],
          [
           "3",
           "2",
           "78m²",
           "https://pe.olx.com.br/grande-recife/imoveis/apartamento-em-boa-viagem-03-tres-quartos-754810884",
           "Apartamentos"
          ],
          [
           "3",
           "2",
           "70m²",
           "https://pe.olx.com.br/grande-recife/imoveis/aluguel-baratinho-na-conselheiro-aguiar-753617464",
           "Apartamentos"
          ],
          [
           "1",
           "1",
           "50m²",
           "https://pe.olx.com.br/grande-recife/imoveis/neri-1qt-mobiliado-50m2-pisc-transv-navegantes-so-1500-tudo-733375953",
           "Apartamentos"
          ],
          [
           "2",
           "1",
           "80m²",
           "https://pe.olx.com.br/grande-recife/imoveis/seu-acochego-em-boa-viagem-741930377",
           "Apartamentos"
          ],
          [
           "1",
           "1",
           "",
           "https://pe.olx.com.br/grande-recife/imoveis/kitnet-em-boa-viagem-750998819",
           "Apartamentos"
          ],
          [
           "1",
           "1",
           "40m²",
           "https://pe.olx.com.br/grande-recife/imoveis/neri-1qt-mobiliado-bem-dividido-pisc-transv-av-cons-aguiar-so-1500-tudo-754026149",
           "Apartamentos"
          ],
          [
           "2",
           "1",
           "2656m²",
           "https://pe.olx.com.br/grande-recife/imoveis/apartamento-para-aluguel-2-quartos-1-vaga-boa-viagem-recife-pe-737080783",
           "Apartamentos"
          ],
          [
           "2",
           "2",
           "",
           "https://pe.olx.com.br/grande-recife/imoveis/aluguel-em-boa-viagem-av-domingos-ferreira-aguiar-2-4-r-1-350-00-720877899",
           "Apartamentos"
          ],
          [
           "2",
           "2",
           "60m²",
           "https://pe.olx.com.br/grande-recife/imoveis/apartamento-em-boa-viagem-60-metros-2-quartos-2-bwc-753253817",
           "Apartamentos"
          ],
          [
           "2",
           "2",
           "75m²",
           "https://pe.olx.com.br/grande-recife/imoveis/alugo-otimo-apartamento-com-2-quartos-no-bairro-de-boa-viagem-recife-757594192",
           "Apartamentos"
          ],
          [
           "2",
           "1",
           "60m²",
           "https://pe.olx.com.br/grande-recife/imoveis/apartamento-para-alugar-com-2-dormitorios-em-boa-viagem-recife-cod-0287-602853892",
           "Apartamentos"
          ],
          [
           "3",
           "1",
           "137m²",
           "https://pe.olx.com.br/grande-recife/imoveis/apartamento-boa-viagem-3-quartos-754339760",
           "Apartamentos"
          ],
          [
           "1",
           "1",
           "32m²",
           "https://pe.olx.com.br/grande-recife/imoveis/mrs-flat-mobiliado-vista-mar-nascente-mobiliado-no-coracao-e-bv-756951185",
           "Apartamentos"
          ],
          [
           "1",
           "1",
           "38m²",
           "https://pe.olx.com.br/grande-recife/imoveis/mobilia-completa-751627668",
           "Apartamentos"
          ],
          [
           "1",
           "1",
           "25m²",
           "https://pe.olx.com.br/grande-recife/imoveis/apartamento-mobiliado-em-boa-viagem-756689627",
           "Apartamentos"
          ],
          [
           "1",
           "1",
           "35m²",
           "https://pe.olx.com.br/grande-recife/imoveis/flat-mobiliado-andar-alto-nascente-150-metros-do-mar-predio-com-lazer-753939001",
           "Apartamentos"
          ],
          [
           "2",
           "1",
           "55m²",
           "https://pe.olx.com.br/grande-recife/imoveis/com-ou-sem-mobilia-1-ou-2-quartos-754340946",
           "Apartamentos"
          ],
          [
           "3",
           "2",
           "84m²",
           "https://pe.olx.com.br/grande-recife/imoveis/apartamento-pau-amarelo-1-andar-alugar-730192782",
           "Apartamentos"
          ],
          [
           "1",
           "1",
           "35m²",
           "https://pe.olx.com.br/grande-recife/imoveis/edf-golden-life-home-service-735063513",
           "Apartamentos"
          ],
          [
           "1",
           "1",
           "25m²",
           "https://pe.olx.com.br/grande-recife/imoveis/r-1-400-com-taxas-inclusas-imperdivel-744762692",
           "Apartamentos"
          ],
          [
           "1",
           "1",
           "25m²",
           "https://pe.olx.com.br/grande-recife/imoveis/melhor-localizacao-de-boa-viagem-744105934",
           "Apartamentos"
          ],
          [
           "1",
           "1",
           "35m²",
           "https://pe.olx.com.br/grande-recife/imoveis/quarto-separado-internet-e-2-vagas-738251779",
           "Apartamentos"
          ],
          [
           "1",
           "1",
           "25m²",
           "https://pe.olx.com.br/grande-recife/imoveis/apenas-r-1-430-ja-com-taxas-inclusas-top-750181188",
           "Apartamentos"
          ],
          [
           "1",
           "1",
           "25m²",
           "https://pe.olx.com.br/grande-recife/imoveis/so-r-1-450-ja-com-taxas-inclusas-747601243",
           "Apartamentos"
          ],
          [
           "1",
           "1",
           "25m²",
           "https://pe.olx.com.br/grande-recife/imoveis/so-r-1-440-com-taxas-inclusas-748883012",
           "Apartamentos"
          ],
          [
           "1",
           "1",
           "27m²",
           "https://pe.olx.com.br/grande-recife/imoveis/lindo-flat-studio-mobiliado-pronto-para-morar-em-boa-viagem-754242602",
           "Apartamentos"
          ],
          [
           "1",
           "1",
           "35m²",
           "https://pe.olx.com.br/grande-recife/imoveis/apartamento-mobiliado-em-boa-viagem-35m2-1-quarto-nascente-741068391",
           "Apartamentos"
          ],
          [
           "1",
           "1",
           "30m²",
           "https://pe.olx.com.br/grande-recife/imoveis/flat-r-1-500-taxas-inclusas-contrato-anual-boa-viagem-717915415",
           "Apartamentos"
          ],
          [
           "2",
           "1",
           "49m²",
           "https://pe.olx.com.br/grande-recife/imoveis/boa-viagem-praia-mobilia-completa-todas-as-taxas-inclusas-755595539",
           "Apartamentos"
          ],
          [
           "1",
           "1",
           "40m²",
           "https://pe.olx.com.br/grande-recife/imoveis/7-fotos-lindo-flat-mobiliado-754313152",
           "Apartamentos"
          ],
          [
           "1",
           "1",
           "32m²",
           "https://pe.olx.com.br/grande-recife/imoveis/flat-mobiliado-com-varanda-uma-boneca-742679979",
           "Apartamentos"
          ],
          [
           "1",
           "1",
           "35m²",
           "https://pe.olx.com.br/grande-recife/imoveis/flat-com-internet-so-r-1-500-c-taxas-732696683",
           "Apartamentos"
          ],
          [
           "1",
           "1",
           "35m²",
           "https://pe.olx.com.br/grande-recife/imoveis/flat-quarto-separado-e-internet-2-vagas-732449123",
           "Apartamentos"
          ],
          [
           "1",
           "1",
           "35m²",
           "https://pe.olx.com.br/grande-recife/imoveis/flat-quarto-separado-internet-e-2vagas-733232099",
           "Apartamentos"
          ],
          [
           "1",
           "1",
           "35m²",
           "https://pe.olx.com.br/grande-recife/imoveis/flat-com-2-vagas-e-com-internet-733694862",
           "Apartamentos"
          ],
          [
           "1",
           "1",
           "30m²",
           "https://pe.olx.com.br/grande-recife/imoveis/alugo-flat-em-boa-viagem-746513258",
           "Apartamentos"
          ],
          [
           "1",
           "1",
           "40m²",
           "https://pe.olx.com.br/grande-recife/imoveis/mobilia-completa-praia-e-shoping-751947869",
           "Apartamentos"
          ],
          [
           "1",
           "1",
           "35m²",
           "https://pe.olx.com.br/grande-recife/imoveis/so-r-1-445-com-taxas-e-internet-inclusos-755396896",
           "Apartamentos"
          ],
          [
           "2",
           "1",
           "40m²",
           "https://pe.olx.com.br/grande-recife/imoveis/aluga-se-apartamento-em-boa-viagem-753080188",
           "Apartamentos"
          ],
          [
           "1",
           "1",
           "35m²",
           "https://pe.olx.com.br/grande-recife/imoveis/so-r-1-430-com-taxas-e-internet-2-vagas-753919817",
           "Apartamentos"
          ],
          [
           "1",
           "1",
           "38m²",
           "https://pe.olx.com.br/grande-recife/imoveis/mobilia-completa-internet-ja-inclusas-taxas-inclusas-748043465",
           "Apartamentos"
          ],
          [
           "1",
           "1",
           "35m²",
           "https://pe.olx.com.br/grande-recife/imoveis/r-1-500-flat-com-internet-736910490",
           "Apartamentos"
          ],
          [
           "2",
           "2",
           "51m²",
           "https://pe.olx.com.br/grande-recife/imoveis/2-quartos-com-mobilia--internet-cortesia-praia-e-shoping--755596962",
           "Apartamentos"
          ],
          [
           "1",
           "1",
           "40m²",
           "https://pe.olx.com.br/grande-recife/imoveis/mobiliado-perto-do-mar-internet-ja-inclusa-otima-localizacao-753577045",
           "Apartamentos"
          ],
          [
           "1",
           "1",
           "35m²",
           "https://pe.olx.com.br/grande-recife/imoveis/flat-mobiliado-so-r-1-500-tem-internet-734488344",
           "Apartamentos"
          ],
          [
           "1",
           "1",
           "25m²",
           "https://pe.olx.com.br/grande-recife/imoveis/imperdivel-so-r-1-400-com-taxas-745575510",
           "Apartamentos"
          ],
          [
           "2",
           "1",
           "51m²",
           "https://pe.olx.com.br/grande-recife/imoveis/lazer-completo-armarios-e-guarda-roupas-755597774",
           "Apartamentos"
          ],
          [
           "1",
           "1",
           "31m²",
           "https://pe.olx.com.br/grande-recife/imoveis/flat-com-varanda-apenas-r-1-500-c-taxas-743561330",
           "Apartamentos"
          ],
          [
           "1",
           "1",
           "35m²",
           "https://pe.olx.com.br/grande-recife/imoveis/so-r-1-500-flat-com-internet-735848845",
           "Apartamentos"
          ],
          [
           "1",
           "1",
           "35m²",
           "https://pe.olx.com.br/grande-recife/imoveis/so-r-1-400-flat-mobiliado-com-internet-737847718",
           "Apartamentos"
          ],
          [
           "1",
           "1",
           "30m²",
           "https://pe.olx.com.br/grande-recife/imoveis/flat-mobiliado-no-coracao-de-boa-viagem-750381853",
           "Apartamentos"
          ],
          [
           "1",
           "1",
           "30m²",
           "https://pe.olx.com.br/grande-recife/imoveis/mp-flat-muito-bem-mobiliado-perto-do-colegio-santa-maria-e-academia-top-fit-756890836",
           "Apartamentos"
          ],
          [
           "1",
           "1",
           "35m²",
           "https://pe.olx.com.br/grande-recife/imoveis/flat-edf-clarice-cavalcanti-mobiliado-impecavel-757131263",
           "Apartamentos"
          ],
          [
           "1",
           "1",
           "30m²",
           "https://pe.olx.com.br/grande-recife/imoveis/apartamento-para-aluguel-1-quarto-1-vaga-boa-viagem-recife-pe-714244491",
           "Apartamentos"
          ],
          [
           "2",
           "2",
           "",
           "https://pe.olx.com.br/grande-recife/imoveis/alugo-esse-otimo-apt-em-boa-viagem-contato-jorge-730933566",
           "Apartamentos"
          ],
          [
           "1",
           "1",
           "30m²",
           "https://pe.olx.com.br/grande-recife/imoveis/flat-mobiliado-boa-viagem-lindo-732044460",
           "Apartamentos"
          ],
          [
           "1",
           "1",
           "25m²",
           "https://pe.olx.com.br/grande-recife/imoveis/da-flat-no-coracao-de-boa-viagem-mobiliado-732303627",
           "Apartamentos"
          ],
          [
           "1",
           "1",
           "35m²",
           "https://pe.olx.com.br/grande-recife/imoveis/apartamento-para-aluguel-1-quarto-1-vaga-boa-viagem-recife-pe-733212797",
           "Apartamentos"
          ],
          [
           "1",
           "1",
           "35m²",
           "https://pe.olx.com.br/grande-recife/imoveis/flat-35-m2-quarto-separado-proximo-shopping-recife-colegios-via-mangue-etc-740729100",
           "Apartamentos"
          ],
          [
           "1",
           "1",
           "25m²",
           "https://pe.olx.com.br/grande-recife/imoveis/alugo-flat-em-boa-viagem-edificio-golden-view-743028795",
           "Apartamentos"
          ],
          [
           "1",
           "1",
           "27m²",
           "https://pe.olx.com.br/grande-recife/imoveis/rod-oportunidade-flat-mobiliado-em-boa-viagem-27m-lindo-737275131",
           "Apartamentos"
          ],
          [
           "1",
           "1",
           "30m²",
           "https://pe.olx.com.br/grande-recife/imoveis/apartamento-para-alugar-perto-de-tudo-venha-conferir-rc-747195314",
           "Apartamentos"
          ],
          [
           "1",
           "1",
           "30m²",
           "https://pe.olx.com.br/grande-recife/imoveis/apartamento-mobiliado-em-boa-viagem-750511249",
           "Apartamentos"
          ],
          [
           "1",
           "1",
           "35m²",
           "https://pe.olx.com.br/grande-recife/imoveis/alugo-flat-35m-com-moveis-fixos-area-de-lazer-na-cobertura-no-melhor-da-zona-sul-752214395",
           "Apartamentos"
          ],
          [
           "1",
           "1",
           "30m²",
           "https://pe.olx.com.br/grande-recife/imoveis/apartamento-mobiliado-com-1-qt-744826584",
           "Apartamentos"
          ],
          [
           "1",
           "1",
           "30m²",
           "https://pe.olx.com.br/grande-recife/imoveis/mp-flat-mobiliado-baratinho-proximo-do-colegio-santa-maria-754490394",
           "Apartamentos"
          ],
          [
           "1",
           "1",
           "30m²",
           "https://pe.olx.com.br/grande-recife/imoveis/no-apartamento-1-quarto-mobiliado-boa-viagem-piscinafestalavanderia-f-9-9-5-3-5-8-6-3-9-749187452",
           "Apartamentos"
          ],
          [
           "1",
           "1",
           "40m²",
           "https://pe.olx.com.br/grande-recife/imoveis/raridade-ap-mobiliado-em-predio-em-predio-vip-745408283",
           "Apartamentos"
          ],
          [
           "1",
           "1",
           "30m²",
           "https://pe.olx.com.br/grande-recife/imoveis/flat-mobiliado-top-com-lavanderia-755842149",
           "Apartamentos"
          ],
          [
           "1",
           "1",
           "40m²",
           "https://pe.olx.com.br/grande-recife/imoveis/apartamento-mobiliado-top-745737802",
           "Apartamentos"
          ],
          [
           "1",
           "1",
           "30m²",
           "https://pe.olx.com.br/grande-recife/imoveis/ec-flat-mobiliado-nascente-com-lazer-em-boa-viagem-753749644",
           "Apartamentos"
          ],
          [
           "1",
           "1",
           "30m²",
           "https://pe.olx.com.br/grande-recife/imoveis/ec-flat-mobiliado-nascente-com-lazer-em-boa-viagem-753747930",
           "Apartamentos"
          ],
          [
           "1",
           "1",
           "35m²",
           "https://pe.olx.com.br/grande-recife/imoveis/flat-r-1-500--com-internet-e-2vagas-734221065",
           "Apartamentos"
          ],
          [
           "1",
           "1",
           "40m²",
           "https://pe.olx.com.br/grande-recife/imoveis/boa-viagem-edf-luar-de-bali-01-qt-lazer-r-1-500-00-com-taxas-inclusas-754838536",
           "Apartamentos"
          ],
          [
           "3",
           "2",
           "68m²",
           "https://pe.olx.com.br/grande-recife/imoveis/apto-3-quartos-direto-com-o-proprietario-boa-viagem-7557-691874466",
           "Apartamentos"
          ],
          [
           "1",
           "1",
           "30m²",
           "https://pe.olx.com.br/grande-recife/imoveis/apartamento-1-quarto-mobiliado-no-melhor-de-boa-viagem-proximo-praia-c-servico-camareira-737039890",
           "Apartamentos"
          ],
          [
           "1",
           "1",
           "30m²",
           "https://pe.olx.com.br/grande-recife/imoveis/r-1-500-com-taxas-flat-com-varanda-741795757",
           "Apartamentos"
          ],
          [
           "1",
           "1",
           "35m²",
           "https://pe.olx.com.br/grande-recife/imoveis/r-1-500-agua-gas-e-internet-inclusos-739858619",
           "Apartamentos"
          ],
          [
           "1",
           "1",
           "30m²",
           "https://pe.olx.com.br/grande-recife/imoveis/studio-mobiliado-com-camareira-lavanderia-piscina-e-salao-de-festas-744650089",
           "Apartamentos"
          ],
          [
           "1",
           "1",
           "40m²",
           "https://pe.olx.com.br/grande-recife/imoveis/flat-mobiliado-ao-lado-do-colegio-boa-viagem-737522593",
           "Apartamentos"
          ],
          [
           "1",
           "1",
           "31m²",
           "https://pe.olx.com.br/grande-recife/imoveis/flat-totalmente-mobiliado-com-servico-de-camareira-744812026",
           "Apartamentos"
          ],
          [
           "1",
           "1",
           "35m²",
           "https://pe.olx.com.br/grande-recife/imoveis/alugo-na-jose-brandao-prox-ao-colegio-boa-viagem-756871192",
           "Apartamentos"
          ],
          [
           "1",
           "1",
           "32m²",
           "https://pe.olx.com.br/grande-recife/imoveis/so-r-1-500-c-taxas-com-varanda-743263902",
           "Apartamentos"
          ],
          [
           "1",
           "1",
           "38m²",
           "https://pe.olx.com.br/grande-recife/imoveis/flat-em-boa-viagem-rs-200-00-a-diaria-748779183",
           "Apartamentos"
          ],
          [
           "1",
           "1",
           "0m²",
           "https://pe.olx.com.br/grande-recife/imoveis/kitinettes-a-cem-metros-da-av-boa-viagem-entre-a-navegantes-e-a-conselheiro-aguiar-751238084",
           "Apartamentos"
          ],
          [
           "1",
           "1",
           "30m²",
           "https://pe.olx.com.br/grande-recife/imoveis/apartamento-1-quarto-mobiliado-em-boa-viagem-753217351",
           "Apartamentos"
          ],
          [
           "1",
           "1",
           "",
           "https://pe.olx.com.br/grande-recife/imoveis/kitinettes-a-100m-da-av-boa-viagem-entre-a-navegantes-e-a-conselheiro-aguiar-629597946",
           "Apartamentos"
          ],
          [
           "1",
           "1",
           "25m²",
           "https://pe.olx.com.br/grande-recife/imoveis/so-r-1-400-com-taxas-quarto-separado-747014062",
           "Apartamentos"
          ],
          [
           "3",
           "2",
           "65m²",
           "https://pe.olx.com.br/grande-recife/imoveis/apartamento-em-boa-viagem-com-3-qts-proximo-santa-maria-751294617",
           "Apartamentos"
          ],
          [
           "2",
           "2",
           "57m²",
           "https://pe.olx.com.br/grande-recife/imoveis/confortavel-2-quartos-al-1-100-00-taxas-1736-00-745739440",
           "Apartamentos"
          ],
          [
           "3",
           "2",
           "75m²",
           "https://pe.olx.com.br/grande-recife/imoveis/edf-barlavento-em-boa-viagem-750113042",
           "Apartamentos"
          ],
          [
           "1",
           "1",
           "28m²",
           "https://pe.olx.com.br/grande-recife/imoveis/apartamento-para-alugar-com-1-dormitorios-em-boa-viagem-recife-cod-l-0003-752364817",
           "Apartamentos"
          ],
          [
           "1",
           "1",
           "40m²",
           "https://pe.olx.com.br/grande-recife/imoveis/belissimo-apartamento-de-1-4-748096492",
           "Apartamentos"
          ],
          [
           "1",
           "1",
           "",
           "https://pe.olx.com.br/grande-recife/imoveis/flat-localizacao-exc-repente-e-m-maranguape-i-737673133",
           "Apartamentos"
          ],
          [
           "1",
           "1",
           "25m²",
           "https://pe.olx.com.br/grande-recife/imoveis/r-1-400-com-taxas-inclusas-imperdivel-745983441",
           "Apartamentos"
          ],
          [
           "1",
           "1",
           "35m²",
           "https://pe.olx.com.br/grande-recife/imoveis/lindo-flat-mobiliado-proximo-a-praia-de-boa-viagem-752663138",
           "Apartamentos"
          ],
          [
           "1",
           "1",
           "30m²",
           "https://pe.olx.com.br/grande-recife/imoveis/alugo-flat-mobiliado-em-boa-viagem-30-m-lazer-proximo-ao-colegio-santa-maria-755009739",
           "Apartamentos"
          ],
          [
           "1",
           "1",
           "35m²",
           "https://pe.olx.com.br/grande-recife/imoveis/alugo-lindo-flat-mobiliado-boa-viagem-1400-txs-inclusas-excelente-localizacao-721804243",
           "Apartamentos"
          ],
          [
           "1",
           "1",
           "28m²",
           "https://pe.olx.com.br/grande-recife/imoveis/flat-mobiliado-no-coracao-de-boa-viagem-com-lazer-753934197",
           "Apartamentos"
          ],
          [
           "1",
           "1",
           "34m²",
           "https://pe.olx.com.br/grande-recife/imoveis/aluguel-apartamento-luxo-1-quarto-757042173",
           "Apartamentos"
          ],
          [
           "1",
           "1",
           "32m²",
           "https://pe.olx.com.br/grande-recife/imoveis/flat-mobiliado-1500-com-taxas-738394667",
           "Apartamentos"
          ],
          [
           "1",
           "1",
           "25m²",
           "https://pe.olx.com.br/grande-recife/imoveis/so-r-1-410-com-taxas-inclusas-baixamos-750606680",
           "Apartamentos"
          ],
          [
           "1",
           "1",
           "25m²",
           "https://pe.olx.com.br/grande-recife/imoveis/perto-do-santa-maria-e-do-carrefour-show-748371324",
           "Apartamentos"
          ],
          [
           "1",
           "1",
           "28m²",
           "https://pe.olx.com.br/grande-recife/imoveis/apartamento-30m-sendo-1-quarto-1-banheiro-social-1-vaga-mobiliado-em-boa-viagem-756334561",
           "Apartamentos"
          ],
          [
           "1",
           "1",
           "38m²",
           "https://pe.olx.com.br/grande-recife/imoveis/sim-apartamento-com-01-quarto-38m-mobiliado-r-1-500-com-taxas-em-boa-viagem-757347512",
           "Apartamentos"
          ],
          [
           "2",
           "1",
           "",
           "https://pe.olx.com.br/grande-recife/imoveis/apartamento-terreo-a-dois-quarteiroes-do-patteo-olinda-734362896",
           "Apartamentos"
          ],
          [
           "1",
           "1",
           "35m²",
           "https://pe.olx.com.br/grande-recife/imoveis/mobiliado-1qto-lavanderia-piscina-ao-lado-do-cole-santa-maria-1-350-sem-fiador-756263627",
           "Apartamentos"
          ],
          [
           "1",
           "1",
           "39m²",
           "https://pe.olx.com.br/grande-recife/imoveis/alugo-flat-lindo-em-boa-viagem-desconto-de-100-00-por-6-meses-750735563",
           "Apartamentos"
          ],
          [
           "2",
           "1",
           "65m²",
           "https://pe.olx.com.br/grande-recife/imoveis/apartamento-para-aluguel-2-quartos-1-vaga-boa-viagem-recife-pe-743877683",
           "Apartamentos"
          ],
          [
           "1",
           "1",
           "33m²",
           "https://pe.olx.com.br/grande-recife/imoveis/flat-para-aluguel-1-quarto-1-vaga-boa-viagem-recife-pe-755011553",
           "Apartamentos"
          ],
          [
           "3",
           "3",
           "85m²",
           "https://pe.olx.com.br/grande-recife/imoveis/aluga-se-apartamento-em-boa-viagem-741370177",
           "Apartamentos"
          ],
          [
           "2",
           "1",
           "40m²",
           "https://pe.olx.com.br/grande-recife/imoveis/apartamento-para-aluguel-2-quartos-boa-viagem-recife-pe-735560961",
           "Apartamentos"
          ],
          [
           "3",
           "3",
           "110m²",
           "https://pe.olx.com.br/grande-recife/imoveis/apartamento-para-aluguel-com-3-quartos-e-dce-em-boa-viagem-754572858",
           "Apartamentos"
          ],
          [
           "1",
           "1",
           "35m²",
           "https://pe.olx.com.br/grande-recife/imoveis/apartamento-para-aluguel-1-quarto-1-vaga-boa-viagem-recife-pe-754292898",
           "Apartamentos"
          ],
          [
           "1",
           "1",
           "35m²",
           "https://pe.olx.com.br/grande-recife/imoveis/apartamento-para-aluguel-1-quarto-1-vaga-boa-viagem-recife-pe-754292893",
           "Apartamentos"
          ],
          [
           "1",
           "1",
           "34m²",
           "https://pe.olx.com.br/grande-recife/imoveis/apartamento-05-b-no-terreo-gradeado-mobiliado-todo-novinho-pertinho-do-mar-740155455",
           "Apartamentos"
          ],
          [
           "1",
           "1",
           "35m²",
           "https://pe.olx.com.br/grande-recife/imoveis/apt-05-a-sala-e-quarto-todo-mobiliado-com-localizcao-extraordinaria-em-boa-viagem-567162837",
           "Apartamentos"
          ],
          [
           "2",
           "1",
           "80m²",
           "https://pe.olx.com.br/grande-recife/imoveis/alugo-apartamento-755661830",
           "Apartamentos"
          ],
          [
           "1",
           "1",
           "50m²",
           "https://pe.olx.com.br/grande-recife/imoveis/alugo-apto-755990667",
           "Apartamentos"
          ],
          [
           "1",
           "1",
           "34m²",
           "https://pe.olx.com.br/grande-recife/imoveis/apartamento-mobiliado-bem-localizado-pertinho-da-praia-extra-boa-viagem-672383716",
           "Apartamentos"
          ],
          [
           "1",
           "1",
           "35m²",
           "https://pe.olx.com.br/grande-recife/imoveis/apartamento-para-aluguel-1-quarto-boa-viagem-recife-pe-725201487",
           "Apartamentos"
          ],
          [
           "1",
           "1",
           "0m²",
           "https://pe.olx.com.br/grande-recife/imoveis/apartamento-para-alugar-flet-mobiliado-com-qualidade-747165386",
           "Apartamentos"
          ],
          [
           "1",
           "1",
           "30m²",
           "https://pe.olx.com.br/grande-recife/imoveis/apartamento-boa-viagem-quarto-e-sala-vigesimo-andar-r-1-500-ja-com-taxas-741401913",
           "Apartamentos"
          ],
          [
           "1",
           "1",
           "30m²",
           "https://pe.olx.com.br/grande-recife/imoveis/flat-para-aluguel-1-quarto-1-vaga-boa-viagem-recife-pe-739266914",
           "Apartamentos"
          ],
          [
           "2",
           "2",
           "",
           "https://pe.olx.com.br/grande-recife/imoveis/bom-e-pratico-apartamento-em-boa-viagem-recife-pe-682372692",
           "Apartamentos"
          ],
          [
           "2",
           "1",
           "",
           "https://pe.olx.com.br/grande-recife/imoveis/apartamento-mobiliado-para-temporada-737318629",
           "Apartamentos"
          ],
          [
           "1",
           "1",
           "60m²",
           "https://pe.olx.com.br/grande-recife/imoveis/apartamento-quarto-e-sala-mobiliado-em-boa-viagem-745690452",
           "Apartamentos"
          ],
          [
           "1",
           "1",
           "",
           "https://pe.olx.com.br/grande-recife/imoveis/ap-1-qto-todo-mob-1250-00-746244122",
           "Apartamentos"
          ],
          [
           "3",
           "1",
           "120m²",
           "https://pe.olx.com.br/grande-recife/imoveis/apartamento-para-aluguel-3-quartos-1-vaga-boa-viagem-recife-pe-743877687",
           "Apartamentos"
          ],
          [
           "2",
           "2",
           "",
           "https://pe.olx.com.br/grande-recife/imoveis/aluguel-de-quarto-compartilhado-737261381",
           "Apartamentos"
          ],
          [
           "3",
           "2",
           "80m²",
           "https://pe.olx.com.br/grande-recife/imoveis/r-1-500-00-apt-3-quartos-sendo-1-reversivel-com-wc-715675529",
           "Apartamentos"
          ],
          [
           "3",
           "2",
           "147m²",
           "https://pe.olx.com.br/grande-recife/imoveis/tf000031-ao-lado-do-shopping-recife-756475465",
           "Apartamentos"
          ],
          [
           "2",
           "1",
           "43m²",
           "https://pe.olx.com.br/grande-recife/imoveis/edf-shopping-park-2-quartos-43m-em-frente-a-estacao-de-metro-757206903",
           "Apartamentos"
          ],
          [
           "3",
           "1",
           "120m²",
           "https://pe.olx.com.br/grande-recife/imoveis/apartamento-para-aluguel-3-quartos-1-vaga-boa-viagem-recife-pe-722945527",
           "Apartamentos"
          ],
          [
           "1",
           "1",
           "36m²",
           "https://pe.olx.com.br/grande-recife/imoveis/1qto-36m-mobiliado-varanda-todas-as-taxas-inclusas-732289752",
           "Apartamentos"
          ],
          [
           "1",
           "1",
           "28m²",
           "https://pe.olx.com.br/grande-recife/imoveis/flat-em-setubal-com-28m2-vista-mar-quarto-separado-735882821",
           "Apartamentos"
          ],
          [
           "3",
           "3",
           "160m²",
           "https://pe.olx.com.br/grande-recife/imoveis/ap-perto-do-shop-recife-grande-e-com-moveis-planejados-756511079",
           "Apartamentos"
          ],
          [
           "3",
           "2",
           "70m²",
           "https://pe.olx.com.br/grande-recife/imoveis/aluguel-em-boa-viagem-755685689",
           "Apartamentos"
          ],
          [
           "1",
           "1",
           "35m²",
           "https://pe.olx.com.br/grande-recife/imoveis/alugo-apartamento-753740522",
           "Apartamentos"
          ],
          [
           "1",
           "1",
           "",
           "https://pe.olx.com.br/grande-recife/imoveis/ap-flat-boa-viagem-perto-mar-e-shopping-recife-753706490",
           "Apartamentos"
          ],
          [
           "1",
           "1",
           "0m²",
           "https://pe.olx.com.br/grande-recife/imoveis/preco-imbativel-tempo-de-pandemia-baixamos-p-alugar-rapido-apt-1-quarto-predio-c-piscina-749315356",
           "Apartamentos"
          ],
          [
           "1",
           "1",
           "0m²",
           "https://pe.olx.com.br/grande-recife/imoveis/excelente-apt-um-quarto-predio-com-piscina-baixamos-em-tempo-de-pandemia-750122474",
           "Apartamentos"
          ],
          [
           "1",
           "1",
           "100m²",
           "https://pe.olx.com.br/grande-recife/imoveis/tempo-de-crise-valor-imbativel-apt-1-quarto-predio-com-piscina-e-ha-200-metros-da-praia-745804055",
           "Apartamentos"
          ],
          [
           "1",
           "1",
           "31m²",
           "https://pe.olx.com.br/grande-recife/imoveis/apartamento-tipo-studio-em-boa-viagem-664027659",
           "Apartamentos"
          ],
          [
           "1",
           "1",
           "32m²",
           "https://pe.olx.com.br/grande-recife/imoveis/apartamento-flat-em-boa-viagem-1-quarto-ja-com-taxas-inclusas-740165202",
           "Apartamentos"
          ],
          [
           "1",
           "1",
           "32m²",
           "https://pe.olx.com.br/grande-recife/imoveis/apartamento-studio-em-boa-viagem-1-quarto-ja-com-taxas-inclusas-735391444",
           "Apartamentos"
          ],
          [
           "1",
           "1",
           "40m²",
           "https://pe.olx.com.br/grande-recife/imoveis/apartamento-flat-em-boa-viagem-1-quarto-ja-com-taxas-inclusas-735397884",
           "Apartamentos"
          ],
          [
           "1",
           "1",
           "40m²",
           "https://pe.olx.com.br/grande-recife/imoveis/apartamento-1-quarto-sem-mobiliado-em-boa-viagem-635373099",
           "Apartamentos"
          ],
          [
           "1",
           "1",
           "40m²",
           "https://pe.olx.com.br/grande-recife/imoveis/apartamento-com-1-dormitorio-no-coracao-de-boa-viagem-642745411",
           "Apartamentos"
          ],
          [
           "1",
           "1",
           "43m²",
           "https://pe.olx.com.br/grande-recife/imoveis/apartamento-em-otima-localizacao-em-boa-viagem-1-quarto-ja-com-taxas-inclusas-755972084",
           "Apartamentos"
          ],
          [
           "2",
           "1",
           "",
           "https://pe.olx.com.br/grande-recife/imoveis/dividir-apartamento-vaga-de-um-quarto-753230442",
           "Apartamentos"
          ],
          [
           "1",
           "1",
           "45m²",
           "https://pe.olx.com.br/grande-recife/imoveis/excelente-1-quarto-45m-mobiliado-localizacao-fantastica-no-coracao-de-boa-viagem-752961967",
           "Apartamentos"
          ],
          [
           "2",
           "2",
           "0m²",
           "https://pe.olx.com.br/grande-recife/imoveis/apartamento-em-boa-viagem-689816017",
           "Apartamentos"
          ],
          [
           "2",
           "2",
           "0m²",
           "https://pe.olx.com.br/grande-recife/imoveis/apartamento-em-boa-viagem-718878727",
           "Apartamentos"
          ],
          [
           "2",
           "2",
           "65m²",
           "https://pe.olx.com.br/grande-recife/imoveis/neri-2qts-65m2-var-c-elev-ao-lado-shop-recife-so-1500-tudo-747550580",
           "Apartamentos"
          ],
          [
           "2",
           "2",
           "701m²",
           "https://pe.olx.com.br/grande-recife/imoveis/2-quartos-oportunidade-751516896",
           "Apartamentos"
          ],
          [
           "1",
           "1",
           "45m²",
           "https://pe.olx.com.br/grande-recife/imoveis/apartamento-mobiliado-749890227",
           "Apartamentos"
          ],
          [
           "2",
           "2",
           "65m²",
           "https://pe.olx.com.br/grande-recife/imoveis/2-quartos-dependencia-em-setubal-630784919",
           "Apartamentos"
          ],
          [
           "1",
           "1",
           "0m²",
           "https://pe.olx.com.br/grande-recife/imoveis/apto-1qto-boa-viagem-ao-lado-da-pracinha-de-boa-viagem-753925479",
           "Apartamentos"
          ],
          [
           "3",
           "1",
           "100m²",
           "https://pe.olx.com.br/grande-recife/imoveis/apartamento-para-aluguel-3-quartos-1-vaga-boa-viagem-recife-pe-757058091",
           "Apartamentos"
          ],
          [
           "3",
           "2",
           "95m²",
           "https://pe.olx.com.br/grande-recife/imoveis/apartamento-3-quartos-na-av-cons-aguiar-50-mts-da-praia-736927111",
           "Apartamentos"
          ],
          [
           "1",
           "1",
           "25m²",
           "https://pe.olx.com.br/grande-recife/imoveis/flat-mobiliado-em-boa-viagem-1500-00-745364282",
           "Apartamentos"
          ],
          [
           "3",
           "2",
           "80m²",
           "https://pe.olx.com.br/grande-recife/imoveis/aluguel-de-apartamento-em-boa-viagem-recife-pe-747307686",
           "Apartamentos"
          ],
          [
           "2",
           "1",
           "46m²",
           "https://pe.olx.com.br/grande-recife/imoveis/shoping-praia-lazer-taxas-ja-inclusas-751603278",
           "Apartamentos"
          ],
          [
           "1",
           "1",
           "",
           "https://pe.olx.com.br/grande-recife/imoveis/apartamento-mobiliado-748924802",
           "Apartamentos"
          ],
          [
           "2",
           "1",
           "50m²",
           "https://pe.olx.com.br/grande-recife/imoveis/1-ou-2-quartos-mobilia-completa-753571888",
           "Apartamentos"
          ],
          [
           "2",
           "1",
           "51m²",
           "https://pe.olx.com.br/grande-recife/imoveis/1-ou-dois-quartos-com-ou-sem-mobilia-aqui-quem-manda-e-o-fregues-752639736",
           "Apartamentos"
          ],
          [
           "2",
           "2",
           "60m²",
           "https://pe.olx.com.br/grande-recife/imoveis/exclente-2-quartos-60-metros-mobilia-completa-749597468",
           "Apartamentos"
          ],
          [
           "1",
           "2",
           "75m²",
           "https://pe.olx.com.br/grande-recife/imoveis/aluguel-de-quarto-para-mocas-em-boa-viagem-dona-horacelia-697513946",
           "Apartamentos"
          ],
          [
           "2",
           "3",
           "70m²",
           "https://pe.olx.com.br/grande-recife/imoveis/apartamento-para-locacao-em-recife-espinheiro-2-dormitorios-1-suite-3-banheiros-1-vag-743549799",
           "Apartamentos"
          ],
          [
           "1",
           "1",
           "40m²",
           "https://pe.olx.com.br/grande-recife/imoveis/mobilia-completa-praia-shoping-taxas-inclusas-751866256",
           "Apartamentos"
          ],
          [
           "1",
           "1",
           "40m²",
           "https://pe.olx.com.br/grande-recife/imoveis/taxas-inclusas-5-minutos-da-praia-752637883",
           "Apartamentos"
          ],
          [
           "2",
           "1",
           "55m²",
           "https://pe.olx.com.br/grande-recife/imoveis/1-ou-2-quartos--mobiliado-754328046",
           "Apartamentos"
          ],
          [
           "3",
           "3",
           "120m²",
           "https://pe.olx.com.br/grande-recife/imoveis/aluguel-apartamento-boa-viagem-3-quartos-731279174",
           "Apartamentos"
          ],
          [
           "1",
           "1",
           "48m²",
           "https://pe.olx.com.br/grande-recife/imoveis/apartamento-mobiliado-boa-viagem-excelente-706176038",
           "Apartamentos"
          ],
          [
           "2",
           "1",
           "50m²",
           "https://pe.olx.com.br/grande-recife/imoveis/qual-a-sua-necessidade-eu-tenho-a-solucao-755624391",
           "Apartamentos"
          ],
          [
           "1",
           "1",
           "",
           "https://pe.olx.com.br/grande-recife/imoveis/aluga-se-kitnet-754565745",
           "Apartamentos"
          ],
          [
           "3",
           "1",
           "1711m²",
           "https://pe.olx.com.br/grande-recife/imoveis/apartamento-para-aluguel-3-quartos-2-vagas-boa-viagem-recife-pe-739267214",
           "Apartamentos"
          ],
          [
           "1",
           "1",
           "28m²",
           "https://pe.olx.com.br/grande-recife/imoveis/flat-setubal-super-ventilado-vista-mar-28m-quarto-separado-751303173",
           "Apartamentos"
          ],
          [
           "2",
           "1",
           "45m²",
           "https://pe.olx.com.br/grande-recife/imoveis/vg-aluga-shopping-park-752002488",
           "Apartamentos"
          ],
          [
           "1",
           "1",
           "29m²",
           "https://pe.olx.com.br/grande-recife/imoveis/apartamento-com-quarto-para-aluguel-25m-em-boa-viagem-757183233",
           "Apartamentos"
          ],
          [
           "1",
           "1",
           "37m²",
           "https://pe.olx.com.br/grande-recife/imoveis/alugo-apartamento-mobiliado-ao-lado-do-shopping-recife-em-boa-viagem-686046439",
           "Apartamentos"
          ],
          [
           "1",
           "1",
           "25m²",
           "https://pe.olx.com.br/grande-recife/imoveis/vg-aluga-edf-golden-home-shopping-studio-mob-1400-751984961",
           "Apartamentos"
          ],
          [
           "1",
           "1",
           "",
           "https://pe.olx.com.br/grande-recife/imoveis/flat-kitnet-mobiliado-boa-viagem-754834763",
           "Apartamentos"
          ],
          [
           "1",
           "1",
           "",
           "https://pe.olx.com.br/grande-recife/imoveis/vaga-em-apartamento-em-boa-viagem-756229389",
           "Apartamentos"
          ],
          [
           "2",
           "2",
           "80m²",
           "https://pe.olx.com.br/grande-recife/imoveis/oportunidade-em-boa-viagem-perto-do-colegio-santos-dumont-2-qts-dependencia-80m-753604161",
           "Apartamentos"
          ],
          [
           "2",
           "2",
           "",
           "https://pe.olx.com.br/grande-recife/imoveis/alugo-apartamento-754083917",
           "Apartamentos"
          ],
          [
           "2",
           "1",
           "50m²",
           "https://pe.olx.com.br/grande-recife/imoveis/apartamento-para-alugar-com-2-dormitorios-em-boa-viagem-recife-cod-3689-752220273",
           "Apartamentos"
          ],
          [
           "1",
           "1",
           "30m²",
           "https://pe.olx.com.br/grande-recife/imoveis/pc-alugo-flat-mobiliado-perto-do-shopping-recife-752750230",
           "Apartamentos"
          ],
          [
           "3",
           "2",
           "100m²",
           "https://pe.olx.com.br/grande-recife/imoveis/apartamento-3quartos-boa-viagem-755063073",
           "Apartamentos"
          ],
          [
           "3",
           "2",
           "70m²",
           "https://pe.olx.com.br/grande-recife/imoveis/3-qtos-suite-com-armarios-e-cozinha-equipada-boa-viagem-prox-shop-recife-e-faculdade-757536966",
           "Apartamentos"
          ],
          [
           "2",
           "2",
           "50m²",
           "https://pe.olx.com.br/grande-recife/imoveis/lf-alugo-apartamento-proximo-a-nassau-2-quartos-com-moveis-com-lazer-733615085",
           "Apartamentos"
          ],
          [
           "2",
           "2",
           "50m²",
           "https://pe.olx.com.br/grande-recife/imoveis/apartamento-mobiliado-boa-viagem-751948192",
           "Apartamentos"
          ],
          [
           "1",
           "1",
           "33m²",
           "https://pe.olx.com.br/grande-recife/imoveis/pc-alugo-flat-mobiliado-prox-ao-colegio-santa-maria-752760978",
           "Apartamentos"
          ],
          [
           "3",
           "1",
           "1009m²",
           "https://pe.olx.com.br/grande-recife/imoveis/apartamento-para-aluguel-3-quartos-2-vagas-boa-viagem-recife-pe-754327148",
           "Apartamentos"
          ],
          [
           "1",
           "1",
           "35m²",
           "https://pe.olx.com.br/grande-recife/imoveis/apartamento-para-aluguel-1-quarto-boa-viagem-recife-pe-756645438",
           "Apartamentos"
          ],
          [
           "3",
           "3",
           "110m²",
           "https://pe.olx.com.br/grande-recife/imoveis/alugo-apto-203-edf-portal-do-amazonas-boa-viagem-558680017",
           "Apartamentos"
          ],
          [
           "2",
           "2",
           "60m²",
           "https://pe.olx.com.br/grande-recife/imoveis/boa-viagem-60-m-2-qts-perto-de-tudo-recem-reformado-741846722",
           "Apartamentos"
          ],
          [
           "1",
           "1",
           "35m²",
           "https://pe.olx.com.br/grande-recife/imoveis/1-sala-e-quarto-mobiliado-lazer-proximo-giro-e-mar-boa-viagem-452979118",
           "Apartamentos"
          ],
          [
           "2",
           "1",
           "50m²",
           "https://pe.olx.com.br/grande-recife/imoveis/apartamento-102-4-pavimento-mobiliado-2-quartos-praia-boa-viagem-perto-do-calcadao-698898542",
           "Apartamentos"
          ],
          [
           "1",
           "1",
           "35m²",
           "https://pe.olx.com.br/grande-recife/imoveis/mobiliado-ap-14-a-sala-e-quarto-wi-fi-e-2-lcd-pertinho-do-mar-756788096",
           "Apartamentos"
          ],
          [
           "1",
           "1",
           "",
           "https://pe.olx.com.br/grande-recife/imoveis/flat-para-alugar-em-boa-viagem-735004026",
           "Apartamentos"
          ],
          [
           "1",
           "1",
           "35m²",
           "https://pe.olx.com.br/grande-recife/imoveis/flat-305-para-3-pesssoas-pertinho-da-praia-de-boa-viagem-wi-fi-e-garagem-753305075",
           "Apartamentos"
          ],
          [
           "1",
           "1",
           "34m²",
           "https://pe.olx.com.br/grande-recife/imoveis/mobiliadissimo-com-sala-e-quarto-tipo-studio-boa-viagem-prox-a-praia-627276442",
           "Apartamentos"
          ],
          [
           "1",
           "1",
           "33m²",
           "https://pe.olx.com.br/grande-recife/imoveis/aluguel-em-recife-boa-viagem-praia-e-shopping-varios-em-boa-viagem-198018358",
           "Apartamentos"
          ],
          [
           "1",
           "1",
           "34m²",
           "https://pe.olx.com.br/grande-recife/imoveis/flat-203-com-sala-e-quarto-melhor-local-de-boa-viagem-wi-fi-garagem-marcada-753051650",
           "Apartamentos"
          ],
          [
           "2",
           "1",
           "65m²",
           "https://pe.olx.com.br/grande-recife/imoveis/apto-c-02-qtos-em-local-px-de-tudo-e-mar-751348013",
           "Apartamentos"
          ],
          [
           "2",
           "2",
           "0m²",
           "https://pe.olx.com.br/grande-recife/imoveis/apartamento-proximo-ao-terminal-de-boa-viagem-749623130",
           "Apartamentos"
          ],
          [
           "2",
           "1",
           "65m²",
           "https://pe.olx.com.br/grande-recife/imoveis/apto-c-02-quartos-em-local-px-de-tudo-nar-755443663",
           "Apartamentos"
          ],
          [
           "3",
           "2",
           "130m²",
           "https://pe.olx.com.br/grande-recife/imoveis/alugo-apartamento-com-130-metros-quadrados-com-3-quartos-em-boa-viagem-757074469",
           "Apartamentos"
          ],
          [
           "2",
           "2",
           "75m²",
           "https://pe.olx.com.br/grande-recife/imoveis/apartamento-com-2-quartos-um-quarto-reversivel-e-uma-vaga-em-boa-viagem-750447233",
           "Apartamentos"
          ],
          [
           "1",
           "1",
           "30m²",
           "https://pe.olx.com.br/grande-recife/imoveis/flat-mobiliado-com-servico-de-camareira-753816957",
           "Apartamentos"
          ],
          [
           "1",
           "1",
           "50m²",
           "https://pe.olx.com.br/grande-recife/imoveis/flat-top-mobiliado-b-viagem-753272296",
           "Apartamentos"
          ],
          [
           "1",
           "1",
           "39m²",
           "https://pe.olx.com.br/grande-recife/imoveis/apartamento-com-quarto-mobiliado-para-locacao-39m-em-boa-viagem-756922117",
           "Apartamentos"
          ],
          [
           "1",
           "1",
           "38m²",
           "https://pe.olx.com.br/grande-recife/imoveis/flat-mobiliado-boa-viagem-belissimo-754763106",
           "Apartamentos"
          ],
          [
           "1",
           "1",
           "30m²",
           "https://pe.olx.com.br/grande-recife/imoveis/apartamento-kitnet-para-alugar-no-bairro-de-boa-viagem-recife-pe-755248932",
           "Apartamentos"
          ],
          [
           "1",
           "1",
           "25m²",
           "https://pe.olx.com.br/grande-recife/imoveis/apartamento-mobiliado-em-boa-viagem-com-1-quarto-25m2-lazer-completo-756804605",
           "Apartamentos"
          ],
          [
           "1",
           "1",
           "28m²",
           "https://pe.olx.com.br/grande-recife/imoveis/flat-mobiliado-boa-viagem-732035247",
           "Apartamentos"
          ],
          [
           "1",
           "1",
           "25m²",
           "https://pe.olx.com.br/grande-recife/imoveis/apartamento-mobiliado-em-boa-viagem-com-1-quarto-nascente-andar-alto-e-area-de-lazer-731819445",
           "Apartamentos"
          ],
          [
           "1",
           "1",
           "",
           "https://pe.olx.com.br/grande-recife/imoveis/aluguel-742739329",
           "Apartamentos"
          ],
          [
           "1",
           "1",
           "25m²",
           "https://pe.olx.com.br/grande-recife/imoveis/apartamento-mobiliado-em-boa-viagem-com-1-quarto-25m2-andar-alto-e-lazer-739094567",
           "Apartamentos"
          ],
          [
           "1",
           "1",
           "25m²",
           "https://pe.olx.com.br/grande-recife/imoveis/na-ribeiro-de-brito-moveis-modulados-o-studio-de-primeira-736870431",
           "Apartamentos"
          ],
          [
           "1",
           "1",
           "25m²",
           "https://pe.olx.com.br/grande-recife/imoveis/estudio-em-boa-viagem-751128998",
           "Apartamentos"
          ],
          [
           "1",
           "1",
           "28m²",
           "https://pe.olx.com.br/grande-recife/imoveis/flat-mobiliado-boa-viagem-751292578",
           "Apartamentos"
          ],
          [
           "1",
           "1",
           "27m²",
           "https://pe.olx.com.br/grande-recife/imoveis/apartamento-mobiliado-em-boa-viagem-com-1-quarto-27m2-nascente-andar-alto-e-lazer-752236278",
           "Apartamentos"
          ],
          [
           "1",
           "1",
           "25m²",
           "https://pe.olx.com.br/grande-recife/imoveis/aluguel-flat-1-quarto-boa-viagem-mobiliado-733498321",
           "Apartamentos"
          ],
          [
           "1",
           "1",
           "35m²",
           "https://pe.olx.com.br/grande-recife/imoveis/edf-golden-shopping-home-service-754429049",
           "Apartamentos"
          ],
          [
           "1",
           "1",
           "25m²",
           "https://pe.olx.com.br/grande-recife/imoveis/apartamento-para-aluguel-1-quarto-1-vaga-boa-viagem-recife-pe-752594179",
           "Apartamentos"
          ],
          [
           "1",
           "1",
           "25m²",
           "https://pe.olx.com.br/grande-recife/imoveis/apartamento-mobiliado-em-boa-viagem-com-1-quarto-nascente-andar-alto-e-lazer-753380888",
           "Apartamentos"
          ],
          [
           "1",
           "1",
           "28m²",
           "https://pe.olx.com.br/grande-recife/imoveis/flat-mobiliado-boa-viagem-lindo-753653779",
           "Apartamentos"
          ],
          [
           "1",
           "1",
           "28m²",
           "https://pe.olx.com.br/grande-recife/imoveis/flat-mobiliado-proximo-ao-shopping-recife-andar-alto-com-lazer-753928671",
           "Apartamentos"
          ],
          [
           "1",
           "1",
           "25m²",
           "https://pe.olx.com.br/grande-recife/imoveis/apartamento-para-aluguel-1-quarto-1-vaga-boa-viagem-recife-pe-754292960",
           "Apartamentos"
          ],
          [
           "1",
           "1",
           "30m²",
           "https://pe.olx.com.br/grande-recife/imoveis/alugo-flat-em-boa-viagem-741116909",
           "Apartamentos"
          ],
          [
           "1",
           "1",
           "45m²",
           "https://pe.olx.com.br/grande-recife/imoveis/apartamento-tipo-kitinet-mobiliado-em-boa-viagem-749486991",
           "Apartamentos"
          ],
          [
           "1",
           "1",
           "50m²",
           "https://pe.olx.com.br/grande-recife/imoveis/edificio-mont-blanc-753973387",
           "Apartamentos"
          ],
          [
           "3",
           "2",
           "65m²",
           "https://pe.olx.com.br/grande-recife/imoveis/apto-p-alugar-na-madalena-735650695",
           "Apartamentos"
          ],
          [
           "2",
           "1",
           "",
           "https://pe.olx.com.br/grande-recife/imoveis/alugo-apto-mobiliado-em-boa-viagem-r-1-500-00-711281124",
           "Apartamentos"
          ],
          [
           "2",
           "1",
           "",
           "https://pe.olx.com.br/grande-recife/imoveis/alugo-apto-mobiliado-em-boa-viagem-a-diaria-r-110-00-729824136",
           "Apartamentos"
          ],
          [
           "2",
           "2",
           "60m²",
           "https://pe.olx.com.br/grande-recife/imoveis/apartamento-2-qts-boa-viagem-vista-mar-nascente-757222867",
           "Apartamentos"
          ],
          [
           "2",
           "2",
           "0m²",
           "https://pe.olx.com.br/grande-recife/imoveis/apartamento-em-boa-viagem-recife-pe-734350984",
           "Apartamentos"
          ],
          [
           "2",
           "1",
           "",
           "https://pe.olx.com.br/grande-recife/imoveis/apartamentos-2-quartos-ipsep-chico-city-734328692",
           "Apartamentos"
          ],
          [
           "2",
           "1",
           "59m²",
           "https://pe.olx.com.br/grande-recife/imoveis/apartamento-para-alugar-com-2-dormitorios-em-boa-viagem-recife-cod-207955-694413614",
           "Apartamentos"
          ],
          [
           "2",
           "1",
           "60m²",
           "https://pe.olx.com.br/grande-recife/imoveis/apartamento-para-alugar-com-2-dormitorios-em-boa-viagem-recife-cod-207956-690159307",
           "Apartamentos"
          ],
          [
           "2",
           "2",
           "55m²",
           "https://pe.olx.com.br/grande-recife/imoveis/apartamento-de-2-quartos-em-boa-viagem-751833689",
           "Apartamentos"
          ],
          [
           "1",
           "1",
           "40m²",
           "https://pe.olx.com.br/grande-recife/imoveis/r-s-apartamento-1-quarto-mobiliado-em-boa-viagem-752013161",
           "Apartamentos"
          ],
          [
           "2",
           "2",
           "60m²",
           "https://pe.olx.com.br/grande-recife/imoveis/apartamento-2-quartos-boa-viagem-vista-mar-748871178",
           "Apartamentos"
          ],
          [
           "2",
           "2",
           "60m²",
           "https://pe.olx.com.br/grande-recife/imoveis/apartamento-2-quartos-boa-viagem-esquina-domingos-ferreira-731408253",
           "Apartamentos"
          ],
          [
           "1",
           "1",
           "",
           "https://pe.olx.com.br/grande-recife/imoveis/aluga-se-kit-net-em-boa-viagem-756491949",
           "Apartamentos"
          ],
          [
           "1",
           "1",
           "35m²",
           "https://pe.olx.com.br/grande-recife/imoveis/fica-tambem-proximo-da-escola-cicero-dias-748336217",
           "Apartamentos"
          ],
          [
           "2",
           "2",
           "70m²",
           "https://pe.olx.com.br/grande-recife/imoveis/apartamento-mobiliado-2-quartos-prox-escola-tecnica-cicero-dias-em-boa-viagem-752860641",
           "Apartamentos"
          ],
          [
           "3",
           "2",
           "100m²",
           "https://pe.olx.com.br/grande-recife/imoveis/apartamento-em-candeias-ha-500-mtrs-da-pista-733227927",
           "Apartamentos"
          ],
          [
           "3",
           "2",
           "82m²",
           "https://pe.olx.com.br/grande-recife/imoveis/excelente-oportunidade-576412294",
           "Apartamentos"
          ],
          [
           "3",
           "2",
           "76m²",
           "https://pe.olx.com.br/grande-recife/imoveis/quer-morar-em-boa-viagem--otimo-apartamento-com-a-melhor-oportunidade-752943512",
           "Apartamentos"
          ],
          [
           "2",
           "1",
           "70m²",
           "https://pe.olx.com.br/grande-recife/imoveis/apartamento-em-boa-viagem-747173039",
           "Apartamentos"
          ],
          [
           "2",
           "2",
           "80m²",
           "https://pe.olx.com.br/grande-recife/imoveis/edificio-ferreira-sampaio-2-quarto-s-boa-viagem-recife-447971883",
           "Apartamentos"
          ],
          [
           "2",
           "1",
           "70m²",
           "https://pe.olx.com.br/grande-recife/imoveis/boa-viagem-apartamento-pra-alugar-2-quartos-737536816",
           "Apartamentos"
          ],
          [
           "3",
           "2",
           "100m²",
           "https://pe.olx.com.br/grande-recife/imoveis/boa-viagem-3-qtos-2-1-com-armarios-otima-localizacao-1500-txs-inclusas-724214198",
           "Apartamentos"
          ],
          [
           "1",
           "1",
           "45m²",
           "https://pe.olx.com.br/grande-recife/imoveis/alugo-apartamento-mobiliado-em-boa-viagem-750757089",
           "Apartamentos"
          ],
          [
           "2",
           "1",
           "50m²",
           "https://pe.olx.com.br/grande-recife/imoveis/10-fotos-2-quartos-com-ou-sem-mobilia-752659471",
           "Apartamentos"
          ],
          [
           "1",
           "1",
           "34m²",
           "https://pe.olx.com.br/grande-recife/imoveis/mobilia-completa-confira-nas-fotos-723221343",
           "Apartamentos"
          ],
          [
           "2",
           "1",
           "50m²",
           "https://pe.olx.com.br/grande-recife/imoveis/novo-500-metros-do-shoping-recife-praia-aeroporto-749984906",
           "Apartamentos"
          ],
          [
           "2",
           "1",
           "55m²",
           "https://pe.olx.com.br/grande-recife/imoveis/2-quartos-lazer-completo-753679912",
           "Apartamentos"
          ],
          [
           "2",
           "1",
           "49m²",
           "https://pe.olx.com.br/grande-recife/imoveis/2-quartos-lazer-completo-taxas-ja-inclusas-753677414",
           "Apartamentos"
          ],
          [
           "2",
           "1",
           "52m²",
           "https://pe.olx.com.br/grande-recife/imoveis/2-quartos-lazer-completo-753676716",
           "Apartamentos"
          ],
          [
           "2",
           "1",
           "49m²",
           "https://pe.olx.com.br/grande-recife/imoveis/shoping-praia-e-aeroporto-taxas-ja-inclusas-752644164",
           "Apartamentos"
          ],
          [
           "2",
           "1",
           "51m²",
           "https://pe.olx.com.br/grande-recife/imoveis/shoping-recife-2-quartos-taxas-ja-inclusas-lazer-completo-753589214",
           "Apartamentos"
          ],
          [
           "2",
           "1",
           "54m²",
           "https://pe.olx.com.br/grande-recife/imoveis/2-quartos-lazer-completo-taxas-ja-inclusas-753671383",
           "Apartamentos"
          ],
          [
           "2",
           "1",
           "47m²",
           "https://pe.olx.com.br/grande-recife/imoveis/2-qautos-sem-mobilia-lazer-completo-de-tudo-shoping-recife-752681142",
           "Apartamentos"
          ],
          [
           "1",
           "1",
           "38m²",
           "https://pe.olx.com.br/grande-recife/imoveis/mobilia-compra-praia-shoping-internet-inclusa-750984148",
           "Apartamentos"
          ],
          [
           "2",
           "1",
           "49m²",
           "https://pe.olx.com.br/grande-recife/imoveis/shoping-praia-lazer-completo-752636979",
           "Apartamentos"
          ],
          [
           "2",
           "1",
           "55m²",
           "https://pe.olx.com.br/grande-recife/imoveis/com-ou-sem-mobilia-escolha-o-seu-755593373",
           "Apartamentos"
          ],
          [
           "1",
           "1",
           "40m²",
           "https://pe.olx.com.br/grande-recife/imoveis/tobilia-completa-ja-com-internet-e-taxas-inclusas-747570497",
           "Apartamentos"
          ],
          [
           "2",
           "1",
           "55m²",
           "https://pe.olx.com.br/grande-recife/imoveis/2-quartos-tudo-novo-lazer-complemto-753592110",
           "Apartamentos"
          ],
          [
           "2",
           "1",
           "50m²",
           "https://pe.olx.com.br/grande-recife/imoveis/novinho-e-com-lazer-completo-756950480",
           "Apartamentos"
          ],
          [
           "2",
           "1",
           "48m²",
           "https://pe.olx.com.br/grande-recife/imoveis/2-quartos-lazer-completo-taxas-inclusas-tudo-novo-747776422",
           "Apartamentos"
          ],
          [
           "2",
           "1",
           "49m²",
           "https://pe.olx.com.br/grande-recife/imoveis/lazer-completo-tudo-novo-taxas-ja-inclusas-shoping-e-praia-756250486",
           "Apartamentos"
          ],
          [
           "2",
           "1",
           "48m²",
           "https://pe.olx.com.br/grande-recife/imoveis/tudo-novo-area-de-lazer-completa-taxas-inclusas-751865802",
           "Apartamentos"
          ],
          [
           "2",
           "1",
           "54m²",
           "https://pe.olx.com.br/grande-recife/imoveis/20-fotos-tudo-novinho-area-de-lazer-completa-shoping-e-mar-753596049",
           "Apartamentos"
          ],
          [
           "2",
           "1",
           "49m²",
           "https://pe.olx.com.br/grande-recife/imoveis/novo-shoping-recife-aeroporto-praia-via-magie-lazer-completo-754281534",
           "Apartamentos"
          ],
          [
           "2",
           "1",
           "52m²",
           "https://pe.olx.com.br/grande-recife/imoveis/tudo-novo-piscina-7-minutos-da-praia-756425575",
           "Apartamentos"
          ],
          [
           "2",
           "1",
           "50m²",
           "https://pe.olx.com.br/grande-recife/imoveis/tudo-novo-area-de-lazer-completo-todas-as-taxas-inclusas-756253073",
           "Apartamentos"
          ],
          [
           "2",
           "1",
           "52m²",
           "https://pe.olx.com.br/grande-recife/imoveis/14-fotos--tudo-novo--shoping-recife-area-de-lazer-completa-754277954",
           "Apartamentos"
          ],
          [
           "2",
           "1",
           "48m²",
           "https://pe.olx.com.br/grande-recife/imoveis/excelente-2-quartos-tudo-novo-lazer-completo-todas-as-taxas-ja-inclusas-748050378",
           "Apartamentos"
          ],
          [
           "2",
           "1",
           "49m²",
           "https://pe.olx.com.br/grande-recife/imoveis/2-quartos-lazer-completo-taxa-inclusas-757085677",
           "Apartamentos"
          ],
          [
           "2",
           "1",
           "50m²",
           "https://pe.olx.com.br/grande-recife/imoveis/2-quartos-tudo-novo-lazer-completo-taxas-inclusas-756406593",
           "Apartamentos"
          ],
          [
           "1",
           "1",
           "40m²",
           "https://pe.olx.com.br/grande-recife/imoveis/1-ou-2-quartos--praia-e-shoping-tudo-incluso-750752277",
           "Apartamentos"
          ],
          [
           "2",
           "1",
           "49m²",
           "https://pe.olx.com.br/grande-recife/imoveis/novinho-lazer-completo-armarios-shoping-praia-753014724",
           "Apartamentos"
          ],
          [
           "2",
           "1",
           "49m²",
           "https://pe.olx.com.br/grande-recife/imoveis/2-quartos-lazer-completo-taxas-inclusas-750133573",
           "Apartamentos"
          ],
          [
           "2",
           "1",
           "50m²",
           "https://pe.olx.com.br/grande-recife/imoveis/lazer-completo--tudo-novo-749268221",
           "Apartamentos"
          ],
          [
           "2",
           "1",
           "52m²",
           "https://pe.olx.com.br/grande-recife/imoveis/2-quartos-lazer-completo-taxas-ja-inclusas-754320468",
           "Apartamentos"
          ],
          [
           "2",
           "1",
           "48m²",
           "https://pe.olx.com.br/grande-recife/imoveis/quartos-sao-dois-completo-e-o-lazer-inclusas-sao-as-taxas-752629768",
           "Apartamentos"
          ],
          [
           "2",
           "1",
           "52m²",
           "https://pe.olx.com.br/grande-recife/imoveis/tudo-novinho-lazer-completo-752645431",
           "Apartamentos"
          ],
          [
           "2",
           "1",
           "50m²",
           "https://pe.olx.com.br/grande-recife/imoveis/tudo-novo--lazer-completo-756419832",
           "Apartamentos"
          ],
          [
           "2",
           "1",
           "49m²",
           "https://pe.olx.com.br/grande-recife/imoveis/2-quartos-novo-lazer-taxas-inclusas-756433305",
           "Apartamentos"
          ],
          [
           "1",
           "1",
           "40m²",
           "https://pe.olx.com.br/grande-recife/imoveis/mobiliado--5-minutos-da-praia-752657424",
           "Apartamentos"
          ],
          [
           "2",
           "1",
           "55m²",
           "https://pe.olx.com.br/grande-recife/imoveis/2-quartos-lazer-completo-taxas-ja-inclusas-753668462",
           "Apartamentos"
          ],
          [
           "2",
           "1",
           "50m²",
           "https://pe.olx.com.br/grande-recife/imoveis/novinho-e-com-lazer-completo-756615318",
           "Apartamentos"
          ],
          [
           "2",
           "1",
           "48m²",
           "https://pe.olx.com.br/grande-recife/imoveis/2-quartos-nascente-varanda-vista-livre-754328367",
           "Apartamentos"
          ],
          [
           "2",
           "1",
           "50m²",
           "https://pe.olx.com.br/grande-recife/imoveis/2-quartos-tudo-novo-lazer-completo-740809437",
           "Apartamentos"
          ],
          [
           "2",
           "1",
           "50m²",
           "https://pe.olx.com.br/grande-recife/imoveis/mobilia-completa-752679457",
           "Apartamentos"
          ],
          [
           "1",
           "1",
           "35m²",
           "https://pe.olx.com.br/grande-recife/imoveis/flat-para-alugar-606343074",
           "Apartamentos"
          ],
          [
           "3",
           "2",
           "120m²",
           "https://pe.olx.com.br/grande-recife/imoveis/aluga-apartamento-candeias-localizacao-privilegiada-747830727",
           "Apartamentos"
          ],
          [
           "1",
           "1",
           "",
           "https://pe.olx.com.br/grande-recife/imoveis/quarto-mobiliado-na-avenida-boa-viagem-753439762",
           "Apartamentos"
          ],
          [
           "1",
           "1",
           "",
           "https://pe.olx.com.br/grande-recife/imoveis/alugo-flat-com-servicos-na-rua-setubal-756817232",
           "Apartamentos"
          ],
          [
           "2",
           "2",
           "73m²",
           "https://pe.olx.com.br/grande-recife/imoveis/cl-alugo-apart-sutubal-730978658",
           "Apartamentos"
          ],
          [
           "2",
           "1",
           "100m²",
           "https://pe.olx.com.br/grande-recife/imoveis/apartamento-para-aluguel-2-quartos-1-vaga-boa-viagem-recife-pe-752594285",
           "Apartamentos"
          ],
          [
           "2",
           "1",
           "52m²",
           "https://pe.olx.com.br/grande-recife/imoveis/20-fotos-o-anuncio-mais-completo-da-olx-755601795",
           "Apartamentos"
          ],
          [
           "1",
           "1",
           "40m²",
           "https://pe.olx.com.br/grande-recife/imoveis/r-s-apartamento-1-quarto-em-boa-viagem-prox-ao-parque-d-lindu-em-otimo-preco-730265893",
           "Apartamentos"
          ],
          [
           "1",
           "1",
           "30m²",
           "https://pe.olx.com.br/grande-recife/imoveis/alugo-flat-em-boa-viagem-732740301",
           "Apartamentos"
          ],
          [
           "2",
           "1",
           "",
           "https://pe.olx.com.br/grande-recife/imoveis/flat-para-alugar-742554001",
           "Apartamentos"
          ],
          [
           "1",
           "1",
           "35m²",
           "https://pe.olx.com.br/grande-recife/imoveis/apartamento-746033113",
           "Apartamentos"
          ],
          [
           "1",
           "1",
           "37m²",
           "https://pe.olx.com.br/grande-recife/imoveis/edf-monaco-otima-localizacao-em-boa-viagem-1-quarto-mobiliado-81-9-742007773",
           "Apartamentos"
          ],
          [
           "3",
           "2",
           "60m²",
           "https://pe.olx.com.br/grande-recife/imoveis/en-alugo-apartamento-com-3-quartos-em-boa-viagem-746351600",
           "Apartamentos"
          ],
          [
           "2",
           "2",
           "80m²",
           "https://pe.olx.com.br/grande-recife/imoveis/super-oferta-alugo-1-400-c-taxas-edf-corvosier-642607358",
           "Apartamentos"
          ],
          [
           "2",
           "2",
           "58m²",
           "https://pe.olx.com.br/grande-recife/imoveis/alugo-apartamento-em-boa-viagem-setubal-737502313",
           "Apartamentos"
          ],
          [
           "1",
           "1",
           "25m²",
           "https://pe.olx.com.br/grande-recife/imoveis/gci-aluga-se-edf-costa-das-palmeiras-studio-1300-mobiliado-751977323",
           "Apartamentos"
          ],
          [
           "2",
           "1",
           "60m²",
           "https://pe.olx.com.br/grande-recife/imoveis/cl-apartamento-2-quartos-1-vaga-60m-em-boa-viagem-757215372",
           "Apartamentos"
          ],
          [
           "1",
           "1",
           "25m²",
           "https://pe.olx.com.br/grande-recife/imoveis/flat-em-setubal-602409594",
           "Apartamentos"
          ],
          [
           "1",
           "1",
           "33m²",
           "https://pe.olx.com.br/grande-recife/imoveis/apartamento-para-aluguel-1-quarto-1-vaga-boa-viagem-recife-pe-692255945",
           "Apartamentos"
          ],
          [
           "2",
           "2",
           "52m²",
           "https://pe.olx.com.br/grande-recife/imoveis/edificio-miramar-classic-753954598",
           "Apartamentos"
          ],
          [
           "1",
           "1",
           "2469m²",
           "https://pe.olx.com.br/grande-recife/imoveis/loft-738204167",
           "Apartamentos"
          ],
          [
           "1",
           "1",
           "30m²",
           "https://pe.olx.com.br/grande-recife/imoveis/flat-novo-mobiliado-boa-viagem-746480335",
           "Apartamentos"
          ],
          [
           "1",
           "1",
           "35m²",
           "https://pe.olx.com.br/grande-recife/imoveis/apt-mobiliado-em-boa-viagem-747127774",
           "Apartamentos"
          ],
          [
           "2",
           "1",
           "60m²",
           "https://pe.olx.com.br/grande-recife/imoveis/apartamento-em-boa-viagem-748574551",
           "Apartamentos"
          ],
          [
           "1",
           "1",
           "30m²",
           "https://pe.olx.com.br/grande-recife/imoveis/studio-one-classic-primeira-locacao-30-m2-armarios-piscina-churrasqueira-709738422",
           "Apartamentos"
          ],
          [
           "1",
           "1",
           "30m²",
           "https://pe.olx.com.br/grande-recife/imoveis/apartamento-com-quarto-para-aluguel-30m-em-boa-viagem-755225142",
           "Apartamentos"
          ],
          [
           "3",
           "2",
           "70m²",
           "https://pe.olx.com.br/grande-recife/imoveis/por-1390-boaviagem-3qtos-com-taxas-inclusas-extra-oportunidade-747919060",
           "Apartamentos"
          ],
          [
           "2",
           "1",
           "0m²",
           "https://pe.olx.com.br/grande-recife/imoveis/apartamento-em-setubal-748805936",
           "Apartamentos"
          ],
          [
           "1",
           "1",
           "32m²",
           "https://pe.olx.com.br/grande-recife/imoveis/alugo-ap-novo-studio-em-setubal-756457556",
           "Apartamentos"
          ],
          [
           "1",
           "1",
           "26m²",
           "https://pe.olx.com.br/grande-recife/imoveis/flat-em-setubal-novo-756177897",
           "Apartamentos"
          ],
          [
           "3",
           "2",
           "55m²",
           "https://pe.olx.com.br/grande-recife/imoveis/apto-semi-mobiliado-3-quartos-direto-com-o-proprietario-boa-viagem-13822-743255523",
           "Apartamentos"
          ],
          [
           "1",
           "1",
           "30m²",
           "https://pe.olx.com.br/grande-recife/imoveis/edf-studio-one-classic-em-setubal-predio-novissimo-709830541",
           "Apartamentos"
          ],
          [
           "1",
           "1",
           "32m²",
           "https://pe.olx.com.br/grande-recife/imoveis/flats-em-setubal-1-300-mobiliado-753653044",
           "Apartamentos"
          ],
          [
           "1",
           "1",
           "25m²",
           "https://pe.olx.com.br/grande-recife/imoveis/flat-totalmente-mobiliado-contrato-minimo-12-meses-731464238",
           "Apartamentos"
          ],
          [
           "3",
           "2",
           "70m²",
           "https://pe.olx.com.br/grande-recife/imoveis/alugo-apartamento-em-boa-viagem-754413112",
           "Apartamentos"
          ],
          [
           "2",
           "2",
           "75m²",
           "https://pe.olx.com.br/grande-recife/imoveis/alugo-ap-2qts-mobiliado-em-setubal-1-400-745157364",
           "Apartamentos"
          ],
          [
           "2",
           "2",
           "",
           "https://pe.olx.com.br/grande-recife/imoveis/aluguel-apto-boa-viagem-757173984",
           "Apartamentos"
          ],
          [
           "2",
           "1",
           "45m²",
           "https://pe.olx.com.br/grande-recife/imoveis/cl-alugo-apt-2-quartos-boa-viagem-731484908",
           "Apartamentos"
          ],
          [
           "3",
           "1",
           "100m²",
           "https://pe.olx.com.br/grande-recife/imoveis/apartamento-para-aluguel-3-quartos-2-vagas-boa-viagem-recife-pe-706027757",
           "Apartamentos"
          ],
          [
           "3",
           "2",
           "80m²",
           "https://pe.olx.com.br/grande-recife/imoveis/siqueira-aluga-apartamento-2-quartos-e-dependencia-completa-boa-viagem-750400837",
           "Apartamentos"
          ],
          [
           "1",
           "1",
           "42m²",
           "https://pe.olx.com.br/grande-recife/imoveis/excelente-kit-net-na-barao-de-souza-leao-755462788",
           "Apartamentos"
          ],
          [
           "1",
           "1",
           "32m²",
           "https://pe.olx.com.br/grande-recife/imoveis/kitnet-apartamentos-em-boa-viagem-604498331",
           "Apartamentos"
          ],
          [
           "1",
           "1",
           "38m²",
           "https://pe.olx.com.br/grande-recife/imoveis/alugo-ap-flat-mobiliado-na-barao-boa-viagem-756778150",
           "Apartamentos"
          ],
          [
           "3",
           "2",
           "110m²",
           "https://pe.olx.com.br/grande-recife/imoveis/apartamento-na-barao-de-souza-leao-com-3-qqtos-pilotis-733501154",
           "Apartamentos"
          ],
          [
           "2",
           "1",
           "50m²",
           "https://pe.olx.com.br/grande-recife/imoveis/apartamento-2-quartos-no-cordeiro-745343627",
           "Apartamentos"
          ],
          [
           "1",
           "1",
           "",
           "https://pe.olx.com.br/grande-recife/imoveis/apartamentos-perfeitos-para-passar-o-fim-de-semana-na-zona-sul-de-recife-751008182",
           "Apartamentos"
          ],
          [
           "2",
           "2",
           "75m²",
           "https://pe.olx.com.br/grande-recife/imoveis/otimo-apt-751263546",
           "Apartamentos"
          ],
          [
           "1",
           "1",
           "45m²",
           "https://pe.olx.com.br/grande-recife/imoveis/apt-1q-mobiliado-em-boa-viagem-ed-barao-imperdivel-751518462",
           "Apartamentos"
          ],
          [
           "1",
           "1",
           "45m²",
           "https://pe.olx.com.br/grande-recife/imoveis/otimo-apt-barao-mobiliado-1q-boa-viagem-r-750-tx-747669713",
           "Apartamentos"
          ],
          [
           "1",
           "1",
           "40m²",
           "https://pe.olx.com.br/grande-recife/imoveis/otimo-apt-mobiliado-1q-ed-barao-boa-viagem-754839601",
           "Apartamentos"
          ],
          [
           "1",
           "1",
           "45m²",
           "https://pe.olx.com.br/grande-recife/imoveis/otimo-apt-mobiliado-1q-ed-barao-r-1-100-tudo-749949239",
           "Apartamentos"
          ],
          [
           "1",
           "1",
           "38m²",
           "https://pe.olx.com.br/grande-recife/imoveis/alugo-ap-flat-mobiliado-na-barao-boa-viagem-755384772",
           "Apartamentos"
          ],
          [
           "1",
           "1",
           "40m²",
           "https://pe.olx.com.br/grande-recife/imoveis/otimo-apt-mobiliado-ed-barao-em-boa-viagem-753019971",
           "Apartamentos"
          ],
          [
           "1",
           "1",
           "45m²",
           "https://pe.olx.com.br/grande-recife/imoveis/otimo-apt-mobiliado-ed-barao-em-b-v-tx-inclusas-755677284",
           "Apartamentos"
          ],
          [
           "3",
           "2",
           "75m²",
           "https://pe.olx.com.br/grande-recife/imoveis/apartamento-proximo-terminal-do-onibus-setubal-711825137",
           "Apartamentos"
          ],
          [
           "3",
           "2",
           "70m²",
           "https://pe.olx.com.br/grande-recife/imoveis/aluguel-apartamento-ipsep-742500852",
           "Apartamentos"
          ],
          [
           "1",
           "1",
           "30m²",
           "https://pe.olx.com.br/grande-recife/imoveis/edf-porto-do-mar-mobiliado-737827227",
           "Apartamentos"
          ],
          [
           "1",
           "1",
           "35m²",
           "https://pe.olx.com.br/grande-recife/imoveis/apto-de-01-quarto-em-setubal-padaria-alem-do-pao-747548319",
           "Apartamentos"
          ],
          [
           "3",
           "2",
           "60m²",
           "https://pe.olx.com.br/grande-recife/imoveis/locacao-2-1-quartos-em-setubal-735969672",
           "Apartamentos"
          ],
          [
           "1",
           "1",
           "",
           "https://pe.olx.com.br/grande-recife/imoveis/ap-1-qto-mob-1200-00-com-tudo-746132820",
           "Apartamentos"
          ],
          [
           "2",
           "2",
           "65m²",
           "https://pe.olx.com.br/grande-recife/imoveis/apartamento-2-quartos-por-r-1-100-em-boa-viagem-737629784",
           "Apartamentos"
          ],
          [
           "2",
           "2",
           "80m²",
           "https://pe.olx.com.br/grande-recife/imoveis/apt-2quartos-mobiliado-massaranduba-prazeres-744743309",
           "Apartamentos"
          ],
          [
           "2",
           "2",
           "55m²",
           "https://pe.olx.com.br/grande-recife/imoveis/oportunidade-na-r-capitao-zuzinha-751251765",
           "Apartamentos"
          ],
          [
           "2",
           "2",
           "0m²",
           "https://pe.olx.com.br/grande-recife/imoveis/imovel-749164153",
           "Apartamentos"
          ],
          [
           "1",
           "1",
           "28m²",
           "https://pe.olx.com.br/grande-recife/imoveis/flat-mobiliado-em-boa-viagem-749327742",
           "Apartamentos"
          ],
          [
           "3",
           "3",
           "90m²",
           "https://pe.olx.com.br/grande-recife/imoveis/apartamento-mobiliado-3qts-em-boa-viagem-no-cozumel-com-camareira-731915424",
           "Apartamentos"
          ],
          [
           "3",
           "2",
           "105m²",
           "https://pe.olx.com.br/grande-recife/imoveis/ap-105m2-3-qt-2vagas-boa-viagem-proximo-ao-mar-hotel-723603083",
           "Apartamentos"
          ],
          [
           "1",
           "1",
           "20m²",
           "https://pe.olx.com.br/grande-recife/imoveis/apt-no-studio-residence-aluguel-r-500-00-716431472",
           "Apartamentos"
          ],
          [
           "2",
           "2",
           "42m²",
           "https://pe.olx.com.br/grande-recife/imoveis/extra--excelente-apartamento-setubal-02-qtos-01-suite-752137617",
           "Apartamentos"
          ],
          [
           "2",
           "1",
           "57m²",
           "https://pe.olx.com.br/grande-recife/imoveis/alugo-apto-em-boa-viagem-mobiliado-na-rua-padre-cabral-perto-de-restaurantes-e-escolas-734438706",
           "Apartamentos"
          ],
          [
           "1",
           "1",
           "30m²",
           "https://pe.olx.com.br/grande-recife/imoveis/kit-em-bv-setubal-alugar-752362129",
           "Apartamentos"
          ],
          [
           "3",
           "2",
           "0m²",
           "https://pe.olx.com.br/grande-recife/imoveis/apt-aluguel-bv-741130092",
           "Apartamentos"
          ],
          [
           "2",
           "2",
           "58m²",
           "https://pe.olx.com.br/grande-recife/imoveis/aluguel-apartamento-2-quartos-em-setubal-752087449",
           "Apartamentos"
          ],
          [
           "2",
           "2",
           "70m²",
           "https://pe.olx.com.br/grande-recife/imoveis/boa-viagem-setubal-2-1-quartos-edf-dom-fafe-rua-copacabana-185-752689316",
           "Apartamentos"
          ],
          [
           "2",
           "2",
           "50m²",
           "https://pe.olx.com.br/grande-recife/imoveis/neri-2qts-50m2-apt-terreo-prox-terminal-setubal-so-1mil-tudo-749245936",
           "Apartamentos"
          ],
          [
           "2",
           "1",
           "",
           "https://pe.olx.com.br/grande-recife/imoveis/apartamento-para-alugar-com-2-dormitorios-em-setubal-recife-cod-4066-635460898",
           "Apartamentos"
          ],
          [
           "3",
           "2",
           "120m²",
           "https://pe.olx.com.br/grande-recife/imoveis/apartamento-em-setubal-3-quartos-743485712",
           "Apartamentos"
          ],
          [
           "1",
           "1",
           "25m²",
           "https://pe.olx.com.br/grande-recife/imoveis/studio-mobiliado-em-setubal-prox-supermercado-rm-754346218",
           "Apartamentos"
          ],
          [
           "1",
           "1",
           "30m²",
           "https://pe.olx.com.br/grande-recife/imoveis/alugo-flat-1-quarto-mobiliado-em-boa-viagem-setubal-743880784",
           "Apartamentos"
          ],
          [
           "1",
           "1",
           "25m²",
           "https://pe.olx.com.br/grande-recife/imoveis/flat-recem-entregue-em-setubal-670024722",
           "Apartamentos"
          ],
          [
           "1",
           "1",
           "25m²",
           "https://pe.olx.com.br/grande-recife/imoveis/flat-novo-25m-em-setubal-lazer-completo-edf-costa-das-palmeiras-756391574",
           "Apartamentos"
          ],
          [
           "1",
           "1",
           "25m²",
           "https://pe.olx.com.br/grande-recife/imoveis/apartamento-mobiliado-setubal-top-756683614",
           "Apartamentos"
          ],
          [
           "1",
           "1",
           "30m²",
           "https://pe.olx.com.br/grande-recife/imoveis/flat-lindo-com-otimos-moveis-planejados-em-setubal-boa-viagem-755930562",
           "Apartamentos"
          ],
          [
           "1",
           "1",
           "30m²",
           "https://pe.olx.com.br/grande-recife/imoveis/flat-lindo-com-otimos-moveis-planejados-em-setubal-boa-viagem-757274181",
           "Apartamentos"
          ],
          [
           "1",
           "1",
           "25m²",
           "https://pe.olx.com.br/grande-recife/imoveis/apartamento-mobiliado-setubal-top-757474067",
           "Apartamentos"
          ],
          [
           "2",
           "1",
           "60m²",
           "https://pe.olx.com.br/grande-recife/imoveis/apartamento-2-quartos-em-boa-viagem-mobiliado-ou-nao-747141977",
           "Apartamentos"
          ],
          [
           "2",
           "1",
           "0m²",
           "https://pe.olx.com.br/grande-recife/imoveis/alugo-apartamento-2-quartos-proximo-atacadao-antigo-carreour-tancredo-neves-r-1-000-00-752961029",
           "Apartamentos"
          ],
          [
           "1",
           "1",
           "30m²",
           "https://pe.olx.com.br/grande-recife/imoveis/flat-mobiliado-proximo-ao-shopping-com-lazer-742936319",
           "Apartamentos"
          ],
          [
           "3",
           "2",
           "",
           "https://pe.olx.com.br/grande-recife/imoveis/alugo-ap-mobiliado-na-beira-mar-de-boa-viagem-754213230",
           "Apartamentos"
          ],
          [
           "1",
           "1",
           "0m²",
           "https://pe.olx.com.br/grande-recife/imoveis/ap-1-qt-na-av-barao-de-souza-leao-747057381",
           "Apartamentos"
          ],
          [
           "1",
           "1",
           "40m²",
           "https://pe.olx.com.br/grande-recife/imoveis/mobilia-completa-a-partir-de-1-499-00-754320076",
           "Apartamentos"
          ],
          [
           "1",
           "1",
           "30m²",
           "https://pe.olx.com.br/grande-recife/imoveis/flat-mobiliado-em-boa-viagem-1500-com-taxas-753623625",
           "Apartamentos"
          ],
          [
           "1",
           "1",
           "30m²",
           "https://pe.olx.com.br/grande-recife/imoveis/oportunidade-alugo-apto-606-ed-studio-ibisa-iii-643580011",
           "Apartamentos"
          ],
          [
           "1",
           "1",
           "27m²",
           "https://pe.olx.com.br/grande-recife/imoveis/alugo-kitinet-pina-730303540",
           "Apartamentos"
          ],
          [
           "1",
           "1",
           "27m²",
           "https://pe.olx.com.br/grande-recife/imoveis/alugo-quitinete-pina-750542717",
           "Apartamentos"
          ],
          [
           "1",
           "1",
           "35m²",
           "https://pe.olx.com.br/grande-recife/imoveis/otimo-kit-net-01-quarto-terreo-01-vaga-rotativa-no-pina-excelente-localizacao-744632324",
           "Apartamentos"
          ],
          [
           "1",
           "1",
           "26m²",
           "https://pe.olx.com.br/grande-recife/imoveis/aluguel-753226017",
           "Apartamentos"
          ],
          [
           "1",
           "1",
           "41m²",
           "https://pe.olx.com.br/grande-recife/imoveis/aluga-se-apt-c-1-qt-prox-rio-mar-valor-promo-c-taxas-r-1-100-00-620613490",
           "Apartamentos"
          ],
          [
           "1",
           "1",
           "46m²",
           "https://pe.olx.com.br/grande-recife/imoveis/alugo-apartamento-no-pina-749203474",
           "Apartamentos"
          ],
          [
           "1",
           "1",
           "35m²",
           "https://pe.olx.com.br/grande-recife/imoveis/aluga-se-apartamento-no-pina-740920124",
           "Apartamentos"
          ],
          [
           "1",
           "1",
           "40m²",
           "https://pe.olx.com.br/grande-recife/imoveis/otimo-apartamento-01-quarto-terraco-no-pina-excelente-localizacao-741198986",
           "Apartamentos"
          ],
          [
           "1",
           "1",
           "30m²",
           "https://pe.olx.com.br/grande-recife/imoveis/aluguel-apt-755605963",
           "Apartamentos"
          ],
          [
           "2",
           "1",
           "47m²",
           "https://pe.olx.com.br/grande-recife/imoveis/apartamento-dois-quartos-a-5-min-da-praia-742718587",
           "Apartamentos"
          ],
          [
           "3",
           "2",
           "90m²",
           "https://pe.olx.com.br/grande-recife/imoveis/3-qts-boa-viagem-proximo-ao-riomar-733276498",
           "Apartamentos"
          ],
          [
           "3",
           "2",
           "90m²",
           "https://pe.olx.com.br/grande-recife/imoveis/3-qts-boa-viagem-proximo-ao-riomar-734441219",
           "Apartamentos"
          ],
          [
           "3",
           "2",
           "90m²",
           "https://pe.olx.com.br/grande-recife/imoveis/3-qts-boa-viagem-proximo-ao-riomar-741545614",
           "Apartamentos"
          ],
          [
           "3",
           "2",
           "90m²",
           "https://pe.olx.com.br/grande-recife/imoveis/3-qts-boa-viagem-proximo-ao-riomar-742074190",
           "Apartamentos"
          ],
          [
           "3",
           "2",
           "90m²",
           "https://pe.olx.com.br/grande-recife/imoveis/3-qts-boa-viagem-proximo-ao-riomar-736431306",
           "Apartamentos"
          ],
          [
           "3",
           "2",
           "90m²",
           "https://pe.olx.com.br/grande-recife/imoveis/3-qts-boa-viagem-proximo-ao-riomar-738359582",
           "Apartamentos"
          ],
          [
           "1",
           "1",
           "30m²",
           "https://pe.olx.com.br/grande-recife/imoveis/edf-golden-day-ao-lado-do-colegio-boa-viagem-750741615",
           "Apartamentos"
          ],
          [
           "3",
           "2",
           "107m²",
           "https://pe.olx.com.br/grande-recife/imoveis/apartamento-em-boa-viagem-proximo-ao-mar-otima-localizacao-03-quartos-737880911",
           "Apartamentos"
          ],
          [
           "1",
           "1",
           "50m²",
           "https://pe.olx.com.br/grande-recife/imoveis/al1029-excelente-sala-quarto-e-cozinha-com-otima-localizacao-em-boa-viagem-600724143",
           "Apartamentos"
          ],
          [
           "2",
           "1",
           "60m²",
           "https://pe.olx.com.br/grande-recife/imoveis/alugo-apto-2-qtos-na-conselheiro-aguiar-757181037",
           "Apartamentos"
          ],
          [
           "1",
           "1",
           "",
           "https://pe.olx.com.br/grande-recife/imoveis/aluguel-de-apto-de-1-4-mobiliado-em-boa-viagem-r-1-000-00-720812715",
           "Apartamentos"
          ],
          [
           "1",
           "1",
           "42m²",
           "https://pe.olx.com.br/grande-recife/imoveis/al1179-excelente-oportunidade-de-studio-mobiliado-753737964",
           "Apartamentos"
          ],
          [
           "1",
           "1",
           "30m²",
           "https://pe.olx.com.br/grande-recife/imoveis/flat-edf-golden-day-quarto-sala-cozinha-mobiliado-piscina-boa-viagem-755477533",
           "Apartamentos"
          ],
          [
           "1",
           "1",
           "",
           "https://pe.olx.com.br/grande-recife/imoveis/kitnets-e-apartamentos-para-alugar-no-centro-do-recife-742679517",
           "Apartamentos"
          ],
          [
           "1",
           "1",
           "30m²",
           "https://pe.olx.com.br/grande-recife/imoveis/apartamento-kitnet-na-beira-mar-de-boa-viagem-com-uma-bela-paisagem-751147316",
           "Apartamentos"
          ],
          [
           "1",
           "1",
           "60m²",
           "https://pe.olx.com.br/grande-recife/imoveis/alugo-apartamento-1quarto-semi-mobiliado-755512409",
           "Apartamentos"
          ],
          [
           "3",
           "2",
           "80m²",
           "https://pe.olx.com.br/grande-recife/imoveis/3-quartos-3-andar-otimo-apto-em-boa-viajem-a-40m-da-praia-80m-81-9-732844245",
           "Apartamentos"
          ],
          [
           "3",
           "2",
           "80m²",
           "https://pe.olx.com.br/grande-recife/imoveis/otimo-apto-3-andar-em-boa-viajem-a-40m-da-praia-80m-81-9-757313575",
           "Apartamentos"
          ],
          [
           "1",
           "1",
           "30m²",
           "https://pe.olx.com.br/grande-recife/imoveis/flat-mobiliado-boa-viagem-com-lazer-742925280",
           "Apartamentos"
          ],
          [
           "1",
           "1",
           "32m²",
           "https://pe.olx.com.br/grande-recife/imoveis/apartamento-boa-viagem-731788850",
           "Apartamentos"
          ],
          [
           "2",
           "1",
           "50m²",
           "https://pe.olx.com.br/grande-recife/imoveis/apartamento-no-residencial-boa-viagem-746625520",
           "Apartamentos"
          ],
          [
           "1",
           "1",
           "30m²",
           "https://pe.olx.com.br/grande-recife/imoveis/apt-1-qto-mobiliado-proximo-praia-c-servico-camareira-681750207",
           "Apartamentos"
          ],
          [
           "3",
           "3",
           "75m²",
           "https://pe.olx.com.br/grande-recife/imoveis/apartamento-setubal-boa-viagem-3-quartos-para-locacao-1400-reais-taxas-inclusas-756943200",
           "Apartamentos"
          ],
          [
           "1",
           "1",
           "25m²",
           "https://pe.olx.com.br/grande-recife/imoveis/apt-mobiliado-proximo-ao-shopping-e-uninassau-bv-737709919",
           "Apartamentos"
          ],
          [
           "1",
           "1",
           "25m²",
           "https://pe.olx.com.br/grande-recife/imoveis/flat-nascente-em-setubal-com-armarios-split-e-cooktop-737710722",
           "Apartamentos"
          ],
          [
           "1",
           "1",
           "28m²",
           "https://pe.olx.com.br/grande-recife/imoveis/flat-em-setubal-1q-28m2-lazer-completo-r-1-200-00-727818789",
           "Apartamentos"
          ],
          [
           "2",
           "2",
           "50m²",
           "https://pe.olx.com.br/grande-recife/imoveis/boa-viagem-edf-life-2qts-suite-r-1-400-00-otima-localizacao-754899927",
           "Apartamentos"
          ],
          [
           "2",
           "1",
           "75m²",
           "https://pe.olx.com.br/grande-recife/imoveis/apartamento-para-aluguel-2-quartos-1-vaga-boa-viagem-recife-pe-743877685",
           "Apartamentos"
          ],
          [
           "1",
           "1",
           "35m²",
           "https://pe.olx.com.br/grande-recife/imoveis/flat-perto-da-praia-de-boa-viagem-as-taxas-ja-estao-inclusas-751333454",
           "Apartamentos"
          ],
          [
           "1",
           "1",
           "35m²",
           "https://pe.olx.com.br/grande-recife/imoveis/flat-em-boa-viagem-perto-da-praia-todas-as-taxas-inclusas-751873525",
           "Apartamentos"
          ],
          [
           "1",
           "1",
           "35m²",
           "https://pe.olx.com.br/grande-recife/imoveis/flat-totalmente-mobiliado-em-boa-viagem-perto-da-praia-todas-as-taxas-inclusas-748401499",
           "Apartamentos"
          ],
          [
           "1",
           "1",
           "35m²",
           "https://pe.olx.com.br/grande-recife/imoveis/flat-mobiliado-pertinho-da-praia-em-boa-viagem-todas-as-taxas-inclusas-748894080",
           "Apartamentos"
          ],
          [
           "2",
           "1",
           "65m²",
           "https://pe.olx.com.br/grande-recife/imoveis/apartamento-em-boa-viagem-mobiliado-741862998",
           "Apartamentos"
          ],
          [
           "2",
           "1",
           "65m²",
           "https://pe.olx.com.br/grande-recife/imoveis/apartamento-em-boa-viagem-mobiliado-744243940",
           "Apartamentos"
          ],
          [
           "3",
           "2",
           "90m²",
           "https://pe.olx.com.br/grande-recife/imoveis/alugo-apartamento-boa-viagem-perto-do-shopping-recife-736928794",
           "Apartamentos"
          ],
          [
           "3",
           "3",
           "120m²",
           "https://pe.olx.com.br/grande-recife/imoveis/gmimoveis-aluga-apartamento-em-boa-viagem-3qts-s-2-suite-1-400-c-taxas-inclusas-744891654",
           "Apartamentos"
          ],
          [
           "3",
           "2",
           "120m²",
           "https://pe.olx.com.br/grande-recife/imoveis/al30668-apt-bem-localizado-com-sala-para-2-ambientes-3-qts-sendo-1-ste-em-boa-viagem-720191534",
           "Apartamentos"
          ],
          [
           "3",
           "1",
           "73m²",
           "https://pe.olx.com.br/grande-recife/imoveis/alugo-otimo-aapartamento-755985527",
           "Apartamentos"
          ],
          [
           "1",
           "1",
           "25m²",
           "https://pe.olx.com.br/grande-recife/imoveis/alugo-kitnet-753219609",
           "Apartamentos"
          ],
          [
           "2",
           "1",
           "45m²",
           "https://pe.olx.com.br/grande-recife/imoveis/cl-alugo-apt-2-quartos-boa-viagem-740622812",
           "Apartamentos"
          ],
          [
           "2",
           "1",
           "40m²",
           "https://pe.olx.com.br/grande-recife/imoveis/kitnet-imbiribeira-boa-viagem-recife-739230013",
           "Apartamentos"
          ],
          [
           "2",
           "1",
           "55m²",
           "https://pe.olx.com.br/grande-recife/imoveis/excelente-apartamento-com-sala-dois-quartos-apenas-500-reais-714079206",
           "Apartamentos"
          ],
          [
           "3",
           "2",
           "68m²",
           "https://pe.olx.com.br/grande-recife/imoveis/apto-para-alugar-r-1000-757002132",
           "Apartamentos"
          ],
          [
           "2",
           "1",
           "70m²",
           "https://pe.olx.com.br/grande-recife/imoveis/alugo-1-andar-752023931",
           "Apartamentos"
          ],
          [
           "1",
           "1",
           "58m²",
           "https://pe.olx.com.br/grande-recife/imoveis/apto-pra-alugar-na-imbiribeira-baratinho-qt-com-suite-varanda-e-armarios-de-embutir-756612639",
           "Apartamentos"
          ],
          [
           "2",
           "1",
           "52m²",
           "https://pe.olx.com.br/grande-recife/imoveis/aluga-se-apt-2-quartos-imbiribeira-754213286",
           "Apartamentos"
          ],
          [
           "1",
           "1",
           "60m²",
           "https://pe.olx.com.br/grande-recife/imoveis/aluga-se-apto-em-boa-localizacao-1-quarto-c-suite-armarios-embutidos-varanda-ventilada-756606438",
           "Apartamentos"
          ],
          [
           "1",
           "1",
           "0m²",
           "https://pe.olx.com.br/grande-recife/imoveis/apartamento-ventilado-ao-lado-da-nova-fps-da-imbiribeira-748645778",
           "Apartamentos"
          ],
          [
           "2",
           "1",
           "45m²",
           "https://pe.olx.com.br/grande-recife/imoveis/aluguel-apartamento-2-quartos-em-boa-viagem-r-1-400-756943935",
           "Apartamentos"
          ],
          [
           "2",
           "1",
           "47m²",
           "https://pe.olx.com.br/grande-recife/imoveis/shopping-park-selective-r-1-400-732834171",
           "Apartamentos"
          ],
          [
           "2",
           "1",
           "45m²",
           "https://pe.olx.com.br/grande-recife/imoveis/cl-alugo-apt-2-quartos-boa-viagem-738313365",
           "Apartamentos"
          ],
          [
           "2",
           "1",
           "42m²",
           "https://pe.olx.com.br/grande-recife/imoveis/dm-apartamento-2-quartos-shopping-park-selective-754875417",
           "Apartamentos"
          ],
          [
           "2",
           "1",
           "45m²",
           "https://pe.olx.com.br/grande-recife/imoveis/tm-apt-2qts-em-frente-a-estacao-de-metro-shopping-755326173",
           "Apartamentos"
          ],
          [
           "2",
           "1",
           "45m²",
           "https://pe.olx.com.br/grande-recife/imoveis/shopping-park-selective-2q-45m2-com-lazer-729379364",
           "Apartamentos"
          ],
          [
           "2",
           "1",
           "44m²",
           "https://pe.olx.com.br/grande-recife/imoveis/apartamento-com-2-quartos-para-locacao-44m-imbiribeira-755980614",
           "Apartamentos"
          ],
          [
           "2",
           "1",
           "45m²",
           "https://pe.olx.com.br/grande-recife/imoveis/cl-alugo-apto-em-boa-viagem-730539577",
           "Apartamentos"
          ],
          [
           "2",
           "1",
           "45m²",
           "https://pe.olx.com.br/grande-recife/imoveis/shopping-park-residence-r-1-400-00-com-taxas-inclusas-754268215",
           "Apartamentos"
          ],
          [
           "2",
           "1",
           "43m²",
           "https://pe.olx.com.br/grande-recife/imoveis/tm-alugo-apt-no-shopping-park-selective-757603961",
           "Apartamentos"
          ],
          [
           "2",
           "1",
           "45m²",
           "https://pe.olx.com.br/grande-recife/imoveis/apto-andar-alto-boa-viagem-2qts-lazer-completo-r-1-470-00-shopping-park-special-757633050",
           "Apartamentos"
          ],
          [
           "2",
           "1",
           "45m²",
           "https://pe.olx.com.br/grande-recife/imoveis/cl-apartamento-2-quartos-para-alugar-na-imbiribeira-748186908",
           "Apartamentos"
          ],
          [
           "2",
           "2",
           "45m²",
           "https://pe.olx.com.br/grande-recife/imoveis/jr-sua-opcao-de-locacao-na-imbiribeira-al406-81-756881520",
           "Apartamentos"
          ],
          [
           "2",
           "1",
           "74m²",
           "https://pe.olx.com.br/grande-recife/imoveis/boa-viagem-taxas-inclusas-todo-reformado-757026690",
           "Apartamentos"
          ],
          [
           "2",
           "2",
           "64m²",
           "https://pe.olx.com.br/grande-recife/imoveis/apartamento-no-residencial-boa-viagem-perto-do-shopping-recife-736456894",
           "Apartamentos"
          ],
          [
           "2",
           "1",
           "",
           "https://pe.olx.com.br/grande-recife/imoveis/aluguel-quarto-739449722",
           "Apartamentos"
          ],
          [
           "2",
           "2",
           "55m²",
           "https://pe.olx.com.br/grande-recife/imoveis/edificio-lara-terreo-imbiribeira-perto-de-tudo-fone-9-757386843",
           "Apartamentos"
          ],
          [
           "2",
           "1",
           "45m²",
           "https://pe.olx.com.br/grande-recife/imoveis/apartamento-para-alugar-com-2-dormitorios-em-imbiribeira-recife-cod-ap0201-494085463",
           "Apartamentos"
          ],
          [
           "2",
           "1",
           "47m²",
           "https://pe.olx.com.br/grande-recife/imoveis/alugo-apartamento-com-2-quartos-na-imbiribeira-lazer-completo-a-partir-de-r-1-450-615313543",
           "Apartamentos"
          ],
          [
           "1",
           "1",
           "50m²",
           "https://pe.olx.com.br/grande-recife/imoveis/apto-01-quarto-na-imbiribeira-terreo-para-casal-sem-taxas-proximo-de-tudo-753212599",
           "Apartamentos"
          ],
          [
           "3",
           "2",
           "65m²",
           "https://pe.olx.com.br/grande-recife/imoveis/otimo-apto-3-quartos-na-imbiribeira-proximo-lagoa-do-araca-580144471",
           "Apartamentos"
          ],
          [
           "2",
           "2",
           "56m²",
           "https://pe.olx.com.br/grande-recife/imoveis/melhor-localizacao-do-recife-737518837",
           "Apartamentos"
          ],
          [
           "3",
           "2",
           "65m²",
           "https://pe.olx.com.br/grande-recife/imoveis/apartamento-na-imbiribeira-755941619",
           "Apartamentos"
          ],
          [
           "3",
           "2",
           "75m²",
           "https://pe.olx.com.br/grande-recife/imoveis/apto-terreo-na-lagoa-do-araca-744641123",
           "Apartamentos"
          ],
          [
           "2",
           "2",
           "55m²",
           "https://pe.olx.com.br/grande-recife/imoveis/apt-ao-redor-da-lagoa-2q-lazer-e-portaria-24h-744599766",
           "Apartamentos"
          ],
          [
           "2",
           "1",
           "360m²",
           "https://pe.olx.com.br/grande-recife/imoveis/apartamento-para-aluguel-2-quartos-1-vaga-imbiribeira-recife-pe-756645383",
           "Apartamentos"
          ],
          [
           "2",
           "2",
           "55m²",
           "https://pe.olx.com.br/grande-recife/imoveis/apt-ao-redor-da-lagoa-2q-lazer-e-portaria-24h-752129197",
           "Apartamentos"
          ],
          [
           "2",
           "2",
           "",
           "https://pe.olx.com.br/grande-recife/imoveis/apartamento-na-lagoa-do-araca-732974498",
           "Apartamentos"
          ],
          [
           "2",
           "2",
           "55m²",
           "https://pe.olx.com.br/grande-recife/imoveis/apartamento-para-alugar-740099233",
           "Apartamentos"
          ],
          [
           "3",
           "2",
           "98m²",
           "https://pe.olx.com.br/grande-recife/imoveis/apt-pertinho-do-colegio-pinheiros-1-andar-com-moveis-planejados-752210286",
           "Apartamentos"
          ],
          [
           "3",
           "2",
           "90m²",
           "https://pe.olx.com.br/grande-recife/imoveis/edificio-ana-carolina-753965277",
           "Apartamentos"
          ],
          [
           "3",
           "2",
           "90m²",
           "https://pe.olx.com.br/grande-recife/imoveis/otimo-apt-prox-lagoa-do-araca-732905158",
           "Apartamentos"
          ],
          [
           "2",
           "1",
           "",
           "https://pe.olx.com.br/grande-recife/imoveis/apartamento-2-quartos-na-imbiribeira-733341923",
           "Apartamentos"
          ],
          [
           "3",
           "2",
           "90m²",
           "https://pe.olx.com.br/grande-recife/imoveis/alugo-apt-prox-a-lagoa-do-araca-esquina-com-av-pinheiros-757430857",
           "Apartamentos"
          ],
          [
           "3",
           "1",
           "405m²",
           "https://pe.olx.com.br/grande-recife/imoveis/apartamento-para-aluguel-3-quartos-1-vaga-imbiribeira-recife-pe-739266896",
           "Apartamentos"
          ],
          [
           "3",
           "2",
           "98m²",
           "https://pe.olx.com.br/grande-recife/imoveis/apt-pra-alugar-na-imbiribeira-proxima-a-av-mascarenhas-de-moraes-746882942",
           "Apartamentos"
          ],
          [
           "1",
           "1",
           "10m²",
           "https://pe.olx.com.br/grande-recife/imoveis/kitnets-350-750811277",
           "Apartamentos"
          ],
          [
           "3",
           "2",
           "108m²",
           "https://pe.olx.com.br/grande-recife/imoveis/ap-pra-alugar-grande-em-predio-pilotis-756523112",
           "Apartamentos"
          ],
          [
           "3",
           "2",
           "110m²",
           "https://pe.olx.com.br/grande-recife/imoveis/excelente-apartamento-3-quartos-na-imbiribeira-753599182",
           "Apartamentos"
          ],
          [
           "1",
           "1",
           "",
           "https://pe.olx.com.br/grande-recife/imoveis/kitnet-na-imbiribeira-741585708",
           "Apartamentos"
          ],
          [
           "1",
           "1",
           "",
           "https://pe.olx.com.br/grande-recife/imoveis/alugo-kitnet-no-bairro-da-imbiribeira-741579698",
           "Apartamentos"
          ],
          [
           "1",
           "1",
           "",
           "https://pe.olx.com.br/grande-recife/imoveis/alugo-kitnet-proximo-ao-assai-atacadista-na-imbiribeira-741583084",
           "Apartamentos"
          ],
          [
           "1",
           "1",
           "",
           "https://pe.olx.com.br/grande-recife/imoveis/aluga-se-kitnet-na-imbiribeira-742381045",
           "Apartamentos"
          ],
          [
           "1",
           "1",
           "15m²",
           "https://pe.olx.com.br/grande-recife/imoveis/alugo-kit-net-boavista-754726230",
           "Apartamentos"
          ],
          [
           "2",
           "1",
           "45m²",
           "https://pe.olx.com.br/grande-recife/imoveis/apartamento-reformado-no-ipsep-755532249",
           "Apartamentos"
          ],
          [
           "2",
           "1",
           "45m²",
           "https://pe.olx.com.br/grande-recife/imoveis/apto-no-ipsep-chico-city-550-reais-todo-reformado-755130794",
           "Apartamentos"
          ],
          [
           "3",
           "3",
           "70m²",
           "https://pe.olx.com.br/grande-recife/imoveis/aluguel-de-ap-no-conjunto-da-sudene-ipsep-747006018",
           "Apartamentos"
          ],
          [
           "3",
           "2",
           "0m²",
           "https://pe.olx.com.br/grande-recife/imoveis/alugo-apt-ipsep-750442517",
           "Apartamentos"
          ],
          [
           "2",
           "2",
           "80m²",
           "https://pe.olx.com.br/grande-recife/imoveis/apartamento-no-ipsep-740130710",
           "Apartamentos"
          ],
          [
           "3",
           "2",
           "80m²",
           "https://pe.olx.com.br/grande-recife/imoveis/cl-alugo-apt-no-ipsep-741617557",
           "Apartamentos"
          ],
          [
           "1",
           "1",
           "40m²",
           "https://pe.olx.com.br/grande-recife/imoveis/kitnet-ipsep-otima-localizacao-756954655",
           "Apartamentos"
          ],
          [
           "3",
           "2",
           "70m²",
           "https://pe.olx.com.br/grande-recife/imoveis/nascente-ventilado-750739345",
           "Apartamentos"
          ],
          [
           "1",
           "1",
           "",
           "https://pe.olx.com.br/grande-recife/imoveis/kitnet-ipsep-731369315",
           "Apartamentos"
          ],
          [
           "1",
           "1",
           "40m²",
           "https://pe.olx.com.br/grande-recife/imoveis/kitnet-no-ipsep-742759274",
           "Apartamentos"
          ],
          [
           "1",
           "1",
           "",
           "https://pe.olx.com.br/grande-recife/imoveis/kitnet-745189781",
           "Apartamentos"
          ],
          [
           "2",
           "1",
           "52m²",
           "https://pe.olx.com.br/grande-recife/imoveis/cl-alugo-apt-no-ipsep-739937707",
           "Apartamentos"
          ],
          [
           "3",
           "2",
           "70m²",
           "https://pe.olx.com.br/grande-recife/imoveis/ipsep-aluga-apartamento-3-quartos-755803514",
           "Apartamentos"
          ],
          [
           "1",
           "1",
           "50m²",
           "https://pe.olx.com.br/grande-recife/imoveis/-apto-741781062",
           "Apartamentos"
          ],
          [
           "2",
           "1",
           "65m²",
           "https://pe.olx.com.br/grande-recife/imoveis/apartamento-para-alugar-com-2-dormitorios-em-imbiribeira-recife-cod-lmaa077-740898685",
           "Apartamentos"
          ],
          [
           "2",
           "1",
           "50m²",
           "https://pe.olx.com.br/grande-recife/imoveis/aluga-se-apartamento-750230240",
           "Apartamentos"
          ],
          [
           "2",
           "1",
           "",
           "https://pe.olx.com.br/grande-recife/imoveis/aluga-se-apartamento-750775284",
           "Apartamentos"
          ],
          [
           "2",
           "1",
           "56m²",
           "https://pe.olx.com.br/grande-recife/imoveis/alugo-apartamento-ipsep-av-recife-742896400",
           "Apartamentos"
          ],
          [
           "2",
           "1",
           "70m²",
           "https://pe.olx.com.br/grande-recife/imoveis/aluga-se-apartamento-na-imbiribeira-748152333",
           "Apartamentos"
          ],
          [
           "3",
           "2",
           "64m²",
           "https://pe.olx.com.br/grande-recife/imoveis/apartamento-para-alugar-com-3-dormitorios-em-imbiribeira-recife-cod-imo897-708314195",
           "Apartamentos"
          ],
          [
           "3",
           "2",
           "78m²",
           "https://pe.olx.com.br/grande-recife/imoveis/imbiribeira-3q-78m-super-ventilado-739325884",
           "Apartamentos"
          ],
          [
           "3",
           "2",
           "91m²",
           "https://pe.olx.com.br/grande-recife/imoveis/aluguel-casa-1-andar-duplex-3-quartos-imbiribeira-751329599",
           "Apartamentos"
          ],
          [
           "2",
           "1",
           "43m²",
           "https://pe.olx.com.br/grande-recife/imoveis/bc-excelente-localizacao-edf-shopping-park-2-quartos-43-m-2-lazer-completo-744750619",
           "Apartamentos"
          ],
          [
           "1",
           "1",
           "0m²",
           "https://pe.olx.com.br/grande-recife/imoveis/kitnet-745004140",
           "Apartamentos"
          ],
          [
           "2",
           "1",
           "60m²",
           "https://pe.olx.com.br/grande-recife/imoveis/apto-reformado-porta-larga-todo-reformado-750949294",
           "Apartamentos"
          ],
          [
           "3",
           "3",
           "100m²",
           "https://pe.olx.com.br/grande-recife/imoveis/alugo-apartamento-com-armarios-e-guarda-roupas-em-todos-quartos-cozinha-e-banheiros-754116348",
           "Apartamentos"
          ],
          [
           "2",
           "1",
           "50m²",
           "https://pe.olx.com.br/grande-recife/imoveis/apto-para-alugar-650-00-756013079",
           "Apartamentos"
          ],
          [
           "2",
           "1",
           "",
           "https://pe.olx.com.br/grande-recife/imoveis/kitnet-no-ipsep-753661114",
           "Apartamentos"
          ],
          [
           "1",
           "1",
           "55m²",
           "https://pe.olx.com.br/grande-recife/imoveis/alugo-apto-na-imbiribeira-otima-localidade-varanda-quarto-c-suite-armarios-embutidos-756602265",
           "Apartamentos"
          ],
          [
           "2",
           "1",
           "",
           "https://pe.olx.com.br/grande-recife/imoveis/aluga-se-um-apartamento-757389421",
           "Apartamentos"
          ],
          [
           "2",
           "2",
           "40m²",
           "https://pe.olx.com.br/grande-recife/imoveis/apartamento-e-kitnet-ipsep-otima-localizacao-734076440",
           "Apartamentos"
          ],
          [
           "1",
           "1",
           "45m²",
           "https://pe.olx.com.br/grande-recife/imoveis/ipsep-r-500-00-kit-terreo-01-quarto-junto-farmacia-713252727",
           "Apartamentos"
          ],
          [
           "2",
           "1",
           "44m²",
           "https://pe.olx.com.br/grande-recife/imoveis/apartamento-752201802",
           "Apartamentos"
          ],
          [
           "3",
           "2",
           "100m²",
           "https://pe.olx.com.br/grande-recife/imoveis/apto-terreo-100-m-quadrados-3-qts-747365250",
           "Apartamentos"
          ],
          [
           "3",
           "1",
           "68m²",
           "https://pe.olx.com.br/grande-recife/imoveis/apartamento-jardim-sao-paulo-747618961",
           "Apartamentos"
          ],
          [
           "3",
           "3",
           "0m²",
           "https://pe.olx.com.br/grande-recife/imoveis/apartamento-no-derby-727461337",
           "Apartamentos"
          ],
          [
           "3",
           "3",
           "93m²",
           "https://pe.olx.com.br/grande-recife/imoveis/apartamento-nas-gracas-3-quartos-740858988",
           "Apartamentos"
          ],
          [
           "2",
           "1",
           "",
           "https://pe.olx.com.br/grande-recife/imoveis/alugo-apartamento-1-andar-centro-do-recife-rua-oliveira-lima-1034-731228363",
           "Apartamentos"
          ],
          [
           "3",
           "1",
           "",
           "https://pe.olx.com.br/grande-recife/imoveis/alugo-apartamento-3-andar-ao-lado-do-7-ro-pe-15-r-800-00-730831179",
           "Apartamentos"
          ],
          [
           "1",
           "1",
           "",
           "https://pe.olx.com.br/grande-recife/imoveis/alugo-apartamento-no-edf-gold-style-em-boa-viagem-r-1-400-00-com-taxas-inclusas-748278936",
           "Apartamentos"
          ],
          [
           "1",
           "1",
           "30m²",
           "https://pe.olx.com.br/grande-recife/imoveis/apartamento-com-1-quarto-na-melhor-estrutura-do-bairro-das-gracas-755032612",
           "Apartamentos"
          ],
          [
           "1",
           "1",
           "0m²",
           "https://pe.olx.com.br/grande-recife/imoveis/gracas-um-quarto-taxas-inclusas-745126415",
           "Apartamentos"
          ],
          [
           "1",
           "1",
           "30m²",
           "https://pe.olx.com.br/grande-recife/imoveis/flat-1-quarto-para-alugar-nas-gracas-com-mobilia-fixa-e-split-556220253",
           "Apartamentos"
          ],
          [
           "3",
           "3",
           "90m²",
           "https://pe.olx.com.br/grande-recife/imoveis/edificio-morada-dos-manguinhos-519937081",
           "Apartamentos"
          ],
          [
           "1",
           "1",
           "",
           "https://pe.olx.com.br/grande-recife/imoveis/apartamento-749674244",
           "Apartamentos"
          ],
          [
           "2",
           "3",
           "75m²",
           "https://pe.olx.com.br/grande-recife/imoveis/rara-oportunidade-nas-gracas-com-2-garagens-757497288",
           "Apartamentos"
          ],
          [
           "2",
           "1",
           "75m²",
           "https://pe.olx.com.br/grande-recife/imoveis/apartamento-para-aluguel-2-quartos-1-vaga-gracas-recife-pe-737696409",
           "Apartamentos"
          ],
          [
           "1",
           "1",
           "33m²",
           "https://pe.olx.com.br/grande-recife/imoveis/alugo-flat-nas-gracas-com-33-m-todo-mobiliado-750061620",
           "Apartamentos"
          ],
          [
           "2",
           "1",
           "100m²",
           "https://pe.olx.com.br/grande-recife/imoveis/edificio-rainha-santa-izabel-753947496",
           "Apartamentos"
          ],
          [
           "1",
           "1",
           "32m²",
           "https://pe.olx.com.br/grande-recife/imoveis/alugo-apartamento-mobiliado-com-otima-localizacao-no-bairro-das-gracas-754611640",
           "Apartamentos"
          ],
          [
           "1",
           "1",
           "45m²",
           "https://pe.olx.com.br/grande-recife/imoveis/apartamento-para-aluguel-1-quarto-1-vaga-gracas-recife-pe-756259986",
           "Apartamentos"
          ],
          [
           "1",
           "1",
           "0m²",
           "https://pe.olx.com.br/grande-recife/imoveis/apartamento-edf-colorado-rua-do-futuro-180-quarto-e-sala-aluga-se-752226398",
           "Apartamentos"
          ],
          [
           "1",
           "1",
           "40m²",
           "https://pe.olx.com.br/grande-recife/imoveis/loft-para-alugar-com-1-dormitorios-em-gracas-recife-cod-imo000144-716541633",
           "Apartamentos"
          ],
          [
           "3",
           "2",
           "90m²",
           "https://pe.olx.com.br/grande-recife/imoveis/apartamento-para-alugar-com-3-dormitorios-em-gracas-recife-cod-ap0404-602845369",
           "Apartamentos"
          ],
          [
           "1",
           "1",
           "50m²",
           "https://pe.olx.com.br/grande-recife/imoveis/flat-sem-mobilia-top-752976297",
           "Apartamentos"
          ],
          [
           "2",
           "2",
           "90m²",
           "https://pe.olx.com.br/grande-recife/imoveis/apartamento-2-quartos-nas-gracas-726910108",
           "Apartamentos"
          ],
          [
           "2",
           "3",
           "74m²",
           "https://pe.olx.com.br/grande-recife/imoveis/lindo-ap-localizacao-privilegiada-no-rosarinho-746040550",
           "Apartamentos"
          ],
          [
           "2",
           "2",
           "92m²",
           "https://pe.olx.com.br/grande-recife/imoveis/apt-excelente-al-1200-00-area-proximo-colegios-farmacias-padaria-local-privilegiado-706293627",
           "Apartamentos"
          ]
         ],
         "hoverlabel": {
          "namelength": 0
         },
         "hovertemplate": "<b>%{hovertext}</b><br><br>price=%{marker.size}<br>bedrooms=%{customdata[0]}<br>bathrooms=%{customdata[1]}<br>area=%{customdata[2]}<br>url=%{customdata[3]}<br>type=%{customdata[4]}<br>latitude=%{lat}<br>longitude=%{lon}",
         "hovertext": [
          "R$ 1.500",
          "R$ 900",
          "R$ 500",
          "R$ 750",
          "R$ 900",
          "R$ 700",
          "R$ 600",
          "R$ 1.000",
          "R$ 1.100",
          "R$ 1.500",
          "R$ 1.400",
          "R$ 999",
          "R$ 1.499",
          "R$ 700",
          "R$ 1.100",
          "R$ 1.200",
          "R$ 750",
          "R$ 900",
          "R$ 620",
          "R$ 1.100",
          "R$ 1.300",
          "R$ 1.000",
          "R$ 800",
          "R$ 750",
          "R$ 800",
          "R$ 1.100",
          "R$ 1.160",
          "R$ 1.000",
          "R$ 800",
          "R$ 1.500",
          "R$ 1.350",
          "R$ 1.450",
          "R$ 1.500",
          "R$ 1.500",
          "R$ 1.200",
          "R$ 600",
          "R$ 400",
          "R$ 1.500",
          "R$ 1.000",
          "R$ 1.200",
          "R$ 1.300",
          "R$ 1.100",
          "R$ 1.300",
          "R$ 700",
          "R$ 1.000",
          "R$ 700",
          "R$ 1.500",
          "R$ 1.100",
          "R$ 1.500",
          "R$ 1.100",
          "R$ 1.100",
          "R$ 1.500",
          "R$ 1.500",
          "R$ 1.500",
          "R$ 1.500",
          "R$ 1.500",
          "R$ 1.500",
          "R$ 1.100",
          "R$ 1.500",
          "R$ 1.500",
          "R$ 1.100",
          "R$ 650",
          "R$ 1.200",
          "R$ 1.000",
          "R$ 1.500",
          "R$ 1.500",
          "R$ 1.000",
          "R$ 1.200",
          "R$ 700",
          "R$ 900",
          "R$ 1.100",
          "R$ 1.500",
          "R$ 1.100",
          "R$ 1.500",
          "R$ 1.500",
          "R$ 950",
          "R$ 650",
          "R$ 680",
          "R$ 799",
          "R$ 750",
          "R$ 1.200",
          "R$ 800",
          "R$ 1.500",
          "R$ 950",
          "R$ 600",
          "R$ 1.200",
          "R$ 700",
          "R$ 1.400",
          "R$ 750",
          "R$ 1.200",
          "R$ 500",
          "R$ 500",
          "R$ 1.500",
          "R$ 1.400",
          "R$ 1.400",
          "R$ 1.500",
          "R$ 1.450",
          "R$ 1.499",
          "R$ 1.500",
          "R$ 1.500",
          "R$ 1.499",
          "R$ 1.499",
          "R$ 1.500",
          "R$ 1.499",
          "R$ 1.500",
          "R$ 1.399",
          "R$ 1.400",
          "R$ 1.200",
          "R$ 1.200",
          "R$ 1.000",
          "R$ 1.200",
          "R$ 1.100",
          "R$ 980",
          "R$ 1.000",
          "R$ 970",
          "R$ 1.400",
          "R$ 1.500",
          "R$ 1.400",
          "R$ 1.350",
          "R$ 550",
          "R$ 1.300",
          "R$ 1.300",
          "R$ 900",
          "R$ 950",
          "R$ 1.400",
          "R$ 1.200",
          "R$ 1.000",
          "R$ 990",
          "R$ 800",
          "R$ 1.290",
          "R$ 1.500",
          "R$ 1.500",
          "R$ 950",
          "R$ 950",
          "R$ 900",
          "R$ 1.500",
          "R$ 1.000",
          "R$ 1.200",
          "R$ 1.000",
          "R$ 900",
          "R$ 1.200",
          "R$ 800",
          "R$ 1.400",
          "R$ 750",
          "R$ 1.200",
          "R$ 1.000",
          "R$ 1.000",
          "R$ 999",
          "R$ 450",
          "R$ 600",
          "R$ 600",
          "R$ 700",
          "R$ 1.300",
          "R$ 1.200",
          "R$ 1.000",
          "R$ 1.500",
          "R$ 1.400",
          "R$ 1.150",
          "R$ 850",
          "R$ 1.250",
          "R$ 1.400",
          "R$ 1.350",
          "R$ 800",
          "R$ 1.500",
          "R$ 1.200",
          "R$ 1.400",
          "R$ 900",
          "R$ 600",
          "R$ 500",
          "R$ 600",
          "R$ 500",
          "R$ 600",
          "R$ 550",
          "R$ 550",
          "R$ 600",
          "R$ 750",
          "R$ 1.400",
          "R$ 1.200",
          "R$ 1.400",
          "R$ 1.450",
          "R$ 1.250",
          "R$ 1.400",
          "R$ 1.400",
          "R$ 1.300",
          "R$ 1.200",
          "R$ 1.500",
          "R$ 1.500",
          "R$ 1.500",
          "R$ 1.500",
          "R$ 1.500",
          "R$ 1.200",
          "R$ 1.500",
          "R$ 1.250",
          "R$ 1.400",
          "R$ 1.350",
          "R$ 1.000",
          "R$ 1.450",
          "R$ 1.500",
          "R$ 1.500",
          "R$ 1.200",
          "R$ 1.300",
          "R$ 1.500",
          "R$ 900",
          "R$ 1.350",
          "R$ 1.100",
          "R$ 1.400",
          "R$ 1.300",
          "R$ 1.200",
          "R$ 1.500",
          "R$ 1.500",
          "R$ 1.250",
          "R$ 1.500",
          "R$ 1.050",
          "R$ 700",
          "R$ 1.400",
          "R$ 1.400",
          "R$ 1.400",
          "R$ 1.400",
          "R$ 1.430",
          "R$ 1.450",
          "R$ 1.440",
          "R$ 1.450",
          "R$ 1.400",
          "R$ 1.500",
          "R$ 1.000",
          "R$ 1.100",
          "R$ 1.500",
          "R$ 1.500",
          "R$ 1.500",
          "R$ 1.500",
          "R$ 1.500",
          "R$ 1.400",
          "R$ 1.500",
          "R$ 1.445",
          "R$ 1.500",
          "R$ 1.430",
          "R$ 1.500",
          "R$ 1.500",
          "R$ 1.000",
          "R$ 1.499",
          "R$ 1.500",
          "R$ 1.400",
          "R$ 1.000",
          "R$ 1.500",
          "R$ 1.500",
          "R$ 1.400",
          "R$ 1.500",
          "R$ 1.500",
          "R$ 1.000",
          "R$ 1.340",
          "R$ 1.500",
          "R$ 1.400",
          "R$ 1.500",
          "R$ 1.100",
          "R$ 1.500",
          "R$ 1.400",
          "R$ 1.500",
          "R$ 1.500",
          "R$ 1.500",
          "R$ 1.500",
          "R$ 1.400",
          "R$ 1.350",
          "R$ 1.500",
          "R$ 1.400",
          "R$ 1.400",
          "R$ 1.500",
          "R$ 1.300",
          "R$ 1.300",
          "R$ 1.500",
          "R$ 1.500",
          "R$ 1.150",
          "R$ 1.290",
          "R$ 1.500",
          "R$ 1.500",
          "R$ 1.500",
          "R$ 1.500",
          "R$ 1.500",
          "R$ 1.500",
          "R$ 1.500",
          "R$ 200",
          "R$ 800",
          "R$ 1.400",
          "R$ 800",
          "R$ 1.400",
          "R$ 1.500",
          "R$ 1.100",
          "R$ 1.300",
          "R$ 1.400",
          "R$ 1.400",
          "R$ 800",
          "R$ 1.400",
          "R$ 1.470",
          "R$ 1.500",
          "R$ 1.400",
          "R$ 1.300",
          "R$ 1.500",
          "R$ 1.500",
          "R$ 1.410",
          "R$ 1.430",
          "R$ 1.500",
          "R$ 1.500",
          "R$ 800",
          "R$ 1.350",
          "R$ 1.450",
          "R$ 1.200",
          "R$ 1.200",
          "R$ 850",
          "R$ 650",
          "R$ 1.470",
          "R$ 1.300",
          "R$ 1.000",
          "R$ 874",
          "R$ 877",
          "R$ 1.400",
          "R$ 1.000",
          "R$ 920",
          "R$ 1.050",
          "R$ 1.500",
          "R$ 1.500",
          "R$ 1.300",
          "R$ 1.200",
          "R$ 1.200",
          "R$ 1.100",
          "R$ 1.250",
          "R$ 1.500",
          "R$ 500",
          "R$ 1.500",
          "R$ 1.200",
          "R$ 1.450",
          "R$ 1.300",
          "R$ 1.500",
          "R$ 1.500",
          "R$ 1.450",
          "R$ 800",
          "R$ 800",
          "R$ 1.500",
          "R$ 1.500",
          "R$ 1.500",
          "R$ 1.500",
          "R$ 1.400",
          "R$ 1.300",
          "R$ 1.250",
          "R$ 1.350",
          "R$ 1.350",
          "R$ 1.350",
          "R$ 1.350",
          "R$ 350",
          "R$ 1.500",
          "R$ 1.200",
          "R$ 1.200",
          "R$ 1.500",
          "R$ 1.500",
          "R$ 1.500",
          "R$ 1.500",
          "R$ 1.000",
          "R$ 1.200",
          "R$ 1.300",
          "R$ 1.499",
          "R$ 1.500",
          "R$ 1.469",
          "R$ 1.200",
          "R$ 1.500",
          "R$ 1.100",
          "R$ 1.470",
          "R$ 550",
          "R$ 1.500",
          "R$ 1.000",
          "R$ 1.499",
          "R$ 1.499",
          "R$ 1.400",
          "R$ 1.500",
          "R$ 650",
          "R$ 550",
          "R$ 1.500",
          "R$ 1.500",
          "R$ 1.399",
          "R$ 1.500",
          "R$ 1.500",
          "R$ 1.399",
          "R$ 1.350",
          "R$ 465",
          "R$ 1.500",
          "R$ 900",
          "R$ 1.100",
          "R$ 1.500",
          "R$ 1.400",
          "R$ 1.300",
          "R$ 1.310",
          "R$ 1.400",
          "R$ 1.500",
          "R$ 1.300",
          "R$ 650",
          "R$ 1.100",
          "R$ 1.500",
          "R$ 1.251",
          "R$ 1.335",
          "R$ 916",
          "R$ 1.400",
          "R$ 1.114",
          "R$ 1.190",
          "R$ 1.152",
          "R$ 1.180",
          "R$ 1.200",
          "R$ 1.300",
          "R$ 1.180",
          "R$ 1.400",
          "R$ 700",
          "R$ 1.500",
          "R$ 1.350",
          "R$ 1.400",
          "R$ 1.500",
          "R$ 1.300",
          "R$ 1.400",
          "R$ 1.500",
          "R$ 1.500",
          "R$ 1.500",
          "R$ 1.400",
          "R$ 1.450",
          "R$ 1.400",
          "R$ 1.500",
          "R$ 1.400",
          "R$ 1.500",
          "R$ 1.400",
          "R$ 1.050",
          "R$ 1.400",
          "R$ 1.400",
          "R$ 1.500",
          "R$ 1.150",
          "R$ 1.500",
          "R$ 1.400",
          "R$ 1.400",
          "R$ 1.300",
          "R$ 1.500",
          "R$ 110",
          "R$ 1.400",
          "R$ 1.500",
          "R$ 690",
          "R$ 1.300",
          "R$ 1.300",
          "R$ 1.500",
          "R$ 1.500",
          "R$ 1.500",
          "R$ 1.500",
          "R$ 400",
          "R$ 485",
          "R$ 950",
          "R$ 850",
          "R$ 1.000",
          "R$ 800",
          "R$ 1.500",
          "R$ 1.300",
          "R$ 1.400",
          "R$ 1.300",
          "R$ 800",
          "R$ 1.300",
          "R$ 1.500",
          "R$ 1.470",
          "R$ 1.000",
          "R$ 1.470",
          "R$ 1.020",
          "R$ 1.470",
          "R$ 1.470",
          "R$ 1.000",
          "R$ 1.470",
          "R$ 1.499",
          "R$ 1.000",
          "R$ 750",
          "R$ 1.500",
          "R$ 1.000",
          "R$ 1.399",
          "R$ 1.470",
          "R$ 1.000",
          "R$ 1.500",
          "R$ 1.000",
          "R$ 1.100",
          "R$ 900",
          "R$ 1.400",
          "R$ 999",
          "R$ 1.470",
          "R$ 1.000",
          "R$ 999",
          "R$ 1.500",
          "R$ 1.499",
          "R$ 1.470",
          "R$ 1.000",
          "R$ 1.469",
          "R$ 1.470",
          "R$ 1.470",
          "R$ 1.400",
          "R$ 1.000",
          "R$ 1.499",
          "R$ 1.400",
          "R$ 1.400",
          "R$ 1.100",
          "R$ 999",
          "R$ 1.499",
          "R$ 1.500",
          "R$ 1.200",
          "R$ 500",
          "R$ 1.500",
          "R$ 1.300",
          "R$ 900",
          "R$ 1.000",
          "R$ 1.300",
          "R$ 1.500",
          "R$ 1.400",
          "R$ 1.500",
          "R$ 1.350",
          "R$ 1.500",
          "R$ 1.400",
          "R$ 1.500",
          "R$ 1.300",
          "R$ 1.200",
          "R$ 1.400",
          "R$ 1.150",
          "R$ 1.500",
          "R$ 1.400",
          "R$ 1.500",
          "R$ 900",
          "R$ 1.200",
          "R$ 1.500",
          "R$ 1.500",
          "R$ 1.390",
          "R$ 1.200",
          "R$ 1.500",
          "R$ 1.400",
          "R$ 1.350",
          "R$ 1.500",
          "R$ 1.300",
          "R$ 1.500",
          "R$ 1.100",
          "R$ 1.400",
          "R$ 800",
          "R$ 1.460",
          "R$ 1.450",
          "R$ 1.300",
          "R$ 1.200",
          "R$ 790",
          "R$ 1.400",
          "R$ 1.250",
          "R$ 799",
          "R$ 0",
          "R$ 1.100",
          "R$ 1.100",
          "R$ 750",
          "R$ 1.100",
          "R$ 1.100",
          "R$ 1.400",
          "R$ 1.100",
          "R$ 1.100",
          "R$ 1.000",
          "R$ 1.000",
          "R$ 1.500",
          "R$ 1.200",
          "R$ 950",
          "R$ 1.200",
          "R$ 1.100",
          "R$ 1.200",
          "R$ 1.300",
          "R$ 1.300",
          "R$ 900",
          "R$ 1.450",
          "R$ 1.100",
          "R$ 500",
          "R$ 1.300",
          "R$ 990",
          "R$ 680",
          "R$ 1.300",
          "R$ 1.250",
          "R$ 1.500",
          "R$ 1.000",
          "R$ 1.100",
          "R$ 900",
          "R$ 1.500",
          "R$ 1.500",
          "R$ 1.300",
          "R$ 1.500",
          "R$ 1.400",
          "R$ 1.500",
          "R$ 1.500",
          "R$ 1.400",
          "R$ 1.000",
          "R$ 1.000",
          "R$ 1.500",
          "R$ 170",
          "R$ 830",
          "R$ 900",
          "R$ 1.499",
          "R$ 1.450",
          "R$ 550",
          "R$ 550",
          "R$ 700",
          "R$ 650",
          "R$ 1.100",
          "R$ 700",
          "R$ 1.300",
          "R$ 1.100",
          "R$ 1.300",
          "R$ 600",
          "R$ 1.390",
          "R$ 1.390",
          "R$ 1.390",
          "R$ 1.390",
          "R$ 1.390",
          "R$ 1.390",
          "R$ 1.500",
          "R$ 1.150",
          "R$ 1.500",
          "R$ 1.500",
          "R$ 1.000",
          "R$ 1.400",
          "R$ 1.500",
          "R$ 650",
          "R$ 1.100",
          "R$ 1.100",
          "R$ 1.250",
          "R$ 1.250",
          "R$ 1.500",
          "R$ 1.500",
          "R$ 850",
          "R$ 1.290",
          "R$ 1.400",
          "R$ 1.500",
          "R$ 1.200",
          "R$ 1.200",
          "R$ 1.400",
          "R$ 950",
          "R$ 1.200",
          "R$ 1.200",
          "R$ 1.500",
          "R$ 1.500",
          "R$ 1.500",
          "R$ 1.500",
          "R$ 1.400",
          "R$ 1.400",
          "R$ 1.400",
          "R$ 900",
          "R$ 500",
          "R$ 1.470",
          "R$ 500",
          "R$ 450",
          "R$ 1.000",
          "R$ 830",
          "R$ 600",
          "R$ 800",
          "R$ 600",
          "R$ 580",
          "R$ 1.400",
          "R$ 1.400",
          "R$ 1.470",
          "R$ 1.450",
          "R$ 1.450",
          "R$ 1.400",
          "R$ 1.500",
          "R$ 1.400",
          "R$ 1.400",
          "R$ 1.450",
          "R$ 1.470",
          "R$ 1.450",
          "R$ 1.450",
          "R$ 1.400",
          "R$ 750",
          "R$ 600",
          "R$ 950",
          "R$ 1.450",
          "R$ 1.450",
          "R$ 750",
          "R$ 1.300",
          "R$ 1.300",
          "R$ 1.300",
          "R$ 1.200",
          "R$ 1.200",
          "R$ 1.200",
          "R$ 1.200",
          "R$ 850",
          "R$ 1.400",
          "R$ 1.100",
          "R$ 1.450",
          "R$ 1.000",
          "R$ 750",
          "R$ 1.000",
          "R$ 1.150",
          "R$ 1.200",
          "R$ 350",
          "R$ 1.000",
          "R$ 1.150",
          "R$ 380",
          "R$ 400",
          "R$ 450",
          "R$ 350",
          "R$ 400",
          "R$ 650",
          "R$ 550",
          "R$ 1.000",
          "R$ 900",
          "R$ 1.000",
          "R$ 1.000",
          "R$ 500",
          "R$ 1.050",
          "R$ 600",
          "R$ 550",
          "R$ 600",
          "R$ 600",
          "R$ 900",
          "R$ 500",
          "R$ 800",
          "R$ 500",
          "R$ 750",
          "R$ 800",
          "R$ 800",
          "R$ 1.200",
          "R$ 1.300",
          "R$ 1.000",
          "R$ 1.400",
          "R$ 600",
          "R$ 700",
          "R$ 1.300",
          "R$ 650",
          "R$ 550",
          "R$ 600",
          "R$ 700",
          "R$ 500",
          "R$ 500",
          "R$ 800",
          "R$ 1.250",
          "R$ 900",
          "R$ 1.300",
          "R$ 1.500",
          "R$ 800",
          "R$ 800",
          "R$ 1.400",
          "R$ 1.500",
          "R$ 1.350",
          "R$ 1.100",
          "R$ 1.030",
          "R$ 750",
          "R$ 1.300",
          "R$ 1.450",
          "R$ 1.350",
          "R$ 900",
          "R$ 1.320",
          "R$ 1.000",
          "R$ 950",
          "R$ 950",
          "R$ 1.500",
          "R$ 1.450",
          "R$ 1.400",
          "R$ 1.200",
          "R$ 1.200"
         ],
         "lat": [
          null,
          -8.0679918,
          -8.0035998,
          -8.0035998,
          -8.0035998,
          -8.0035998,
          -8.06251015,
          -8.0679102,
          -8.0679102,
          null,
          -7.8408996,
          null,
          null,
          -8.0611011,
          -8.0611011,
          -8.0611011,
          -8.0611011,
          null,
          null,
          -8.0609285,
          -8.0609285,
          -8.0573689,
          -8.060816,
          -8.060816,
          -8.060816,
          -8.059567,
          -8.05295255,
          null,
          -8.0550557,
          -8.052180400000001,
          -8.052180400000001,
          -8.052180400000001,
          -8.052180400000001,
          -8.052180400000001,
          -8.0338998,
          -8.0338998,
          -8.0492846,
          -8.0547944,
          -8.059757,
          -7.84376,
          -7.84376,
          -8.06099825,
          -8.060784550000001,
          -8.0559843,
          -8.0559843,
          -8.0559843,
          -8.0559843,
          -8.0559843,
          -8.0559843,
          -8.0559843,
          -8.0559843,
          -8.0559843,
          -8.0559843,
          -8.0559843,
          -8.0559843,
          -8.0559843,
          -8.0559843,
          -8.0559843,
          -8.0559843,
          -8.0559843,
          -8.0559843,
          -8.0559843,
          -8.0559843,
          -8.0559843,
          null,
          null,
          null,
          -8.0639329,
          -8.0609285,
          -8.0609285,
          -8.060816,
          -8.060816,
          -8.060816,
          -8.060816,
          -8.060816,
          -8.0597007,
          -8.0597007,
          -8.06116595,
          -8.06116595,
          -8.06116595,
          -2.5719027,
          -2.5719027,
          -2.5719027,
          -5.2588272,
          -8.06861825,
          -8.0217311,
          -8.0217311,
          -8.0217311,
          -8.0217311,
          -8.0217311,
          -8.059917,
          -8.059917,
          null,
          null,
          null,
          null,
          null,
          null,
          null,
          null,
          null,
          null,
          null,
          null,
          null,
          null,
          null,
          null,
          null,
          null,
          null,
          null,
          null,
          null,
          null,
          -8.0565708,
          -8.0551501,
          -8.0551501,
          -8.0551501,
          -8.0551501,
          -8.0551501,
          -8.0551501,
          -8.0551501,
          -8.0629351,
          -8.0629351,
          -8.0629351,
          -8.0629351,
          -8.0629351,
          -8.0629351,
          -8.0629351,
          null,
          -8.059570149999999,
          -22.8503511,
          -22.8503511,
          -7.9930245,
          -7.9930245,
          -8.0569657,
          -10.8978545,
          -8.0606075,
          -8.0606075,
          -8.0606075,
          null,
          null,
          -22.9054927,
          null,
          -8.0669129,
          -8.0217311,
          -8.0768412,
          -8.0768412,
          null,
          -23.7190827,
          -8.0904384,
          -8.0904384,
          -8.0904384,
          -8.0904384,
          -8.0904384,
          -8.0904384,
          -8.0939317,
          -8.0939317,
          null,
          -8.1033055,
          -8.1033055,
          -8.1033055,
          -8.1033055,
          -8.1033055,
          -8.1033055,
          -8.0955615,
          -8.0969344,
          -8.0969344,
          -8.0902486,
          -22.8875979,
          -5.0738577,
          -22.7720045,
          -6.8668475,
          -12.9675542,
          null,
          -8.0904384,
          -8.0904384,
          -8.0904384,
          -8.0904384,
          -8.0904384,
          -8.0904384,
          -8.0904384,
          -8.0904384,
          -8.12161905,
          -8.12161905,
          -8.12161905,
          -8.12161905,
          -8.12161905,
          -8.12161905,
          -19.8235447,
          -19.8235447,
          -19.8235447,
          -8.1033055,
          -8.1033055,
          -8.1033055,
          -8.1033055,
          -8.1033055,
          -8.1033055,
          -8.1033055,
          -8.1033055,
          -8.1033055,
          -8.1289251,
          -8.1289251,
          -8.1289251,
          -8.1289251,
          -8.1289251,
          -8.1289251,
          -8.1289251,
          -8.1289251,
          -8.1289251,
          -8.1289251,
          -8.1289251,
          -8.1104721,
          -8.1104721,
          -8.1104721,
          -8.1104721,
          -8.1104721,
          -8.1104721,
          -8.1104721,
          -8.1104721,
          -8.1104721,
          -8.1148722,
          -8.1148722,
          -8.1148722,
          -8.1148722,
          -8.1105394,
          -8.1105394,
          -8.1105394,
          -8.1105394,
          -8.1105394,
          -8.1105394,
          -8.1105394,
          -8.1105394,
          -8.1105394,
          -8.1105394,
          -8.1105394,
          null,
          null,
          null,
          -8.1112125,
          -8.1112125,
          -8.1112125,
          -8.1104817,
          -8.1104817,
          -8.1104817,
          -8.1104817,
          -22.9990311,
          -22.9990311,
          -22.9990311,
          -22.9990311,
          -22.9990311,
          -22.9990311,
          -22.9990311,
          -22.9990311,
          -22.9990311,
          -22.9990311,
          -22.9990311,
          -22.9990311,
          -22.9990311,
          -22.9990311,
          -22.9990311,
          -22.9990311,
          -22.9990311,
          -22.9990311,
          -22.9990311,
          -22.9990311,
          -22.9990311,
          -8.1091823,
          -8.1091823,
          -8.1094423,
          -8.1091835,
          -8.1091835,
          -8.1082283,
          -8.1082283,
          -8.1082283,
          -8.1082283,
          -8.1115077,
          -8.1115077,
          -8.1115077,
          -8.1115077,
          -8.1115077,
          -8.1115077,
          -8.113766,
          -8.113766,
          -8.113766,
          -8.113766,
          -8.1123462,
          -8.1123462,
          -8.1123462,
          -8.1123462,
          -8.1123462,
          -8.1123462,
          -8.1123462,
          -8.1123462,
          -8.1141127,
          -8.1141127,
          -8.1141127,
          -8.1141127,
          -8.1141127,
          -8.1141127,
          -23.3801802,
          -23.3801802,
          -23.3801802,
          -22.4319035,
          -22.4319035,
          -8.1136615,
          -8.1128662,
          -8.1128662,
          -8.1128662,
          -8.1128662,
          -8.1128662,
          -8.1128662,
          -8.1128662,
          -8.1128662,
          -8.1128662,
          -8.1128662,
          -22.9028723,
          -22.9028723,
          -8.1173984,
          -8.1173984,
          -8.1173984,
          -8.1173984,
          -8.1173984,
          -8.1176499,
          -8.1176499,
          -8.1176499,
          -8.1176499,
          -8.1185415,
          -8.1185415,
          -8.1185415,
          -8.1185415,
          -8.1185415,
          -8.1185415,
          -8.1185415,
          -8.1193263,
          -8.1207913,
          -8.1207913,
          -8.1207913,
          -16.1279314,
          -16.1279314,
          -16.1279314,
          -16.1279314,
          -16.1279314,
          -16.1279314,
          -16.1279314,
          -8.1184135,
          null,
          -8.1210573,
          -8.1210573,
          -8.1210573,
          -8.1210573,
          null,
          -8.0904384,
          -8.0904384,
          -8.1033055,
          -8.1033055,
          -8.1033055,
          -8.1033055,
          -8.1033055,
          -8.1033055,
          -8.1033055,
          null,
          -8.1289251,
          -8.1289251,
          null,
          -8.1210573,
          -8.1210573,
          -8.1210573,
          -8.1242169,
          -8.1242169,
          -8.1229545,
          -8.1219739,
          -8.1220145,
          null,
          -8.1245346,
          -8.1241955,
          -8.1241955,
          -8.1241955,
          -8.1241955,
          -8.1241955,
          -8.1241955,
          -8.1241955,
          -8.1241955,
          -8.1270134,
          -8.1270134,
          -8.1270134,
          -8.1270868,
          -8.1270868,
          -8.1270868,
          -8.1270868,
          -8.0156825,
          -8.1227546,
          -8.1227546,
          -8.1228893,
          -8.1228893,
          -8.1228893,
          -8.1228893,
          -8.1228893,
          -8.1228893,
          -8.1228893,
          -8.1228893,
          -11.6583426,
          -11.6583426,
          -11.6583426,
          -8.1277214,
          -8.1277214,
          -8.1213716,
          -7.7528776,
          -8.1220834,
          -8.1220834,
          -8.1220834,
          -8.1233384,
          -8.1233384,
          -8.1233384,
          -8.1233384,
          -8.1233384,
          -8.1233384,
          -8.1233384,
          -8.1233384,
          -8.1233384,
          -8.1233384,
          -8.1233384,
          -8.1233384,
          -8.1233384,
          -8.1233384,
          -8.1233384,
          -8.1233384,
          -8.1250569,
          -8.1250569,
          -8.1250569,
          -8.1253111,
          -8.1253111,
          -8.1253111,
          -7.3838379,
          -7.3838379,
          -7.3838379,
          -7.3838379,
          -7.3838379,
          -7.3838379,
          -7.3838379,
          -7.3838379,
          -7.3838379,
          -8.1277998,
          -8.1278844,
          -8.1278844,
          -8.1303408,
          -27.4622097,
          -22.9209416,
          -8.1299608,
          -8.1299608,
          -8.130518,
          -8.130518,
          -8.1299598,
          null,
          null,
          null,
          null,
          null,
          -8.1252465,
          -8.1132614,
          -8.1132614,
          -8.1132614,
          -8.1132614,
          null,
          null,
          null,
          null,
          null,
          null,
          null,
          null,
          null,
          null,
          null,
          null,
          null,
          null,
          null,
          null,
          null,
          null,
          null,
          null,
          null,
          null,
          null,
          null,
          null,
          null,
          null,
          null,
          null,
          null,
          -8.12432,
          null,
          null,
          -8.0904384,
          -8.0904384,
          -8.1424081,
          -8.1424081,
          -8.1424081,
          -22.924362,
          -8.1418167,
          -8.1418167,
          -8.1353493,
          -8.1353493,
          -8.1436087,
          -8.1436087,
          -8.1436087,
          null,
          -8.1410298,
          -8.1410298,
          -8.1410298,
          -8.1410298,
          -8.1410298,
          -8.1410298,
          -8.1410298,
          -8.1410298,
          -8.1410298,
          -8.1410298,
          -8.1410298,
          -8.1410298,
          -8.1410298,
          -8.1410298,
          -8.1410298,
          -8.1410298,
          -8.1410298,
          -8.1410298,
          -8.1410298,
          -8.1335747,
          -27.4513007,
          -22.8083966,
          -8.0831913,
          -8.1417469,
          null,
          -8.1277462,
          -8.1302798,
          -8.1326705,
          -8.1326705,
          -8.1326705,
          -8.1326705,
          -8.1326705,
          -8.1326705,
          -8.1326705,
          -8.1326705,
          -8.1326705,
          -8.1326705,
          -8.1326705,
          -8.1326705,
          -8.1411075,
          -8.1394814,
          -8.1389837,
          -8.1381789,
          -8.1364603,
          -8.1342705,
          -8.1339194,
          -8.1339194,
          -8.1339194,
          -8.1339194,
          -8.1339194,
          null,
          -8.1322868,
          -7.2780234,
          -7.2780234,
          -8.1344649,
          -13.8531691,
          -7.9798815,
          -7.9798815,
          -7.9798815,
          -7.9798815,
          -8.1378817,
          -8.1378817,
          -8.140285,
          -8.140285,
          -8.140285,
          -8.140285,
          -8.140285,
          -8.140285,
          -8.140285,
          -8.140285,
          -8.1269726,
          -8.1269726,
          -8.119006,
          -8.119006,
          -8.1317132,
          null,
          null,
          -8.1033055,
          -7.9972054,
          -7.9972054,
          -18.0288142,
          -18.0288142,
          -8.0853523,
          -8.0908689,
          null,
          null,
          -8.0870614,
          -22.9214825,
          -23.6000059,
          -23.6000059,
          -23.6000059,
          -23.6000059,
          -23.6000059,
          -23.6000059,
          -8.0904384,
          -8.1033055,
          -8.1033055,
          -8.1033055,
          -8.1033055,
          -8.1289251,
          -8.1081403,
          -19.8235447,
          -8.1043637,
          -8.1043637,
          -8.1086696,
          -8.1086696,
          -8.1082881,
          null,
          null,
          -8.0904384,
          -8.1411075,
          -8.1417469,
          -8.1417469,
          -8.1417469,
          -8.1375631,
          -8.1435233,
          -8.144461,
          -8.144461,
          -8.144461,
          -8.144461,
          -8.1398987,
          -8.1398987,
          -8.1398987,
          -8.1399129,
          null,
          null,
          null,
          -8.0831913,
          -8.0831913,
          -8.0861308,
          -13.0059337,
          -6.3470098,
          -6.3470098,
          -6.3470098,
          -6.3470098,
          -29.1646421,
          -8.0831913,
          -8.0831913,
          -8.0831913,
          -8.0831913,
          -8.0831913,
          -8.0831913,
          -8.0831913,
          -8.0831913,
          -8.0831913,
          -8.0831913,
          -8.0831913,
          -8.0831913,
          null,
          -27.0321931,
          -27.0321931,
          -8.110501,
          -8.110501,
          -8.1159385,
          -8.1159385,
          -22.8686674,
          -19.889541,
          -19.889541,
          -19.889541,
          -8.0937817,
          null,
          -8.0978854,
          -8.0958211,
          -8.0951801,
          -8.0918709,
          -8.0918709,
          -8.0906689,
          -7.0424389,
          -7.0424389,
          -7.0424389,
          -8.0929237,
          -8.0929237,
          -8.0929237,
          -8.0929237,
          -8.0977277,
          39.6365078,
          39.6365078,
          39.6365078,
          39.6365078,
          -8.1032829,
          -12.8061566,
          -29.5782131,
          -25.4544646,
          -26.9565609,
          -27.4490275,
          -27.4490275,
          -8.1146243,
          38.8459764,
          42.9128294,
          42.9128294,
          42.9128294,
          -23.5514271,
          -31.7347559,
          -16.7874685,
          -23.2251312,
          -22.721385,
          -8.1165234,
          -19.8248635,
          -8.1074672,
          -26.2233507,
          -26.2233507,
          -26.2233507,
          -8.0831913,
          -8.13382675,
          -8.13382675,
          -8.1077502,
          -8.1130256,
          -8.1072716,
          -6.1001975,
          -23.0952656,
          -27.4433526,
          -27.4433526,
          -27.3670726,
          -8.067035,
          null,
          -8.0537559,
          -9.384912,
          -5.8180093,
          -5.8180093,
          -5.8180093,
          null,
          -8.0471419,
          -8.0471419,
          -16.3400687,
          -22.9002958,
          -8.0471779,
          -23.2720707,
          -22.5335394,
          -8.0508005,
          -22.9282975,
          -22.9282975,
          -22.9282975,
          null,
          null,
          null,
          38.7285864,
          -27.4570502,
          -27.4570502
         ],
         "legendgroup": "",
         "lon": [
          null,
          -34.8749493,
          -34.846023,
          -34.846023,
          -34.846023,
          -34.846023,
          -34.87983005837441,
          -34.8800596,
          -34.8800596,
          null,
          -35.2554015,
          null,
          null,
          -34.881001,
          -34.881001,
          -34.881001,
          -34.881001,
          null,
          null,
          -34.8832635,
          -34.8832635,
          -34.8850721,
          -34.8840259,
          -34.8840259,
          -34.8840259,
          -34.8863998,
          -34.890210043089816,
          null,
          -34.8852947,
          -34.89240106514324,
          -34.89240106514324,
          -34.89240106514324,
          -34.89240106514324,
          -34.89240106514324,
          -34.869191,
          -34.869191,
          -34.8928355,
          -34.8928922,
          -34.8825793,
          -35.2561794,
          -35.2561794,
          -34.88138150567374,
          -34.881241836732485,
          -34.8944439,
          -34.8944439,
          -34.8944439,
          -34.8944439,
          -34.8944439,
          -34.8944439,
          -34.8944439,
          -34.8944439,
          -34.8944439,
          -34.8944439,
          -34.8944439,
          -34.8944439,
          -34.8944439,
          -34.8944439,
          -34.8944439,
          -34.8944439,
          -34.8944439,
          -34.8944439,
          -34.8944439,
          -34.8944439,
          -34.8944439,
          null,
          null,
          null,
          -34.8840686,
          -34.8832635,
          -34.8832635,
          -34.8840259,
          -34.8840259,
          -34.8840259,
          -34.8840259,
          -34.8840259,
          -34.88670786641525,
          -34.88670786641525,
          -34.88718281880922,
          -34.88718281880922,
          -34.88718281880922,
          -44.1616192,
          -44.1616192,
          -44.1616192,
          -44.0539976,
          -34.88965716008202,
          -34.8512741,
          -34.8512741,
          -34.8512741,
          -34.8512741,
          -34.8512741,
          -34.8880243,
          -34.8880243,
          null,
          null,
          null,
          null,
          null,
          null,
          null,
          null,
          null,
          null,
          null,
          null,
          null,
          null,
          null,
          null,
          null,
          null,
          null,
          null,
          null,
          null,
          null,
          -34.8899482,
          -34.8956937,
          -34.8956937,
          -34.8956937,
          -34.8956937,
          -34.8956937,
          -34.8956937,
          -34.8956937,
          -34.890089068428296,
          -34.890089068428296,
          -34.890089068428296,
          -34.890089068428296,
          -34.890089068428296,
          -34.890089068428296,
          -34.890089068428296,
          null,
          -34.89119057572735,
          -43.5392001,
          -43.5392001,
          -34.8427963,
          -34.8427963,
          -34.8950736,
          -37.0696045,
          -34.8924318,
          -34.8924318,
          -34.8924318,
          null,
          null,
          -43.2875421,
          null,
          -34.8925804,
          -34.8512741,
          -34.8927943,
          -34.8927943,
          null,
          -46.6241942,
          -34.8817926,
          -34.8817926,
          -34.8817926,
          -34.8817926,
          -34.8817926,
          -34.8817926,
          -34.8836477,
          -34.8836477,
          null,
          -34.8877783,
          -34.8877783,
          -34.8877783,
          -34.8877783,
          -34.8877783,
          -34.8877783,
          -34.8865036,
          -34.8876549,
          -34.8876549,
          -34.8860563,
          -43.4312045,
          -47.8069121,
          -43.3196459,
          -39.6135121,
          -38.4821717,
          null,
          -34.8817926,
          -34.8817926,
          -34.8817926,
          -34.8817926,
          -34.8817926,
          -34.8817926,
          -34.8817926,
          -34.8817926,
          -34.89713349074167,
          -34.89713349074167,
          -34.89713349074167,
          -34.89713349074167,
          -34.89713349074167,
          -34.89713349074167,
          -44.0039238,
          -44.0039238,
          -44.0039238,
          -34.8877783,
          -34.8877783,
          -34.8877783,
          -34.8877783,
          -34.8877783,
          -34.8877783,
          -34.8877783,
          -34.8877783,
          -34.8877783,
          -34.9019489,
          -34.9019489,
          -34.9019489,
          -34.9019489,
          -34.9019489,
          -34.9019489,
          -34.9019489,
          -34.9019489,
          -34.9019489,
          -34.9019489,
          -34.9019489,
          -34.893872,
          -34.893872,
          -34.893872,
          -34.893872,
          -34.893872,
          -34.893872,
          -34.893872,
          -34.893872,
          -34.893872,
          -34.8963378,
          -34.8963378,
          -34.8963378,
          -34.8963378,
          -34.8946475,
          -34.8946475,
          -34.8946475,
          -34.8946475,
          -34.8946475,
          -34.8946475,
          -34.8946475,
          -34.8946475,
          -34.8946475,
          -34.8946475,
          -34.8946475,
          null,
          null,
          null,
          -34.8959199,
          -34.8959199,
          -34.8959199,
          -34.89647,
          -34.89647,
          -34.89647,
          -34.89647,
          -43.3247387,
          -43.3247387,
          -43.3247387,
          -43.3247387,
          -43.3247387,
          -43.3247387,
          -43.3247387,
          -43.3247387,
          -43.3247387,
          -43.3247387,
          -43.3247387,
          -43.3247387,
          -43.3247387,
          -43.3247387,
          -43.3247387,
          -43.3247387,
          -43.3247387,
          -43.3247387,
          -43.3247387,
          -43.3247387,
          -43.3247387,
          -34.8979525,
          -34.8979525,
          -34.8940046,
          -34.8930803,
          -34.8930803,
          -34.897049,
          -34.897049,
          -34.897049,
          -34.897049,
          -34.895318,
          -34.895318,
          -34.895318,
          -34.895318,
          -34.895318,
          -34.895318,
          -34.8931155,
          -34.8931155,
          -34.8931155,
          -34.8931155,
          -34.8958106,
          -34.8958106,
          -34.8958106,
          -34.8958106,
          -34.8958106,
          -34.8958106,
          -34.8958106,
          -34.8958106,
          -34.8944137,
          -34.8944137,
          -34.8944137,
          -34.8944137,
          -34.8944137,
          -34.8944137,
          -46.4509557,
          -46.4509557,
          -46.4509557,
          -46.9629959,
          -46.9629959,
          -34.897403,
          -34.9011461,
          -34.9011461,
          -34.9011461,
          -34.9011461,
          -34.9011461,
          -34.9011461,
          -34.9011461,
          -34.9011461,
          -34.9011461,
          -34.9011461,
          -43.3584645,
          -43.3584645,
          -34.8964334,
          -34.8964334,
          -34.8964334,
          -34.8964334,
          -34.8964334,
          -34.898213,
          -34.898213,
          -34.898213,
          -34.898213,
          -34.8987254,
          -34.8987254,
          -34.8987254,
          -34.8987254,
          -34.8987254,
          -34.8987254,
          -34.8987254,
          -34.8990466,
          -34.8973163,
          -34.8973163,
          -34.8973163,
          -45.7447743,
          -45.7447743,
          -45.7447743,
          -45.7447743,
          -45.7447743,
          -45.7447743,
          -45.7447743,
          -34.9075881,
          null,
          -34.9013761,
          -34.9013761,
          -34.9013761,
          -34.9013761,
          null,
          -34.8817926,
          -34.8817926,
          -34.8877783,
          -34.8877783,
          -34.8877783,
          -34.8877783,
          -34.8877783,
          -34.8877783,
          -34.8877783,
          null,
          -34.9019489,
          -34.9019489,
          null,
          -34.9013761,
          -34.9013761,
          -34.9013761,
          -34.9028404,
          -34.9028404,
          -34.9045403,
          -34.9052324,
          -34.9058349,
          null,
          -34.9063288,
          -34.9070975,
          -34.9070975,
          -34.9070975,
          -34.9070975,
          -34.9070975,
          -34.9070975,
          -34.9070975,
          -34.9070975,
          -34.9074451,
          -34.9074451,
          -34.9074451,
          -34.9079663,
          -34.9079663,
          -34.9079663,
          -34.9079663,
          -34.8754777,
          -34.9006999,
          -34.9006999,
          -34.8995471,
          -34.8995471,
          -34.8995471,
          -34.8995471,
          -34.8995471,
          -34.8995471,
          -34.8995471,
          -34.8995471,
          -38.997632,
          -38.997632,
          -38.997632,
          -34.908477,
          -34.908477,
          -34.9011717,
          -34.8268332,
          -34.9071787,
          -34.9071787,
          -34.9071787,
          -34.901349,
          -34.901349,
          -34.901349,
          -34.901349,
          -34.901349,
          -34.901349,
          -34.901349,
          -34.901349,
          -34.901349,
          -34.901349,
          -34.901349,
          -34.901349,
          -34.901349,
          -34.901349,
          -34.901349,
          -34.901349,
          -34.8982175,
          -34.8982175,
          -34.8982175,
          -34.9014303,
          -34.9014303,
          -34.9014303,
          -35.2474371,
          -35.2474371,
          -35.2474371,
          -35.2474371,
          -35.2474371,
          -35.2474371,
          -35.2474371,
          -35.2474371,
          -35.2474371,
          -34.9046509,
          -34.9100119,
          -34.9100119,
          -34.89972,
          -53.9183477,
          -43.2257963,
          -34.9039833,
          -34.9039833,
          -34.9048671,
          -34.9048671,
          -34.906287,
          null,
          null,
          null,
          null,
          null,
          -34.8989285,
          -34.8940289,
          -34.8940289,
          -34.8940289,
          -34.8940289,
          null,
          null,
          null,
          null,
          null,
          null,
          null,
          null,
          null,
          null,
          null,
          null,
          null,
          null,
          null,
          null,
          null,
          null,
          null,
          null,
          null,
          null,
          null,
          null,
          null,
          null,
          null,
          null,
          null,
          null,
          -34.898888,
          null,
          null,
          -34.8817926,
          -34.8817926,
          -34.9049929,
          -34.9049929,
          -34.9049929,
          -43.20664,
          -34.9063735,
          -34.9063735,
          -34.9048098,
          -34.9048098,
          -34.9113651,
          -34.9113651,
          -34.9113651,
          null,
          -34.9083703,
          -34.9083703,
          -34.9083703,
          -34.9083703,
          -34.9083703,
          -34.9083703,
          -34.9083703,
          -34.9083703,
          -34.9083703,
          -34.9083703,
          -34.9083703,
          -34.9083703,
          -34.9083703,
          -34.9083703,
          -34.9083703,
          -34.9083703,
          -34.9083703,
          -34.9083703,
          -34.9083703,
          -34.9076876,
          -53.9399003,
          -43.252939,
          -34.9066771,
          -34.9073533,
          null,
          -34.9113531,
          -34.9107887,
          -34.9141668,
          -34.9141668,
          -34.9141668,
          -34.9141668,
          -34.9141668,
          -34.9141668,
          -34.9141668,
          -34.9141668,
          -34.9141668,
          -34.9141668,
          -34.9141668,
          -34.9141668,
          -34.9063036,
          -34.9087586,
          -34.9058445,
          -34.9068348,
          -34.9051821,
          -34.9037681,
          -34.9047854,
          -34.9047854,
          -34.9047854,
          -34.9047854,
          -34.9047854,
          null,
          -34.9053619,
          -35.9126142,
          -35.9126142,
          -34.9079666,
          -40.085839,
          -34.8554914,
          -34.8554914,
          -34.8554914,
          -34.8554914,
          -34.9106482,
          -34.9106482,
          -34.9101962,
          -34.9101962,
          -34.9101962,
          -34.9101962,
          -34.9101962,
          -34.9101962,
          -34.9101962,
          -34.9101962,
          -34.9123126,
          -34.9123126,
          -34.8943518,
          -34.8943518,
          -34.9043135,
          null,
          null,
          -34.8877783,
          -34.8534284,
          -34.8534284,
          -41.6762445,
          -41.6762445,
          -34.8884743,
          -34.8831924,
          null,
          null,
          -34.8953637,
          -45.4641895,
          -46.659068,
          -46.659068,
          -46.659068,
          -46.659068,
          -46.659068,
          -46.659068,
          -34.8817926,
          -34.8877783,
          -34.8877783,
          -34.8877783,
          -34.8877783,
          -34.9019489,
          -34.8935028,
          -44.0039238,
          -34.8882331,
          -34.8882331,
          -34.8927574,
          -34.8927574,
          -34.8887899,
          null,
          null,
          -34.8817926,
          -34.9063036,
          -34.9073533,
          -34.9073533,
          -34.9073533,
          -34.9085158,
          -34.9128241,
          -34.9062799,
          -34.9062799,
          -34.9062799,
          -34.9062799,
          -34.9138228,
          -34.9138228,
          -34.9138228,
          -34.9116795,
          null,
          null,
          null,
          -34.9066771,
          -34.9066771,
          -34.9049225,
          -38.5192922,
          -35.3735349,
          -35.3735349,
          -35.3735349,
          -35.3735349,
          -51.1624274,
          -34.9066771,
          -34.9066771,
          -34.9066771,
          -34.9066771,
          -34.9066771,
          -34.9066771,
          -34.9066771,
          -34.9066771,
          -34.9066771,
          -34.9066771,
          -34.9066771,
          -34.9066771,
          null,
          -50.9122747,
          -50.9122747,
          -34.910044,
          -34.910044,
          -34.9075704,
          -34.9075704,
          -43.7920185,
          -43.956245,
          -43.956245,
          -43.956245,
          -34.9165598,
          null,
          -34.9129527,
          -34.9135248,
          -34.9188017,
          -34.9109022,
          -34.9109022,
          -34.9120175,
          -55.4000448,
          -55.4000448,
          -55.4000448,
          -34.9104471,
          -34.9104471,
          -34.9104471,
          -34.9104471,
          -34.913604,
          -8.673387,
          -8.673387,
          -8.673387,
          -8.673387,
          -34.9204665,
          -38.3946039,
          -51.3706222,
          -49.2755353,
          -48.6362102,
          -53.9407835,
          -53.9407835,
          -34.9175664,
          -9.1834308,
          -8.013206,
          -8.013206,
          -8.013206,
          -46.6323831,
          -52.3467739,
          -49.3169983,
          -45.9188422,
          -47.639067,
          -34.9209928,
          -43.1814951,
          -34.9124589,
          -48.5215597,
          -48.5215597,
          -48.5215597,
          -34.9066771,
          -34.91699404784326,
          -34.91699404784326,
          -34.9201316,
          -34.9223365,
          -34.9257588,
          -49.8601683,
          -52.484947,
          -53.9351951,
          -53.9351951,
          -53.7603244,
          -34.9421263,
          null,
          -34.9020577,
          -40.5134623,
          -35.2039345,
          -35.2039345,
          -35.2039345,
          null,
          -34.8981008,
          -34.8981008,
          -39.574146,
          -43.2582698,
          -34.8987989,
          -47.2742133,
          -41.9893257,
          -34.895926,
          -43.6306307,
          -43.6306307,
          -43.6306307,
          null,
          null,
          null,
          -9.1274042,
          -53.9312003,
          -53.9312003
         ],
         "marker": {
          "color": "blue",
          "size": [
           1500,
           900,
           500,
           750,
           900,
           700,
           600,
           1000,
           1100,
           1500,
           1400,
           999,
           1499,
           700,
           1100,
           1200,
           750,
           900,
           620,
           1100,
           1300,
           1000,
           800,
           750,
           800,
           1100,
           1160,
           1000,
           800,
           1500,
           1350,
           1450,
           1500,
           1500,
           1200,
           600,
           400,
           1500,
           1000,
           1200,
           1300,
           1100,
           1300,
           700,
           1000,
           700,
           1500,
           1100,
           1500,
           1100,
           1100,
           1500,
           1500,
           1500,
           1500,
           1500,
           1500,
           1100,
           1500,
           1500,
           1100,
           650,
           1200,
           1000,
           1500,
           1500,
           1000,
           1200,
           700,
           900,
           1100,
           1500,
           1100,
           1500,
           1500,
           950,
           650,
           680,
           799,
           750,
           1200,
           800,
           1500,
           950,
           600,
           1200,
           700,
           1400,
           750,
           1200,
           500,
           500,
           1500,
           1400,
           1400,
           1500,
           1450,
           1499,
           1500,
           1500,
           1499,
           1499,
           1500,
           1499,
           1500,
           1399,
           1400,
           1200,
           1200,
           1000,
           1200,
           1100,
           980,
           1000,
           970,
           1400,
           1500,
           1400,
           1350,
           550,
           1300,
           1300,
           900,
           950,
           1400,
           1200,
           1000,
           990,
           800,
           1290,
           1500,
           1500,
           950,
           950,
           900,
           1500,
           1000,
           1200,
           1000,
           900,
           1200,
           800,
           1400,
           750,
           1200,
           1000,
           1000,
           999,
           450,
           600,
           600,
           700,
           1300,
           1200,
           1000,
           1500,
           1400,
           1150,
           850,
           1250,
           1400,
           1350,
           800,
           1500,
           1200,
           1400,
           900,
           600,
           500,
           600,
           500,
           600,
           550,
           550,
           600,
           750,
           1400,
           1200,
           1400,
           1450,
           1250,
           1400,
           1400,
           1300,
           1200,
           1500,
           1500,
           1500,
           1500,
           1500,
           1200,
           1500,
           1250,
           1400,
           1350,
           1000,
           1450,
           1500,
           1500,
           1200,
           1300,
           1500,
           900,
           1350,
           1100,
           1400,
           1300,
           1200,
           1500,
           1500,
           1250,
           1500,
           1050,
           700,
           1400,
           1400,
           1400,
           1400,
           1430,
           1450,
           1440,
           1450,
           1400,
           1500,
           1000,
           1100,
           1500,
           1500,
           1500,
           1500,
           1500,
           1400,
           1500,
           1445,
           1500,
           1430,
           1500,
           1500,
           1000,
           1499,
           1500,
           1400,
           1000,
           1500,
           1500,
           1400,
           1500,
           1500,
           1000,
           1340,
           1500,
           1400,
           1500,
           1100,
           1500,
           1400,
           1500,
           1500,
           1500,
           1500,
           1400,
           1350,
           1500,
           1400,
           1400,
           1500,
           1300,
           1300,
           1500,
           1500,
           1150,
           1290,
           1500,
           1500,
           1500,
           1500,
           1500,
           1500,
           1500,
           200,
           800,
           1400,
           800,
           1400,
           1500,
           1100,
           1300,
           1400,
           1400,
           800,
           1400,
           1470,
           1500,
           1400,
           1300,
           1500,
           1500,
           1410,
           1430,
           1500,
           1500,
           800,
           1350,
           1450,
           1200,
           1200,
           850,
           650,
           1470,
           1300,
           1000,
           874,
           877,
           1400,
           1000,
           920,
           1050,
           1500,
           1500,
           1300,
           1200,
           1200,
           1100,
           1250,
           1500,
           500,
           1500,
           1200,
           1450,
           1300,
           1500,
           1500,
           1450,
           800,
           800,
           1500,
           1500,
           1500,
           1500,
           1400,
           1300,
           1250,
           1350,
           1350,
           1350,
           1350,
           350,
           1500,
           1200,
           1200,
           1500,
           1500,
           1500,
           1500,
           1000,
           1200,
           1300,
           1499,
           1500,
           1469,
           1200,
           1500,
           1100,
           1470,
           550,
           1500,
           1000,
           1499,
           1499,
           1400,
           1500,
           650,
           550,
           1500,
           1500,
           1399,
           1500,
           1500,
           1399,
           1350,
           465,
           1500,
           900,
           1100,
           1500,
           1400,
           1300,
           1310,
           1400,
           1500,
           1300,
           650,
           1100,
           1500,
           1251,
           1335,
           916,
           1400,
           1114,
           1190,
           1152,
           1180,
           1200,
           1300,
           1180,
           1400,
           700,
           1500,
           1350,
           1400,
           1500,
           1300,
           1400,
           1500,
           1500,
           1500,
           1400,
           1450,
           1400,
           1500,
           1400,
           1500,
           1400,
           1050,
           1400,
           1400,
           1500,
           1150,
           1500,
           1400,
           1400,
           1300,
           1500,
           110,
           1400,
           1500,
           690,
           1300,
           1300,
           1500,
           1500,
           1500,
           1500,
           400,
           485,
           950,
           850,
           1000,
           800,
           1500,
           1300,
           1400,
           1300,
           800,
           1300,
           1500,
           1470,
           1000,
           1470,
           1020,
           1470,
           1470,
           1000,
           1470,
           1499,
           1000,
           750,
           1500,
           1000,
           1399,
           1470,
           1000,
           1500,
           1000,
           1100,
           900,
           1400,
           999,
           1470,
           1000,
           999,
           1500,
           1499,
           1470,
           1000,
           1469,
           1470,
           1470,
           1400,
           1000,
           1499,
           1400,
           1400,
           1100,
           999,
           1499,
           1500,
           1200,
           500,
           1500,
           1300,
           900,
           1000,
           1300,
           1500,
           1400,
           1500,
           1350,
           1500,
           1400,
           1500,
           1300,
           1200,
           1400,
           1150,
           1500,
           1400,
           1500,
           900,
           1200,
           1500,
           1500,
           1390,
           1200,
           1500,
           1400,
           1350,
           1500,
           1300,
           1500,
           1100,
           1400,
           800,
           1460,
           1450,
           1300,
           1200,
           790,
           1400,
           1250,
           799,
           0,
           1100,
           1100,
           750,
           1100,
           1100,
           1400,
           1100,
           1100,
           1000,
           1000,
           1500,
           1200,
           950,
           1200,
           1100,
           1200,
           1300,
           1300,
           900,
           1450,
           1100,
           500,
           1300,
           990,
           680,
           1300,
           1250,
           1500,
           1000,
           1100,
           900,
           1500,
           1500,
           1300,
           1500,
           1400,
           1500,
           1500,
           1400,
           1000,
           1000,
           1500,
           170,
           830,
           900,
           1499,
           1450,
           550,
           550,
           700,
           650,
           1100,
           700,
           1300,
           1100,
           1300,
           600,
           1390,
           1390,
           1390,
           1390,
           1390,
           1390,
           1500,
           1150,
           1500,
           1500,
           1000,
           1400,
           1500,
           650,
           1100,
           1100,
           1250,
           1250,
           1500,
           1500,
           850,
           1290,
           1400,
           1500,
           1200,
           1200,
           1400,
           950,
           1200,
           1200,
           1500,
           1500,
           1500,
           1500,
           1400,
           1400,
           1400,
           900,
           500,
           1470,
           500,
           450,
           1000,
           830,
           600,
           800,
           600,
           580,
           1400,
           1400,
           1470,
           1450,
           1450,
           1400,
           1500,
           1400,
           1400,
           1450,
           1470,
           1450,
           1450,
           1400,
           750,
           600,
           950,
           1450,
           1450,
           750,
           1300,
           1300,
           1300,
           1200,
           1200,
           1200,
           1200,
           850,
           1400,
           1100,
           1450,
           1000,
           750,
           1000,
           1150,
           1200,
           350,
           1000,
           1150,
           380,
           400,
           450,
           350,
           400,
           650,
           550,
           1000,
           900,
           1000,
           1000,
           500,
           1050,
           600,
           550,
           600,
           600,
           900,
           500,
           800,
           500,
           750,
           800,
           800,
           1200,
           1300,
           1000,
           1400,
           600,
           700,
           1300,
           650,
           550,
           600,
           700,
           500,
           500,
           800,
           1250,
           900,
           1300,
           1500,
           800,
           800,
           1400,
           1500,
           1350,
           1100,
           1030,
           750,
           1300,
           1450,
           1350,
           900,
           1320,
           1000,
           950,
           950,
           1500,
           1450,
           1400,
           1200,
           1200
          ],
          "sizemode": "area",
          "sizeref": 3.75
         },
         "mode": "markers",
         "name": "",
         "showlegend": false,
         "subplot": "mapbox",
         "type": "scattermapbox"
        }
       ],
       "layout": {
        "height": 800,
        "legend": {
         "itemsizing": "constant",
         "tracegroupgap": 0
        },
        "mapbox": {
         "center": {
          "lat": -9.533012388449613,
          "lon": -36.40240985568029
         },
         "domain": {
          "x": [
           0,
           1
          ],
          "y": [
           0,
           1
          ]
         },
         "style": "open-street-map",
         "zoom": 6
        },
        "margin": {
         "b": 0,
         "l": 0,
         "r": 0,
         "t": 0
        },
        "template": {
         "data": {
          "bar": [
           {
            "error_x": {
             "color": "#2a3f5f"
            },
            "error_y": {
             "color": "#2a3f5f"
            },
            "marker": {
             "line": {
              "color": "#E5ECF6",
              "width": 0.5
             }
            },
            "type": "bar"
           }
          ],
          "barpolar": [
           {
            "marker": {
             "line": {
              "color": "#E5ECF6",
              "width": 0.5
             }
            },
            "type": "barpolar"
           }
          ],
          "carpet": [
           {
            "aaxis": {
             "endlinecolor": "#2a3f5f",
             "gridcolor": "white",
             "linecolor": "white",
             "minorgridcolor": "white",
             "startlinecolor": "#2a3f5f"
            },
            "baxis": {
             "endlinecolor": "#2a3f5f",
             "gridcolor": "white",
             "linecolor": "white",
             "minorgridcolor": "white",
             "startlinecolor": "#2a3f5f"
            },
            "type": "carpet"
           }
          ],
          "choropleth": [
           {
            "colorbar": {
             "outlinewidth": 0,
             "ticks": ""
            },
            "type": "choropleth"
           }
          ],
          "contour": [
           {
            "colorbar": {
             "outlinewidth": 0,
             "ticks": ""
            },
            "colorscale": [
             [
              0,
              "#0d0887"
             ],
             [
              0.1111111111111111,
              "#46039f"
             ],
             [
              0.2222222222222222,
              "#7201a8"
             ],
             [
              0.3333333333333333,
              "#9c179e"
             ],
             [
              0.4444444444444444,
              "#bd3786"
             ],
             [
              0.5555555555555556,
              "#d8576b"
             ],
             [
              0.6666666666666666,
              "#ed7953"
             ],
             [
              0.7777777777777778,
              "#fb9f3a"
             ],
             [
              0.8888888888888888,
              "#fdca26"
             ],
             [
              1,
              "#f0f921"
             ]
            ],
            "type": "contour"
           }
          ],
          "contourcarpet": [
           {
            "colorbar": {
             "outlinewidth": 0,
             "ticks": ""
            },
            "type": "contourcarpet"
           }
          ],
          "heatmap": [
           {
            "colorbar": {
             "outlinewidth": 0,
             "ticks": ""
            },
            "colorscale": [
             [
              0,
              "#0d0887"
             ],
             [
              0.1111111111111111,
              "#46039f"
             ],
             [
              0.2222222222222222,
              "#7201a8"
             ],
             [
              0.3333333333333333,
              "#9c179e"
             ],
             [
              0.4444444444444444,
              "#bd3786"
             ],
             [
              0.5555555555555556,
              "#d8576b"
             ],
             [
              0.6666666666666666,
              "#ed7953"
             ],
             [
              0.7777777777777778,
              "#fb9f3a"
             ],
             [
              0.8888888888888888,
              "#fdca26"
             ],
             [
              1,
              "#f0f921"
             ]
            ],
            "type": "heatmap"
           }
          ],
          "heatmapgl": [
           {
            "colorbar": {
             "outlinewidth": 0,
             "ticks": ""
            },
            "colorscale": [
             [
              0,
              "#0d0887"
             ],
             [
              0.1111111111111111,
              "#46039f"
             ],
             [
              0.2222222222222222,
              "#7201a8"
             ],
             [
              0.3333333333333333,
              "#9c179e"
             ],
             [
              0.4444444444444444,
              "#bd3786"
             ],
             [
              0.5555555555555556,
              "#d8576b"
             ],
             [
              0.6666666666666666,
              "#ed7953"
             ],
             [
              0.7777777777777778,
              "#fb9f3a"
             ],
             [
              0.8888888888888888,
              "#fdca26"
             ],
             [
              1,
              "#f0f921"
             ]
            ],
            "type": "heatmapgl"
           }
          ],
          "histogram": [
           {
            "marker": {
             "colorbar": {
              "outlinewidth": 0,
              "ticks": ""
             }
            },
            "type": "histogram"
           }
          ],
          "histogram2d": [
           {
            "colorbar": {
             "outlinewidth": 0,
             "ticks": ""
            },
            "colorscale": [
             [
              0,
              "#0d0887"
             ],
             [
              0.1111111111111111,
              "#46039f"
             ],
             [
              0.2222222222222222,
              "#7201a8"
             ],
             [
              0.3333333333333333,
              "#9c179e"
             ],
             [
              0.4444444444444444,
              "#bd3786"
             ],
             [
              0.5555555555555556,
              "#d8576b"
             ],
             [
              0.6666666666666666,
              "#ed7953"
             ],
             [
              0.7777777777777778,
              "#fb9f3a"
             ],
             [
              0.8888888888888888,
              "#fdca26"
             ],
             [
              1,
              "#f0f921"
             ]
            ],
            "type": "histogram2d"
           }
          ],
          "histogram2dcontour": [
           {
            "colorbar": {
             "outlinewidth": 0,
             "ticks": ""
            },
            "colorscale": [
             [
              0,
              "#0d0887"
             ],
             [
              0.1111111111111111,
              "#46039f"
             ],
             [
              0.2222222222222222,
              "#7201a8"
             ],
             [
              0.3333333333333333,
              "#9c179e"
             ],
             [
              0.4444444444444444,
              "#bd3786"
             ],
             [
              0.5555555555555556,
              "#d8576b"
             ],
             [
              0.6666666666666666,
              "#ed7953"
             ],
             [
              0.7777777777777778,
              "#fb9f3a"
             ],
             [
              0.8888888888888888,
              "#fdca26"
             ],
             [
              1,
              "#f0f921"
             ]
            ],
            "type": "histogram2dcontour"
           }
          ],
          "mesh3d": [
           {
            "colorbar": {
             "outlinewidth": 0,
             "ticks": ""
            },
            "type": "mesh3d"
           }
          ],
          "parcoords": [
           {
            "line": {
             "colorbar": {
              "outlinewidth": 0,
              "ticks": ""
             }
            },
            "type": "parcoords"
           }
          ],
          "pie": [
           {
            "automargin": true,
            "type": "pie"
           }
          ],
          "scatter": [
           {
            "marker": {
             "colorbar": {
              "outlinewidth": 0,
              "ticks": ""
             }
            },
            "type": "scatter"
           }
          ],
          "scatter3d": [
           {
            "line": {
             "colorbar": {
              "outlinewidth": 0,
              "ticks": ""
             }
            },
            "marker": {
             "colorbar": {
              "outlinewidth": 0,
              "ticks": ""
             }
            },
            "type": "scatter3d"
           }
          ],
          "scattercarpet": [
           {
            "marker": {
             "colorbar": {
              "outlinewidth": 0,
              "ticks": ""
             }
            },
            "type": "scattercarpet"
           }
          ],
          "scattergeo": [
           {
            "marker": {
             "colorbar": {
              "outlinewidth": 0,
              "ticks": ""
             }
            },
            "type": "scattergeo"
           }
          ],
          "scattergl": [
           {
            "marker": {
             "colorbar": {
              "outlinewidth": 0,
              "ticks": ""
             }
            },
            "type": "scattergl"
           }
          ],
          "scattermapbox": [
           {
            "marker": {
             "colorbar": {
              "outlinewidth": 0,
              "ticks": ""
             }
            },
            "type": "scattermapbox"
           }
          ],
          "scatterpolar": [
           {
            "marker": {
             "colorbar": {
              "outlinewidth": 0,
              "ticks": ""
             }
            },
            "type": "scatterpolar"
           }
          ],
          "scatterpolargl": [
           {
            "marker": {
             "colorbar": {
              "outlinewidth": 0,
              "ticks": ""
             }
            },
            "type": "scatterpolargl"
           }
          ],
          "scatterternary": [
           {
            "marker": {
             "colorbar": {
              "outlinewidth": 0,
              "ticks": ""
             }
            },
            "type": "scatterternary"
           }
          ],
          "surface": [
           {
            "colorbar": {
             "outlinewidth": 0,
             "ticks": ""
            },
            "colorscale": [
             [
              0,
              "#0d0887"
             ],
             [
              0.1111111111111111,
              "#46039f"
             ],
             [
              0.2222222222222222,
              "#7201a8"
             ],
             [
              0.3333333333333333,
              "#9c179e"
             ],
             [
              0.4444444444444444,
              "#bd3786"
             ],
             [
              0.5555555555555556,
              "#d8576b"
             ],
             [
              0.6666666666666666,
              "#ed7953"
             ],
             [
              0.7777777777777778,
              "#fb9f3a"
             ],
             [
              0.8888888888888888,
              "#fdca26"
             ],
             [
              1,
              "#f0f921"
             ]
            ],
            "type": "surface"
           }
          ],
          "table": [
           {
            "cells": {
             "fill": {
              "color": "#EBF0F8"
             },
             "line": {
              "color": "white"
             }
            },
            "header": {
             "fill": {
              "color": "#C8D4E3"
             },
             "line": {
              "color": "white"
             }
            },
            "type": "table"
           }
          ]
         },
         "layout": {
          "annotationdefaults": {
           "arrowcolor": "#2a3f5f",
           "arrowhead": 0,
           "arrowwidth": 1
          },
          "coloraxis": {
           "colorbar": {
            "outlinewidth": 0,
            "ticks": ""
           }
          },
          "colorscale": {
           "diverging": [
            [
             0,
             "#8e0152"
            ],
            [
             0.1,
             "#c51b7d"
            ],
            [
             0.2,
             "#de77ae"
            ],
            [
             0.3,
             "#f1b6da"
            ],
            [
             0.4,
             "#fde0ef"
            ],
            [
             0.5,
             "#f7f7f7"
            ],
            [
             0.6,
             "#e6f5d0"
            ],
            [
             0.7,
             "#b8e186"
            ],
            [
             0.8,
             "#7fbc41"
            ],
            [
             0.9,
             "#4d9221"
            ],
            [
             1,
             "#276419"
            ]
           ],
           "sequential": [
            [
             0,
             "#0d0887"
            ],
            [
             0.1111111111111111,
             "#46039f"
            ],
            [
             0.2222222222222222,
             "#7201a8"
            ],
            [
             0.3333333333333333,
             "#9c179e"
            ],
            [
             0.4444444444444444,
             "#bd3786"
            ],
            [
             0.5555555555555556,
             "#d8576b"
            ],
            [
             0.6666666666666666,
             "#ed7953"
            ],
            [
             0.7777777777777778,
             "#fb9f3a"
            ],
            [
             0.8888888888888888,
             "#fdca26"
            ],
            [
             1,
             "#f0f921"
            ]
           ],
           "sequentialminus": [
            [
             0,
             "#0d0887"
            ],
            [
             0.1111111111111111,
             "#46039f"
            ],
            [
             0.2222222222222222,
             "#7201a8"
            ],
            [
             0.3333333333333333,
             "#9c179e"
            ],
            [
             0.4444444444444444,
             "#bd3786"
            ],
            [
             0.5555555555555556,
             "#d8576b"
            ],
            [
             0.6666666666666666,
             "#ed7953"
            ],
            [
             0.7777777777777778,
             "#fb9f3a"
            ],
            [
             0.8888888888888888,
             "#fdca26"
            ],
            [
             1,
             "#f0f921"
            ]
           ]
          },
          "colorway": [
           "#636efa",
           "#EF553B",
           "#00cc96",
           "#ab63fa",
           "#FFA15A",
           "#19d3f3",
           "#FF6692",
           "#B6E880",
           "#FF97FF",
           "#FECB52"
          ],
          "font": {
           "color": "#2a3f5f"
          },
          "geo": {
           "bgcolor": "white",
           "lakecolor": "white",
           "landcolor": "#E5ECF6",
           "showlakes": true,
           "showland": true,
           "subunitcolor": "white"
          },
          "hoverlabel": {
           "align": "left"
          },
          "hovermode": "closest",
          "mapbox": {
           "style": "light"
          },
          "paper_bgcolor": "white",
          "plot_bgcolor": "#E5ECF6",
          "polar": {
           "angularaxis": {
            "gridcolor": "white",
            "linecolor": "white",
            "ticks": ""
           },
           "bgcolor": "#E5ECF6",
           "radialaxis": {
            "gridcolor": "white",
            "linecolor": "white",
            "ticks": ""
           }
          },
          "scene": {
           "xaxis": {
            "backgroundcolor": "#E5ECF6",
            "gridcolor": "white",
            "gridwidth": 2,
            "linecolor": "white",
            "showbackground": true,
            "ticks": "",
            "zerolinecolor": "white"
           },
           "yaxis": {
            "backgroundcolor": "#E5ECF6",
            "gridcolor": "white",
            "gridwidth": 2,
            "linecolor": "white",
            "showbackground": true,
            "ticks": "",
            "zerolinecolor": "white"
           },
           "zaxis": {
            "backgroundcolor": "#E5ECF6",
            "gridcolor": "white",
            "gridwidth": 2,
            "linecolor": "white",
            "showbackground": true,
            "ticks": "",
            "zerolinecolor": "white"
           }
          },
          "shapedefaults": {
           "line": {
            "color": "#2a3f5f"
           }
          },
          "ternary": {
           "aaxis": {
            "gridcolor": "white",
            "linecolor": "white",
            "ticks": ""
           },
           "baxis": {
            "gridcolor": "white",
            "linecolor": "white",
            "ticks": ""
           },
           "bgcolor": "#E5ECF6",
           "caxis": {
            "gridcolor": "white",
            "linecolor": "white",
            "ticks": ""
           }
          },
          "title": {
           "x": 0.05
          },
          "xaxis": {
           "automargin": true,
           "gridcolor": "white",
           "linecolor": "white",
           "ticks": "",
           "title": {
            "standoff": 15
           },
           "zerolinecolor": "white",
           "zerolinewidth": 2
          },
          "yaxis": {
           "automargin": true,
           "gridcolor": "white",
           "linecolor": "white",
           "ticks": "",
           "title": {
            "standoff": 15
           },
           "zerolinecolor": "white",
           "zerolinewidth": 2
          }
         }
        }
       }
      },
      "text/html": [
       "<div>\n",
       "        \n",
       "        \n",
       "            <div id=\"4e999328-51be-4217-822f-053b6649064b\" class=\"plotly-graph-div\" style=\"height:800px; width:100%;\"></div>\n",
       "            <script type=\"text/javascript\">\n",
       "                require([\"plotly\"], function(Plotly) {\n",
       "                    window.PLOTLYENV=window.PLOTLYENV || {};\n",
       "                    \n",
       "                if (document.getElementById(\"4e999328-51be-4217-822f-053b6649064b\")) {\n",
       "                    Plotly.newPlot(\n",
       "                        '4e999328-51be-4217-822f-053b6649064b',\n",
       "                        [{\"customdata\": [[\"3\", \"2\", \"100m\\u00b2\", \"https://pe.olx.com.br/grande-recife/imoveis/atencao-otima-opcao-para-locacao-na-guararapes-710586240\", \"Apartamentos\"], [\"2\", \"2\", \"75m\\u00b2\", \"https://pe.olx.com.br/grande-recife/imoveis/edf-inconfidencia-747120032\", \"Apartamentos\"], [\"1\", \"1\", \"30m\\u00b2\", \"https://pe.olx.com.br/grande-recife/imoveis/aluga-um-kitinet-743188105\", \"Apartamentos\"], [\"1\", \"1\", \"\", \"https://pe.olx.com.br/grande-recife/imoveis/alugo-kitnet-r-750-00-744547250\", \"Apartamentos\"], [\"1\", \"1\", \"42m\\u00b2\", \"https://pe.olx.com.br/grande-recife/imoveis/excelente-oportunidade-no-coracao-do-recife-com-linda-vista-para-olinda-e-recife-752586318\", \"Apartamentos\"], [\"1\", \"1\", \"0m\\u00b2\", \"https://pe.olx.com.br/grande-recife/imoveis/apartamento-para-alugar-edf-continental-santo-antonio-recife-744820646\", \"Apartamentos\"], [\"1\", \"1\", \"32m\\u00b2\", \"https://pe.olx.com.br/grande-recife/imoveis/centro-recife-av-guararapes-vista-para-o-rio-capibaribe-conjugado-750086406\", \"Apartamentos\"], [\"2\", \"2\", \"78m\\u00b2\", \"https://pe.olx.com.br/grande-recife/imoveis/apartamento-739609159\", \"Apartamentos\"], [\"3\", \"2\", \"100m\\u00b2\", \"https://pe.olx.com.br/grande-recife/imoveis/apartamento-na-avenida-dantas-barreto-747856087\", \"Apartamentos\"], [\"2\", \"1\", \"40m\\u00b2\", \"https://pe.olx.com.br/grande-recife/imoveis/alugo-temporada-novinho-e-com-lazer-completo-756951750\", \"Apartamentos\"], [\"2\", \"1\", \"0m\\u00b2\", \"https://pe.olx.com.br/grande-recife/imoveis/apartamento-bairro-de-sao-jose-706706344\", \"Apartamentos\"], [\"1\", \"1\", \"40m\\u00b2\", \"https://pe.olx.com.br/grande-recife/imoveis/lindo-mobiliado-5-minutos-doar-coracao-de-boa-viagem-755594403\", \"Apartamentos\"], [\"2\", \"1\", \"65m\\u00b2\", \"https://pe.olx.com.br/grande-recife/imoveis/achei-2-quartos-tudo-novo-lazer-completo-praia-e-shoping-755593866\", \"Apartamentos\"], [\"1\", \"1\", \"\", \"https://pe.olx.com.br/grande-recife/imoveis/alugo-apt-boa-vista-744860380\", \"Apartamentos\"], [\"1\", \"1\", \"50m\\u00b2\", \"https://pe.olx.com.br/grande-recife/imoveis/aluguel-apartamento-sala-e-quarto-na-boa-vista-750522084\", \"Apartamentos\"], [\"1\", \"1\", \"53m\\u00b2\", \"https://pe.olx.com.br/grande-recife/imoveis/kitnet-ed-ebano-boa-vista-r-da-aurora-325-recife-735666426\", \"Apartamentos\"], [\"1\", \"1\", \"50m\\u00b2\", \"https://pe.olx.com.br/grande-recife/imoveis/encima-boa-vista-tudo-incluso-seguro-sossegado-753859463\", \"Apartamentos\"], [\"2\", \"1\", \"70m\\u00b2\", \"https://pe.olx.com.br/grande-recife/imoveis/apartamento-2-quartos-centro-do-recife-751603388\", \"Apartamentos\"], [\"2\", \"1\", \"70m\\u00b2\", \"https://pe.olx.com.br/grande-recife/imoveis/apartamento-2-quartos-conde-da-boa-vista-756510023\", \"Apartamentos\"], [\"1\", \"1\", \"60m\\u00b2\", \"https://pe.olx.com.br/grande-recife/imoveis/apto-pronto-para-morar-756840053\", \"Apartamentos\"], [\"1\", \"1\", \"52m\\u00b2\", \"https://pe.olx.com.br/grande-recife/imoveis/apto-na-boa-vista-1-300-00-com-condominio-e-iptu-ja-incluso-732259848\", \"Apartamentos\"], [\"2\", \"1\", \"48m\\u00b2\", \"https://pe.olx.com.br/grande-recife/imoveis/apartamento-para-alugar-756076906\", \"Apartamentos\"], [\"2\", \"1\", \"0m\\u00b2\", \"https://pe.olx.com.br/grande-recife/imoveis/procuro-alguem-para-dividir-apartamento-no-centro-da-cidade-do-recife-739519173\", \"Apartamentos\"], [\"1\", \"1\", \"50m\\u00b2\", \"https://pe.olx.com.br/grande-recife/imoveis/more-central-apto-50m2-1qto-sala-cozamericana-wc-alto-ventilado-vistas-boa-vista-750tudo-736982626\", \"Apartamentos\"], [\"1\", \"1\", \"\", \"https://pe.olx.com.br/grande-recife/imoveis/kitnet-grande-na-boa-vista-738075013\", \"Apartamentos\"], [\"1\", \"1\", \"48m\\u00b2\", \"https://pe.olx.com.br/grande-recife/imoveis/apartamento-mobiliado-752035142\", \"Apartamentos\"], [\"3\", \"2\", \"118m\\u00b2\", \"https://pe.olx.com.br/grande-recife/imoveis/apartamento-na-boa-vista-750616913\", \"Apartamentos\"], [\"3\", \"2\", \"85m\\u00b2\", \"https://pe.olx.com.br/grande-recife/imoveis/edificio-fernandes-vieira-744975460\", \"Apartamentos\"], [\"2\", \"1\", \"0m\\u00b2\", \"https://pe.olx.com.br/grande-recife/imoveis/apartamento-na-boa-vista-745423625\", \"Apartamentos\"], [\"1\", \"1\", \"35m\\u00b2\", \"https://pe.olx.com.br/grande-recife/imoveis/alugo-apartamento-tipo-flat-mobiliado-e-sem-mobilia-733772682\", \"Apartamentos\"], [\"1\", \"1\", \"35m\\u00b2\", \"https://pe.olx.com.br/grande-recife/imoveis/en-vendo-ou-alugo-flat-na-boa-vista-745457533\", \"Apartamentos\"], [\"1\", \"1\", \"\", \"https://pe.olx.com.br/grande-recife/imoveis/flat-na-boa-vista-738790482\", \"Apartamentos\"], [\"1\", \"1\", \"39m\\u00b2\", \"https://pe.olx.com.br/grande-recife/imoveis/flat-mobiliado-na-boa-vista-754371083\", \"Apartamentos\"], [\"1\", \"1\", \"\", \"https://pe.olx.com.br/grande-recife/imoveis/alugo-apartamento-mobiliado-studio-flat-na-boa-vista-754693163\", \"Apartamentos\"], [\"3\", \"1\", \"91m\\u00b2\", \"https://pe.olx.com.br/grande-recife/imoveis/apartamento-para-aluguel-3-quartos-1-vaga-gracas-recife-pe-683513611\", \"Apartamentos\"], [\"2\", \"2\", \"\", \"https://pe.olx.com.br/grande-recife/imoveis/alugo-aptos-p-univ-proximo-ao-oswaldo-cruz-734717722\", \"Apartamentos\"], [\"1\", \"1\", \"30m\\u00b2\", \"https://pe.olx.com.br/grande-recife/imoveis/01-quarto-suite-para-uma-pessoa-no-terreo-por-tras-de-um-predio-na-boa-vista-742997436\", \"Apartamentos\"], [\"3\", \"2\", \"\", \"https://pe.olx.com.br/grande-recife/imoveis/alugo-750759366\", \"Apartamentos\"], [\"2\", \"1\", \"80m\\u00b2\", \"https://pe.olx.com.br/grande-recife/imoveis/edificio-presidente-kennedy-754122676\", \"Apartamentos\"], [\"2\", \"3\", \"70m\\u00b2\", \"https://pe.olx.com.br/grande-recife/imoveis/rara-oportunidade-perto-da-universidade-catolica-757228126\", \"Apartamentos\"], [\"1\", \"1\", \"45m\\u00b2\", \"https://pe.olx.com.br/grande-recife/imoveis/ap-200m-universidade-catolica-do-recife-elevador-1-vg-semi-mobiliado-kitnet-752103071\", \"Apartamentos\"], [\"2\", \"1\", \"46m\\u00b2\", \"https://pe.olx.com.br/grande-recife/imoveis/alugo-apartamento-sala-edificio-sao-cristovao-rua-da-aurora-748537117\", \"Apartamentos\"], [\"1\", \"1\", \"56m\\u00b2\", \"https://pe.olx.com.br/grande-recife/imoveis/excelente-apartamento-na-boa-vista-752696241\", \"Apartamentos\"], [\"1\", \"1\", \"\", \"https://pe.olx.com.br/grande-recife/imoveis/alugo-740235794\", \"Apartamentos\"], [\"1\", \"1\", \"32m\\u00b2\", \"https://pe.olx.com.br/grande-recife/imoveis/aluguel-oportunidade-quarto-e-sala-na-boa-vista-756567329\", \"Apartamentos\"], [\"1\", \"1\", \"\", \"https://pe.olx.com.br/grande-recife/imoveis/apartamento-745721021\", \"Apartamentos\"], [\"3\", \"2\", \"100m\\u00b2\", \"https://pe.olx.com.br/grande-recife/imoveis/boa-vista-rua-da-aurora-apt-3qts-sala-coz-14-andar-100m2-1-500ctudo-732993268\", \"Apartamentos\"], [\"3\", \"2\", \"70m\\u00b2\", \"https://pe.olx.com.br/grande-recife/imoveis/boa-vista-rua-sete-de-setembro-apt-3-quartos-sala-coz-70m2-1-100ctudo-740402800\", \"Apartamentos\"], [\"3\", \"2\", \"100m\\u00b2\", \"https://pe.olx.com.br/grande-recife/imoveis/rua-da-uniao-apt-3quartos-sala-coz-100m2-14-andar-1-500-contudo-741472421\", \"Apartamentos\"], [\"3\", \"2\", \"70m\\u00b2\", \"https://pe.olx.com.br/grande-recife/imoveis/boa-vista-rua-sete-de-setembro-apt-3-quartos-sala-coz-70m2-1-100-741337850\", \"Apartamentos\"], [\"3\", \"2\", \"70m\\u00b2\", \"https://pe.olx.com.br/grande-recife/imoveis/boa-vista-rua-sete-de-setembro-3-quartos-sala-coz-70m2-reformada-743399896\", \"Apartamentos\"], [\"3\", \"2\", \"100m\\u00b2\", \"https://pe.olx.com.br/grande-recife/imoveis/rua-da-aurora-apt-3-quartos-sala-coz-wc-100m2-14-andar-1-500-747185735\", \"Apartamentos\"], [\"3\", \"3\", \"100m\\u00b2\", \"https://pe.olx.com.br/grande-recife/imoveis/boa-vista-rua-da-uniao-apt-3-quartos-sala-coz-wc-100m2-14-andar-750388664\", \"Apartamentos\"], [\"3\", \"2\", \"100m\\u00b2\", \"https://pe.olx.com.br/grande-recife/imoveis/rua-da-aurora-apt-3-quartos-sala-coz-wc-100m2-14-andar-c-vista-pro-rio-capibaribe-750847471\", \"Apartamentos\"], [\"3\", \"2\", \"100m\\u00b2\", \"https://pe.olx.com.br/grande-recife/imoveis/boa-vista-rua-da-aurora-apt-3-quartos-sala-coz-wc-100m2-14-andar-1-500ctudo-751583041\", \"Apartamentos\"], [\"3\", \"2\", \"0m\\u00b2\", \"https://pe.olx.com.br/grande-recife/imoveis/rua-da-aurora-apt-3-quartos-sala-coz-wc-100m2-1-500ctudo-753185808\", \"Apartamentos\"], [\"3\", \"2\", \"100m\\u00b2\", \"https://pe.olx.com.br/grande-recife/imoveis/boa-vista-rua-da-aurora-apt-3quartos-sala-coz-wc-100m2-14andar-1-500ctudo-733562472\", \"Apartamentos\"], [\"1\", \"1\", \"50m\\u00b2\", \"https://pe.olx.com.br/grande-recife/imoveis/boa-vista-rua-da-uniao-1-quarto-sala-coz-50m2-elevador-1-100ctudo-757624533\", \"Apartamentos\"], [\"3\", \"2\", \"100m\\u00b2\", \"https://pe.olx.com.br/grande-recife/imoveis/boa-vista-rua-da-uniao-prox-ao-cinema-sao-luiz-3qts-sala-coz-100m2-14ndar-757638245\", \"Apartamentos\"], [\"1\", \"1\", \"35m\\u00b2\", \"https://pe.olx.com.br/grande-recife/imoveis/av-c-da-b-vista-16-andar-c-cidade-otimo-ap-academia-s-festa-piscina-pot-24h-751722652\", \"Apartamentos\"], [\"3\", \"2\", \"88m\\u00b2\", \"https://pe.olx.com.br/grande-recife/imoveis/aluguel-de-apartamento-na-boa-vista-1482-03-quartos-734219185\", \"Apartamentos\"], [\"1\", \"1\", \"50m\\u00b2\", \"https://pe.olx.com.br/grande-recife/imoveis/apt-na-boa-vista-01-qto-742624591\", \"Apartamentos\"], [\"2\", \"1\", \"60m\\u00b2\", \"https://pe.olx.com.br/grande-recife/imoveis/aluguel-de-apartamento-na-boa-vista-recife-pe-741554533\", \"Apartamentos\"], [\"1\", \"1\", \"25m\\u00b2\", \"https://pe.olx.com.br/grande-recife/imoveis/al0706-apto-com-1-qrt-cozinha-americana-excelente-oportunidade-na-boa-vista-750278812\", \"Apartamentos\"], [\"3\", \"2\", \"100m\\u00b2\", \"https://pe.olx.com.br/grande-recife/imoveis/boa-vista-rua-da-aurora-3quartos-sala-coz-wc-100m2-1-500-743394088\", \"Apartamentos\"], [\"3\", \"2\", \"100m\\u00b2\", \"https://pe.olx.com.br/grande-recife/imoveis/boa-vista-rua-da-aurora-3qts-sala-coz-wc-100m2-14-andar-753665875\", \"Apartamentos\"], [\"2\", \"1\", \"70m\\u00b2\", \"https://pe.olx.com.br/grande-recife/imoveis/1-ou-2-qtos-mobilia-completa-a-partir-de-1-499-00-754330382\", \"Apartamentos\"], [\"1\", \"1\", \"50m\\u00b2\", \"https://pe.olx.com.br/grande-recife/imoveis/alugo-apartamento-1-quarto-taxas-inclusas-744529205\", \"Apartamentos\"], [\"1\", \"1\", \"\", \"https://pe.olx.com.br/grande-recife/imoveis/aluguel-de-apartamento-730228530\", \"Apartamentos\"], [\"2\", \"1\", \"50m\\u00b2\", \"https://pe.olx.com.br/grande-recife/imoveis/apartamento-central-com-taxa-de-condominio-e-iptu-inclusos-743946265\", \"Apartamentos\"], [\"1\", \"1\", \"50m\\u00b2\", \"https://pe.olx.com.br/grande-recife/imoveis/rua-da-aurora-apartamento-com-1-quarto-sala-coz-wc-50m2-1-100ctudo-733555244\", \"Apartamentos\"], [\"3\", \"2\", \"100m\\u00b2\", \"https://pe.olx.com.br/grande-recife/imoveis/rua-da-aurora-edf-sao-crsitovao-apt-3-quartos-sala-coz-wc-14andar-100m-740390145\", \"Apartamentos\"], [\"3\", \"2\", \"70m\\u00b2\", \"https://pe.olx.com.br/grande-recife/imoveis/rua-sete-de-setembro-apt-3-quartos-sala-coz-70m2-1-100-contudo-741474121\", \"Apartamentos\"], [\"3\", \"2\", \"100m\\u00b2\", \"https://pe.olx.com.br/grande-recife/imoveis/rua-da-aurora-apt-3-quartos-sala-coz-wc-100m2-14-andar-1-500-741340746\", \"Apartamentos\"], [\"3\", \"2\", \"100m\\u00b2\", \"https://pe.olx.com.br/grande-recife/imoveis/rua-da-aurora-apartamento-com-3qts-sala-coz-wc-100m2-14-andar-755369191\", \"Apartamentos\"], [\"1\", \"1\", \"45m\\u00b2\", \"https://pe.olx.com.br/grande-recife/imoveis/apt-1-quarto-45-m2-shop-boa-vista-714650737\", \"Apartamentos\"], [\"1\", \"1\", \"\", \"https://pe.olx.com.br/grande-recife/imoveis/apartamento-boa-vista-650-00-753990705\", \"Apartamentos\"], [\"1\", \"1\", \"\", \"https://pe.olx.com.br/grande-recife/imoveis/apto-kit-net-733808910\", \"Apartamentos\"], [\"1\", \"1\", \"50m\\u00b2\", \"https://pe.olx.com.br/grande-recife/imoveis/799-00-para-alugar-logo-apt-boa-vista-direto-proprietario-697239376\", \"Apartamentos\"], [\"3\", \"2\", \"\", \"https://pe.olx.com.br/grande-recife/imoveis/centralizado-apartamento-na-boa-vista-629797101\", \"Apartamentos\"], [\"2\", \"1\", \"38m\\u00b2\", \"https://pe.olx.com.br/grande-recife/imoveis/apartamento-na-boa-vista-2-quartos-c-ar-na-boa-vista-751943936\", \"Apartamentos\"], [\"1\", \"1\", \"35m\\u00b2\", \"https://pe.olx.com.br/grande-recife/imoveis/apartamento-de-1-quarto-na-boa-vista-centro-da-cidade-748316432\", \"Apartamentos\"], [\"2\", \"1\", \"45m\\u00b2\", \"https://pe.olx.com.br/grande-recife/imoveis/apartamento-mobiliado-2-quartos-boa-vista-com-internet-free-749494632\", \"Apartamentos\"], [\"1\", \"1\", \"\", \"https://pe.olx.com.br/grande-recife/imoveis/alugo-apto-1-quarto-na-rua-da-gloria-prox-ao-imip-671895697\", \"Apartamentos\"], [\"2\", \"1\", \"60m\\u00b2\", \"https://pe.olx.com.br/grande-recife/imoveis/aluga-se-excelente-apartamento-749122663\", \"Apartamentos\"], [\"3\", \"3\", \"114m\\u00b2\", \"https://pe.olx.com.br/grande-recife/imoveis/boa-vista-3-quartos-com-suite-taxas-inclusas-734894945\", \"Apartamentos\"], [\"1\", \"1\", \"40m\\u00b2\", \"https://pe.olx.com.br/grande-recife/imoveis/apartamento-para-aluguel-1-quarto-1-vaga-boa-vista-recife-pe-733212757\", \"Apartamentos\"], [\"2\", \"2\", \"87m\\u00b2\", \"https://pe.olx.com.br/grande-recife/imoveis/super-oportunidade-742770057\", \"Apartamentos\"], [\"1\", \"1\", \"49m\\u00b2\", \"https://pe.olx.com.br/grande-recife/imoveis/apartamento-quarto-e-sala-melhor-trecho-boa-vista-750754422\", \"Apartamentos\"], [\"3\", \"3\", \"114m\\u00b2\", \"https://pe.olx.com.br/grande-recife/imoveis/boa-vista-3-quartos-com-suite-753772646\", \"Apartamentos\"], [\"1\", \"1\", \"55m\\u00b2\", \"https://pe.olx.com.br/grande-recife/imoveis/aluguel-apartamento-ao-lado-do-shopping-boa-vista-734741687\", \"Apartamentos\"], [\"1\", \"1\", \"55m\\u00b2\", \"https://pe.olx.com.br/grande-recife/imoveis/apartamento-ao-lado-do-shopping-boa-vista-746725206\", \"Apartamentos\"], [\"3\", \"1\", \"\", \"https://pe.olx.com.br/grande-recife/imoveis/apartamento-para-alugar-boa-viagem-737582741\", \"Apartamentos\"], [\"3\", \"2\", \"80m\\u00b2\", \"https://pe.olx.com.br/grande-recife/imoveis/boa-vista-edf-florida-03-qts-dependencia-elevador-r-1-400-00-com-taxas-inclusas-754832324\", \"Apartamentos\"], [\"3\", \"2\", \"92m\\u00b2\", \"https://pe.olx.com.br/grande-recife/imoveis/apartamento-para-alugar-com-3-dormitorios-em-boa-vista-recife-cod-al369-748113015\", \"Apartamentos\"], [\"3\", \"2\", \"90m\\u00b2\", \"https://pe.olx.com.br/grande-recife/imoveis/tm-apt-3qts-dep-na-boa-vista-749554160\", \"Apartamentos\"], [\"3\", \"2\", \"92m\\u00b2\", \"https://pe.olx.com.br/grande-recife/imoveis/mt-alugo-apt-3qts-dep-na-boa-vista-755819237\", \"Apartamentos\"], [\"3\", \"1\", \"92m\\u00b2\", \"https://pe.olx.com.br/grande-recife/imoveis/tm-r-1499-00-3qts-prox-ao-consulado-americano-boa-vista-754308277\", \"Apartamentos\"], [\"1\", \"1\", \"47m\\u00b2\", \"https://pe.olx.com.br/grande-recife/imoveis/lindo-apart-no-centro-do-recife-prox-ao-shopping-boa-vista-756141197\", \"Apartamentos\"], [\"3\", \"2\", \"92m\\u00b2\", \"https://pe.olx.com.br/grande-recife/imoveis/tm-apt-92m-na-boa-vista-750220329\", \"Apartamentos\"], [\"3\", \"2\", \"92m\\u00b2\", \"https://pe.olx.com.br/grande-recife/imoveis/mt-apt-92m-na-boa-vista-750801864\", \"Apartamentos\"], [\"3\", \"2\", \"91m\\u00b2\", \"https://pe.olx.com.br/grande-recife/imoveis/tm-alugo-apt-3qts-prox-ao-consulado-americano-boa-vista-753584311\", \"Apartamentos\"], [\"3\", \"2\", \"93m\\u00b2\", \"https://pe.olx.com.br/grande-recife/imoveis/tm-apt-3qts-dep-na-boa-vista-751861119\", \"Apartamentos\"], [\"3\", \"2\", \"91m\\u00b2\", \"https://pe.olx.com.br/grande-recife/imoveis/tm-alugo-apt-3qts-dep-completa-na-rua-do-progresso-boa-vista-755325037\", \"Apartamentos\"], [\"3\", \"2\", \"93m\\u00b2\", \"https://pe.olx.com.br/grande-recife/imoveis/tm-apt-3qts-dep-completa-na-boa-vista-752279327\", \"Apartamentos\"], [\"3\", \"2\", \"89m\\u00b2\", \"https://pe.olx.com.br/grande-recife/imoveis/tm-apt-90m-na-boa-vista-753234414\", \"Apartamentos\"], [\"3\", \"2\", \"92m\\u00b2\", \"https://pe.olx.com.br/grande-recife/imoveis/jr-al369-procura-apartamento-na-soledade-e-taxas-inclusas-81-753116592\", \"Apartamentos\"], [\"1\", \"1\", \"40m\\u00b2\", \"https://pe.olx.com.br/grande-recife/imoveis/apartamento-a-200-metros-do-shopping-boa-vista-aluguel-754451205\", \"Apartamentos\"], [\"1\", \"1\", \"40m\\u00b2\", \"https://pe.olx.com.br/grande-recife/imoveis/apartamento-a-200-metros-do-shopping-boa-vista-aluguel-754450002\", \"Apartamentos\"], [\"1\", \"1\", \"40m\\u00b2\", \"https://pe.olx.com.br/grande-recife/imoveis/apartamento-kitnet-mobiliado-boa-vista-754681354\", \"Apartamentos\"], [\"1\", \"1\", \"40m\\u00b2\", \"https://pe.olx.com.br/grande-recife/imoveis/apartamento-para-alugar-na-boa-vista-a-200-metros-do-shopping-boa-vista-749269406\", \"Apartamentos\"], [\"1\", \"1\", \"42m\\u00b2\", \"https://pe.olx.com.br/grande-recife/imoveis/r-1-100-apartamento-42m-sendo-1-quarto-elevador-nascente-na-boa-vista-756395114\", \"Apartamentos\"], [\"1\", \"1\", \"60m\\u00b2\", \"https://pe.olx.com.br/grande-recife/imoveis/espetacular-apto-60m2-super-ventilado-756144658\", \"Apartamentos\"], [\"1\", \"1\", \"30m\\u00b2\", \"https://pe.olx.com.br/grande-recife/imoveis/apartamento-boa-vista-1-quarto-ed-arpege-754300315\", \"Apartamentos\"], [\"1\", \"1\", \"42m\\u00b2\", \"https://pe.olx.com.br/grande-recife/imoveis/apartamento-para-alugar-ou-vender-na-boa-vista-753184366\", \"Apartamentos\"], [\"3\", \"3\", \"105m\\u00b2\", \"https://pe.olx.com.br/grande-recife/imoveis/dmr-apartamento-com-3-quartos-para-alugar-105-m-por-r-1-400-mes-714376611\", \"Apartamentos\"], [\"1\", \"1\", \"40m\\u00b2\", \"https://pe.olx.com.br/grande-recife/imoveis/flat-na-boa-vista-top-745188569\", \"Apartamentos\"], [\"1\", \"1\", \"40m\\u00b2\", \"https://pe.olx.com.br/grande-recife/imoveis/apartamento-01-quarto-centro-cidade-745841230\", \"Apartamentos\"], [\"1\", \"1\", \"35m\\u00b2\", \"https://pe.olx.com.br/grande-recife/imoveis/alugo-flat-na-boa-vista-com-lavanderia-e-servicos-de-camareira-756491487\", \"Apartamentos\"], [\"3\", \"1\", \"\", \"https://pe.olx.com.br/grande-recife/imoveis/aluguel-de-quarto-756699960\", \"Apartamentos\"], [\"2\", \"2\", \"\", \"https://pe.olx.com.br/grande-recife/imoveis/alugo-apartamento-753232981\", \"Apartamentos\"], [\"2\", \"2\", \"69m\\u00b2\", \"https://pe.olx.com.br/grande-recife/imoveis/alugo-apartamento-753235412\", \"Apartamentos\"], [\"1\", \"1\", \"35m\\u00b2\", \"https://pe.olx.com.br/grande-recife/imoveis/apartamento-para-alugar-com-1-dormitorios-em-boa-vista-recife-cod-imo000491-757061579\", \"Apartamentos\"], [\"2\", \"2\", \"70m\\u00b2\", \"https://pe.olx.com.br/grande-recife/imoveis/alugo-apartamento-na-boa-vista-com-2-quartos-e-varanda-755689874\", \"Apartamentos\"], [\"1\", \"1\", \"45m\\u00b2\", \"https://pe.olx.com.br/grande-recife/imoveis/apto-na-conde-da-boa-vista-ed-ambassador-735081080\", \"Apartamentos\"], [\"1\", \"1\", \"40m\\u00b2\", \"https://pe.olx.com.br/grande-recife/imoveis/apartamento-mobilhado-na-boa-vista-recife-740599407\", \"Apartamentos\"], [\"1\", \"1\", \"45m\\u00b2\", \"https://pe.olx.com.br/grande-recife/imoveis/aparatamento-alugar-735630523\", \"Apartamentos\"], [\"1\", \"1\", \"40m\\u00b2\", \"https://pe.olx.com.br/grande-recife/imoveis/aluguel-de-apartamento-1-quarto-736585309\", \"Apartamentos\"], [\"1\", \"1\", \"\", \"https://pe.olx.com.br/grande-recife/imoveis/apartamento-na-boa-vista-664439810\", \"Apartamentos\"], [\"1\", \"1\", \"40m\\u00b2\", \"https://pe.olx.com.br/grande-recife/imoveis/apartamento-reformado-prox-shopping-boa-vista-rua-jose-de-alencar-edf-sao-judas-tadeu-753878042\", \"Apartamentos\"], [\"1\", \"1\", \"35m\\u00b2\", \"https://pe.olx.com.br/grande-recife/imoveis/flat-na-boa-vista-743144318\", \"Apartamentos\"], [\"3\", \"2\", \"0m\\u00b2\", \"https://pe.olx.com.br/grande-recife/imoveis/apartamento-na-boa-vista-705628287\", \"Apartamentos\"], [\"1\", \"1\", \"40m\\u00b2\", \"https://pe.olx.com.br/grande-recife/imoveis/apartamento-na-boa-vista-taxas-inclusas-755534446\", \"Apartamentos\"], [\"1\", \"1\", \"35m\\u00b2\", \"https://pe.olx.com.br/grande-recife/imoveis/apartamento-na-boa-vista-taxas-inclusas-753541788\", \"Apartamentos\"], [\"1\", \"1\", \"40m\\u00b2\", \"https://pe.olx.com.br/grande-recife/imoveis/apartamento-para-aluguel-1-quarto-1-vaga-boa-vista-recife-pe-757058039\", \"Apartamentos\"], [\"1\", \"1\", \"0m\\u00b2\", \"https://pe.olx.com.br/grande-recife/imoveis/apartamento-na-boa-vista-736203426\", \"Apartamentos\"], [\"3\", \"3\", \"97m\\u00b2\", \"https://pe.olx.com.br/grande-recife/imoveis/aluguel-de-imovel-748644780\", \"Apartamentos\"], [\"2\", \"1\", \"0m\\u00b2\", \"https://pe.olx.com.br/grande-recife/imoveis/alugo-apartamento-boa-vista-747082829\", \"Apartamentos\"], [\"1\", \"1\", \"0m\\u00b2\", \"https://pe.olx.com.br/grande-recife/imoveis/mobiliado-1-quarto-predio-com-recepcao-piscina-e-internet-na-boa-vista-739801991\", \"Apartamentos\"], [\"1\", \"1\", \"0m\\u00b2\", \"https://pe.olx.com.br/grande-recife/imoveis/apartamento-de-1-quarto-novo-e-compacto-tudo-de-bom-740712074\", \"Apartamentos\"], [\"1\", \"1\", \"0m\\u00b2\", \"https://pe.olx.com.br/grande-recife/imoveis/mobiliado-sala-quarto-cozinha-banheiro-com-wifi-e-lavanderia-na-boa-vista-739569466\", \"Apartamentos\"], [\"2\", \"1\", \"75m\\u00b2\", \"https://pe.olx.com.br/grande-recife/imoveis/apartamento-para-aluguel-2-quartos-2-vagas-boa-vista-recife-pe-683092865\", \"Apartamentos\"], [\"1\", \"1\", \"45m\\u00b2\", \"https://pe.olx.com.br/grande-recife/imoveis/alugo-apart-de-01-quarto-na-boa-vista-745950483\", \"Apartamentos\"], [\"1\", \"1\", \"\", \"https://pe.olx.com.br/grande-recife/imoveis/apartamentos-mobiliados-na-boa-vista-proximo-ao-imip-611220099\", \"Apartamentos\"], [\"3\", \"2\", \"98m\\u00b2\", \"https://pe.olx.com.br/grande-recife/imoveis/alugo-apto-terreo-c-3qtos-1dep-ilha-do-leite-732615999\", \"Apartamentos\"], [\"2\", \"2\", \"30m\\u00b2\", \"https://pe.olx.com.br/grande-recife/imoveis/salas-comerciais-754852545\", \"Apartamentos\"], [\"1\", \"1\", \"0m\\u00b2\", \"https://pe.olx.com.br/grande-recife/imoveis/aluga-se-ap-na-boa-vista-tratar-com-oliveira-fones-ou-753327951\", \"Apartamentos\"], [\"3\", \"1\", \"100m\\u00b2\", \"https://pe.olx.com.br/grande-recife/imoveis/casa-no-cabanga-ou-escritorio-comercio-r-1-000-733722839\", \"Apartamentos\"], [\"1\", \"1\", \"25m\\u00b2\", \"https://pe.olx.com.br/grande-recife/imoveis/kitnet-no-cabanga-r-450-com-taxas-inclusas-746829774\", \"Apartamentos\"], [\"2\", \"1\", \"60m\\u00b2\", \"https://pe.olx.com.br/grande-recife/imoveis/2-quartos-brasilia-teimosa-748880622\", \"Apartamentos\"], [\"2\", \"1\", \"60m\\u00b2\", \"https://pe.olx.com.br/grande-recife/imoveis/alugo-apartamento-60m2-com-2-quartos-brasila-teimosa-723321111\", \"Apartamentos\"], [\"1\", \"1\", \"50m\\u00b2\", \"https://pe.olx.com.br/grande-recife/imoveis/oferta-imperdivel-aluguel-baixou-732008183\", \"Apartamentos\"], [\"1\", \"1\", \"32m\\u00b2\", \"https://pe.olx.com.br/grande-recife/imoveis/flat-para-aluguel-1-quarto-1-vaga-pina-recife-pe-744120020\", \"Apartamentos\"], [\"1\", \"1\", \"34m\\u00b2\", \"https://pe.olx.com.br/grande-recife/imoveis/flat-para-aluguel-1-quarto-1-vaga-pina-recife-pe-735280839\", \"Apartamentos\"], [\"1\", \"1\", \"32m\\u00b2\", \"https://pe.olx.com.br/grande-recife/imoveis/flat-para-aluguel-1-quarto-1-vaga-pina-recife-pe-744120015\", \"Apartamentos\"], [\"1\", \"1\", \"36m\\u00b2\", \"https://pe.olx.com.br/grande-recife/imoveis/neri-1qt-mobiliado-c-camareira-pisc-av-boa-viagem-no-pina-so-1500-tudo-751264242\", \"Apartamentos\"], [\"1\", \"1\", \"25m\\u00b2\", \"https://pe.olx.com.br/grande-recife/imoveis/apartamento-mobiliado-em-boa-viagem-com-1-quarto-25m2-nascente-andar-alto-e-lazer-754681453\", \"Apartamentos\"], [\"1\", \"1\", \"\", \"https://pe.olx.com.br/grande-recife/imoveis/apartamento-para-alugar-pina-boa-viagem-742910715\", \"Apartamentos\"], [\"1\", \"1\", \"30m\\u00b2\", \"https://pe.olx.com.br/grande-recife/imoveis/flat-com-linda-vista-para-a-praia-e-a-100-metros-do-calcadao-751664184\", \"Apartamentos\"], [\"1\", \"1\", \"\", \"https://pe.olx.com.br/grande-recife/imoveis/apartamento-mobiliado-1-qt-piedade-748808866\", \"Apartamentos\"], [\"2\", \"2\", \"90m\\u00b2\", \"https://pe.olx.com.br/grande-recife/imoveis/aluga-se-apartamento-em-boa-viagem-conjunto-pernambucano-755034615\", \"Apartamentos\"], [\"2\", \"3\", \"90m\\u00b2\", \"https://pe.olx.com.br/grande-recife/imoveis/oportunidade-em-boa-viagem-1350-com-condominio-incluso-754856104\", \"Apartamentos\"], [\"1\", \"1\", \"37m\\u00b2\", \"https://pe.olx.com.br/grande-recife/imoveis/studio-743656875\", \"Apartamentos\"], [\"1\", \"1\", \"28m\\u00b2\", \"https://pe.olx.com.br/grande-recife/imoveis/student-housing-studio-b-praia-de-boa-viagem-pina-28m2-557994174\", \"Apartamentos\"], [\"1\", \"1\", \"20m\\u00b2\", \"https://pe.olx.com.br/grande-recife/imoveis/residencial-senior-senior-life-747877916\", \"Apartamentos\"], [\"1\", \"1\", \"30m\\u00b2\", \"https://pe.olx.com.br/grande-recife/imoveis/mobiliado-no-pina-conselheiro-aguiar-723960808\", \"Apartamentos\"], [\"3\", \"2\", \"110m\\u00b2\", \"https://pe.olx.com.br/grande-recife/imoveis/alugo-casa-com-3-quartos-sendo-uma-suite-no-pina-746359203\", \"Apartamentos\"], [\"1\", \"1\", \"0m\\u00b2\", \"https://pe.olx.com.br/grande-recife/imoveis/kit-a-500-metros-da-praia-do-pina-incluso-agua-luz-senha-do-wifi-como-bonus-600-00-751538770\", \"Apartamentos\"], [\"1\", \"1\", \"0m\\u00b2\", \"https://pe.olx.com.br/grande-recife/imoveis/kit-no-pina-a-500-metros-da-praia-incluso-agua-luz-senha-do-wifi-como-bonus-500-00-751536797\", \"Apartamentos\"], [\"2\", \"1\", \"42m\\u00b2\", \"https://pe.olx.com.br/grande-recife/imoveis/casa-segundo-andar-no-pina-753042407\", \"Apartamentos\"], [\"1\", \"1\", \"0m\\u00b2\", \"https://pe.olx.com.br/grande-recife/imoveis/quarto-755122755\", \"Apartamentos\"], [\"1\", \"1\", \"\", \"https://pe.olx.com.br/grande-recife/imoveis/kitinet-pina-747687392\", \"Apartamentos\"], [\"1\", \"1\", \"30m\\u00b2\", \"https://pe.olx.com.br/grande-recife/imoveis/kitnet-pina-boa-viagem-752460872\", \"Apartamentos\"], [\"1\", \"1\", \"\", \"https://pe.olx.com.br/grande-recife/imoveis/flat-755691594\", \"Apartamentos\"], [\"1\", \"1\", \"852589m\\u00b2\", \"https://pe.olx.com.br/grande-recife/imoveis/kitnet-no-pina-755739810\", \"Apartamentos\"], [\"2\", \"1\", \"43m\\u00b2\", \"https://pe.olx.com.br/grande-recife/imoveis/vende-se-troca-se-ou-aluga-se-756936506\", \"Apartamentos\"], [\"1\", \"1\", \"28m\\u00b2\", \"https://pe.olx.com.br/grande-recife/imoveis/alugo-flat-em-boa-viagem-proximo-ao-shopping-recife-743023763\", \"Apartamentos\"], [\"1\", \"1\", \"33m\\u00b2\", \"https://pe.olx.com.br/grande-recife/imoveis/apartamento-739253313\", \"Apartamentos\"], [\"1\", \"1\", \"0m\\u00b2\", \"https://pe.olx.com.br/grande-recife/imoveis/flat-no-coracao-de-boa-viagem-completo-751498623\", \"Apartamentos\"], [\"1\", \"1\", \"25m\\u00b2\", \"https://pe.olx.com.br/grande-recife/imoveis/flat-mobiliado-em-boa-viagem-751886370\", \"Apartamentos\"], [\"1\", \"1\", \"25m\\u00b2\", \"https://pe.olx.com.br/grande-recife/imoveis/alugo-flat-no-edf-golden-shopping-home-vista-mar-ao-lado-do-shopping-recife-752225842\", \"Apartamentos\"], [\"1\", \"1\", \"31m\\u00b2\", \"https://pe.olx.com.br/grande-recife/imoveis/apartamento-de-1-quarto-a-300-m-da-praia-de-boa-viagem-612781857\", \"Apartamentos\"], [\"3\", \"2\", \"132m\\u00b2\", \"https://pe.olx.com.br/grande-recife/imoveis/apartamento-em-boa-viagem-132-metros-3-quartos-1-suite-1-vaga-753467110\", \"Apartamentos\"], [\"1\", \"1\", \"25m\\u00b2\", \"https://pe.olx.com.br/grande-recife/imoveis/flat-totalmente-mobiliado-boa-viagem-728498808\", \"Apartamentos\"], [\"1\", \"1\", \"50m\\u00b2\", \"https://pe.olx.com.br/grande-recife/imoveis/alugo-apartamento-top-na-navegantes-c-747463473\", \"Apartamentos\"], [\"2\", \"2\", \"70m\\u00b2\", \"https://pe.olx.com.br/grande-recife/imoveis/grande-oportunidade-nessa-crise-baixamos-apt-2-quartos-uma-suite-em-plena-navegantes-750166685\", \"Apartamentos\"], [\"3\", \"1\", \"90m\\u00b2\", \"https://pe.olx.com.br/grande-recife/imoveis/ref-al30648-rua-dos-navegantes-sala-para-2-ambientes-3-quartos-e-wc-social-697294519\", \"Apartamentos\"], [\"2\", \"2\", \"70m\\u00b2\", \"https://pe.olx.com.br/grande-recife/imoveis/grande-oportunidade-baixamos-o-preco-p-alugar-rapido-apt-2-quartos-em-plena-navegantes-749320599\", \"Apartamentos\"], [\"2\", \"2\", \"70m\\u00b2\", \"https://pe.olx.com.br/grande-recife/imoveis/baixou-em-tempo-de-pandemia-apt-2-quartos-uma-suite-na-navegantes-749325302\", \"Apartamentos\"], [\"3\", \"2\", \"70m\\u00b2\", \"https://pe.olx.com.br/grande-recife/imoveis/tempo-de-crise-preco-imbativel-apt-2-quartos-em-plena-navegantes-e-ha-100-metros-da-praia-743040368\", \"Apartamentos\"], [\"1\", \"1\", \"50m\\u00b2\", \"https://pe.olx.com.br/grande-recife/imoveis/apto-742009676\", \"Apartamentos\"], [\"2\", \"1\", \"54m\\u00b2\", \"https://pe.olx.com.br/grande-recife/imoveis/excelente-localizacao-744722203\", \"Apartamentos\"], [\"2\", \"1\", \"57m\\u00b2\", \"https://pe.olx.com.br/grande-recife/imoveis/alugo-apto-rua-dos-navegantes-boa-viagem-736587371\", \"Apartamentos\"], [\"2\", \"1\", \"60m\\u00b2\", \"https://pe.olx.com.br/grande-recife/imoveis/apt-mobiliado-2qts-cons-aguiar-esquina-altura-padaria-boa-viagem-otima-localizacao-655344637\", \"Apartamentos\"], [\"3\", \"2\", \"0m\\u00b2\", \"https://pe.olx.com.br/grande-recife/imoveis/3-quartos-av-conselheiro-aguiar-boa-viagem-1-350-tudo-736671657\", \"Apartamentos\"], [\"3\", \"3\", \"100m\\u00b2\", \"https://pe.olx.com.br/grande-recife/imoveis/apt-de-3-quartos-com-dependencia-completa-na-av-conselheiro-aguiar-752377537\", \"Apartamentos\"], [\"3\", \"2\", \"78m\\u00b2\", \"https://pe.olx.com.br/grande-recife/imoveis/apartamento-em-boa-viagem-03-tres-quartos-754810884\", \"Apartamentos\"], [\"3\", \"2\", \"70m\\u00b2\", \"https://pe.olx.com.br/grande-recife/imoveis/aluguel-baratinho-na-conselheiro-aguiar-753617464\", \"Apartamentos\"], [\"1\", \"1\", \"50m\\u00b2\", \"https://pe.olx.com.br/grande-recife/imoveis/neri-1qt-mobiliado-50m2-pisc-transv-navegantes-so-1500-tudo-733375953\", \"Apartamentos\"], [\"2\", \"1\", \"80m\\u00b2\", \"https://pe.olx.com.br/grande-recife/imoveis/seu-acochego-em-boa-viagem-741930377\", \"Apartamentos\"], [\"1\", \"1\", \"\", \"https://pe.olx.com.br/grande-recife/imoveis/kitnet-em-boa-viagem-750998819\", \"Apartamentos\"], [\"1\", \"1\", \"40m\\u00b2\", \"https://pe.olx.com.br/grande-recife/imoveis/neri-1qt-mobiliado-bem-dividido-pisc-transv-av-cons-aguiar-so-1500-tudo-754026149\", \"Apartamentos\"], [\"2\", \"1\", \"2656m\\u00b2\", \"https://pe.olx.com.br/grande-recife/imoveis/apartamento-para-aluguel-2-quartos-1-vaga-boa-viagem-recife-pe-737080783\", \"Apartamentos\"], [\"2\", \"2\", \"\", \"https://pe.olx.com.br/grande-recife/imoveis/aluguel-em-boa-viagem-av-domingos-ferreira-aguiar-2-4-r-1-350-00-720877899\", \"Apartamentos\"], [\"2\", \"2\", \"60m\\u00b2\", \"https://pe.olx.com.br/grande-recife/imoveis/apartamento-em-boa-viagem-60-metros-2-quartos-2-bwc-753253817\", \"Apartamentos\"], [\"2\", \"2\", \"75m\\u00b2\", \"https://pe.olx.com.br/grande-recife/imoveis/alugo-otimo-apartamento-com-2-quartos-no-bairro-de-boa-viagem-recife-757594192\", \"Apartamentos\"], [\"2\", \"1\", \"60m\\u00b2\", \"https://pe.olx.com.br/grande-recife/imoveis/apartamento-para-alugar-com-2-dormitorios-em-boa-viagem-recife-cod-0287-602853892\", \"Apartamentos\"], [\"3\", \"1\", \"137m\\u00b2\", \"https://pe.olx.com.br/grande-recife/imoveis/apartamento-boa-viagem-3-quartos-754339760\", \"Apartamentos\"], [\"1\", \"1\", \"32m\\u00b2\", \"https://pe.olx.com.br/grande-recife/imoveis/mrs-flat-mobiliado-vista-mar-nascente-mobiliado-no-coracao-e-bv-756951185\", \"Apartamentos\"], [\"1\", \"1\", \"38m\\u00b2\", \"https://pe.olx.com.br/grande-recife/imoveis/mobilia-completa-751627668\", \"Apartamentos\"], [\"1\", \"1\", \"25m\\u00b2\", \"https://pe.olx.com.br/grande-recife/imoveis/apartamento-mobiliado-em-boa-viagem-756689627\", \"Apartamentos\"], [\"1\", \"1\", \"35m\\u00b2\", \"https://pe.olx.com.br/grande-recife/imoveis/flat-mobiliado-andar-alto-nascente-150-metros-do-mar-predio-com-lazer-753939001\", \"Apartamentos\"], [\"2\", \"1\", \"55m\\u00b2\", \"https://pe.olx.com.br/grande-recife/imoveis/com-ou-sem-mobilia-1-ou-2-quartos-754340946\", \"Apartamentos\"], [\"3\", \"2\", \"84m\\u00b2\", \"https://pe.olx.com.br/grande-recife/imoveis/apartamento-pau-amarelo-1-andar-alugar-730192782\", \"Apartamentos\"], [\"1\", \"1\", \"35m\\u00b2\", \"https://pe.olx.com.br/grande-recife/imoveis/edf-golden-life-home-service-735063513\", \"Apartamentos\"], [\"1\", \"1\", \"25m\\u00b2\", \"https://pe.olx.com.br/grande-recife/imoveis/r-1-400-com-taxas-inclusas-imperdivel-744762692\", \"Apartamentos\"], [\"1\", \"1\", \"25m\\u00b2\", \"https://pe.olx.com.br/grande-recife/imoveis/melhor-localizacao-de-boa-viagem-744105934\", \"Apartamentos\"], [\"1\", \"1\", \"35m\\u00b2\", \"https://pe.olx.com.br/grande-recife/imoveis/quarto-separado-internet-e-2-vagas-738251779\", \"Apartamentos\"], [\"1\", \"1\", \"25m\\u00b2\", \"https://pe.olx.com.br/grande-recife/imoveis/apenas-r-1-430-ja-com-taxas-inclusas-top-750181188\", \"Apartamentos\"], [\"1\", \"1\", \"25m\\u00b2\", \"https://pe.olx.com.br/grande-recife/imoveis/so-r-1-450-ja-com-taxas-inclusas-747601243\", \"Apartamentos\"], [\"1\", \"1\", \"25m\\u00b2\", \"https://pe.olx.com.br/grande-recife/imoveis/so-r-1-440-com-taxas-inclusas-748883012\", \"Apartamentos\"], [\"1\", \"1\", \"27m\\u00b2\", \"https://pe.olx.com.br/grande-recife/imoveis/lindo-flat-studio-mobiliado-pronto-para-morar-em-boa-viagem-754242602\", \"Apartamentos\"], [\"1\", \"1\", \"35m\\u00b2\", \"https://pe.olx.com.br/grande-recife/imoveis/apartamento-mobiliado-em-boa-viagem-35m2-1-quarto-nascente-741068391\", \"Apartamentos\"], [\"1\", \"1\", \"30m\\u00b2\", \"https://pe.olx.com.br/grande-recife/imoveis/flat-r-1-500-taxas-inclusas-contrato-anual-boa-viagem-717915415\", \"Apartamentos\"], [\"2\", \"1\", \"49m\\u00b2\", \"https://pe.olx.com.br/grande-recife/imoveis/boa-viagem-praia-mobilia-completa-todas-as-taxas-inclusas-755595539\", \"Apartamentos\"], [\"1\", \"1\", \"40m\\u00b2\", \"https://pe.olx.com.br/grande-recife/imoveis/7-fotos-lindo-flat-mobiliado-754313152\", \"Apartamentos\"], [\"1\", \"1\", \"32m\\u00b2\", \"https://pe.olx.com.br/grande-recife/imoveis/flat-mobiliado-com-varanda-uma-boneca-742679979\", \"Apartamentos\"], [\"1\", \"1\", \"35m\\u00b2\", \"https://pe.olx.com.br/grande-recife/imoveis/flat-com-internet-so-r-1-500-c-taxas-732696683\", \"Apartamentos\"], [\"1\", \"1\", \"35m\\u00b2\", \"https://pe.olx.com.br/grande-recife/imoveis/flat-quarto-separado-e-internet-2-vagas-732449123\", \"Apartamentos\"], [\"1\", \"1\", \"35m\\u00b2\", \"https://pe.olx.com.br/grande-recife/imoveis/flat-quarto-separado-internet-e-2vagas-733232099\", \"Apartamentos\"], [\"1\", \"1\", \"35m\\u00b2\", \"https://pe.olx.com.br/grande-recife/imoveis/flat-com-2-vagas-e-com-internet-733694862\", \"Apartamentos\"], [\"1\", \"1\", \"30m\\u00b2\", \"https://pe.olx.com.br/grande-recife/imoveis/alugo-flat-em-boa-viagem-746513258\", \"Apartamentos\"], [\"1\", \"1\", \"40m\\u00b2\", \"https://pe.olx.com.br/grande-recife/imoveis/mobilia-completa-praia-e-shoping-751947869\", \"Apartamentos\"], [\"1\", \"1\", \"35m\\u00b2\", \"https://pe.olx.com.br/grande-recife/imoveis/so-r-1-445-com-taxas-e-internet-inclusos-755396896\", \"Apartamentos\"], [\"2\", \"1\", \"40m\\u00b2\", \"https://pe.olx.com.br/grande-recife/imoveis/aluga-se-apartamento-em-boa-viagem-753080188\", \"Apartamentos\"], [\"1\", \"1\", \"35m\\u00b2\", \"https://pe.olx.com.br/grande-recife/imoveis/so-r-1-430-com-taxas-e-internet-2-vagas-753919817\", \"Apartamentos\"], [\"1\", \"1\", \"38m\\u00b2\", \"https://pe.olx.com.br/grande-recife/imoveis/mobilia-completa-internet-ja-inclusas-taxas-inclusas-748043465\", \"Apartamentos\"], [\"1\", \"1\", \"35m\\u00b2\", \"https://pe.olx.com.br/grande-recife/imoveis/r-1-500-flat-com-internet-736910490\", \"Apartamentos\"], [\"2\", \"2\", \"51m\\u00b2\", \"https://pe.olx.com.br/grande-recife/imoveis/2-quartos-com-mobilia--internet-cortesia-praia-e-shoping--755596962\", \"Apartamentos\"], [\"1\", \"1\", \"40m\\u00b2\", \"https://pe.olx.com.br/grande-recife/imoveis/mobiliado-perto-do-mar-internet-ja-inclusa-otima-localizacao-753577045\", \"Apartamentos\"], [\"1\", \"1\", \"35m\\u00b2\", \"https://pe.olx.com.br/grande-recife/imoveis/flat-mobiliado-so-r-1-500-tem-internet-734488344\", \"Apartamentos\"], [\"1\", \"1\", \"25m\\u00b2\", \"https://pe.olx.com.br/grande-recife/imoveis/imperdivel-so-r-1-400-com-taxas-745575510\", \"Apartamentos\"], [\"2\", \"1\", \"51m\\u00b2\", \"https://pe.olx.com.br/grande-recife/imoveis/lazer-completo-armarios-e-guarda-roupas-755597774\", \"Apartamentos\"], [\"1\", \"1\", \"31m\\u00b2\", \"https://pe.olx.com.br/grande-recife/imoveis/flat-com-varanda-apenas-r-1-500-c-taxas-743561330\", \"Apartamentos\"], [\"1\", \"1\", \"35m\\u00b2\", \"https://pe.olx.com.br/grande-recife/imoveis/so-r-1-500-flat-com-internet-735848845\", \"Apartamentos\"], [\"1\", \"1\", \"35m\\u00b2\", \"https://pe.olx.com.br/grande-recife/imoveis/so-r-1-400-flat-mobiliado-com-internet-737847718\", \"Apartamentos\"], [\"1\", \"1\", \"30m\\u00b2\", \"https://pe.olx.com.br/grande-recife/imoveis/flat-mobiliado-no-coracao-de-boa-viagem-750381853\", \"Apartamentos\"], [\"1\", \"1\", \"30m\\u00b2\", \"https://pe.olx.com.br/grande-recife/imoveis/mp-flat-muito-bem-mobiliado-perto-do-colegio-santa-maria-e-academia-top-fit-756890836\", \"Apartamentos\"], [\"1\", \"1\", \"35m\\u00b2\", \"https://pe.olx.com.br/grande-recife/imoveis/flat-edf-clarice-cavalcanti-mobiliado-impecavel-757131263\", \"Apartamentos\"], [\"1\", \"1\", \"30m\\u00b2\", \"https://pe.olx.com.br/grande-recife/imoveis/apartamento-para-aluguel-1-quarto-1-vaga-boa-viagem-recife-pe-714244491\", \"Apartamentos\"], [\"2\", \"2\", \"\", \"https://pe.olx.com.br/grande-recife/imoveis/alugo-esse-otimo-apt-em-boa-viagem-contato-jorge-730933566\", \"Apartamentos\"], [\"1\", \"1\", \"30m\\u00b2\", \"https://pe.olx.com.br/grande-recife/imoveis/flat-mobiliado-boa-viagem-lindo-732044460\", \"Apartamentos\"], [\"1\", \"1\", \"25m\\u00b2\", \"https://pe.olx.com.br/grande-recife/imoveis/da-flat-no-coracao-de-boa-viagem-mobiliado-732303627\", \"Apartamentos\"], [\"1\", \"1\", \"35m\\u00b2\", \"https://pe.olx.com.br/grande-recife/imoveis/apartamento-para-aluguel-1-quarto-1-vaga-boa-viagem-recife-pe-733212797\", \"Apartamentos\"], [\"1\", \"1\", \"35m\\u00b2\", \"https://pe.olx.com.br/grande-recife/imoveis/flat-35-m2-quarto-separado-proximo-shopping-recife-colegios-via-mangue-etc-740729100\", \"Apartamentos\"], [\"1\", \"1\", \"25m\\u00b2\", \"https://pe.olx.com.br/grande-recife/imoveis/alugo-flat-em-boa-viagem-edificio-golden-view-743028795\", \"Apartamentos\"], [\"1\", \"1\", \"27m\\u00b2\", \"https://pe.olx.com.br/grande-recife/imoveis/rod-oportunidade-flat-mobiliado-em-boa-viagem-27m-lindo-737275131\", \"Apartamentos\"], [\"1\", \"1\", \"30m\\u00b2\", \"https://pe.olx.com.br/grande-recife/imoveis/apartamento-para-alugar-perto-de-tudo-venha-conferir-rc-747195314\", \"Apartamentos\"], [\"1\", \"1\", \"30m\\u00b2\", \"https://pe.olx.com.br/grande-recife/imoveis/apartamento-mobiliado-em-boa-viagem-750511249\", \"Apartamentos\"], [\"1\", \"1\", \"35m\\u00b2\", \"https://pe.olx.com.br/grande-recife/imoveis/alugo-flat-35m-com-moveis-fixos-area-de-lazer-na-cobertura-no-melhor-da-zona-sul-752214395\", \"Apartamentos\"], [\"1\", \"1\", \"30m\\u00b2\", \"https://pe.olx.com.br/grande-recife/imoveis/apartamento-mobiliado-com-1-qt-744826584\", \"Apartamentos\"], [\"1\", \"1\", \"30m\\u00b2\", \"https://pe.olx.com.br/grande-recife/imoveis/mp-flat-mobiliado-baratinho-proximo-do-colegio-santa-maria-754490394\", \"Apartamentos\"], [\"1\", \"1\", \"30m\\u00b2\", \"https://pe.olx.com.br/grande-recife/imoveis/no-apartamento-1-quarto-mobiliado-boa-viagem-piscinafestalavanderia-f-9-9-5-3-5-8-6-3-9-749187452\", \"Apartamentos\"], [\"1\", \"1\", \"40m\\u00b2\", \"https://pe.olx.com.br/grande-recife/imoveis/raridade-ap-mobiliado-em-predio-em-predio-vip-745408283\", \"Apartamentos\"], [\"1\", \"1\", \"30m\\u00b2\", \"https://pe.olx.com.br/grande-recife/imoveis/flat-mobiliado-top-com-lavanderia-755842149\", \"Apartamentos\"], [\"1\", \"1\", \"40m\\u00b2\", \"https://pe.olx.com.br/grande-recife/imoveis/apartamento-mobiliado-top-745737802\", \"Apartamentos\"], [\"1\", \"1\", \"30m\\u00b2\", \"https://pe.olx.com.br/grande-recife/imoveis/ec-flat-mobiliado-nascente-com-lazer-em-boa-viagem-753749644\", \"Apartamentos\"], [\"1\", \"1\", \"30m\\u00b2\", \"https://pe.olx.com.br/grande-recife/imoveis/ec-flat-mobiliado-nascente-com-lazer-em-boa-viagem-753747930\", \"Apartamentos\"], [\"1\", \"1\", \"35m\\u00b2\", \"https://pe.olx.com.br/grande-recife/imoveis/flat-r-1-500--com-internet-e-2vagas-734221065\", \"Apartamentos\"], [\"1\", \"1\", \"40m\\u00b2\", \"https://pe.olx.com.br/grande-recife/imoveis/boa-viagem-edf-luar-de-bali-01-qt-lazer-r-1-500-00-com-taxas-inclusas-754838536\", \"Apartamentos\"], [\"3\", \"2\", \"68m\\u00b2\", \"https://pe.olx.com.br/grande-recife/imoveis/apto-3-quartos-direto-com-o-proprietario-boa-viagem-7557-691874466\", \"Apartamentos\"], [\"1\", \"1\", \"30m\\u00b2\", \"https://pe.olx.com.br/grande-recife/imoveis/apartamento-1-quarto-mobiliado-no-melhor-de-boa-viagem-proximo-praia-c-servico-camareira-737039890\", \"Apartamentos\"], [\"1\", \"1\", \"30m\\u00b2\", \"https://pe.olx.com.br/grande-recife/imoveis/r-1-500-com-taxas-flat-com-varanda-741795757\", \"Apartamentos\"], [\"1\", \"1\", \"35m\\u00b2\", \"https://pe.olx.com.br/grande-recife/imoveis/r-1-500-agua-gas-e-internet-inclusos-739858619\", \"Apartamentos\"], [\"1\", \"1\", \"30m\\u00b2\", \"https://pe.olx.com.br/grande-recife/imoveis/studio-mobiliado-com-camareira-lavanderia-piscina-e-salao-de-festas-744650089\", \"Apartamentos\"], [\"1\", \"1\", \"40m\\u00b2\", \"https://pe.olx.com.br/grande-recife/imoveis/flat-mobiliado-ao-lado-do-colegio-boa-viagem-737522593\", \"Apartamentos\"], [\"1\", \"1\", \"31m\\u00b2\", \"https://pe.olx.com.br/grande-recife/imoveis/flat-totalmente-mobiliado-com-servico-de-camareira-744812026\", \"Apartamentos\"], [\"1\", \"1\", \"35m\\u00b2\", \"https://pe.olx.com.br/grande-recife/imoveis/alugo-na-jose-brandao-prox-ao-colegio-boa-viagem-756871192\", \"Apartamentos\"], [\"1\", \"1\", \"32m\\u00b2\", \"https://pe.olx.com.br/grande-recife/imoveis/so-r-1-500-c-taxas-com-varanda-743263902\", \"Apartamentos\"], [\"1\", \"1\", \"38m\\u00b2\", \"https://pe.olx.com.br/grande-recife/imoveis/flat-em-boa-viagem-rs-200-00-a-diaria-748779183\", \"Apartamentos\"], [\"1\", \"1\", \"0m\\u00b2\", \"https://pe.olx.com.br/grande-recife/imoveis/kitinettes-a-cem-metros-da-av-boa-viagem-entre-a-navegantes-e-a-conselheiro-aguiar-751238084\", \"Apartamentos\"], [\"1\", \"1\", \"30m\\u00b2\", \"https://pe.olx.com.br/grande-recife/imoveis/apartamento-1-quarto-mobiliado-em-boa-viagem-753217351\", \"Apartamentos\"], [\"1\", \"1\", \"\", \"https://pe.olx.com.br/grande-recife/imoveis/kitinettes-a-100m-da-av-boa-viagem-entre-a-navegantes-e-a-conselheiro-aguiar-629597946\", \"Apartamentos\"], [\"1\", \"1\", \"25m\\u00b2\", \"https://pe.olx.com.br/grande-recife/imoveis/so-r-1-400-com-taxas-quarto-separado-747014062\", \"Apartamentos\"], [\"3\", \"2\", \"65m\\u00b2\", \"https://pe.olx.com.br/grande-recife/imoveis/apartamento-em-boa-viagem-com-3-qts-proximo-santa-maria-751294617\", \"Apartamentos\"], [\"2\", \"2\", \"57m\\u00b2\", \"https://pe.olx.com.br/grande-recife/imoveis/confortavel-2-quartos-al-1-100-00-taxas-1736-00-745739440\", \"Apartamentos\"], [\"3\", \"2\", \"75m\\u00b2\", \"https://pe.olx.com.br/grande-recife/imoveis/edf-barlavento-em-boa-viagem-750113042\", \"Apartamentos\"], [\"1\", \"1\", \"28m\\u00b2\", \"https://pe.olx.com.br/grande-recife/imoveis/apartamento-para-alugar-com-1-dormitorios-em-boa-viagem-recife-cod-l-0003-752364817\", \"Apartamentos\"], [\"1\", \"1\", \"40m\\u00b2\", \"https://pe.olx.com.br/grande-recife/imoveis/belissimo-apartamento-de-1-4-748096492\", \"Apartamentos\"], [\"1\", \"1\", \"\", \"https://pe.olx.com.br/grande-recife/imoveis/flat-localizacao-exc-repente-e-m-maranguape-i-737673133\", \"Apartamentos\"], [\"1\", \"1\", \"25m\\u00b2\", \"https://pe.olx.com.br/grande-recife/imoveis/r-1-400-com-taxas-inclusas-imperdivel-745983441\", \"Apartamentos\"], [\"1\", \"1\", \"35m\\u00b2\", \"https://pe.olx.com.br/grande-recife/imoveis/lindo-flat-mobiliado-proximo-a-praia-de-boa-viagem-752663138\", \"Apartamentos\"], [\"1\", \"1\", \"30m\\u00b2\", \"https://pe.olx.com.br/grande-recife/imoveis/alugo-flat-mobiliado-em-boa-viagem-30-m-lazer-proximo-ao-colegio-santa-maria-755009739\", \"Apartamentos\"], [\"1\", \"1\", \"35m\\u00b2\", \"https://pe.olx.com.br/grande-recife/imoveis/alugo-lindo-flat-mobiliado-boa-viagem-1400-txs-inclusas-excelente-localizacao-721804243\", \"Apartamentos\"], [\"1\", \"1\", \"28m\\u00b2\", \"https://pe.olx.com.br/grande-recife/imoveis/flat-mobiliado-no-coracao-de-boa-viagem-com-lazer-753934197\", \"Apartamentos\"], [\"1\", \"1\", \"34m\\u00b2\", \"https://pe.olx.com.br/grande-recife/imoveis/aluguel-apartamento-luxo-1-quarto-757042173\", \"Apartamentos\"], [\"1\", \"1\", \"32m\\u00b2\", \"https://pe.olx.com.br/grande-recife/imoveis/flat-mobiliado-1500-com-taxas-738394667\", \"Apartamentos\"], [\"1\", \"1\", \"25m\\u00b2\", \"https://pe.olx.com.br/grande-recife/imoveis/so-r-1-410-com-taxas-inclusas-baixamos-750606680\", \"Apartamentos\"], [\"1\", \"1\", \"25m\\u00b2\", \"https://pe.olx.com.br/grande-recife/imoveis/perto-do-santa-maria-e-do-carrefour-show-748371324\", \"Apartamentos\"], [\"1\", \"1\", \"28m\\u00b2\", \"https://pe.olx.com.br/grande-recife/imoveis/apartamento-30m-sendo-1-quarto-1-banheiro-social-1-vaga-mobiliado-em-boa-viagem-756334561\", \"Apartamentos\"], [\"1\", \"1\", \"38m\\u00b2\", \"https://pe.olx.com.br/grande-recife/imoveis/sim-apartamento-com-01-quarto-38m-mobiliado-r-1-500-com-taxas-em-boa-viagem-757347512\", \"Apartamentos\"], [\"2\", \"1\", \"\", \"https://pe.olx.com.br/grande-recife/imoveis/apartamento-terreo-a-dois-quarteiroes-do-patteo-olinda-734362896\", \"Apartamentos\"], [\"1\", \"1\", \"35m\\u00b2\", \"https://pe.olx.com.br/grande-recife/imoveis/mobiliado-1qto-lavanderia-piscina-ao-lado-do-cole-santa-maria-1-350-sem-fiador-756263627\", \"Apartamentos\"], [\"1\", \"1\", \"39m\\u00b2\", \"https://pe.olx.com.br/grande-recife/imoveis/alugo-flat-lindo-em-boa-viagem-desconto-de-100-00-por-6-meses-750735563\", \"Apartamentos\"], [\"2\", \"1\", \"65m\\u00b2\", \"https://pe.olx.com.br/grande-recife/imoveis/apartamento-para-aluguel-2-quartos-1-vaga-boa-viagem-recife-pe-743877683\", \"Apartamentos\"], [\"1\", \"1\", \"33m\\u00b2\", \"https://pe.olx.com.br/grande-recife/imoveis/flat-para-aluguel-1-quarto-1-vaga-boa-viagem-recife-pe-755011553\", \"Apartamentos\"], [\"3\", \"3\", \"85m\\u00b2\", \"https://pe.olx.com.br/grande-recife/imoveis/aluga-se-apartamento-em-boa-viagem-741370177\", \"Apartamentos\"], [\"2\", \"1\", \"40m\\u00b2\", \"https://pe.olx.com.br/grande-recife/imoveis/apartamento-para-aluguel-2-quartos-boa-viagem-recife-pe-735560961\", \"Apartamentos\"], [\"3\", \"3\", \"110m\\u00b2\", \"https://pe.olx.com.br/grande-recife/imoveis/apartamento-para-aluguel-com-3-quartos-e-dce-em-boa-viagem-754572858\", \"Apartamentos\"], [\"1\", \"1\", \"35m\\u00b2\", \"https://pe.olx.com.br/grande-recife/imoveis/apartamento-para-aluguel-1-quarto-1-vaga-boa-viagem-recife-pe-754292898\", \"Apartamentos\"], [\"1\", \"1\", \"35m\\u00b2\", \"https://pe.olx.com.br/grande-recife/imoveis/apartamento-para-aluguel-1-quarto-1-vaga-boa-viagem-recife-pe-754292893\", \"Apartamentos\"], [\"1\", \"1\", \"34m\\u00b2\", \"https://pe.olx.com.br/grande-recife/imoveis/apartamento-05-b-no-terreo-gradeado-mobiliado-todo-novinho-pertinho-do-mar-740155455\", \"Apartamentos\"], [\"1\", \"1\", \"35m\\u00b2\", \"https://pe.olx.com.br/grande-recife/imoveis/apt-05-a-sala-e-quarto-todo-mobiliado-com-localizcao-extraordinaria-em-boa-viagem-567162837\", \"Apartamentos\"], [\"2\", \"1\", \"80m\\u00b2\", \"https://pe.olx.com.br/grande-recife/imoveis/alugo-apartamento-755661830\", \"Apartamentos\"], [\"1\", \"1\", \"50m\\u00b2\", \"https://pe.olx.com.br/grande-recife/imoveis/alugo-apto-755990667\", \"Apartamentos\"], [\"1\", \"1\", \"34m\\u00b2\", \"https://pe.olx.com.br/grande-recife/imoveis/apartamento-mobiliado-bem-localizado-pertinho-da-praia-extra-boa-viagem-672383716\", \"Apartamentos\"], [\"1\", \"1\", \"35m\\u00b2\", \"https://pe.olx.com.br/grande-recife/imoveis/apartamento-para-aluguel-1-quarto-boa-viagem-recife-pe-725201487\", \"Apartamentos\"], [\"1\", \"1\", \"0m\\u00b2\", \"https://pe.olx.com.br/grande-recife/imoveis/apartamento-para-alugar-flet-mobiliado-com-qualidade-747165386\", \"Apartamentos\"], [\"1\", \"1\", \"30m\\u00b2\", \"https://pe.olx.com.br/grande-recife/imoveis/apartamento-boa-viagem-quarto-e-sala-vigesimo-andar-r-1-500-ja-com-taxas-741401913\", \"Apartamentos\"], [\"1\", \"1\", \"30m\\u00b2\", \"https://pe.olx.com.br/grande-recife/imoveis/flat-para-aluguel-1-quarto-1-vaga-boa-viagem-recife-pe-739266914\", \"Apartamentos\"], [\"2\", \"2\", \"\", \"https://pe.olx.com.br/grande-recife/imoveis/bom-e-pratico-apartamento-em-boa-viagem-recife-pe-682372692\", \"Apartamentos\"], [\"2\", \"1\", \"\", \"https://pe.olx.com.br/grande-recife/imoveis/apartamento-mobiliado-para-temporada-737318629\", \"Apartamentos\"], [\"1\", \"1\", \"60m\\u00b2\", \"https://pe.olx.com.br/grande-recife/imoveis/apartamento-quarto-e-sala-mobiliado-em-boa-viagem-745690452\", \"Apartamentos\"], [\"1\", \"1\", \"\", \"https://pe.olx.com.br/grande-recife/imoveis/ap-1-qto-todo-mob-1250-00-746244122\", \"Apartamentos\"], [\"3\", \"1\", \"120m\\u00b2\", \"https://pe.olx.com.br/grande-recife/imoveis/apartamento-para-aluguel-3-quartos-1-vaga-boa-viagem-recife-pe-743877687\", \"Apartamentos\"], [\"2\", \"2\", \"\", \"https://pe.olx.com.br/grande-recife/imoveis/aluguel-de-quarto-compartilhado-737261381\", \"Apartamentos\"], [\"3\", \"2\", \"80m\\u00b2\", \"https://pe.olx.com.br/grande-recife/imoveis/r-1-500-00-apt-3-quartos-sendo-1-reversivel-com-wc-715675529\", \"Apartamentos\"], [\"3\", \"2\", \"147m\\u00b2\", \"https://pe.olx.com.br/grande-recife/imoveis/tf000031-ao-lado-do-shopping-recife-756475465\", \"Apartamentos\"], [\"2\", \"1\", \"43m\\u00b2\", \"https://pe.olx.com.br/grande-recife/imoveis/edf-shopping-park-2-quartos-43m-em-frente-a-estacao-de-metro-757206903\", \"Apartamentos\"], [\"3\", \"1\", \"120m\\u00b2\", \"https://pe.olx.com.br/grande-recife/imoveis/apartamento-para-aluguel-3-quartos-1-vaga-boa-viagem-recife-pe-722945527\", \"Apartamentos\"], [\"1\", \"1\", \"36m\\u00b2\", \"https://pe.olx.com.br/grande-recife/imoveis/1qto-36m-mobiliado-varanda-todas-as-taxas-inclusas-732289752\", \"Apartamentos\"], [\"1\", \"1\", \"28m\\u00b2\", \"https://pe.olx.com.br/grande-recife/imoveis/flat-em-setubal-com-28m2-vista-mar-quarto-separado-735882821\", \"Apartamentos\"], [\"3\", \"3\", \"160m\\u00b2\", \"https://pe.olx.com.br/grande-recife/imoveis/ap-perto-do-shop-recife-grande-e-com-moveis-planejados-756511079\", \"Apartamentos\"], [\"3\", \"2\", \"70m\\u00b2\", \"https://pe.olx.com.br/grande-recife/imoveis/aluguel-em-boa-viagem-755685689\", \"Apartamentos\"], [\"1\", \"1\", \"35m\\u00b2\", \"https://pe.olx.com.br/grande-recife/imoveis/alugo-apartamento-753740522\", \"Apartamentos\"], [\"1\", \"1\", \"\", \"https://pe.olx.com.br/grande-recife/imoveis/ap-flat-boa-viagem-perto-mar-e-shopping-recife-753706490\", \"Apartamentos\"], [\"1\", \"1\", \"0m\\u00b2\", \"https://pe.olx.com.br/grande-recife/imoveis/preco-imbativel-tempo-de-pandemia-baixamos-p-alugar-rapido-apt-1-quarto-predio-c-piscina-749315356\", \"Apartamentos\"], [\"1\", \"1\", \"0m\\u00b2\", \"https://pe.olx.com.br/grande-recife/imoveis/excelente-apt-um-quarto-predio-com-piscina-baixamos-em-tempo-de-pandemia-750122474\", \"Apartamentos\"], [\"1\", \"1\", \"100m\\u00b2\", \"https://pe.olx.com.br/grande-recife/imoveis/tempo-de-crise-valor-imbativel-apt-1-quarto-predio-com-piscina-e-ha-200-metros-da-praia-745804055\", \"Apartamentos\"], [\"1\", \"1\", \"31m\\u00b2\", \"https://pe.olx.com.br/grande-recife/imoveis/apartamento-tipo-studio-em-boa-viagem-664027659\", \"Apartamentos\"], [\"1\", \"1\", \"32m\\u00b2\", \"https://pe.olx.com.br/grande-recife/imoveis/apartamento-flat-em-boa-viagem-1-quarto-ja-com-taxas-inclusas-740165202\", \"Apartamentos\"], [\"1\", \"1\", \"32m\\u00b2\", \"https://pe.olx.com.br/grande-recife/imoveis/apartamento-studio-em-boa-viagem-1-quarto-ja-com-taxas-inclusas-735391444\", \"Apartamentos\"], [\"1\", \"1\", \"40m\\u00b2\", \"https://pe.olx.com.br/grande-recife/imoveis/apartamento-flat-em-boa-viagem-1-quarto-ja-com-taxas-inclusas-735397884\", \"Apartamentos\"], [\"1\", \"1\", \"40m\\u00b2\", \"https://pe.olx.com.br/grande-recife/imoveis/apartamento-1-quarto-sem-mobiliado-em-boa-viagem-635373099\", \"Apartamentos\"], [\"1\", \"1\", \"40m\\u00b2\", \"https://pe.olx.com.br/grande-recife/imoveis/apartamento-com-1-dormitorio-no-coracao-de-boa-viagem-642745411\", \"Apartamentos\"], [\"1\", \"1\", \"43m\\u00b2\", \"https://pe.olx.com.br/grande-recife/imoveis/apartamento-em-otima-localizacao-em-boa-viagem-1-quarto-ja-com-taxas-inclusas-755972084\", \"Apartamentos\"], [\"2\", \"1\", \"\", \"https://pe.olx.com.br/grande-recife/imoveis/dividir-apartamento-vaga-de-um-quarto-753230442\", \"Apartamentos\"], [\"1\", \"1\", \"45m\\u00b2\", \"https://pe.olx.com.br/grande-recife/imoveis/excelente-1-quarto-45m-mobiliado-localizacao-fantastica-no-coracao-de-boa-viagem-752961967\", \"Apartamentos\"], [\"2\", \"2\", \"0m\\u00b2\", \"https://pe.olx.com.br/grande-recife/imoveis/apartamento-em-boa-viagem-689816017\", \"Apartamentos\"], [\"2\", \"2\", \"0m\\u00b2\", \"https://pe.olx.com.br/grande-recife/imoveis/apartamento-em-boa-viagem-718878727\", \"Apartamentos\"], [\"2\", \"2\", \"65m\\u00b2\", \"https://pe.olx.com.br/grande-recife/imoveis/neri-2qts-65m2-var-c-elev-ao-lado-shop-recife-so-1500-tudo-747550580\", \"Apartamentos\"], [\"2\", \"2\", \"701m\\u00b2\", \"https://pe.olx.com.br/grande-recife/imoveis/2-quartos-oportunidade-751516896\", \"Apartamentos\"], [\"1\", \"1\", \"45m\\u00b2\", \"https://pe.olx.com.br/grande-recife/imoveis/apartamento-mobiliado-749890227\", \"Apartamentos\"], [\"2\", \"2\", \"65m\\u00b2\", \"https://pe.olx.com.br/grande-recife/imoveis/2-quartos-dependencia-em-setubal-630784919\", \"Apartamentos\"], [\"1\", \"1\", \"0m\\u00b2\", \"https://pe.olx.com.br/grande-recife/imoveis/apto-1qto-boa-viagem-ao-lado-da-pracinha-de-boa-viagem-753925479\", \"Apartamentos\"], [\"3\", \"1\", \"100m\\u00b2\", \"https://pe.olx.com.br/grande-recife/imoveis/apartamento-para-aluguel-3-quartos-1-vaga-boa-viagem-recife-pe-757058091\", \"Apartamentos\"], [\"3\", \"2\", \"95m\\u00b2\", \"https://pe.olx.com.br/grande-recife/imoveis/apartamento-3-quartos-na-av-cons-aguiar-50-mts-da-praia-736927111\", \"Apartamentos\"], [\"1\", \"1\", \"25m\\u00b2\", \"https://pe.olx.com.br/grande-recife/imoveis/flat-mobiliado-em-boa-viagem-1500-00-745364282\", \"Apartamentos\"], [\"3\", \"2\", \"80m\\u00b2\", \"https://pe.olx.com.br/grande-recife/imoveis/aluguel-de-apartamento-em-boa-viagem-recife-pe-747307686\", \"Apartamentos\"], [\"2\", \"1\", \"46m\\u00b2\", \"https://pe.olx.com.br/grande-recife/imoveis/shoping-praia-lazer-taxas-ja-inclusas-751603278\", \"Apartamentos\"], [\"1\", \"1\", \"\", \"https://pe.olx.com.br/grande-recife/imoveis/apartamento-mobiliado-748924802\", \"Apartamentos\"], [\"2\", \"1\", \"50m\\u00b2\", \"https://pe.olx.com.br/grande-recife/imoveis/1-ou-2-quartos-mobilia-completa-753571888\", \"Apartamentos\"], [\"2\", \"1\", \"51m\\u00b2\", \"https://pe.olx.com.br/grande-recife/imoveis/1-ou-dois-quartos-com-ou-sem-mobilia-aqui-quem-manda-e-o-fregues-752639736\", \"Apartamentos\"], [\"2\", \"2\", \"60m\\u00b2\", \"https://pe.olx.com.br/grande-recife/imoveis/exclente-2-quartos-60-metros-mobilia-completa-749597468\", \"Apartamentos\"], [\"1\", \"2\", \"75m\\u00b2\", \"https://pe.olx.com.br/grande-recife/imoveis/aluguel-de-quarto-para-mocas-em-boa-viagem-dona-horacelia-697513946\", \"Apartamentos\"], [\"2\", \"3\", \"70m\\u00b2\", \"https://pe.olx.com.br/grande-recife/imoveis/apartamento-para-locacao-em-recife-espinheiro-2-dormitorios-1-suite-3-banheiros-1-vag-743549799\", \"Apartamentos\"], [\"1\", \"1\", \"40m\\u00b2\", \"https://pe.olx.com.br/grande-recife/imoveis/mobilia-completa-praia-shoping-taxas-inclusas-751866256\", \"Apartamentos\"], [\"1\", \"1\", \"40m\\u00b2\", \"https://pe.olx.com.br/grande-recife/imoveis/taxas-inclusas-5-minutos-da-praia-752637883\", \"Apartamentos\"], [\"2\", \"1\", \"55m\\u00b2\", \"https://pe.olx.com.br/grande-recife/imoveis/1-ou-2-quartos--mobiliado-754328046\", \"Apartamentos\"], [\"3\", \"3\", \"120m\\u00b2\", \"https://pe.olx.com.br/grande-recife/imoveis/aluguel-apartamento-boa-viagem-3-quartos-731279174\", \"Apartamentos\"], [\"1\", \"1\", \"48m\\u00b2\", \"https://pe.olx.com.br/grande-recife/imoveis/apartamento-mobiliado-boa-viagem-excelente-706176038\", \"Apartamentos\"], [\"2\", \"1\", \"50m\\u00b2\", \"https://pe.olx.com.br/grande-recife/imoveis/qual-a-sua-necessidade-eu-tenho-a-solucao-755624391\", \"Apartamentos\"], [\"1\", \"1\", \"\", \"https://pe.olx.com.br/grande-recife/imoveis/aluga-se-kitnet-754565745\", \"Apartamentos\"], [\"3\", \"1\", \"1711m\\u00b2\", \"https://pe.olx.com.br/grande-recife/imoveis/apartamento-para-aluguel-3-quartos-2-vagas-boa-viagem-recife-pe-739267214\", \"Apartamentos\"], [\"1\", \"1\", \"28m\\u00b2\", \"https://pe.olx.com.br/grande-recife/imoveis/flat-setubal-super-ventilado-vista-mar-28m-quarto-separado-751303173\", \"Apartamentos\"], [\"2\", \"1\", \"45m\\u00b2\", \"https://pe.olx.com.br/grande-recife/imoveis/vg-aluga-shopping-park-752002488\", \"Apartamentos\"], [\"1\", \"1\", \"29m\\u00b2\", \"https://pe.olx.com.br/grande-recife/imoveis/apartamento-com-quarto-para-aluguel-25m-em-boa-viagem-757183233\", \"Apartamentos\"], [\"1\", \"1\", \"37m\\u00b2\", \"https://pe.olx.com.br/grande-recife/imoveis/alugo-apartamento-mobiliado-ao-lado-do-shopping-recife-em-boa-viagem-686046439\", \"Apartamentos\"], [\"1\", \"1\", \"25m\\u00b2\", \"https://pe.olx.com.br/grande-recife/imoveis/vg-aluga-edf-golden-home-shopping-studio-mob-1400-751984961\", \"Apartamentos\"], [\"1\", \"1\", \"\", \"https://pe.olx.com.br/grande-recife/imoveis/flat-kitnet-mobiliado-boa-viagem-754834763\", \"Apartamentos\"], [\"1\", \"1\", \"\", \"https://pe.olx.com.br/grande-recife/imoveis/vaga-em-apartamento-em-boa-viagem-756229389\", \"Apartamentos\"], [\"2\", \"2\", \"80m\\u00b2\", \"https://pe.olx.com.br/grande-recife/imoveis/oportunidade-em-boa-viagem-perto-do-colegio-santos-dumont-2-qts-dependencia-80m-753604161\", \"Apartamentos\"], [\"2\", \"2\", \"\", \"https://pe.olx.com.br/grande-recife/imoveis/alugo-apartamento-754083917\", \"Apartamentos\"], [\"2\", \"1\", \"50m\\u00b2\", \"https://pe.olx.com.br/grande-recife/imoveis/apartamento-para-alugar-com-2-dormitorios-em-boa-viagem-recife-cod-3689-752220273\", \"Apartamentos\"], [\"1\", \"1\", \"30m\\u00b2\", \"https://pe.olx.com.br/grande-recife/imoveis/pc-alugo-flat-mobiliado-perto-do-shopping-recife-752750230\", \"Apartamentos\"], [\"3\", \"2\", \"100m\\u00b2\", \"https://pe.olx.com.br/grande-recife/imoveis/apartamento-3quartos-boa-viagem-755063073\", \"Apartamentos\"], [\"3\", \"2\", \"70m\\u00b2\", \"https://pe.olx.com.br/grande-recife/imoveis/3-qtos-suite-com-armarios-e-cozinha-equipada-boa-viagem-prox-shop-recife-e-faculdade-757536966\", \"Apartamentos\"], [\"2\", \"2\", \"50m\\u00b2\", \"https://pe.olx.com.br/grande-recife/imoveis/lf-alugo-apartamento-proximo-a-nassau-2-quartos-com-moveis-com-lazer-733615085\", \"Apartamentos\"], [\"2\", \"2\", \"50m\\u00b2\", \"https://pe.olx.com.br/grande-recife/imoveis/apartamento-mobiliado-boa-viagem-751948192\", \"Apartamentos\"], [\"1\", \"1\", \"33m\\u00b2\", \"https://pe.olx.com.br/grande-recife/imoveis/pc-alugo-flat-mobiliado-prox-ao-colegio-santa-maria-752760978\", \"Apartamentos\"], [\"3\", \"1\", \"1009m\\u00b2\", \"https://pe.olx.com.br/grande-recife/imoveis/apartamento-para-aluguel-3-quartos-2-vagas-boa-viagem-recife-pe-754327148\", \"Apartamentos\"], [\"1\", \"1\", \"35m\\u00b2\", \"https://pe.olx.com.br/grande-recife/imoveis/apartamento-para-aluguel-1-quarto-boa-viagem-recife-pe-756645438\", \"Apartamentos\"], [\"3\", \"3\", \"110m\\u00b2\", \"https://pe.olx.com.br/grande-recife/imoveis/alugo-apto-203-edf-portal-do-amazonas-boa-viagem-558680017\", \"Apartamentos\"], [\"2\", \"2\", \"60m\\u00b2\", \"https://pe.olx.com.br/grande-recife/imoveis/boa-viagem-60-m-2-qts-perto-de-tudo-recem-reformado-741846722\", \"Apartamentos\"], [\"1\", \"1\", \"35m\\u00b2\", \"https://pe.olx.com.br/grande-recife/imoveis/1-sala-e-quarto-mobiliado-lazer-proximo-giro-e-mar-boa-viagem-452979118\", \"Apartamentos\"], [\"2\", \"1\", \"50m\\u00b2\", \"https://pe.olx.com.br/grande-recife/imoveis/apartamento-102-4-pavimento-mobiliado-2-quartos-praia-boa-viagem-perto-do-calcadao-698898542\", \"Apartamentos\"], [\"1\", \"1\", \"35m\\u00b2\", \"https://pe.olx.com.br/grande-recife/imoveis/mobiliado-ap-14-a-sala-e-quarto-wi-fi-e-2-lcd-pertinho-do-mar-756788096\", \"Apartamentos\"], [\"1\", \"1\", \"\", \"https://pe.olx.com.br/grande-recife/imoveis/flat-para-alugar-em-boa-viagem-735004026\", \"Apartamentos\"], [\"1\", \"1\", \"35m\\u00b2\", \"https://pe.olx.com.br/grande-recife/imoveis/flat-305-para-3-pesssoas-pertinho-da-praia-de-boa-viagem-wi-fi-e-garagem-753305075\", \"Apartamentos\"], [\"1\", \"1\", \"34m\\u00b2\", \"https://pe.olx.com.br/grande-recife/imoveis/mobiliadissimo-com-sala-e-quarto-tipo-studio-boa-viagem-prox-a-praia-627276442\", \"Apartamentos\"], [\"1\", \"1\", \"33m\\u00b2\", \"https://pe.olx.com.br/grande-recife/imoveis/aluguel-em-recife-boa-viagem-praia-e-shopping-varios-em-boa-viagem-198018358\", \"Apartamentos\"], [\"1\", \"1\", \"34m\\u00b2\", \"https://pe.olx.com.br/grande-recife/imoveis/flat-203-com-sala-e-quarto-melhor-local-de-boa-viagem-wi-fi-garagem-marcada-753051650\", \"Apartamentos\"], [\"2\", \"1\", \"65m\\u00b2\", \"https://pe.olx.com.br/grande-recife/imoveis/apto-c-02-qtos-em-local-px-de-tudo-e-mar-751348013\", \"Apartamentos\"], [\"2\", \"2\", \"0m\\u00b2\", \"https://pe.olx.com.br/grande-recife/imoveis/apartamento-proximo-ao-terminal-de-boa-viagem-749623130\", \"Apartamentos\"], [\"2\", \"1\", \"65m\\u00b2\", \"https://pe.olx.com.br/grande-recife/imoveis/apto-c-02-quartos-em-local-px-de-tudo-nar-755443663\", \"Apartamentos\"], [\"3\", \"2\", \"130m\\u00b2\", \"https://pe.olx.com.br/grande-recife/imoveis/alugo-apartamento-com-130-metros-quadrados-com-3-quartos-em-boa-viagem-757074469\", \"Apartamentos\"], [\"2\", \"2\", \"75m\\u00b2\", \"https://pe.olx.com.br/grande-recife/imoveis/apartamento-com-2-quartos-um-quarto-reversivel-e-uma-vaga-em-boa-viagem-750447233\", \"Apartamentos\"], [\"1\", \"1\", \"30m\\u00b2\", \"https://pe.olx.com.br/grande-recife/imoveis/flat-mobiliado-com-servico-de-camareira-753816957\", \"Apartamentos\"], [\"1\", \"1\", \"50m\\u00b2\", \"https://pe.olx.com.br/grande-recife/imoveis/flat-top-mobiliado-b-viagem-753272296\", \"Apartamentos\"], [\"1\", \"1\", \"39m\\u00b2\", \"https://pe.olx.com.br/grande-recife/imoveis/apartamento-com-quarto-mobiliado-para-locacao-39m-em-boa-viagem-756922117\", \"Apartamentos\"], [\"1\", \"1\", \"38m\\u00b2\", \"https://pe.olx.com.br/grande-recife/imoveis/flat-mobiliado-boa-viagem-belissimo-754763106\", \"Apartamentos\"], [\"1\", \"1\", \"30m\\u00b2\", \"https://pe.olx.com.br/grande-recife/imoveis/apartamento-kitnet-para-alugar-no-bairro-de-boa-viagem-recife-pe-755248932\", \"Apartamentos\"], [\"1\", \"1\", \"25m\\u00b2\", \"https://pe.olx.com.br/grande-recife/imoveis/apartamento-mobiliado-em-boa-viagem-com-1-quarto-25m2-lazer-completo-756804605\", \"Apartamentos\"], [\"1\", \"1\", \"28m\\u00b2\", \"https://pe.olx.com.br/grande-recife/imoveis/flat-mobiliado-boa-viagem-732035247\", \"Apartamentos\"], [\"1\", \"1\", \"25m\\u00b2\", \"https://pe.olx.com.br/grande-recife/imoveis/apartamento-mobiliado-em-boa-viagem-com-1-quarto-nascente-andar-alto-e-area-de-lazer-731819445\", \"Apartamentos\"], [\"1\", \"1\", \"\", \"https://pe.olx.com.br/grande-recife/imoveis/aluguel-742739329\", \"Apartamentos\"], [\"1\", \"1\", \"25m\\u00b2\", \"https://pe.olx.com.br/grande-recife/imoveis/apartamento-mobiliado-em-boa-viagem-com-1-quarto-25m2-andar-alto-e-lazer-739094567\", \"Apartamentos\"], [\"1\", \"1\", \"25m\\u00b2\", \"https://pe.olx.com.br/grande-recife/imoveis/na-ribeiro-de-brito-moveis-modulados-o-studio-de-primeira-736870431\", \"Apartamentos\"], [\"1\", \"1\", \"25m\\u00b2\", \"https://pe.olx.com.br/grande-recife/imoveis/estudio-em-boa-viagem-751128998\", \"Apartamentos\"], [\"1\", \"1\", \"28m\\u00b2\", \"https://pe.olx.com.br/grande-recife/imoveis/flat-mobiliado-boa-viagem-751292578\", \"Apartamentos\"], [\"1\", \"1\", \"27m\\u00b2\", \"https://pe.olx.com.br/grande-recife/imoveis/apartamento-mobiliado-em-boa-viagem-com-1-quarto-27m2-nascente-andar-alto-e-lazer-752236278\", \"Apartamentos\"], [\"1\", \"1\", \"25m\\u00b2\", \"https://pe.olx.com.br/grande-recife/imoveis/aluguel-flat-1-quarto-boa-viagem-mobiliado-733498321\", \"Apartamentos\"], [\"1\", \"1\", \"35m\\u00b2\", \"https://pe.olx.com.br/grande-recife/imoveis/edf-golden-shopping-home-service-754429049\", \"Apartamentos\"], [\"1\", \"1\", \"25m\\u00b2\", \"https://pe.olx.com.br/grande-recife/imoveis/apartamento-para-aluguel-1-quarto-1-vaga-boa-viagem-recife-pe-752594179\", \"Apartamentos\"], [\"1\", \"1\", \"25m\\u00b2\", \"https://pe.olx.com.br/grande-recife/imoveis/apartamento-mobiliado-em-boa-viagem-com-1-quarto-nascente-andar-alto-e-lazer-753380888\", \"Apartamentos\"], [\"1\", \"1\", \"28m\\u00b2\", \"https://pe.olx.com.br/grande-recife/imoveis/flat-mobiliado-boa-viagem-lindo-753653779\", \"Apartamentos\"], [\"1\", \"1\", \"28m\\u00b2\", \"https://pe.olx.com.br/grande-recife/imoveis/flat-mobiliado-proximo-ao-shopping-recife-andar-alto-com-lazer-753928671\", \"Apartamentos\"], [\"1\", \"1\", \"25m\\u00b2\", \"https://pe.olx.com.br/grande-recife/imoveis/apartamento-para-aluguel-1-quarto-1-vaga-boa-viagem-recife-pe-754292960\", \"Apartamentos\"], [\"1\", \"1\", \"30m\\u00b2\", \"https://pe.olx.com.br/grande-recife/imoveis/alugo-flat-em-boa-viagem-741116909\", \"Apartamentos\"], [\"1\", \"1\", \"45m\\u00b2\", \"https://pe.olx.com.br/grande-recife/imoveis/apartamento-tipo-kitinet-mobiliado-em-boa-viagem-749486991\", \"Apartamentos\"], [\"1\", \"1\", \"50m\\u00b2\", \"https://pe.olx.com.br/grande-recife/imoveis/edificio-mont-blanc-753973387\", \"Apartamentos\"], [\"3\", \"2\", \"65m\\u00b2\", \"https://pe.olx.com.br/grande-recife/imoveis/apto-p-alugar-na-madalena-735650695\", \"Apartamentos\"], [\"2\", \"1\", \"\", \"https://pe.olx.com.br/grande-recife/imoveis/alugo-apto-mobiliado-em-boa-viagem-r-1-500-00-711281124\", \"Apartamentos\"], [\"2\", \"1\", \"\", \"https://pe.olx.com.br/grande-recife/imoveis/alugo-apto-mobiliado-em-boa-viagem-a-diaria-r-110-00-729824136\", \"Apartamentos\"], [\"2\", \"2\", \"60m\\u00b2\", \"https://pe.olx.com.br/grande-recife/imoveis/apartamento-2-qts-boa-viagem-vista-mar-nascente-757222867\", \"Apartamentos\"], [\"2\", \"2\", \"0m\\u00b2\", \"https://pe.olx.com.br/grande-recife/imoveis/apartamento-em-boa-viagem-recife-pe-734350984\", \"Apartamentos\"], [\"2\", \"1\", \"\", \"https://pe.olx.com.br/grande-recife/imoveis/apartamentos-2-quartos-ipsep-chico-city-734328692\", \"Apartamentos\"], [\"2\", \"1\", \"59m\\u00b2\", \"https://pe.olx.com.br/grande-recife/imoveis/apartamento-para-alugar-com-2-dormitorios-em-boa-viagem-recife-cod-207955-694413614\", \"Apartamentos\"], [\"2\", \"1\", \"60m\\u00b2\", \"https://pe.olx.com.br/grande-recife/imoveis/apartamento-para-alugar-com-2-dormitorios-em-boa-viagem-recife-cod-207956-690159307\", \"Apartamentos\"], [\"2\", \"2\", \"55m\\u00b2\", \"https://pe.olx.com.br/grande-recife/imoveis/apartamento-de-2-quartos-em-boa-viagem-751833689\", \"Apartamentos\"], [\"1\", \"1\", \"40m\\u00b2\", \"https://pe.olx.com.br/grande-recife/imoveis/r-s-apartamento-1-quarto-mobiliado-em-boa-viagem-752013161\", \"Apartamentos\"], [\"2\", \"2\", \"60m\\u00b2\", \"https://pe.olx.com.br/grande-recife/imoveis/apartamento-2-quartos-boa-viagem-vista-mar-748871178\", \"Apartamentos\"], [\"2\", \"2\", \"60m\\u00b2\", \"https://pe.olx.com.br/grande-recife/imoveis/apartamento-2-quartos-boa-viagem-esquina-domingos-ferreira-731408253\", \"Apartamentos\"], [\"1\", \"1\", \"\", \"https://pe.olx.com.br/grande-recife/imoveis/aluga-se-kit-net-em-boa-viagem-756491949\", \"Apartamentos\"], [\"1\", \"1\", \"35m\\u00b2\", \"https://pe.olx.com.br/grande-recife/imoveis/fica-tambem-proximo-da-escola-cicero-dias-748336217\", \"Apartamentos\"], [\"2\", \"2\", \"70m\\u00b2\", \"https://pe.olx.com.br/grande-recife/imoveis/apartamento-mobiliado-2-quartos-prox-escola-tecnica-cicero-dias-em-boa-viagem-752860641\", \"Apartamentos\"], [\"3\", \"2\", \"100m\\u00b2\", \"https://pe.olx.com.br/grande-recife/imoveis/apartamento-em-candeias-ha-500-mtrs-da-pista-733227927\", \"Apartamentos\"], [\"3\", \"2\", \"82m\\u00b2\", \"https://pe.olx.com.br/grande-recife/imoveis/excelente-oportunidade-576412294\", \"Apartamentos\"], [\"3\", \"2\", \"76m\\u00b2\", \"https://pe.olx.com.br/grande-recife/imoveis/quer-morar-em-boa-viagem--otimo-apartamento-com-a-melhor-oportunidade-752943512\", \"Apartamentos\"], [\"2\", \"1\", \"70m\\u00b2\", \"https://pe.olx.com.br/grande-recife/imoveis/apartamento-em-boa-viagem-747173039\", \"Apartamentos\"], [\"2\", \"2\", \"80m\\u00b2\", \"https://pe.olx.com.br/grande-recife/imoveis/edificio-ferreira-sampaio-2-quarto-s-boa-viagem-recife-447971883\", \"Apartamentos\"], [\"2\", \"1\", \"70m\\u00b2\", \"https://pe.olx.com.br/grande-recife/imoveis/boa-viagem-apartamento-pra-alugar-2-quartos-737536816\", \"Apartamentos\"], [\"3\", \"2\", \"100m\\u00b2\", \"https://pe.olx.com.br/grande-recife/imoveis/boa-viagem-3-qtos-2-1-com-armarios-otima-localizacao-1500-txs-inclusas-724214198\", \"Apartamentos\"], [\"1\", \"1\", \"45m\\u00b2\", \"https://pe.olx.com.br/grande-recife/imoveis/alugo-apartamento-mobiliado-em-boa-viagem-750757089\", \"Apartamentos\"], [\"2\", \"1\", \"50m\\u00b2\", \"https://pe.olx.com.br/grande-recife/imoveis/10-fotos-2-quartos-com-ou-sem-mobilia-752659471\", \"Apartamentos\"], [\"1\", \"1\", \"34m\\u00b2\", \"https://pe.olx.com.br/grande-recife/imoveis/mobilia-completa-confira-nas-fotos-723221343\", \"Apartamentos\"], [\"2\", \"1\", \"50m\\u00b2\", \"https://pe.olx.com.br/grande-recife/imoveis/novo-500-metros-do-shoping-recife-praia-aeroporto-749984906\", \"Apartamentos\"], [\"2\", \"1\", \"55m\\u00b2\", \"https://pe.olx.com.br/grande-recife/imoveis/2-quartos-lazer-completo-753679912\", \"Apartamentos\"], [\"2\", \"1\", \"49m\\u00b2\", \"https://pe.olx.com.br/grande-recife/imoveis/2-quartos-lazer-completo-taxas-ja-inclusas-753677414\", \"Apartamentos\"], [\"2\", \"1\", \"52m\\u00b2\", \"https://pe.olx.com.br/grande-recife/imoveis/2-quartos-lazer-completo-753676716\", \"Apartamentos\"], [\"2\", \"1\", \"49m\\u00b2\", \"https://pe.olx.com.br/grande-recife/imoveis/shoping-praia-e-aeroporto-taxas-ja-inclusas-752644164\", \"Apartamentos\"], [\"2\", \"1\", \"51m\\u00b2\", \"https://pe.olx.com.br/grande-recife/imoveis/shoping-recife-2-quartos-taxas-ja-inclusas-lazer-completo-753589214\", \"Apartamentos\"], [\"2\", \"1\", \"54m\\u00b2\", \"https://pe.olx.com.br/grande-recife/imoveis/2-quartos-lazer-completo-taxas-ja-inclusas-753671383\", \"Apartamentos\"], [\"2\", \"1\", \"47m\\u00b2\", \"https://pe.olx.com.br/grande-recife/imoveis/2-qautos-sem-mobilia-lazer-completo-de-tudo-shoping-recife-752681142\", \"Apartamentos\"], [\"1\", \"1\", \"38m\\u00b2\", \"https://pe.olx.com.br/grande-recife/imoveis/mobilia-compra-praia-shoping-internet-inclusa-750984148\", \"Apartamentos\"], [\"2\", \"1\", \"49m\\u00b2\", \"https://pe.olx.com.br/grande-recife/imoveis/shoping-praia-lazer-completo-752636979\", \"Apartamentos\"], [\"2\", \"1\", \"55m\\u00b2\", \"https://pe.olx.com.br/grande-recife/imoveis/com-ou-sem-mobilia-escolha-o-seu-755593373\", \"Apartamentos\"], [\"1\", \"1\", \"40m\\u00b2\", \"https://pe.olx.com.br/grande-recife/imoveis/tobilia-completa-ja-com-internet-e-taxas-inclusas-747570497\", \"Apartamentos\"], [\"2\", \"1\", \"55m\\u00b2\", \"https://pe.olx.com.br/grande-recife/imoveis/2-quartos-tudo-novo-lazer-complemto-753592110\", \"Apartamentos\"], [\"2\", \"1\", \"50m\\u00b2\", \"https://pe.olx.com.br/grande-recife/imoveis/novinho-e-com-lazer-completo-756950480\", \"Apartamentos\"], [\"2\", \"1\", \"48m\\u00b2\", \"https://pe.olx.com.br/grande-recife/imoveis/2-quartos-lazer-completo-taxas-inclusas-tudo-novo-747776422\", \"Apartamentos\"], [\"2\", \"1\", \"49m\\u00b2\", \"https://pe.olx.com.br/grande-recife/imoveis/lazer-completo-tudo-novo-taxas-ja-inclusas-shoping-e-praia-756250486\", \"Apartamentos\"], [\"2\", \"1\", \"48m\\u00b2\", \"https://pe.olx.com.br/grande-recife/imoveis/tudo-novo-area-de-lazer-completa-taxas-inclusas-751865802\", \"Apartamentos\"], [\"2\", \"1\", \"54m\\u00b2\", \"https://pe.olx.com.br/grande-recife/imoveis/20-fotos-tudo-novinho-area-de-lazer-completa-shoping-e-mar-753596049\", \"Apartamentos\"], [\"2\", \"1\", \"49m\\u00b2\", \"https://pe.olx.com.br/grande-recife/imoveis/novo-shoping-recife-aeroporto-praia-via-magie-lazer-completo-754281534\", \"Apartamentos\"], [\"2\", \"1\", \"52m\\u00b2\", \"https://pe.olx.com.br/grande-recife/imoveis/tudo-novo-piscina-7-minutos-da-praia-756425575\", \"Apartamentos\"], [\"2\", \"1\", \"50m\\u00b2\", \"https://pe.olx.com.br/grande-recife/imoveis/tudo-novo-area-de-lazer-completo-todas-as-taxas-inclusas-756253073\", \"Apartamentos\"], [\"2\", \"1\", \"52m\\u00b2\", \"https://pe.olx.com.br/grande-recife/imoveis/14-fotos--tudo-novo--shoping-recife-area-de-lazer-completa-754277954\", \"Apartamentos\"], [\"2\", \"1\", \"48m\\u00b2\", \"https://pe.olx.com.br/grande-recife/imoveis/excelente-2-quartos-tudo-novo-lazer-completo-todas-as-taxas-ja-inclusas-748050378\", \"Apartamentos\"], [\"2\", \"1\", \"49m\\u00b2\", \"https://pe.olx.com.br/grande-recife/imoveis/2-quartos-lazer-completo-taxa-inclusas-757085677\", \"Apartamentos\"], [\"2\", \"1\", \"50m\\u00b2\", \"https://pe.olx.com.br/grande-recife/imoveis/2-quartos-tudo-novo-lazer-completo-taxas-inclusas-756406593\", \"Apartamentos\"], [\"1\", \"1\", \"40m\\u00b2\", \"https://pe.olx.com.br/grande-recife/imoveis/1-ou-2-quartos--praia-e-shoping-tudo-incluso-750752277\", \"Apartamentos\"], [\"2\", \"1\", \"49m\\u00b2\", \"https://pe.olx.com.br/grande-recife/imoveis/novinho-lazer-completo-armarios-shoping-praia-753014724\", \"Apartamentos\"], [\"2\", \"1\", \"49m\\u00b2\", \"https://pe.olx.com.br/grande-recife/imoveis/2-quartos-lazer-completo-taxas-inclusas-750133573\", \"Apartamentos\"], [\"2\", \"1\", \"50m\\u00b2\", \"https://pe.olx.com.br/grande-recife/imoveis/lazer-completo--tudo-novo-749268221\", \"Apartamentos\"], [\"2\", \"1\", \"52m\\u00b2\", \"https://pe.olx.com.br/grande-recife/imoveis/2-quartos-lazer-completo-taxas-ja-inclusas-754320468\", \"Apartamentos\"], [\"2\", \"1\", \"48m\\u00b2\", \"https://pe.olx.com.br/grande-recife/imoveis/quartos-sao-dois-completo-e-o-lazer-inclusas-sao-as-taxas-752629768\", \"Apartamentos\"], [\"2\", \"1\", \"52m\\u00b2\", \"https://pe.olx.com.br/grande-recife/imoveis/tudo-novinho-lazer-completo-752645431\", \"Apartamentos\"], [\"2\", \"1\", \"50m\\u00b2\", \"https://pe.olx.com.br/grande-recife/imoveis/tudo-novo--lazer-completo-756419832\", \"Apartamentos\"], [\"2\", \"1\", \"49m\\u00b2\", \"https://pe.olx.com.br/grande-recife/imoveis/2-quartos-novo-lazer-taxas-inclusas-756433305\", \"Apartamentos\"], [\"1\", \"1\", \"40m\\u00b2\", \"https://pe.olx.com.br/grande-recife/imoveis/mobiliado--5-minutos-da-praia-752657424\", \"Apartamentos\"], [\"2\", \"1\", \"55m\\u00b2\", \"https://pe.olx.com.br/grande-recife/imoveis/2-quartos-lazer-completo-taxas-ja-inclusas-753668462\", \"Apartamentos\"], [\"2\", \"1\", \"50m\\u00b2\", \"https://pe.olx.com.br/grande-recife/imoveis/novinho-e-com-lazer-completo-756615318\", \"Apartamentos\"], [\"2\", \"1\", \"48m\\u00b2\", \"https://pe.olx.com.br/grande-recife/imoveis/2-quartos-nascente-varanda-vista-livre-754328367\", \"Apartamentos\"], [\"2\", \"1\", \"50m\\u00b2\", \"https://pe.olx.com.br/grande-recife/imoveis/2-quartos-tudo-novo-lazer-completo-740809437\", \"Apartamentos\"], [\"2\", \"1\", \"50m\\u00b2\", \"https://pe.olx.com.br/grande-recife/imoveis/mobilia-completa-752679457\", \"Apartamentos\"], [\"1\", \"1\", \"35m\\u00b2\", \"https://pe.olx.com.br/grande-recife/imoveis/flat-para-alugar-606343074\", \"Apartamentos\"], [\"3\", \"2\", \"120m\\u00b2\", \"https://pe.olx.com.br/grande-recife/imoveis/aluga-apartamento-candeias-localizacao-privilegiada-747830727\", \"Apartamentos\"], [\"1\", \"1\", \"\", \"https://pe.olx.com.br/grande-recife/imoveis/quarto-mobiliado-na-avenida-boa-viagem-753439762\", \"Apartamentos\"], [\"1\", \"1\", \"\", \"https://pe.olx.com.br/grande-recife/imoveis/alugo-flat-com-servicos-na-rua-setubal-756817232\", \"Apartamentos\"], [\"2\", \"2\", \"73m\\u00b2\", \"https://pe.olx.com.br/grande-recife/imoveis/cl-alugo-apart-sutubal-730978658\", \"Apartamentos\"], [\"2\", \"1\", \"100m\\u00b2\", \"https://pe.olx.com.br/grande-recife/imoveis/apartamento-para-aluguel-2-quartos-1-vaga-boa-viagem-recife-pe-752594285\", \"Apartamentos\"], [\"2\", \"1\", \"52m\\u00b2\", \"https://pe.olx.com.br/grande-recife/imoveis/20-fotos-o-anuncio-mais-completo-da-olx-755601795\", \"Apartamentos\"], [\"1\", \"1\", \"40m\\u00b2\", \"https://pe.olx.com.br/grande-recife/imoveis/r-s-apartamento-1-quarto-em-boa-viagem-prox-ao-parque-d-lindu-em-otimo-preco-730265893\", \"Apartamentos\"], [\"1\", \"1\", \"30m\\u00b2\", \"https://pe.olx.com.br/grande-recife/imoveis/alugo-flat-em-boa-viagem-732740301\", \"Apartamentos\"], [\"2\", \"1\", \"\", \"https://pe.olx.com.br/grande-recife/imoveis/flat-para-alugar-742554001\", \"Apartamentos\"], [\"1\", \"1\", \"35m\\u00b2\", \"https://pe.olx.com.br/grande-recife/imoveis/apartamento-746033113\", \"Apartamentos\"], [\"1\", \"1\", \"37m\\u00b2\", \"https://pe.olx.com.br/grande-recife/imoveis/edf-monaco-otima-localizacao-em-boa-viagem-1-quarto-mobiliado-81-9-742007773\", \"Apartamentos\"], [\"3\", \"2\", \"60m\\u00b2\", \"https://pe.olx.com.br/grande-recife/imoveis/en-alugo-apartamento-com-3-quartos-em-boa-viagem-746351600\", \"Apartamentos\"], [\"2\", \"2\", \"80m\\u00b2\", \"https://pe.olx.com.br/grande-recife/imoveis/super-oferta-alugo-1-400-c-taxas-edf-corvosier-642607358\", \"Apartamentos\"], [\"2\", \"2\", \"58m\\u00b2\", \"https://pe.olx.com.br/grande-recife/imoveis/alugo-apartamento-em-boa-viagem-setubal-737502313\", \"Apartamentos\"], [\"1\", \"1\", \"25m\\u00b2\", \"https://pe.olx.com.br/grande-recife/imoveis/gci-aluga-se-edf-costa-das-palmeiras-studio-1300-mobiliado-751977323\", \"Apartamentos\"], [\"2\", \"1\", \"60m\\u00b2\", \"https://pe.olx.com.br/grande-recife/imoveis/cl-apartamento-2-quartos-1-vaga-60m-em-boa-viagem-757215372\", \"Apartamentos\"], [\"1\", \"1\", \"25m\\u00b2\", \"https://pe.olx.com.br/grande-recife/imoveis/flat-em-setubal-602409594\", \"Apartamentos\"], [\"1\", \"1\", \"33m\\u00b2\", \"https://pe.olx.com.br/grande-recife/imoveis/apartamento-para-aluguel-1-quarto-1-vaga-boa-viagem-recife-pe-692255945\", \"Apartamentos\"], [\"2\", \"2\", \"52m\\u00b2\", \"https://pe.olx.com.br/grande-recife/imoveis/edificio-miramar-classic-753954598\", \"Apartamentos\"], [\"1\", \"1\", \"2469m\\u00b2\", \"https://pe.olx.com.br/grande-recife/imoveis/loft-738204167\", \"Apartamentos\"], [\"1\", \"1\", \"30m\\u00b2\", \"https://pe.olx.com.br/grande-recife/imoveis/flat-novo-mobiliado-boa-viagem-746480335\", \"Apartamentos\"], [\"1\", \"1\", \"35m\\u00b2\", \"https://pe.olx.com.br/grande-recife/imoveis/apt-mobiliado-em-boa-viagem-747127774\", \"Apartamentos\"], [\"2\", \"1\", \"60m\\u00b2\", \"https://pe.olx.com.br/grande-recife/imoveis/apartamento-em-boa-viagem-748574551\", \"Apartamentos\"], [\"1\", \"1\", \"30m\\u00b2\", \"https://pe.olx.com.br/grande-recife/imoveis/studio-one-classic-primeira-locacao-30-m2-armarios-piscina-churrasqueira-709738422\", \"Apartamentos\"], [\"1\", \"1\", \"30m\\u00b2\", \"https://pe.olx.com.br/grande-recife/imoveis/apartamento-com-quarto-para-aluguel-30m-em-boa-viagem-755225142\", \"Apartamentos\"], [\"3\", \"2\", \"70m\\u00b2\", \"https://pe.olx.com.br/grande-recife/imoveis/por-1390-boaviagem-3qtos-com-taxas-inclusas-extra-oportunidade-747919060\", \"Apartamentos\"], [\"2\", \"1\", \"0m\\u00b2\", \"https://pe.olx.com.br/grande-recife/imoveis/apartamento-em-setubal-748805936\", \"Apartamentos\"], [\"1\", \"1\", \"32m\\u00b2\", \"https://pe.olx.com.br/grande-recife/imoveis/alugo-ap-novo-studio-em-setubal-756457556\", \"Apartamentos\"], [\"1\", \"1\", \"26m\\u00b2\", \"https://pe.olx.com.br/grande-recife/imoveis/flat-em-setubal-novo-756177897\", \"Apartamentos\"], [\"3\", \"2\", \"55m\\u00b2\", \"https://pe.olx.com.br/grande-recife/imoveis/apto-semi-mobiliado-3-quartos-direto-com-o-proprietario-boa-viagem-13822-743255523\", \"Apartamentos\"], [\"1\", \"1\", \"30m\\u00b2\", \"https://pe.olx.com.br/grande-recife/imoveis/edf-studio-one-classic-em-setubal-predio-novissimo-709830541\", \"Apartamentos\"], [\"1\", \"1\", \"32m\\u00b2\", \"https://pe.olx.com.br/grande-recife/imoveis/flats-em-setubal-1-300-mobiliado-753653044\", \"Apartamentos\"], [\"1\", \"1\", \"25m\\u00b2\", \"https://pe.olx.com.br/grande-recife/imoveis/flat-totalmente-mobiliado-contrato-minimo-12-meses-731464238\", \"Apartamentos\"], [\"3\", \"2\", \"70m\\u00b2\", \"https://pe.olx.com.br/grande-recife/imoveis/alugo-apartamento-em-boa-viagem-754413112\", \"Apartamentos\"], [\"2\", \"2\", \"75m\\u00b2\", \"https://pe.olx.com.br/grande-recife/imoveis/alugo-ap-2qts-mobiliado-em-setubal-1-400-745157364\", \"Apartamentos\"], [\"2\", \"2\", \"\", \"https://pe.olx.com.br/grande-recife/imoveis/aluguel-apto-boa-viagem-757173984\", \"Apartamentos\"], [\"2\", \"1\", \"45m\\u00b2\", \"https://pe.olx.com.br/grande-recife/imoveis/cl-alugo-apt-2-quartos-boa-viagem-731484908\", \"Apartamentos\"], [\"3\", \"1\", \"100m\\u00b2\", \"https://pe.olx.com.br/grande-recife/imoveis/apartamento-para-aluguel-3-quartos-2-vagas-boa-viagem-recife-pe-706027757\", \"Apartamentos\"], [\"3\", \"2\", \"80m\\u00b2\", \"https://pe.olx.com.br/grande-recife/imoveis/siqueira-aluga-apartamento-2-quartos-e-dependencia-completa-boa-viagem-750400837\", \"Apartamentos\"], [\"1\", \"1\", \"42m\\u00b2\", \"https://pe.olx.com.br/grande-recife/imoveis/excelente-kit-net-na-barao-de-souza-leao-755462788\", \"Apartamentos\"], [\"1\", \"1\", \"32m\\u00b2\", \"https://pe.olx.com.br/grande-recife/imoveis/kitnet-apartamentos-em-boa-viagem-604498331\", \"Apartamentos\"], [\"1\", \"1\", \"38m\\u00b2\", \"https://pe.olx.com.br/grande-recife/imoveis/alugo-ap-flat-mobiliado-na-barao-boa-viagem-756778150\", \"Apartamentos\"], [\"3\", \"2\", \"110m\\u00b2\", \"https://pe.olx.com.br/grande-recife/imoveis/apartamento-na-barao-de-souza-leao-com-3-qqtos-pilotis-733501154\", \"Apartamentos\"], [\"2\", \"1\", \"50m\\u00b2\", \"https://pe.olx.com.br/grande-recife/imoveis/apartamento-2-quartos-no-cordeiro-745343627\", \"Apartamentos\"], [\"1\", \"1\", \"\", \"https://pe.olx.com.br/grande-recife/imoveis/apartamentos-perfeitos-para-passar-o-fim-de-semana-na-zona-sul-de-recife-751008182\", \"Apartamentos\"], [\"2\", \"2\", \"75m\\u00b2\", \"https://pe.olx.com.br/grande-recife/imoveis/otimo-apt-751263546\", \"Apartamentos\"], [\"1\", \"1\", \"45m\\u00b2\", \"https://pe.olx.com.br/grande-recife/imoveis/apt-1q-mobiliado-em-boa-viagem-ed-barao-imperdivel-751518462\", \"Apartamentos\"], [\"1\", \"1\", \"45m\\u00b2\", \"https://pe.olx.com.br/grande-recife/imoveis/otimo-apt-barao-mobiliado-1q-boa-viagem-r-750-tx-747669713\", \"Apartamentos\"], [\"1\", \"1\", \"40m\\u00b2\", \"https://pe.olx.com.br/grande-recife/imoveis/otimo-apt-mobiliado-1q-ed-barao-boa-viagem-754839601\", \"Apartamentos\"], [\"1\", \"1\", \"45m\\u00b2\", \"https://pe.olx.com.br/grande-recife/imoveis/otimo-apt-mobiliado-1q-ed-barao-r-1-100-tudo-749949239\", \"Apartamentos\"], [\"1\", \"1\", \"38m\\u00b2\", \"https://pe.olx.com.br/grande-recife/imoveis/alugo-ap-flat-mobiliado-na-barao-boa-viagem-755384772\", \"Apartamentos\"], [\"1\", \"1\", \"40m\\u00b2\", \"https://pe.olx.com.br/grande-recife/imoveis/otimo-apt-mobiliado-ed-barao-em-boa-viagem-753019971\", \"Apartamentos\"], [\"1\", \"1\", \"45m\\u00b2\", \"https://pe.olx.com.br/grande-recife/imoveis/otimo-apt-mobiliado-ed-barao-em-b-v-tx-inclusas-755677284\", \"Apartamentos\"], [\"3\", \"2\", \"75m\\u00b2\", \"https://pe.olx.com.br/grande-recife/imoveis/apartamento-proximo-terminal-do-onibus-setubal-711825137\", \"Apartamentos\"], [\"3\", \"2\", \"70m\\u00b2\", \"https://pe.olx.com.br/grande-recife/imoveis/aluguel-apartamento-ipsep-742500852\", \"Apartamentos\"], [\"1\", \"1\", \"30m\\u00b2\", \"https://pe.olx.com.br/grande-recife/imoveis/edf-porto-do-mar-mobiliado-737827227\", \"Apartamentos\"], [\"1\", \"1\", \"35m\\u00b2\", \"https://pe.olx.com.br/grande-recife/imoveis/apto-de-01-quarto-em-setubal-padaria-alem-do-pao-747548319\", \"Apartamentos\"], [\"3\", \"2\", \"60m\\u00b2\", \"https://pe.olx.com.br/grande-recife/imoveis/locacao-2-1-quartos-em-setubal-735969672\", \"Apartamentos\"], [\"1\", \"1\", \"\", \"https://pe.olx.com.br/grande-recife/imoveis/ap-1-qto-mob-1200-00-com-tudo-746132820\", \"Apartamentos\"], [\"2\", \"2\", \"65m\\u00b2\", \"https://pe.olx.com.br/grande-recife/imoveis/apartamento-2-quartos-por-r-1-100-em-boa-viagem-737629784\", \"Apartamentos\"], [\"2\", \"2\", \"80m\\u00b2\", \"https://pe.olx.com.br/grande-recife/imoveis/apt-2quartos-mobiliado-massaranduba-prazeres-744743309\", \"Apartamentos\"], [\"2\", \"2\", \"55m\\u00b2\", \"https://pe.olx.com.br/grande-recife/imoveis/oportunidade-na-r-capitao-zuzinha-751251765\", \"Apartamentos\"], [\"2\", \"2\", \"0m\\u00b2\", \"https://pe.olx.com.br/grande-recife/imoveis/imovel-749164153\", \"Apartamentos\"], [\"1\", \"1\", \"28m\\u00b2\", \"https://pe.olx.com.br/grande-recife/imoveis/flat-mobiliado-em-boa-viagem-749327742\", \"Apartamentos\"], [\"3\", \"3\", \"90m\\u00b2\", \"https://pe.olx.com.br/grande-recife/imoveis/apartamento-mobiliado-3qts-em-boa-viagem-no-cozumel-com-camareira-731915424\", \"Apartamentos\"], [\"3\", \"2\", \"105m\\u00b2\", \"https://pe.olx.com.br/grande-recife/imoveis/ap-105m2-3-qt-2vagas-boa-viagem-proximo-ao-mar-hotel-723603083\", \"Apartamentos\"], [\"1\", \"1\", \"20m\\u00b2\", \"https://pe.olx.com.br/grande-recife/imoveis/apt-no-studio-residence-aluguel-r-500-00-716431472\", \"Apartamentos\"], [\"2\", \"2\", \"42m\\u00b2\", \"https://pe.olx.com.br/grande-recife/imoveis/extra--excelente-apartamento-setubal-02-qtos-01-suite-752137617\", \"Apartamentos\"], [\"2\", \"1\", \"57m\\u00b2\", \"https://pe.olx.com.br/grande-recife/imoveis/alugo-apto-em-boa-viagem-mobiliado-na-rua-padre-cabral-perto-de-restaurantes-e-escolas-734438706\", \"Apartamentos\"], [\"1\", \"1\", \"30m\\u00b2\", \"https://pe.olx.com.br/grande-recife/imoveis/kit-em-bv-setubal-alugar-752362129\", \"Apartamentos\"], [\"3\", \"2\", \"0m\\u00b2\", \"https://pe.olx.com.br/grande-recife/imoveis/apt-aluguel-bv-741130092\", \"Apartamentos\"], [\"2\", \"2\", \"58m\\u00b2\", \"https://pe.olx.com.br/grande-recife/imoveis/aluguel-apartamento-2-quartos-em-setubal-752087449\", \"Apartamentos\"], [\"2\", \"2\", \"70m\\u00b2\", \"https://pe.olx.com.br/grande-recife/imoveis/boa-viagem-setubal-2-1-quartos-edf-dom-fafe-rua-copacabana-185-752689316\", \"Apartamentos\"], [\"2\", \"2\", \"50m\\u00b2\", \"https://pe.olx.com.br/grande-recife/imoveis/neri-2qts-50m2-apt-terreo-prox-terminal-setubal-so-1mil-tudo-749245936\", \"Apartamentos\"], [\"2\", \"1\", \"\", \"https://pe.olx.com.br/grande-recife/imoveis/apartamento-para-alugar-com-2-dormitorios-em-setubal-recife-cod-4066-635460898\", \"Apartamentos\"], [\"3\", \"2\", \"120m\\u00b2\", \"https://pe.olx.com.br/grande-recife/imoveis/apartamento-em-setubal-3-quartos-743485712\", \"Apartamentos\"], [\"1\", \"1\", \"25m\\u00b2\", \"https://pe.olx.com.br/grande-recife/imoveis/studio-mobiliado-em-setubal-prox-supermercado-rm-754346218\", \"Apartamentos\"], [\"1\", \"1\", \"30m\\u00b2\", \"https://pe.olx.com.br/grande-recife/imoveis/alugo-flat-1-quarto-mobiliado-em-boa-viagem-setubal-743880784\", \"Apartamentos\"], [\"1\", \"1\", \"25m\\u00b2\", \"https://pe.olx.com.br/grande-recife/imoveis/flat-recem-entregue-em-setubal-670024722\", \"Apartamentos\"], [\"1\", \"1\", \"25m\\u00b2\", \"https://pe.olx.com.br/grande-recife/imoveis/flat-novo-25m-em-setubal-lazer-completo-edf-costa-das-palmeiras-756391574\", \"Apartamentos\"], [\"1\", \"1\", \"25m\\u00b2\", \"https://pe.olx.com.br/grande-recife/imoveis/apartamento-mobiliado-setubal-top-756683614\", \"Apartamentos\"], [\"1\", \"1\", \"30m\\u00b2\", \"https://pe.olx.com.br/grande-recife/imoveis/flat-lindo-com-otimos-moveis-planejados-em-setubal-boa-viagem-755930562\", \"Apartamentos\"], [\"1\", \"1\", \"30m\\u00b2\", \"https://pe.olx.com.br/grande-recife/imoveis/flat-lindo-com-otimos-moveis-planejados-em-setubal-boa-viagem-757274181\", \"Apartamentos\"], [\"1\", \"1\", \"25m\\u00b2\", \"https://pe.olx.com.br/grande-recife/imoveis/apartamento-mobiliado-setubal-top-757474067\", \"Apartamentos\"], [\"2\", \"1\", \"60m\\u00b2\", \"https://pe.olx.com.br/grande-recife/imoveis/apartamento-2-quartos-em-boa-viagem-mobiliado-ou-nao-747141977\", \"Apartamentos\"], [\"2\", \"1\", \"0m\\u00b2\", \"https://pe.olx.com.br/grande-recife/imoveis/alugo-apartamento-2-quartos-proximo-atacadao-antigo-carreour-tancredo-neves-r-1-000-00-752961029\", \"Apartamentos\"], [\"1\", \"1\", \"30m\\u00b2\", \"https://pe.olx.com.br/grande-recife/imoveis/flat-mobiliado-proximo-ao-shopping-com-lazer-742936319\", \"Apartamentos\"], [\"3\", \"2\", \"\", \"https://pe.olx.com.br/grande-recife/imoveis/alugo-ap-mobiliado-na-beira-mar-de-boa-viagem-754213230\", \"Apartamentos\"], [\"1\", \"1\", \"0m\\u00b2\", \"https://pe.olx.com.br/grande-recife/imoveis/ap-1-qt-na-av-barao-de-souza-leao-747057381\", \"Apartamentos\"], [\"1\", \"1\", \"40m\\u00b2\", \"https://pe.olx.com.br/grande-recife/imoveis/mobilia-completa-a-partir-de-1-499-00-754320076\", \"Apartamentos\"], [\"1\", \"1\", \"30m\\u00b2\", \"https://pe.olx.com.br/grande-recife/imoveis/flat-mobiliado-em-boa-viagem-1500-com-taxas-753623625\", \"Apartamentos\"], [\"1\", \"1\", \"30m\\u00b2\", \"https://pe.olx.com.br/grande-recife/imoveis/oportunidade-alugo-apto-606-ed-studio-ibisa-iii-643580011\", \"Apartamentos\"], [\"1\", \"1\", \"27m\\u00b2\", \"https://pe.olx.com.br/grande-recife/imoveis/alugo-kitinet-pina-730303540\", \"Apartamentos\"], [\"1\", \"1\", \"27m\\u00b2\", \"https://pe.olx.com.br/grande-recife/imoveis/alugo-quitinete-pina-750542717\", \"Apartamentos\"], [\"1\", \"1\", \"35m\\u00b2\", \"https://pe.olx.com.br/grande-recife/imoveis/otimo-kit-net-01-quarto-terreo-01-vaga-rotativa-no-pina-excelente-localizacao-744632324\", \"Apartamentos\"], [\"1\", \"1\", \"26m\\u00b2\", \"https://pe.olx.com.br/grande-recife/imoveis/aluguel-753226017\", \"Apartamentos\"], [\"1\", \"1\", \"41m\\u00b2\", \"https://pe.olx.com.br/grande-recife/imoveis/aluga-se-apt-c-1-qt-prox-rio-mar-valor-promo-c-taxas-r-1-100-00-620613490\", \"Apartamentos\"], [\"1\", \"1\", \"46m\\u00b2\", \"https://pe.olx.com.br/grande-recife/imoveis/alugo-apartamento-no-pina-749203474\", \"Apartamentos\"], [\"1\", \"1\", \"35m\\u00b2\", \"https://pe.olx.com.br/grande-recife/imoveis/aluga-se-apartamento-no-pina-740920124\", \"Apartamentos\"], [\"1\", \"1\", \"40m\\u00b2\", \"https://pe.olx.com.br/grande-recife/imoveis/otimo-apartamento-01-quarto-terraco-no-pina-excelente-localizacao-741198986\", \"Apartamentos\"], [\"1\", \"1\", \"30m\\u00b2\", \"https://pe.olx.com.br/grande-recife/imoveis/aluguel-apt-755605963\", \"Apartamentos\"], [\"2\", \"1\", \"47m\\u00b2\", \"https://pe.olx.com.br/grande-recife/imoveis/apartamento-dois-quartos-a-5-min-da-praia-742718587\", \"Apartamentos\"], [\"3\", \"2\", \"90m\\u00b2\", \"https://pe.olx.com.br/grande-recife/imoveis/3-qts-boa-viagem-proximo-ao-riomar-733276498\", \"Apartamentos\"], [\"3\", \"2\", \"90m\\u00b2\", \"https://pe.olx.com.br/grande-recife/imoveis/3-qts-boa-viagem-proximo-ao-riomar-734441219\", \"Apartamentos\"], [\"3\", \"2\", \"90m\\u00b2\", \"https://pe.olx.com.br/grande-recife/imoveis/3-qts-boa-viagem-proximo-ao-riomar-741545614\", \"Apartamentos\"], [\"3\", \"2\", \"90m\\u00b2\", \"https://pe.olx.com.br/grande-recife/imoveis/3-qts-boa-viagem-proximo-ao-riomar-742074190\", \"Apartamentos\"], [\"3\", \"2\", \"90m\\u00b2\", \"https://pe.olx.com.br/grande-recife/imoveis/3-qts-boa-viagem-proximo-ao-riomar-736431306\", \"Apartamentos\"], [\"3\", \"2\", \"90m\\u00b2\", \"https://pe.olx.com.br/grande-recife/imoveis/3-qts-boa-viagem-proximo-ao-riomar-738359582\", \"Apartamentos\"], [\"1\", \"1\", \"30m\\u00b2\", \"https://pe.olx.com.br/grande-recife/imoveis/edf-golden-day-ao-lado-do-colegio-boa-viagem-750741615\", \"Apartamentos\"], [\"3\", \"2\", \"107m\\u00b2\", \"https://pe.olx.com.br/grande-recife/imoveis/apartamento-em-boa-viagem-proximo-ao-mar-otima-localizacao-03-quartos-737880911\", \"Apartamentos\"], [\"1\", \"1\", \"50m\\u00b2\", \"https://pe.olx.com.br/grande-recife/imoveis/al1029-excelente-sala-quarto-e-cozinha-com-otima-localizacao-em-boa-viagem-600724143\", \"Apartamentos\"], [\"2\", \"1\", \"60m\\u00b2\", \"https://pe.olx.com.br/grande-recife/imoveis/alugo-apto-2-qtos-na-conselheiro-aguiar-757181037\", \"Apartamentos\"], [\"1\", \"1\", \"\", \"https://pe.olx.com.br/grande-recife/imoveis/aluguel-de-apto-de-1-4-mobiliado-em-boa-viagem-r-1-000-00-720812715\", \"Apartamentos\"], [\"1\", \"1\", \"42m\\u00b2\", \"https://pe.olx.com.br/grande-recife/imoveis/al1179-excelente-oportunidade-de-studio-mobiliado-753737964\", \"Apartamentos\"], [\"1\", \"1\", \"30m\\u00b2\", \"https://pe.olx.com.br/grande-recife/imoveis/flat-edf-golden-day-quarto-sala-cozinha-mobiliado-piscina-boa-viagem-755477533\", \"Apartamentos\"], [\"1\", \"1\", \"\", \"https://pe.olx.com.br/grande-recife/imoveis/kitnets-e-apartamentos-para-alugar-no-centro-do-recife-742679517\", \"Apartamentos\"], [\"1\", \"1\", \"30m\\u00b2\", \"https://pe.olx.com.br/grande-recife/imoveis/apartamento-kitnet-na-beira-mar-de-boa-viagem-com-uma-bela-paisagem-751147316\", \"Apartamentos\"], [\"1\", \"1\", \"60m\\u00b2\", \"https://pe.olx.com.br/grande-recife/imoveis/alugo-apartamento-1quarto-semi-mobiliado-755512409\", \"Apartamentos\"], [\"3\", \"2\", \"80m\\u00b2\", \"https://pe.olx.com.br/grande-recife/imoveis/3-quartos-3-andar-otimo-apto-em-boa-viajem-a-40m-da-praia-80m-81-9-732844245\", \"Apartamentos\"], [\"3\", \"2\", \"80m\\u00b2\", \"https://pe.olx.com.br/grande-recife/imoveis/otimo-apto-3-andar-em-boa-viajem-a-40m-da-praia-80m-81-9-757313575\", \"Apartamentos\"], [\"1\", \"1\", \"30m\\u00b2\", \"https://pe.olx.com.br/grande-recife/imoveis/flat-mobiliado-boa-viagem-com-lazer-742925280\", \"Apartamentos\"], [\"1\", \"1\", \"32m\\u00b2\", \"https://pe.olx.com.br/grande-recife/imoveis/apartamento-boa-viagem-731788850\", \"Apartamentos\"], [\"2\", \"1\", \"50m\\u00b2\", \"https://pe.olx.com.br/grande-recife/imoveis/apartamento-no-residencial-boa-viagem-746625520\", \"Apartamentos\"], [\"1\", \"1\", \"30m\\u00b2\", \"https://pe.olx.com.br/grande-recife/imoveis/apt-1-qto-mobiliado-proximo-praia-c-servico-camareira-681750207\", \"Apartamentos\"], [\"3\", \"3\", \"75m\\u00b2\", \"https://pe.olx.com.br/grande-recife/imoveis/apartamento-setubal-boa-viagem-3-quartos-para-locacao-1400-reais-taxas-inclusas-756943200\", \"Apartamentos\"], [\"1\", \"1\", \"25m\\u00b2\", \"https://pe.olx.com.br/grande-recife/imoveis/apt-mobiliado-proximo-ao-shopping-e-uninassau-bv-737709919\", \"Apartamentos\"], [\"1\", \"1\", \"25m\\u00b2\", \"https://pe.olx.com.br/grande-recife/imoveis/flat-nascente-em-setubal-com-armarios-split-e-cooktop-737710722\", \"Apartamentos\"], [\"1\", \"1\", \"28m\\u00b2\", \"https://pe.olx.com.br/grande-recife/imoveis/flat-em-setubal-1q-28m2-lazer-completo-r-1-200-00-727818789\", \"Apartamentos\"], [\"2\", \"2\", \"50m\\u00b2\", \"https://pe.olx.com.br/grande-recife/imoveis/boa-viagem-edf-life-2qts-suite-r-1-400-00-otima-localizacao-754899927\", \"Apartamentos\"], [\"2\", \"1\", \"75m\\u00b2\", \"https://pe.olx.com.br/grande-recife/imoveis/apartamento-para-aluguel-2-quartos-1-vaga-boa-viagem-recife-pe-743877685\", \"Apartamentos\"], [\"1\", \"1\", \"35m\\u00b2\", \"https://pe.olx.com.br/grande-recife/imoveis/flat-perto-da-praia-de-boa-viagem-as-taxas-ja-estao-inclusas-751333454\", \"Apartamentos\"], [\"1\", \"1\", \"35m\\u00b2\", \"https://pe.olx.com.br/grande-recife/imoveis/flat-em-boa-viagem-perto-da-praia-todas-as-taxas-inclusas-751873525\", \"Apartamentos\"], [\"1\", \"1\", \"35m\\u00b2\", \"https://pe.olx.com.br/grande-recife/imoveis/flat-totalmente-mobiliado-em-boa-viagem-perto-da-praia-todas-as-taxas-inclusas-748401499\", \"Apartamentos\"], [\"1\", \"1\", \"35m\\u00b2\", \"https://pe.olx.com.br/grande-recife/imoveis/flat-mobiliado-pertinho-da-praia-em-boa-viagem-todas-as-taxas-inclusas-748894080\", \"Apartamentos\"], [\"2\", \"1\", \"65m\\u00b2\", \"https://pe.olx.com.br/grande-recife/imoveis/apartamento-em-boa-viagem-mobiliado-741862998\", \"Apartamentos\"], [\"2\", \"1\", \"65m\\u00b2\", \"https://pe.olx.com.br/grande-recife/imoveis/apartamento-em-boa-viagem-mobiliado-744243940\", \"Apartamentos\"], [\"3\", \"2\", \"90m\\u00b2\", \"https://pe.olx.com.br/grande-recife/imoveis/alugo-apartamento-boa-viagem-perto-do-shopping-recife-736928794\", \"Apartamentos\"], [\"3\", \"3\", \"120m\\u00b2\", \"https://pe.olx.com.br/grande-recife/imoveis/gmimoveis-aluga-apartamento-em-boa-viagem-3qts-s-2-suite-1-400-c-taxas-inclusas-744891654\", \"Apartamentos\"], [\"3\", \"2\", \"120m\\u00b2\", \"https://pe.olx.com.br/grande-recife/imoveis/al30668-apt-bem-localizado-com-sala-para-2-ambientes-3-qts-sendo-1-ste-em-boa-viagem-720191534\", \"Apartamentos\"], [\"3\", \"1\", \"73m\\u00b2\", \"https://pe.olx.com.br/grande-recife/imoveis/alugo-otimo-aapartamento-755985527\", \"Apartamentos\"], [\"1\", \"1\", \"25m\\u00b2\", \"https://pe.olx.com.br/grande-recife/imoveis/alugo-kitnet-753219609\", \"Apartamentos\"], [\"2\", \"1\", \"45m\\u00b2\", \"https://pe.olx.com.br/grande-recife/imoveis/cl-alugo-apt-2-quartos-boa-viagem-740622812\", \"Apartamentos\"], [\"2\", \"1\", \"40m\\u00b2\", \"https://pe.olx.com.br/grande-recife/imoveis/kitnet-imbiribeira-boa-viagem-recife-739230013\", \"Apartamentos\"], [\"2\", \"1\", \"55m\\u00b2\", \"https://pe.olx.com.br/grande-recife/imoveis/excelente-apartamento-com-sala-dois-quartos-apenas-500-reais-714079206\", \"Apartamentos\"], [\"3\", \"2\", \"68m\\u00b2\", \"https://pe.olx.com.br/grande-recife/imoveis/apto-para-alugar-r-1000-757002132\", \"Apartamentos\"], [\"2\", \"1\", \"70m\\u00b2\", \"https://pe.olx.com.br/grande-recife/imoveis/alugo-1-andar-752023931\", \"Apartamentos\"], [\"1\", \"1\", \"58m\\u00b2\", \"https://pe.olx.com.br/grande-recife/imoveis/apto-pra-alugar-na-imbiribeira-baratinho-qt-com-suite-varanda-e-armarios-de-embutir-756612639\", \"Apartamentos\"], [\"2\", \"1\", \"52m\\u00b2\", \"https://pe.olx.com.br/grande-recife/imoveis/aluga-se-apt-2-quartos-imbiribeira-754213286\", \"Apartamentos\"], [\"1\", \"1\", \"60m\\u00b2\", \"https://pe.olx.com.br/grande-recife/imoveis/aluga-se-apto-em-boa-localizacao-1-quarto-c-suite-armarios-embutidos-varanda-ventilada-756606438\", \"Apartamentos\"], [\"1\", \"1\", \"0m\\u00b2\", \"https://pe.olx.com.br/grande-recife/imoveis/apartamento-ventilado-ao-lado-da-nova-fps-da-imbiribeira-748645778\", \"Apartamentos\"], [\"2\", \"1\", \"45m\\u00b2\", \"https://pe.olx.com.br/grande-recife/imoveis/aluguel-apartamento-2-quartos-em-boa-viagem-r-1-400-756943935\", \"Apartamentos\"], [\"2\", \"1\", \"47m\\u00b2\", \"https://pe.olx.com.br/grande-recife/imoveis/shopping-park-selective-r-1-400-732834171\", \"Apartamentos\"], [\"2\", \"1\", \"45m\\u00b2\", \"https://pe.olx.com.br/grande-recife/imoveis/cl-alugo-apt-2-quartos-boa-viagem-738313365\", \"Apartamentos\"], [\"2\", \"1\", \"42m\\u00b2\", \"https://pe.olx.com.br/grande-recife/imoveis/dm-apartamento-2-quartos-shopping-park-selective-754875417\", \"Apartamentos\"], [\"2\", \"1\", \"45m\\u00b2\", \"https://pe.olx.com.br/grande-recife/imoveis/tm-apt-2qts-em-frente-a-estacao-de-metro-shopping-755326173\", \"Apartamentos\"], [\"2\", \"1\", \"45m\\u00b2\", \"https://pe.olx.com.br/grande-recife/imoveis/shopping-park-selective-2q-45m2-com-lazer-729379364\", \"Apartamentos\"], [\"2\", \"1\", \"44m\\u00b2\", \"https://pe.olx.com.br/grande-recife/imoveis/apartamento-com-2-quartos-para-locacao-44m-imbiribeira-755980614\", \"Apartamentos\"], [\"2\", \"1\", \"45m\\u00b2\", \"https://pe.olx.com.br/grande-recife/imoveis/cl-alugo-apto-em-boa-viagem-730539577\", \"Apartamentos\"], [\"2\", \"1\", \"45m\\u00b2\", \"https://pe.olx.com.br/grande-recife/imoveis/shopping-park-residence-r-1-400-00-com-taxas-inclusas-754268215\", \"Apartamentos\"], [\"2\", \"1\", \"43m\\u00b2\", \"https://pe.olx.com.br/grande-recife/imoveis/tm-alugo-apt-no-shopping-park-selective-757603961\", \"Apartamentos\"], [\"2\", \"1\", \"45m\\u00b2\", \"https://pe.olx.com.br/grande-recife/imoveis/apto-andar-alto-boa-viagem-2qts-lazer-completo-r-1-470-00-shopping-park-special-757633050\", \"Apartamentos\"], [\"2\", \"1\", \"45m\\u00b2\", \"https://pe.olx.com.br/grande-recife/imoveis/cl-apartamento-2-quartos-para-alugar-na-imbiribeira-748186908\", \"Apartamentos\"], [\"2\", \"2\", \"45m\\u00b2\", \"https://pe.olx.com.br/grande-recife/imoveis/jr-sua-opcao-de-locacao-na-imbiribeira-al406-81-756881520\", \"Apartamentos\"], [\"2\", \"1\", \"74m\\u00b2\", \"https://pe.olx.com.br/grande-recife/imoveis/boa-viagem-taxas-inclusas-todo-reformado-757026690\", \"Apartamentos\"], [\"2\", \"2\", \"64m\\u00b2\", \"https://pe.olx.com.br/grande-recife/imoveis/apartamento-no-residencial-boa-viagem-perto-do-shopping-recife-736456894\", \"Apartamentos\"], [\"2\", \"1\", \"\", \"https://pe.olx.com.br/grande-recife/imoveis/aluguel-quarto-739449722\", \"Apartamentos\"], [\"2\", \"2\", \"55m\\u00b2\", \"https://pe.olx.com.br/grande-recife/imoveis/edificio-lara-terreo-imbiribeira-perto-de-tudo-fone-9-757386843\", \"Apartamentos\"], [\"2\", \"1\", \"45m\\u00b2\", \"https://pe.olx.com.br/grande-recife/imoveis/apartamento-para-alugar-com-2-dormitorios-em-imbiribeira-recife-cod-ap0201-494085463\", \"Apartamentos\"], [\"2\", \"1\", \"47m\\u00b2\", \"https://pe.olx.com.br/grande-recife/imoveis/alugo-apartamento-com-2-quartos-na-imbiribeira-lazer-completo-a-partir-de-r-1-450-615313543\", \"Apartamentos\"], [\"1\", \"1\", \"50m\\u00b2\", \"https://pe.olx.com.br/grande-recife/imoveis/apto-01-quarto-na-imbiribeira-terreo-para-casal-sem-taxas-proximo-de-tudo-753212599\", \"Apartamentos\"], [\"3\", \"2\", \"65m\\u00b2\", \"https://pe.olx.com.br/grande-recife/imoveis/otimo-apto-3-quartos-na-imbiribeira-proximo-lagoa-do-araca-580144471\", \"Apartamentos\"], [\"2\", \"2\", \"56m\\u00b2\", \"https://pe.olx.com.br/grande-recife/imoveis/melhor-localizacao-do-recife-737518837\", \"Apartamentos\"], [\"3\", \"2\", \"65m\\u00b2\", \"https://pe.olx.com.br/grande-recife/imoveis/apartamento-na-imbiribeira-755941619\", \"Apartamentos\"], [\"3\", \"2\", \"75m\\u00b2\", \"https://pe.olx.com.br/grande-recife/imoveis/apto-terreo-na-lagoa-do-araca-744641123\", \"Apartamentos\"], [\"2\", \"2\", \"55m\\u00b2\", \"https://pe.olx.com.br/grande-recife/imoveis/apt-ao-redor-da-lagoa-2q-lazer-e-portaria-24h-744599766\", \"Apartamentos\"], [\"2\", \"1\", \"360m\\u00b2\", \"https://pe.olx.com.br/grande-recife/imoveis/apartamento-para-aluguel-2-quartos-1-vaga-imbiribeira-recife-pe-756645383\", \"Apartamentos\"], [\"2\", \"2\", \"55m\\u00b2\", \"https://pe.olx.com.br/grande-recife/imoveis/apt-ao-redor-da-lagoa-2q-lazer-e-portaria-24h-752129197\", \"Apartamentos\"], [\"2\", \"2\", \"\", \"https://pe.olx.com.br/grande-recife/imoveis/apartamento-na-lagoa-do-araca-732974498\", \"Apartamentos\"], [\"2\", \"2\", \"55m\\u00b2\", \"https://pe.olx.com.br/grande-recife/imoveis/apartamento-para-alugar-740099233\", \"Apartamentos\"], [\"3\", \"2\", \"98m\\u00b2\", \"https://pe.olx.com.br/grande-recife/imoveis/apt-pertinho-do-colegio-pinheiros-1-andar-com-moveis-planejados-752210286\", \"Apartamentos\"], [\"3\", \"2\", \"90m\\u00b2\", \"https://pe.olx.com.br/grande-recife/imoveis/edificio-ana-carolina-753965277\", \"Apartamentos\"], [\"3\", \"2\", \"90m\\u00b2\", \"https://pe.olx.com.br/grande-recife/imoveis/otimo-apt-prox-lagoa-do-araca-732905158\", \"Apartamentos\"], [\"2\", \"1\", \"\", \"https://pe.olx.com.br/grande-recife/imoveis/apartamento-2-quartos-na-imbiribeira-733341923\", \"Apartamentos\"], [\"3\", \"2\", \"90m\\u00b2\", \"https://pe.olx.com.br/grande-recife/imoveis/alugo-apt-prox-a-lagoa-do-araca-esquina-com-av-pinheiros-757430857\", \"Apartamentos\"], [\"3\", \"1\", \"405m\\u00b2\", \"https://pe.olx.com.br/grande-recife/imoveis/apartamento-para-aluguel-3-quartos-1-vaga-imbiribeira-recife-pe-739266896\", \"Apartamentos\"], [\"3\", \"2\", \"98m\\u00b2\", \"https://pe.olx.com.br/grande-recife/imoveis/apt-pra-alugar-na-imbiribeira-proxima-a-av-mascarenhas-de-moraes-746882942\", \"Apartamentos\"], [\"1\", \"1\", \"10m\\u00b2\", \"https://pe.olx.com.br/grande-recife/imoveis/kitnets-350-750811277\", \"Apartamentos\"], [\"3\", \"2\", \"108m\\u00b2\", \"https://pe.olx.com.br/grande-recife/imoveis/ap-pra-alugar-grande-em-predio-pilotis-756523112\", \"Apartamentos\"], [\"3\", \"2\", \"110m\\u00b2\", \"https://pe.olx.com.br/grande-recife/imoveis/excelente-apartamento-3-quartos-na-imbiribeira-753599182\", \"Apartamentos\"], [\"1\", \"1\", \"\", \"https://pe.olx.com.br/grande-recife/imoveis/kitnet-na-imbiribeira-741585708\", \"Apartamentos\"], [\"1\", \"1\", \"\", \"https://pe.olx.com.br/grande-recife/imoveis/alugo-kitnet-no-bairro-da-imbiribeira-741579698\", \"Apartamentos\"], [\"1\", \"1\", \"\", \"https://pe.olx.com.br/grande-recife/imoveis/alugo-kitnet-proximo-ao-assai-atacadista-na-imbiribeira-741583084\", \"Apartamentos\"], [\"1\", \"1\", \"\", \"https://pe.olx.com.br/grande-recife/imoveis/aluga-se-kitnet-na-imbiribeira-742381045\", \"Apartamentos\"], [\"1\", \"1\", \"15m\\u00b2\", \"https://pe.olx.com.br/grande-recife/imoveis/alugo-kit-net-boavista-754726230\", \"Apartamentos\"], [\"2\", \"1\", \"45m\\u00b2\", \"https://pe.olx.com.br/grande-recife/imoveis/apartamento-reformado-no-ipsep-755532249\", \"Apartamentos\"], [\"2\", \"1\", \"45m\\u00b2\", \"https://pe.olx.com.br/grande-recife/imoveis/apto-no-ipsep-chico-city-550-reais-todo-reformado-755130794\", \"Apartamentos\"], [\"3\", \"3\", \"70m\\u00b2\", \"https://pe.olx.com.br/grande-recife/imoveis/aluguel-de-ap-no-conjunto-da-sudene-ipsep-747006018\", \"Apartamentos\"], [\"3\", \"2\", \"0m\\u00b2\", \"https://pe.olx.com.br/grande-recife/imoveis/alugo-apt-ipsep-750442517\", \"Apartamentos\"], [\"2\", \"2\", \"80m\\u00b2\", \"https://pe.olx.com.br/grande-recife/imoveis/apartamento-no-ipsep-740130710\", \"Apartamentos\"], [\"3\", \"2\", \"80m\\u00b2\", \"https://pe.olx.com.br/grande-recife/imoveis/cl-alugo-apt-no-ipsep-741617557\", \"Apartamentos\"], [\"1\", \"1\", \"40m\\u00b2\", \"https://pe.olx.com.br/grande-recife/imoveis/kitnet-ipsep-otima-localizacao-756954655\", \"Apartamentos\"], [\"3\", \"2\", \"70m\\u00b2\", \"https://pe.olx.com.br/grande-recife/imoveis/nascente-ventilado-750739345\", \"Apartamentos\"], [\"1\", \"1\", \"\", \"https://pe.olx.com.br/grande-recife/imoveis/kitnet-ipsep-731369315\", \"Apartamentos\"], [\"1\", \"1\", \"40m\\u00b2\", \"https://pe.olx.com.br/grande-recife/imoveis/kitnet-no-ipsep-742759274\", \"Apartamentos\"], [\"1\", \"1\", \"\", \"https://pe.olx.com.br/grande-recife/imoveis/kitnet-745189781\", \"Apartamentos\"], [\"2\", \"1\", \"52m\\u00b2\", \"https://pe.olx.com.br/grande-recife/imoveis/cl-alugo-apt-no-ipsep-739937707\", \"Apartamentos\"], [\"3\", \"2\", \"70m\\u00b2\", \"https://pe.olx.com.br/grande-recife/imoveis/ipsep-aluga-apartamento-3-quartos-755803514\", \"Apartamentos\"], [\"1\", \"1\", \"50m\\u00b2\", \"https://pe.olx.com.br/grande-recife/imoveis/-apto-741781062\", \"Apartamentos\"], [\"2\", \"1\", \"65m\\u00b2\", \"https://pe.olx.com.br/grande-recife/imoveis/apartamento-para-alugar-com-2-dormitorios-em-imbiribeira-recife-cod-lmaa077-740898685\", \"Apartamentos\"], [\"2\", \"1\", \"50m\\u00b2\", \"https://pe.olx.com.br/grande-recife/imoveis/aluga-se-apartamento-750230240\", \"Apartamentos\"], [\"2\", \"1\", \"\", \"https://pe.olx.com.br/grande-recife/imoveis/aluga-se-apartamento-750775284\", \"Apartamentos\"], [\"2\", \"1\", \"56m\\u00b2\", \"https://pe.olx.com.br/grande-recife/imoveis/alugo-apartamento-ipsep-av-recife-742896400\", \"Apartamentos\"], [\"2\", \"1\", \"70m\\u00b2\", \"https://pe.olx.com.br/grande-recife/imoveis/aluga-se-apartamento-na-imbiribeira-748152333\", \"Apartamentos\"], [\"3\", \"2\", \"64m\\u00b2\", \"https://pe.olx.com.br/grande-recife/imoveis/apartamento-para-alugar-com-3-dormitorios-em-imbiribeira-recife-cod-imo897-708314195\", \"Apartamentos\"], [\"3\", \"2\", \"78m\\u00b2\", \"https://pe.olx.com.br/grande-recife/imoveis/imbiribeira-3q-78m-super-ventilado-739325884\", \"Apartamentos\"], [\"3\", \"2\", \"91m\\u00b2\", \"https://pe.olx.com.br/grande-recife/imoveis/aluguel-casa-1-andar-duplex-3-quartos-imbiribeira-751329599\", \"Apartamentos\"], [\"2\", \"1\", \"43m\\u00b2\", \"https://pe.olx.com.br/grande-recife/imoveis/bc-excelente-localizacao-edf-shopping-park-2-quartos-43-m-2-lazer-completo-744750619\", \"Apartamentos\"], [\"1\", \"1\", \"0m\\u00b2\", \"https://pe.olx.com.br/grande-recife/imoveis/kitnet-745004140\", \"Apartamentos\"], [\"2\", \"1\", \"60m\\u00b2\", \"https://pe.olx.com.br/grande-recife/imoveis/apto-reformado-porta-larga-todo-reformado-750949294\", \"Apartamentos\"], [\"3\", \"3\", \"100m\\u00b2\", \"https://pe.olx.com.br/grande-recife/imoveis/alugo-apartamento-com-armarios-e-guarda-roupas-em-todos-quartos-cozinha-e-banheiros-754116348\", \"Apartamentos\"], [\"2\", \"1\", \"50m\\u00b2\", \"https://pe.olx.com.br/grande-recife/imoveis/apto-para-alugar-650-00-756013079\", \"Apartamentos\"], [\"2\", \"1\", \"\", \"https://pe.olx.com.br/grande-recife/imoveis/kitnet-no-ipsep-753661114\", \"Apartamentos\"], [\"1\", \"1\", \"55m\\u00b2\", \"https://pe.olx.com.br/grande-recife/imoveis/alugo-apto-na-imbiribeira-otima-localidade-varanda-quarto-c-suite-armarios-embutidos-756602265\", \"Apartamentos\"], [\"2\", \"1\", \"\", \"https://pe.olx.com.br/grande-recife/imoveis/aluga-se-um-apartamento-757389421\", \"Apartamentos\"], [\"2\", \"2\", \"40m\\u00b2\", \"https://pe.olx.com.br/grande-recife/imoveis/apartamento-e-kitnet-ipsep-otima-localizacao-734076440\", \"Apartamentos\"], [\"1\", \"1\", \"45m\\u00b2\", \"https://pe.olx.com.br/grande-recife/imoveis/ipsep-r-500-00-kit-terreo-01-quarto-junto-farmacia-713252727\", \"Apartamentos\"], [\"2\", \"1\", \"44m\\u00b2\", \"https://pe.olx.com.br/grande-recife/imoveis/apartamento-752201802\", \"Apartamentos\"], [\"3\", \"2\", \"100m\\u00b2\", \"https://pe.olx.com.br/grande-recife/imoveis/apto-terreo-100-m-quadrados-3-qts-747365250\", \"Apartamentos\"], [\"3\", \"1\", \"68m\\u00b2\", \"https://pe.olx.com.br/grande-recife/imoveis/apartamento-jardim-sao-paulo-747618961\", \"Apartamentos\"], [\"3\", \"3\", \"0m\\u00b2\", \"https://pe.olx.com.br/grande-recife/imoveis/apartamento-no-derby-727461337\", \"Apartamentos\"], [\"3\", \"3\", \"93m\\u00b2\", \"https://pe.olx.com.br/grande-recife/imoveis/apartamento-nas-gracas-3-quartos-740858988\", \"Apartamentos\"], [\"2\", \"1\", \"\", \"https://pe.olx.com.br/grande-recife/imoveis/alugo-apartamento-1-andar-centro-do-recife-rua-oliveira-lima-1034-731228363\", \"Apartamentos\"], [\"3\", \"1\", \"\", \"https://pe.olx.com.br/grande-recife/imoveis/alugo-apartamento-3-andar-ao-lado-do-7-ro-pe-15-r-800-00-730831179\", \"Apartamentos\"], [\"1\", \"1\", \"\", \"https://pe.olx.com.br/grande-recife/imoveis/alugo-apartamento-no-edf-gold-style-em-boa-viagem-r-1-400-00-com-taxas-inclusas-748278936\", \"Apartamentos\"], [\"1\", \"1\", \"30m\\u00b2\", \"https://pe.olx.com.br/grande-recife/imoveis/apartamento-com-1-quarto-na-melhor-estrutura-do-bairro-das-gracas-755032612\", \"Apartamentos\"], [\"1\", \"1\", \"0m\\u00b2\", \"https://pe.olx.com.br/grande-recife/imoveis/gracas-um-quarto-taxas-inclusas-745126415\", \"Apartamentos\"], [\"1\", \"1\", \"30m\\u00b2\", \"https://pe.olx.com.br/grande-recife/imoveis/flat-1-quarto-para-alugar-nas-gracas-com-mobilia-fixa-e-split-556220253\", \"Apartamentos\"], [\"3\", \"3\", \"90m\\u00b2\", \"https://pe.olx.com.br/grande-recife/imoveis/edificio-morada-dos-manguinhos-519937081\", \"Apartamentos\"], [\"1\", \"1\", \"\", \"https://pe.olx.com.br/grande-recife/imoveis/apartamento-749674244\", \"Apartamentos\"], [\"2\", \"3\", \"75m\\u00b2\", \"https://pe.olx.com.br/grande-recife/imoveis/rara-oportunidade-nas-gracas-com-2-garagens-757497288\", \"Apartamentos\"], [\"2\", \"1\", \"75m\\u00b2\", \"https://pe.olx.com.br/grande-recife/imoveis/apartamento-para-aluguel-2-quartos-1-vaga-gracas-recife-pe-737696409\", \"Apartamentos\"], [\"1\", \"1\", \"33m\\u00b2\", \"https://pe.olx.com.br/grande-recife/imoveis/alugo-flat-nas-gracas-com-33-m-todo-mobiliado-750061620\", \"Apartamentos\"], [\"2\", \"1\", \"100m\\u00b2\", \"https://pe.olx.com.br/grande-recife/imoveis/edificio-rainha-santa-izabel-753947496\", \"Apartamentos\"], [\"1\", \"1\", \"32m\\u00b2\", \"https://pe.olx.com.br/grande-recife/imoveis/alugo-apartamento-mobiliado-com-otima-localizacao-no-bairro-das-gracas-754611640\", \"Apartamentos\"], [\"1\", \"1\", \"45m\\u00b2\", \"https://pe.olx.com.br/grande-recife/imoveis/apartamento-para-aluguel-1-quarto-1-vaga-gracas-recife-pe-756259986\", \"Apartamentos\"], [\"1\", \"1\", \"0m\\u00b2\", \"https://pe.olx.com.br/grande-recife/imoveis/apartamento-edf-colorado-rua-do-futuro-180-quarto-e-sala-aluga-se-752226398\", \"Apartamentos\"], [\"1\", \"1\", \"40m\\u00b2\", \"https://pe.olx.com.br/grande-recife/imoveis/loft-para-alugar-com-1-dormitorios-em-gracas-recife-cod-imo000144-716541633\", \"Apartamentos\"], [\"3\", \"2\", \"90m\\u00b2\", \"https://pe.olx.com.br/grande-recife/imoveis/apartamento-para-alugar-com-3-dormitorios-em-gracas-recife-cod-ap0404-602845369\", \"Apartamentos\"], [\"1\", \"1\", \"50m\\u00b2\", \"https://pe.olx.com.br/grande-recife/imoveis/flat-sem-mobilia-top-752976297\", \"Apartamentos\"], [\"2\", \"2\", \"90m\\u00b2\", \"https://pe.olx.com.br/grande-recife/imoveis/apartamento-2-quartos-nas-gracas-726910108\", \"Apartamentos\"], [\"2\", \"3\", \"74m\\u00b2\", \"https://pe.olx.com.br/grande-recife/imoveis/lindo-ap-localizacao-privilegiada-no-rosarinho-746040550\", \"Apartamentos\"], [\"2\", \"2\", \"92m\\u00b2\", \"https://pe.olx.com.br/grande-recife/imoveis/apt-excelente-al-1200-00-area-proximo-colegios-farmacias-padaria-local-privilegiado-706293627\", \"Apartamentos\"]], \"hoverlabel\": {\"namelength\": 0}, \"hovertemplate\": \"<b>%{hovertext}</b><br><br>price=%{marker.size}<br>bedrooms=%{customdata[0]}<br>bathrooms=%{customdata[1]}<br>area=%{customdata[2]}<br>url=%{customdata[3]}<br>type=%{customdata[4]}<br>latitude=%{lat}<br>longitude=%{lon}\", \"hovertext\": [\"R$ 1.500\", \"R$ 900\", \"R$ 500\", \"R$ 750\", \"R$ 900\", \"R$ 700\", \"R$ 600\", \"R$ 1.000\", \"R$ 1.100\", \"R$ 1.500\", \"R$ 1.400\", \"R$ 999\", \"R$ 1.499\", \"R$ 700\", \"R$ 1.100\", \"R$ 1.200\", \"R$ 750\", \"R$ 900\", \"R$ 620\", \"R$ 1.100\", \"R$ 1.300\", \"R$ 1.000\", \"R$ 800\", \"R$ 750\", \"R$ 800\", \"R$ 1.100\", \"R$ 1.160\", \"R$ 1.000\", \"R$ 800\", \"R$ 1.500\", \"R$ 1.350\", \"R$ 1.450\", \"R$ 1.500\", \"R$ 1.500\", \"R$ 1.200\", \"R$ 600\", \"R$ 400\", \"R$ 1.500\", \"R$ 1.000\", \"R$ 1.200\", \"R$ 1.300\", \"R$ 1.100\", \"R$ 1.300\", \"R$ 700\", \"R$ 1.000\", \"R$ 700\", \"R$ 1.500\", \"R$ 1.100\", \"R$ 1.500\", \"R$ 1.100\", \"R$ 1.100\", \"R$ 1.500\", \"R$ 1.500\", \"R$ 1.500\", \"R$ 1.500\", \"R$ 1.500\", \"R$ 1.500\", \"R$ 1.100\", \"R$ 1.500\", \"R$ 1.500\", \"R$ 1.100\", \"R$ 650\", \"R$ 1.200\", \"R$ 1.000\", \"R$ 1.500\", \"R$ 1.500\", \"R$ 1.000\", \"R$ 1.200\", \"R$ 700\", \"R$ 900\", \"R$ 1.100\", \"R$ 1.500\", \"R$ 1.100\", \"R$ 1.500\", \"R$ 1.500\", \"R$ 950\", \"R$ 650\", \"R$ 680\", \"R$ 799\", \"R$ 750\", \"R$ 1.200\", \"R$ 800\", \"R$ 1.500\", \"R$ 950\", \"R$ 600\", \"R$ 1.200\", \"R$ 700\", \"R$ 1.400\", \"R$ 750\", \"R$ 1.200\", \"R$ 500\", \"R$ 500\", \"R$ 1.500\", \"R$ 1.400\", \"R$ 1.400\", \"R$ 1.500\", \"R$ 1.450\", \"R$ 1.499\", \"R$ 1.500\", \"R$ 1.500\", \"R$ 1.499\", \"R$ 1.499\", \"R$ 1.500\", \"R$ 1.499\", \"R$ 1.500\", \"R$ 1.399\", \"R$ 1.400\", \"R$ 1.200\", \"R$ 1.200\", \"R$ 1.000\", \"R$ 1.200\", \"R$ 1.100\", \"R$ 980\", \"R$ 1.000\", \"R$ 970\", \"R$ 1.400\", \"R$ 1.500\", \"R$ 1.400\", \"R$ 1.350\", \"R$ 550\", \"R$ 1.300\", \"R$ 1.300\", \"R$ 900\", \"R$ 950\", \"R$ 1.400\", \"R$ 1.200\", \"R$ 1.000\", \"R$ 990\", \"R$ 800\", \"R$ 1.290\", \"R$ 1.500\", \"R$ 1.500\", \"R$ 950\", \"R$ 950\", \"R$ 900\", \"R$ 1.500\", \"R$ 1.000\", \"R$ 1.200\", \"R$ 1.000\", \"R$ 900\", \"R$ 1.200\", \"R$ 800\", \"R$ 1.400\", \"R$ 750\", \"R$ 1.200\", \"R$ 1.000\", \"R$ 1.000\", \"R$ 999\", \"R$ 450\", \"R$ 600\", \"R$ 600\", \"R$ 700\", \"R$ 1.300\", \"R$ 1.200\", \"R$ 1.000\", \"R$ 1.500\", \"R$ 1.400\", \"R$ 1.150\", \"R$ 850\", \"R$ 1.250\", \"R$ 1.400\", \"R$ 1.350\", \"R$ 800\", \"R$ 1.500\", \"R$ 1.200\", \"R$ 1.400\", \"R$ 900\", \"R$ 600\", \"R$ 500\", \"R$ 600\", \"R$ 500\", \"R$ 600\", \"R$ 550\", \"R$ 550\", \"R$ 600\", \"R$ 750\", \"R$ 1.400\", \"R$ 1.200\", \"R$ 1.400\", \"R$ 1.450\", \"R$ 1.250\", \"R$ 1.400\", \"R$ 1.400\", \"R$ 1.300\", \"R$ 1.200\", \"R$ 1.500\", \"R$ 1.500\", \"R$ 1.500\", \"R$ 1.500\", \"R$ 1.500\", \"R$ 1.200\", \"R$ 1.500\", \"R$ 1.250\", \"R$ 1.400\", \"R$ 1.350\", \"R$ 1.000\", \"R$ 1.450\", \"R$ 1.500\", \"R$ 1.500\", \"R$ 1.200\", \"R$ 1.300\", \"R$ 1.500\", \"R$ 900\", \"R$ 1.350\", \"R$ 1.100\", \"R$ 1.400\", \"R$ 1.300\", \"R$ 1.200\", \"R$ 1.500\", \"R$ 1.500\", \"R$ 1.250\", \"R$ 1.500\", \"R$ 1.050\", \"R$ 700\", \"R$ 1.400\", \"R$ 1.400\", \"R$ 1.400\", \"R$ 1.400\", \"R$ 1.430\", \"R$ 1.450\", \"R$ 1.440\", \"R$ 1.450\", \"R$ 1.400\", \"R$ 1.500\", \"R$ 1.000\", \"R$ 1.100\", \"R$ 1.500\", \"R$ 1.500\", \"R$ 1.500\", \"R$ 1.500\", \"R$ 1.500\", \"R$ 1.400\", \"R$ 1.500\", \"R$ 1.445\", \"R$ 1.500\", \"R$ 1.430\", \"R$ 1.500\", \"R$ 1.500\", \"R$ 1.000\", \"R$ 1.499\", \"R$ 1.500\", \"R$ 1.400\", \"R$ 1.000\", \"R$ 1.500\", \"R$ 1.500\", \"R$ 1.400\", \"R$ 1.500\", \"R$ 1.500\", \"R$ 1.000\", \"R$ 1.340\", \"R$ 1.500\", \"R$ 1.400\", \"R$ 1.500\", \"R$ 1.100\", \"R$ 1.500\", \"R$ 1.400\", \"R$ 1.500\", \"R$ 1.500\", \"R$ 1.500\", \"R$ 1.500\", \"R$ 1.400\", \"R$ 1.350\", \"R$ 1.500\", \"R$ 1.400\", \"R$ 1.400\", \"R$ 1.500\", \"R$ 1.300\", \"R$ 1.300\", \"R$ 1.500\", \"R$ 1.500\", \"R$ 1.150\", \"R$ 1.290\", \"R$ 1.500\", \"R$ 1.500\", \"R$ 1.500\", \"R$ 1.500\", \"R$ 1.500\", \"R$ 1.500\", \"R$ 1.500\", \"R$ 200\", \"R$ 800\", \"R$ 1.400\", \"R$ 800\", \"R$ 1.400\", \"R$ 1.500\", \"R$ 1.100\", \"R$ 1.300\", \"R$ 1.400\", \"R$ 1.400\", \"R$ 800\", \"R$ 1.400\", \"R$ 1.470\", \"R$ 1.500\", \"R$ 1.400\", \"R$ 1.300\", \"R$ 1.500\", \"R$ 1.500\", \"R$ 1.410\", \"R$ 1.430\", \"R$ 1.500\", \"R$ 1.500\", \"R$ 800\", \"R$ 1.350\", \"R$ 1.450\", \"R$ 1.200\", \"R$ 1.200\", \"R$ 850\", \"R$ 650\", \"R$ 1.470\", \"R$ 1.300\", \"R$ 1.000\", \"R$ 874\", \"R$ 877\", \"R$ 1.400\", \"R$ 1.000\", \"R$ 920\", \"R$ 1.050\", \"R$ 1.500\", \"R$ 1.500\", \"R$ 1.300\", \"R$ 1.200\", \"R$ 1.200\", \"R$ 1.100\", \"R$ 1.250\", \"R$ 1.500\", \"R$ 500\", \"R$ 1.500\", \"R$ 1.200\", \"R$ 1.450\", \"R$ 1.300\", \"R$ 1.500\", \"R$ 1.500\", \"R$ 1.450\", \"R$ 800\", \"R$ 800\", \"R$ 1.500\", \"R$ 1.500\", \"R$ 1.500\", \"R$ 1.500\", \"R$ 1.400\", \"R$ 1.300\", \"R$ 1.250\", \"R$ 1.350\", \"R$ 1.350\", \"R$ 1.350\", \"R$ 1.350\", \"R$ 350\", \"R$ 1.500\", \"R$ 1.200\", \"R$ 1.200\", \"R$ 1.500\", \"R$ 1.500\", \"R$ 1.500\", \"R$ 1.500\", \"R$ 1.000\", \"R$ 1.200\", \"R$ 1.300\", \"R$ 1.499\", \"R$ 1.500\", \"R$ 1.469\", \"R$ 1.200\", \"R$ 1.500\", \"R$ 1.100\", \"R$ 1.470\", \"R$ 550\", \"R$ 1.500\", \"R$ 1.000\", \"R$ 1.499\", \"R$ 1.499\", \"R$ 1.400\", \"R$ 1.500\", \"R$ 650\", \"R$ 550\", \"R$ 1.500\", \"R$ 1.500\", \"R$ 1.399\", \"R$ 1.500\", \"R$ 1.500\", \"R$ 1.399\", \"R$ 1.350\", \"R$ 465\", \"R$ 1.500\", \"R$ 900\", \"R$ 1.100\", \"R$ 1.500\", \"R$ 1.400\", \"R$ 1.300\", \"R$ 1.310\", \"R$ 1.400\", \"R$ 1.500\", \"R$ 1.300\", \"R$ 650\", \"R$ 1.100\", \"R$ 1.500\", \"R$ 1.251\", \"R$ 1.335\", \"R$ 916\", \"R$ 1.400\", \"R$ 1.114\", \"R$ 1.190\", \"R$ 1.152\", \"R$ 1.180\", \"R$ 1.200\", \"R$ 1.300\", \"R$ 1.180\", \"R$ 1.400\", \"R$ 700\", \"R$ 1.500\", \"R$ 1.350\", \"R$ 1.400\", \"R$ 1.500\", \"R$ 1.300\", \"R$ 1.400\", \"R$ 1.500\", \"R$ 1.500\", \"R$ 1.500\", \"R$ 1.400\", \"R$ 1.450\", \"R$ 1.400\", \"R$ 1.500\", \"R$ 1.400\", \"R$ 1.500\", \"R$ 1.400\", \"R$ 1.050\", \"R$ 1.400\", \"R$ 1.400\", \"R$ 1.500\", \"R$ 1.150\", \"R$ 1.500\", \"R$ 1.400\", \"R$ 1.400\", \"R$ 1.300\", \"R$ 1.500\", \"R$ 110\", \"R$ 1.400\", \"R$ 1.500\", \"R$ 690\", \"R$ 1.300\", \"R$ 1.300\", \"R$ 1.500\", \"R$ 1.500\", \"R$ 1.500\", \"R$ 1.500\", \"R$ 400\", \"R$ 485\", \"R$ 950\", \"R$ 850\", \"R$ 1.000\", \"R$ 800\", \"R$ 1.500\", \"R$ 1.300\", \"R$ 1.400\", \"R$ 1.300\", \"R$ 800\", \"R$ 1.300\", \"R$ 1.500\", \"R$ 1.470\", \"R$ 1.000\", \"R$ 1.470\", \"R$ 1.020\", \"R$ 1.470\", \"R$ 1.470\", \"R$ 1.000\", \"R$ 1.470\", \"R$ 1.499\", \"R$ 1.000\", \"R$ 750\", \"R$ 1.500\", \"R$ 1.000\", \"R$ 1.399\", \"R$ 1.470\", \"R$ 1.000\", \"R$ 1.500\", \"R$ 1.000\", \"R$ 1.100\", \"R$ 900\", \"R$ 1.400\", \"R$ 999\", \"R$ 1.470\", \"R$ 1.000\", \"R$ 999\", \"R$ 1.500\", \"R$ 1.499\", \"R$ 1.470\", \"R$ 1.000\", \"R$ 1.469\", \"R$ 1.470\", \"R$ 1.470\", \"R$ 1.400\", \"R$ 1.000\", \"R$ 1.499\", \"R$ 1.400\", \"R$ 1.400\", \"R$ 1.100\", \"R$ 999\", \"R$ 1.499\", \"R$ 1.500\", \"R$ 1.200\", \"R$ 500\", \"R$ 1.500\", \"R$ 1.300\", \"R$ 900\", \"R$ 1.000\", \"R$ 1.300\", \"R$ 1.500\", \"R$ 1.400\", \"R$ 1.500\", \"R$ 1.350\", \"R$ 1.500\", \"R$ 1.400\", \"R$ 1.500\", \"R$ 1.300\", \"R$ 1.200\", \"R$ 1.400\", \"R$ 1.150\", \"R$ 1.500\", \"R$ 1.400\", \"R$ 1.500\", \"R$ 900\", \"R$ 1.200\", \"R$ 1.500\", \"R$ 1.500\", \"R$ 1.390\", \"R$ 1.200\", \"R$ 1.500\", \"R$ 1.400\", \"R$ 1.350\", \"R$ 1.500\", \"R$ 1.300\", \"R$ 1.500\", \"R$ 1.100\", \"R$ 1.400\", \"R$ 800\", \"R$ 1.460\", \"R$ 1.450\", \"R$ 1.300\", \"R$ 1.200\", \"R$ 790\", \"R$ 1.400\", \"R$ 1.250\", \"R$ 799\", \"R$ 0\", \"R$ 1.100\", \"R$ 1.100\", \"R$ 750\", \"R$ 1.100\", \"R$ 1.100\", \"R$ 1.400\", \"R$ 1.100\", \"R$ 1.100\", \"R$ 1.000\", \"R$ 1.000\", \"R$ 1.500\", \"R$ 1.200\", \"R$ 950\", \"R$ 1.200\", \"R$ 1.100\", \"R$ 1.200\", \"R$ 1.300\", \"R$ 1.300\", \"R$ 900\", \"R$ 1.450\", \"R$ 1.100\", \"R$ 500\", \"R$ 1.300\", \"R$ 990\", \"R$ 680\", \"R$ 1.300\", \"R$ 1.250\", \"R$ 1.500\", \"R$ 1.000\", \"R$ 1.100\", \"R$ 900\", \"R$ 1.500\", \"R$ 1.500\", \"R$ 1.300\", \"R$ 1.500\", \"R$ 1.400\", \"R$ 1.500\", \"R$ 1.500\", \"R$ 1.400\", \"R$ 1.000\", \"R$ 1.000\", \"R$ 1.500\", \"R$ 170\", \"R$ 830\", \"R$ 900\", \"R$ 1.499\", \"R$ 1.450\", \"R$ 550\", \"R$ 550\", \"R$ 700\", \"R$ 650\", \"R$ 1.100\", \"R$ 700\", \"R$ 1.300\", \"R$ 1.100\", \"R$ 1.300\", \"R$ 600\", \"R$ 1.390\", \"R$ 1.390\", \"R$ 1.390\", \"R$ 1.390\", \"R$ 1.390\", \"R$ 1.390\", \"R$ 1.500\", \"R$ 1.150\", \"R$ 1.500\", \"R$ 1.500\", \"R$ 1.000\", \"R$ 1.400\", \"R$ 1.500\", \"R$ 650\", \"R$ 1.100\", \"R$ 1.100\", \"R$ 1.250\", \"R$ 1.250\", \"R$ 1.500\", \"R$ 1.500\", \"R$ 850\", \"R$ 1.290\", \"R$ 1.400\", \"R$ 1.500\", \"R$ 1.200\", \"R$ 1.200\", \"R$ 1.400\", \"R$ 950\", \"R$ 1.200\", \"R$ 1.200\", \"R$ 1.500\", \"R$ 1.500\", \"R$ 1.500\", \"R$ 1.500\", \"R$ 1.400\", \"R$ 1.400\", \"R$ 1.400\", \"R$ 900\", \"R$ 500\", \"R$ 1.470\", \"R$ 500\", \"R$ 450\", \"R$ 1.000\", \"R$ 830\", \"R$ 600\", \"R$ 800\", \"R$ 600\", \"R$ 580\", \"R$ 1.400\", \"R$ 1.400\", \"R$ 1.470\", \"R$ 1.450\", \"R$ 1.450\", \"R$ 1.400\", \"R$ 1.500\", \"R$ 1.400\", \"R$ 1.400\", \"R$ 1.450\", \"R$ 1.470\", \"R$ 1.450\", \"R$ 1.450\", \"R$ 1.400\", \"R$ 750\", \"R$ 600\", \"R$ 950\", \"R$ 1.450\", \"R$ 1.450\", \"R$ 750\", \"R$ 1.300\", \"R$ 1.300\", \"R$ 1.300\", \"R$ 1.200\", \"R$ 1.200\", \"R$ 1.200\", \"R$ 1.200\", \"R$ 850\", \"R$ 1.400\", \"R$ 1.100\", \"R$ 1.450\", \"R$ 1.000\", \"R$ 750\", \"R$ 1.000\", \"R$ 1.150\", \"R$ 1.200\", \"R$ 350\", \"R$ 1.000\", \"R$ 1.150\", \"R$ 380\", \"R$ 400\", \"R$ 450\", \"R$ 350\", \"R$ 400\", \"R$ 650\", \"R$ 550\", \"R$ 1.000\", \"R$ 900\", \"R$ 1.000\", \"R$ 1.000\", \"R$ 500\", \"R$ 1.050\", \"R$ 600\", \"R$ 550\", \"R$ 600\", \"R$ 600\", \"R$ 900\", \"R$ 500\", \"R$ 800\", \"R$ 500\", \"R$ 750\", \"R$ 800\", \"R$ 800\", \"R$ 1.200\", \"R$ 1.300\", \"R$ 1.000\", \"R$ 1.400\", \"R$ 600\", \"R$ 700\", \"R$ 1.300\", \"R$ 650\", \"R$ 550\", \"R$ 600\", \"R$ 700\", \"R$ 500\", \"R$ 500\", \"R$ 800\", \"R$ 1.250\", \"R$ 900\", \"R$ 1.300\", \"R$ 1.500\", \"R$ 800\", \"R$ 800\", \"R$ 1.400\", \"R$ 1.500\", \"R$ 1.350\", \"R$ 1.100\", \"R$ 1.030\", \"R$ 750\", \"R$ 1.300\", \"R$ 1.450\", \"R$ 1.350\", \"R$ 900\", \"R$ 1.320\", \"R$ 1.000\", \"R$ 950\", \"R$ 950\", \"R$ 1.500\", \"R$ 1.450\", \"R$ 1.400\", \"R$ 1.200\", \"R$ 1.200\"], \"lat\": [null, -8.0679918, -8.0035998, -8.0035998, -8.0035998, -8.0035998, -8.06251015, -8.0679102, -8.0679102, null, -7.8408996, null, null, -8.0611011, -8.0611011, -8.0611011, -8.0611011, null, null, -8.0609285, -8.0609285, -8.0573689, -8.060816, -8.060816, -8.060816, -8.059567, -8.05295255, null, -8.0550557, -8.052180400000001, -8.052180400000001, -8.052180400000001, -8.052180400000001, -8.052180400000001, -8.0338998, -8.0338998, -8.0492846, -8.0547944, -8.059757, -7.84376, -7.84376, -8.06099825, -8.060784550000001, -8.0559843, -8.0559843, -8.0559843, -8.0559843, -8.0559843, -8.0559843, -8.0559843, -8.0559843, -8.0559843, -8.0559843, -8.0559843, -8.0559843, -8.0559843, -8.0559843, -8.0559843, -8.0559843, -8.0559843, -8.0559843, -8.0559843, -8.0559843, -8.0559843, null, null, null, -8.0639329, -8.0609285, -8.0609285, -8.060816, -8.060816, -8.060816, -8.060816, -8.060816, -8.0597007, -8.0597007, -8.06116595, -8.06116595, -8.06116595, -2.5719027, -2.5719027, -2.5719027, -5.2588272, -8.06861825, -8.0217311, -8.0217311, -8.0217311, -8.0217311, -8.0217311, -8.059917, -8.059917, null, null, null, null, null, null, null, null, null, null, null, null, null, null, null, null, null, null, null, null, null, null, null, -8.0565708, -8.0551501, -8.0551501, -8.0551501, -8.0551501, -8.0551501, -8.0551501, -8.0551501, -8.0629351, -8.0629351, -8.0629351, -8.0629351, -8.0629351, -8.0629351, -8.0629351, null, -8.059570149999999, -22.8503511, -22.8503511, -7.9930245, -7.9930245, -8.0569657, -10.8978545, -8.0606075, -8.0606075, -8.0606075, null, null, -22.9054927, null, -8.0669129, -8.0217311, -8.0768412, -8.0768412, null, -23.7190827, -8.0904384, -8.0904384, -8.0904384, -8.0904384, -8.0904384, -8.0904384, -8.0939317, -8.0939317, null, -8.1033055, -8.1033055, -8.1033055, -8.1033055, -8.1033055, -8.1033055, -8.0955615, -8.0969344, -8.0969344, -8.0902486, -22.8875979, -5.0738577, -22.7720045, -6.8668475, -12.9675542, null, -8.0904384, -8.0904384, -8.0904384, -8.0904384, -8.0904384, -8.0904384, -8.0904384, -8.0904384, -8.12161905, -8.12161905, -8.12161905, -8.12161905, -8.12161905, -8.12161905, -19.8235447, -19.8235447, -19.8235447, -8.1033055, -8.1033055, -8.1033055, -8.1033055, -8.1033055, -8.1033055, -8.1033055, -8.1033055, -8.1033055, -8.1289251, -8.1289251, -8.1289251, -8.1289251, -8.1289251, -8.1289251, -8.1289251, -8.1289251, -8.1289251, -8.1289251, -8.1289251, -8.1104721, -8.1104721, -8.1104721, -8.1104721, -8.1104721, -8.1104721, -8.1104721, -8.1104721, -8.1104721, -8.1148722, -8.1148722, -8.1148722, -8.1148722, -8.1105394, -8.1105394, -8.1105394, -8.1105394, -8.1105394, -8.1105394, -8.1105394, -8.1105394, -8.1105394, -8.1105394, -8.1105394, null, null, null, -8.1112125, -8.1112125, -8.1112125, -8.1104817, -8.1104817, -8.1104817, -8.1104817, -22.9990311, -22.9990311, -22.9990311, -22.9990311, -22.9990311, -22.9990311, -22.9990311, -22.9990311, -22.9990311, -22.9990311, -22.9990311, -22.9990311, -22.9990311, -22.9990311, -22.9990311, -22.9990311, -22.9990311, -22.9990311, -22.9990311, -22.9990311, -22.9990311, -8.1091823, -8.1091823, -8.1094423, -8.1091835, -8.1091835, -8.1082283, -8.1082283, -8.1082283, -8.1082283, -8.1115077, -8.1115077, -8.1115077, -8.1115077, -8.1115077, -8.1115077, -8.113766, -8.113766, -8.113766, -8.113766, -8.1123462, -8.1123462, -8.1123462, -8.1123462, -8.1123462, -8.1123462, -8.1123462, -8.1123462, -8.1141127, -8.1141127, -8.1141127, -8.1141127, -8.1141127, -8.1141127, -23.3801802, -23.3801802, -23.3801802, -22.4319035, -22.4319035, -8.1136615, -8.1128662, -8.1128662, -8.1128662, -8.1128662, -8.1128662, -8.1128662, -8.1128662, -8.1128662, -8.1128662, -8.1128662, -22.9028723, -22.9028723, -8.1173984, -8.1173984, -8.1173984, -8.1173984, -8.1173984, -8.1176499, -8.1176499, -8.1176499, -8.1176499, -8.1185415, -8.1185415, -8.1185415, -8.1185415, -8.1185415, -8.1185415, -8.1185415, -8.1193263, -8.1207913, -8.1207913, -8.1207913, -16.1279314, -16.1279314, -16.1279314, -16.1279314, -16.1279314, -16.1279314, -16.1279314, -8.1184135, null, -8.1210573, -8.1210573, -8.1210573, -8.1210573, null, -8.0904384, -8.0904384, -8.1033055, -8.1033055, -8.1033055, -8.1033055, -8.1033055, -8.1033055, -8.1033055, null, -8.1289251, -8.1289251, null, -8.1210573, -8.1210573, -8.1210573, -8.1242169, -8.1242169, -8.1229545, -8.1219739, -8.1220145, null, -8.1245346, -8.1241955, -8.1241955, -8.1241955, -8.1241955, -8.1241955, -8.1241955, -8.1241955, -8.1241955, -8.1270134, -8.1270134, -8.1270134, -8.1270868, -8.1270868, -8.1270868, -8.1270868, -8.0156825, -8.1227546, -8.1227546, -8.1228893, -8.1228893, -8.1228893, -8.1228893, -8.1228893, -8.1228893, -8.1228893, -8.1228893, -11.6583426, -11.6583426, -11.6583426, -8.1277214, -8.1277214, -8.1213716, -7.7528776, -8.1220834, -8.1220834, -8.1220834, -8.1233384, -8.1233384, -8.1233384, -8.1233384, -8.1233384, -8.1233384, -8.1233384, -8.1233384, -8.1233384, -8.1233384, -8.1233384, -8.1233384, -8.1233384, -8.1233384, -8.1233384, -8.1233384, -8.1250569, -8.1250569, -8.1250569, -8.1253111, -8.1253111, -8.1253111, -7.3838379, -7.3838379, -7.3838379, -7.3838379, -7.3838379, -7.3838379, -7.3838379, -7.3838379, -7.3838379, -8.1277998, -8.1278844, -8.1278844, -8.1303408, -27.4622097, -22.9209416, -8.1299608, -8.1299608, -8.130518, -8.130518, -8.1299598, null, null, null, null, null, -8.1252465, -8.1132614, -8.1132614, -8.1132614, -8.1132614, null, null, null, null, null, null, null, null, null, null, null, null, null, null, null, null, null, null, null, null, null, null, null, null, null, null, null, null, null, null, -8.12432, null, null, -8.0904384, -8.0904384, -8.1424081, -8.1424081, -8.1424081, -22.924362, -8.1418167, -8.1418167, -8.1353493, -8.1353493, -8.1436087, -8.1436087, -8.1436087, null, -8.1410298, -8.1410298, -8.1410298, -8.1410298, -8.1410298, -8.1410298, -8.1410298, -8.1410298, -8.1410298, -8.1410298, -8.1410298, -8.1410298, -8.1410298, -8.1410298, -8.1410298, -8.1410298, -8.1410298, -8.1410298, -8.1410298, -8.1335747, -27.4513007, -22.8083966, -8.0831913, -8.1417469, null, -8.1277462, -8.1302798, -8.1326705, -8.1326705, -8.1326705, -8.1326705, -8.1326705, -8.1326705, -8.1326705, -8.1326705, -8.1326705, -8.1326705, -8.1326705, -8.1326705, -8.1411075, -8.1394814, -8.1389837, -8.1381789, -8.1364603, -8.1342705, -8.1339194, -8.1339194, -8.1339194, -8.1339194, -8.1339194, null, -8.1322868, -7.2780234, -7.2780234, -8.1344649, -13.8531691, -7.9798815, -7.9798815, -7.9798815, -7.9798815, -8.1378817, -8.1378817, -8.140285, -8.140285, -8.140285, -8.140285, -8.140285, -8.140285, -8.140285, -8.140285, -8.1269726, -8.1269726, -8.119006, -8.119006, -8.1317132, null, null, -8.1033055, -7.9972054, -7.9972054, -18.0288142, -18.0288142, -8.0853523, -8.0908689, null, null, -8.0870614, -22.9214825, -23.6000059, -23.6000059, -23.6000059, -23.6000059, -23.6000059, -23.6000059, -8.0904384, -8.1033055, -8.1033055, -8.1033055, -8.1033055, -8.1289251, -8.1081403, -19.8235447, -8.1043637, -8.1043637, -8.1086696, -8.1086696, -8.1082881, null, null, -8.0904384, -8.1411075, -8.1417469, -8.1417469, -8.1417469, -8.1375631, -8.1435233, -8.144461, -8.144461, -8.144461, -8.144461, -8.1398987, -8.1398987, -8.1398987, -8.1399129, null, null, null, -8.0831913, -8.0831913, -8.0861308, -13.0059337, -6.3470098, -6.3470098, -6.3470098, -6.3470098, -29.1646421, -8.0831913, -8.0831913, -8.0831913, -8.0831913, -8.0831913, -8.0831913, -8.0831913, -8.0831913, -8.0831913, -8.0831913, -8.0831913, -8.0831913, null, -27.0321931, -27.0321931, -8.110501, -8.110501, -8.1159385, -8.1159385, -22.8686674, -19.889541, -19.889541, -19.889541, -8.0937817, null, -8.0978854, -8.0958211, -8.0951801, -8.0918709, -8.0918709, -8.0906689, -7.0424389, -7.0424389, -7.0424389, -8.0929237, -8.0929237, -8.0929237, -8.0929237, -8.0977277, 39.6365078, 39.6365078, 39.6365078, 39.6365078, -8.1032829, -12.8061566, -29.5782131, -25.4544646, -26.9565609, -27.4490275, -27.4490275, -8.1146243, 38.8459764, 42.9128294, 42.9128294, 42.9128294, -23.5514271, -31.7347559, -16.7874685, -23.2251312, -22.721385, -8.1165234, -19.8248635, -8.1074672, -26.2233507, -26.2233507, -26.2233507, -8.0831913, -8.13382675, -8.13382675, -8.1077502, -8.1130256, -8.1072716, -6.1001975, -23.0952656, -27.4433526, -27.4433526, -27.3670726, -8.067035, null, -8.0537559, -9.384912, -5.8180093, -5.8180093, -5.8180093, null, -8.0471419, -8.0471419, -16.3400687, -22.9002958, -8.0471779, -23.2720707, -22.5335394, -8.0508005, -22.9282975, -22.9282975, -22.9282975, null, null, null, 38.7285864, -27.4570502, -27.4570502], \"legendgroup\": \"\", \"lon\": [null, -34.8749493, -34.846023, -34.846023, -34.846023, -34.846023, -34.87983005837441, -34.8800596, -34.8800596, null, -35.2554015, null, null, -34.881001, -34.881001, -34.881001, -34.881001, null, null, -34.8832635, -34.8832635, -34.8850721, -34.8840259, -34.8840259, -34.8840259, -34.8863998, -34.890210043089816, null, -34.8852947, -34.89240106514324, -34.89240106514324, -34.89240106514324, -34.89240106514324, -34.89240106514324, -34.869191, -34.869191, -34.8928355, -34.8928922, -34.8825793, -35.2561794, -35.2561794, -34.88138150567374, -34.881241836732485, -34.8944439, -34.8944439, -34.8944439, -34.8944439, -34.8944439, -34.8944439, -34.8944439, -34.8944439, -34.8944439, -34.8944439, -34.8944439, -34.8944439, -34.8944439, -34.8944439, -34.8944439, -34.8944439, -34.8944439, -34.8944439, -34.8944439, -34.8944439, -34.8944439, null, null, null, -34.8840686, -34.8832635, -34.8832635, -34.8840259, -34.8840259, -34.8840259, -34.8840259, -34.8840259, -34.88670786641525, -34.88670786641525, -34.88718281880922, -34.88718281880922, -34.88718281880922, -44.1616192, -44.1616192, -44.1616192, -44.0539976, -34.88965716008202, -34.8512741, -34.8512741, -34.8512741, -34.8512741, -34.8512741, -34.8880243, -34.8880243, null, null, null, null, null, null, null, null, null, null, null, null, null, null, null, null, null, null, null, null, null, null, null, -34.8899482, -34.8956937, -34.8956937, -34.8956937, -34.8956937, -34.8956937, -34.8956937, -34.8956937, -34.890089068428296, -34.890089068428296, -34.890089068428296, -34.890089068428296, -34.890089068428296, -34.890089068428296, -34.890089068428296, null, -34.89119057572735, -43.5392001, -43.5392001, -34.8427963, -34.8427963, -34.8950736, -37.0696045, -34.8924318, -34.8924318, -34.8924318, null, null, -43.2875421, null, -34.8925804, -34.8512741, -34.8927943, -34.8927943, null, -46.6241942, -34.8817926, -34.8817926, -34.8817926, -34.8817926, -34.8817926, -34.8817926, -34.8836477, -34.8836477, null, -34.8877783, -34.8877783, -34.8877783, -34.8877783, -34.8877783, -34.8877783, -34.8865036, -34.8876549, -34.8876549, -34.8860563, -43.4312045, -47.8069121, -43.3196459, -39.6135121, -38.4821717, null, -34.8817926, -34.8817926, -34.8817926, -34.8817926, -34.8817926, -34.8817926, -34.8817926, -34.8817926, -34.89713349074167, -34.89713349074167, -34.89713349074167, -34.89713349074167, -34.89713349074167, -34.89713349074167, -44.0039238, -44.0039238, -44.0039238, -34.8877783, -34.8877783, -34.8877783, -34.8877783, -34.8877783, -34.8877783, -34.8877783, -34.8877783, -34.8877783, -34.9019489, -34.9019489, -34.9019489, -34.9019489, -34.9019489, -34.9019489, -34.9019489, -34.9019489, -34.9019489, -34.9019489, -34.9019489, -34.893872, -34.893872, -34.893872, -34.893872, -34.893872, -34.893872, -34.893872, -34.893872, -34.893872, -34.8963378, -34.8963378, -34.8963378, -34.8963378, -34.8946475, -34.8946475, -34.8946475, -34.8946475, -34.8946475, -34.8946475, -34.8946475, -34.8946475, -34.8946475, -34.8946475, -34.8946475, null, null, null, -34.8959199, -34.8959199, -34.8959199, -34.89647, -34.89647, -34.89647, -34.89647, -43.3247387, -43.3247387, -43.3247387, -43.3247387, -43.3247387, -43.3247387, -43.3247387, -43.3247387, -43.3247387, -43.3247387, -43.3247387, -43.3247387, -43.3247387, -43.3247387, -43.3247387, -43.3247387, -43.3247387, -43.3247387, -43.3247387, -43.3247387, -43.3247387, -34.8979525, -34.8979525, -34.8940046, -34.8930803, -34.8930803, -34.897049, -34.897049, -34.897049, -34.897049, -34.895318, -34.895318, -34.895318, -34.895318, -34.895318, -34.895318, -34.8931155, -34.8931155, -34.8931155, -34.8931155, -34.8958106, -34.8958106, -34.8958106, -34.8958106, -34.8958106, -34.8958106, -34.8958106, -34.8958106, -34.8944137, -34.8944137, -34.8944137, -34.8944137, -34.8944137, -34.8944137, -46.4509557, -46.4509557, -46.4509557, -46.9629959, -46.9629959, -34.897403, -34.9011461, -34.9011461, -34.9011461, -34.9011461, -34.9011461, -34.9011461, -34.9011461, -34.9011461, -34.9011461, -34.9011461, -43.3584645, -43.3584645, -34.8964334, -34.8964334, -34.8964334, -34.8964334, -34.8964334, -34.898213, -34.898213, -34.898213, -34.898213, -34.8987254, -34.8987254, -34.8987254, -34.8987254, -34.8987254, -34.8987254, -34.8987254, -34.8990466, -34.8973163, -34.8973163, -34.8973163, -45.7447743, -45.7447743, -45.7447743, -45.7447743, -45.7447743, -45.7447743, -45.7447743, -34.9075881, null, -34.9013761, -34.9013761, -34.9013761, -34.9013761, null, -34.8817926, -34.8817926, -34.8877783, -34.8877783, -34.8877783, -34.8877783, -34.8877783, -34.8877783, -34.8877783, null, -34.9019489, -34.9019489, null, -34.9013761, -34.9013761, -34.9013761, -34.9028404, -34.9028404, -34.9045403, -34.9052324, -34.9058349, null, -34.9063288, -34.9070975, -34.9070975, -34.9070975, -34.9070975, -34.9070975, -34.9070975, -34.9070975, -34.9070975, -34.9074451, -34.9074451, -34.9074451, -34.9079663, -34.9079663, -34.9079663, -34.9079663, -34.8754777, -34.9006999, -34.9006999, -34.8995471, -34.8995471, -34.8995471, -34.8995471, -34.8995471, -34.8995471, -34.8995471, -34.8995471, -38.997632, -38.997632, -38.997632, -34.908477, -34.908477, -34.9011717, -34.8268332, -34.9071787, -34.9071787, -34.9071787, -34.901349, -34.901349, -34.901349, -34.901349, -34.901349, -34.901349, -34.901349, -34.901349, -34.901349, -34.901349, -34.901349, -34.901349, -34.901349, -34.901349, -34.901349, -34.901349, -34.8982175, -34.8982175, -34.8982175, -34.9014303, -34.9014303, -34.9014303, -35.2474371, -35.2474371, -35.2474371, -35.2474371, -35.2474371, -35.2474371, -35.2474371, -35.2474371, -35.2474371, -34.9046509, -34.9100119, -34.9100119, -34.89972, -53.9183477, -43.2257963, -34.9039833, -34.9039833, -34.9048671, -34.9048671, -34.906287, null, null, null, null, null, -34.8989285, -34.8940289, -34.8940289, -34.8940289, -34.8940289, null, null, null, null, null, null, null, null, null, null, null, null, null, null, null, null, null, null, null, null, null, null, null, null, null, null, null, null, null, null, -34.898888, null, null, -34.8817926, -34.8817926, -34.9049929, -34.9049929, -34.9049929, -43.20664, -34.9063735, -34.9063735, -34.9048098, -34.9048098, -34.9113651, -34.9113651, -34.9113651, null, -34.9083703, -34.9083703, -34.9083703, -34.9083703, -34.9083703, -34.9083703, -34.9083703, -34.9083703, -34.9083703, -34.9083703, -34.9083703, -34.9083703, -34.9083703, -34.9083703, -34.9083703, -34.9083703, -34.9083703, -34.9083703, -34.9083703, -34.9076876, -53.9399003, -43.252939, -34.9066771, -34.9073533, null, -34.9113531, -34.9107887, -34.9141668, -34.9141668, -34.9141668, -34.9141668, -34.9141668, -34.9141668, -34.9141668, -34.9141668, -34.9141668, -34.9141668, -34.9141668, -34.9141668, -34.9063036, -34.9087586, -34.9058445, -34.9068348, -34.9051821, -34.9037681, -34.9047854, -34.9047854, -34.9047854, -34.9047854, -34.9047854, null, -34.9053619, -35.9126142, -35.9126142, -34.9079666, -40.085839, -34.8554914, -34.8554914, -34.8554914, -34.8554914, -34.9106482, -34.9106482, -34.9101962, -34.9101962, -34.9101962, -34.9101962, -34.9101962, -34.9101962, -34.9101962, -34.9101962, -34.9123126, -34.9123126, -34.8943518, -34.8943518, -34.9043135, null, null, -34.8877783, -34.8534284, -34.8534284, -41.6762445, -41.6762445, -34.8884743, -34.8831924, null, null, -34.8953637, -45.4641895, -46.659068, -46.659068, -46.659068, -46.659068, -46.659068, -46.659068, -34.8817926, -34.8877783, -34.8877783, -34.8877783, -34.8877783, -34.9019489, -34.8935028, -44.0039238, -34.8882331, -34.8882331, -34.8927574, -34.8927574, -34.8887899, null, null, -34.8817926, -34.9063036, -34.9073533, -34.9073533, -34.9073533, -34.9085158, -34.9128241, -34.9062799, -34.9062799, -34.9062799, -34.9062799, -34.9138228, -34.9138228, -34.9138228, -34.9116795, null, null, null, -34.9066771, -34.9066771, -34.9049225, -38.5192922, -35.3735349, -35.3735349, -35.3735349, -35.3735349, -51.1624274, -34.9066771, -34.9066771, -34.9066771, -34.9066771, -34.9066771, -34.9066771, -34.9066771, -34.9066771, -34.9066771, -34.9066771, -34.9066771, -34.9066771, null, -50.9122747, -50.9122747, -34.910044, -34.910044, -34.9075704, -34.9075704, -43.7920185, -43.956245, -43.956245, -43.956245, -34.9165598, null, -34.9129527, -34.9135248, -34.9188017, -34.9109022, -34.9109022, -34.9120175, -55.4000448, -55.4000448, -55.4000448, -34.9104471, -34.9104471, -34.9104471, -34.9104471, -34.913604, -8.673387, -8.673387, -8.673387, -8.673387, -34.9204665, -38.3946039, -51.3706222, -49.2755353, -48.6362102, -53.9407835, -53.9407835, -34.9175664, -9.1834308, -8.013206, -8.013206, -8.013206, -46.6323831, -52.3467739, -49.3169983, -45.9188422, -47.639067, -34.9209928, -43.1814951, -34.9124589, -48.5215597, -48.5215597, -48.5215597, -34.9066771, -34.91699404784326, -34.91699404784326, -34.9201316, -34.9223365, -34.9257588, -49.8601683, -52.484947, -53.9351951, -53.9351951, -53.7603244, -34.9421263, null, -34.9020577, -40.5134623, -35.2039345, -35.2039345, -35.2039345, null, -34.8981008, -34.8981008, -39.574146, -43.2582698, -34.8987989, -47.2742133, -41.9893257, -34.895926, -43.6306307, -43.6306307, -43.6306307, null, null, null, -9.1274042, -53.9312003, -53.9312003], \"marker\": {\"color\": \"blue\", \"size\": [1500, 900, 500, 750, 900, 700, 600, 1000, 1100, 1500, 1400, 999, 1499, 700, 1100, 1200, 750, 900, 620, 1100, 1300, 1000, 800, 750, 800, 1100, 1160, 1000, 800, 1500, 1350, 1450, 1500, 1500, 1200, 600, 400, 1500, 1000, 1200, 1300, 1100, 1300, 700, 1000, 700, 1500, 1100, 1500, 1100, 1100, 1500, 1500, 1500, 1500, 1500, 1500, 1100, 1500, 1500, 1100, 650, 1200, 1000, 1500, 1500, 1000, 1200, 700, 900, 1100, 1500, 1100, 1500, 1500, 950, 650, 680, 799, 750, 1200, 800, 1500, 950, 600, 1200, 700, 1400, 750, 1200, 500, 500, 1500, 1400, 1400, 1500, 1450, 1499, 1500, 1500, 1499, 1499, 1500, 1499, 1500, 1399, 1400, 1200, 1200, 1000, 1200, 1100, 980, 1000, 970, 1400, 1500, 1400, 1350, 550, 1300, 1300, 900, 950, 1400, 1200, 1000, 990, 800, 1290, 1500, 1500, 950, 950, 900, 1500, 1000, 1200, 1000, 900, 1200, 800, 1400, 750, 1200, 1000, 1000, 999, 450, 600, 600, 700, 1300, 1200, 1000, 1500, 1400, 1150, 850, 1250, 1400, 1350, 800, 1500, 1200, 1400, 900, 600, 500, 600, 500, 600, 550, 550, 600, 750, 1400, 1200, 1400, 1450, 1250, 1400, 1400, 1300, 1200, 1500, 1500, 1500, 1500, 1500, 1200, 1500, 1250, 1400, 1350, 1000, 1450, 1500, 1500, 1200, 1300, 1500, 900, 1350, 1100, 1400, 1300, 1200, 1500, 1500, 1250, 1500, 1050, 700, 1400, 1400, 1400, 1400, 1430, 1450, 1440, 1450, 1400, 1500, 1000, 1100, 1500, 1500, 1500, 1500, 1500, 1400, 1500, 1445, 1500, 1430, 1500, 1500, 1000, 1499, 1500, 1400, 1000, 1500, 1500, 1400, 1500, 1500, 1000, 1340, 1500, 1400, 1500, 1100, 1500, 1400, 1500, 1500, 1500, 1500, 1400, 1350, 1500, 1400, 1400, 1500, 1300, 1300, 1500, 1500, 1150, 1290, 1500, 1500, 1500, 1500, 1500, 1500, 1500, 200, 800, 1400, 800, 1400, 1500, 1100, 1300, 1400, 1400, 800, 1400, 1470, 1500, 1400, 1300, 1500, 1500, 1410, 1430, 1500, 1500, 800, 1350, 1450, 1200, 1200, 850, 650, 1470, 1300, 1000, 874, 877, 1400, 1000, 920, 1050, 1500, 1500, 1300, 1200, 1200, 1100, 1250, 1500, 500, 1500, 1200, 1450, 1300, 1500, 1500, 1450, 800, 800, 1500, 1500, 1500, 1500, 1400, 1300, 1250, 1350, 1350, 1350, 1350, 350, 1500, 1200, 1200, 1500, 1500, 1500, 1500, 1000, 1200, 1300, 1499, 1500, 1469, 1200, 1500, 1100, 1470, 550, 1500, 1000, 1499, 1499, 1400, 1500, 650, 550, 1500, 1500, 1399, 1500, 1500, 1399, 1350, 465, 1500, 900, 1100, 1500, 1400, 1300, 1310, 1400, 1500, 1300, 650, 1100, 1500, 1251, 1335, 916, 1400, 1114, 1190, 1152, 1180, 1200, 1300, 1180, 1400, 700, 1500, 1350, 1400, 1500, 1300, 1400, 1500, 1500, 1500, 1400, 1450, 1400, 1500, 1400, 1500, 1400, 1050, 1400, 1400, 1500, 1150, 1500, 1400, 1400, 1300, 1500, 110, 1400, 1500, 690, 1300, 1300, 1500, 1500, 1500, 1500, 400, 485, 950, 850, 1000, 800, 1500, 1300, 1400, 1300, 800, 1300, 1500, 1470, 1000, 1470, 1020, 1470, 1470, 1000, 1470, 1499, 1000, 750, 1500, 1000, 1399, 1470, 1000, 1500, 1000, 1100, 900, 1400, 999, 1470, 1000, 999, 1500, 1499, 1470, 1000, 1469, 1470, 1470, 1400, 1000, 1499, 1400, 1400, 1100, 999, 1499, 1500, 1200, 500, 1500, 1300, 900, 1000, 1300, 1500, 1400, 1500, 1350, 1500, 1400, 1500, 1300, 1200, 1400, 1150, 1500, 1400, 1500, 900, 1200, 1500, 1500, 1390, 1200, 1500, 1400, 1350, 1500, 1300, 1500, 1100, 1400, 800, 1460, 1450, 1300, 1200, 790, 1400, 1250, 799, 0, 1100, 1100, 750, 1100, 1100, 1400, 1100, 1100, 1000, 1000, 1500, 1200, 950, 1200, 1100, 1200, 1300, 1300, 900, 1450, 1100, 500, 1300, 990, 680, 1300, 1250, 1500, 1000, 1100, 900, 1500, 1500, 1300, 1500, 1400, 1500, 1500, 1400, 1000, 1000, 1500, 170, 830, 900, 1499, 1450, 550, 550, 700, 650, 1100, 700, 1300, 1100, 1300, 600, 1390, 1390, 1390, 1390, 1390, 1390, 1500, 1150, 1500, 1500, 1000, 1400, 1500, 650, 1100, 1100, 1250, 1250, 1500, 1500, 850, 1290, 1400, 1500, 1200, 1200, 1400, 950, 1200, 1200, 1500, 1500, 1500, 1500, 1400, 1400, 1400, 900, 500, 1470, 500, 450, 1000, 830, 600, 800, 600, 580, 1400, 1400, 1470, 1450, 1450, 1400, 1500, 1400, 1400, 1450, 1470, 1450, 1450, 1400, 750, 600, 950, 1450, 1450, 750, 1300, 1300, 1300, 1200, 1200, 1200, 1200, 850, 1400, 1100, 1450, 1000, 750, 1000, 1150, 1200, 350, 1000, 1150, 380, 400, 450, 350, 400, 650, 550, 1000, 900, 1000, 1000, 500, 1050, 600, 550, 600, 600, 900, 500, 800, 500, 750, 800, 800, 1200, 1300, 1000, 1400, 600, 700, 1300, 650, 550, 600, 700, 500, 500, 800, 1250, 900, 1300, 1500, 800, 800, 1400, 1500, 1350, 1100, 1030, 750, 1300, 1450, 1350, 900, 1320, 1000, 950, 950, 1500, 1450, 1400, 1200, 1200], \"sizemode\": \"area\", \"sizeref\": 3.75}, \"mode\": \"markers\", \"name\": \"\", \"showlegend\": false, \"subplot\": \"mapbox\", \"type\": \"scattermapbox\"}],\n",
       "                        {\"height\": 800, \"legend\": {\"itemsizing\": \"constant\", \"tracegroupgap\": 0}, \"mapbox\": {\"center\": {\"lat\": -9.533012388449613, \"lon\": -36.40240985568029}, \"domain\": {\"x\": [0.0, 1.0], \"y\": [0.0, 1.0]}, \"style\": \"open-street-map\", \"zoom\": 6}, \"margin\": {\"b\": 0, \"l\": 0, \"r\": 0, \"t\": 0}, \"template\": {\"data\": {\"bar\": [{\"error_x\": {\"color\": \"#2a3f5f\"}, \"error_y\": {\"color\": \"#2a3f5f\"}, \"marker\": {\"line\": {\"color\": \"#E5ECF6\", \"width\": 0.5}}, \"type\": \"bar\"}], \"barpolar\": [{\"marker\": {\"line\": {\"color\": \"#E5ECF6\", \"width\": 0.5}}, \"type\": \"barpolar\"}], \"carpet\": [{\"aaxis\": {\"endlinecolor\": \"#2a3f5f\", \"gridcolor\": \"white\", \"linecolor\": \"white\", \"minorgridcolor\": \"white\", \"startlinecolor\": \"#2a3f5f\"}, \"baxis\": {\"endlinecolor\": \"#2a3f5f\", \"gridcolor\": \"white\", \"linecolor\": \"white\", \"minorgridcolor\": \"white\", \"startlinecolor\": \"#2a3f5f\"}, \"type\": \"carpet\"}], \"choropleth\": [{\"colorbar\": {\"outlinewidth\": 0, \"ticks\": \"\"}, \"type\": \"choropleth\"}], \"contour\": [{\"colorbar\": {\"outlinewidth\": 0, \"ticks\": \"\"}, \"colorscale\": [[0.0, \"#0d0887\"], [0.1111111111111111, \"#46039f\"], [0.2222222222222222, \"#7201a8\"], [0.3333333333333333, \"#9c179e\"], [0.4444444444444444, \"#bd3786\"], [0.5555555555555556, \"#d8576b\"], [0.6666666666666666, \"#ed7953\"], [0.7777777777777778, \"#fb9f3a\"], [0.8888888888888888, \"#fdca26\"], [1.0, \"#f0f921\"]], \"type\": \"contour\"}], \"contourcarpet\": [{\"colorbar\": {\"outlinewidth\": 0, \"ticks\": \"\"}, \"type\": \"contourcarpet\"}], \"heatmap\": [{\"colorbar\": {\"outlinewidth\": 0, \"ticks\": \"\"}, \"colorscale\": [[0.0, \"#0d0887\"], [0.1111111111111111, \"#46039f\"], [0.2222222222222222, \"#7201a8\"], [0.3333333333333333, \"#9c179e\"], [0.4444444444444444, \"#bd3786\"], [0.5555555555555556, \"#d8576b\"], [0.6666666666666666, \"#ed7953\"], [0.7777777777777778, \"#fb9f3a\"], [0.8888888888888888, \"#fdca26\"], [1.0, \"#f0f921\"]], \"type\": \"heatmap\"}], \"heatmapgl\": [{\"colorbar\": {\"outlinewidth\": 0, \"ticks\": \"\"}, \"colorscale\": [[0.0, \"#0d0887\"], [0.1111111111111111, \"#46039f\"], [0.2222222222222222, \"#7201a8\"], [0.3333333333333333, \"#9c179e\"], [0.4444444444444444, \"#bd3786\"], [0.5555555555555556, \"#d8576b\"], [0.6666666666666666, \"#ed7953\"], [0.7777777777777778, \"#fb9f3a\"], [0.8888888888888888, \"#fdca26\"], [1.0, \"#f0f921\"]], \"type\": \"heatmapgl\"}], \"histogram\": [{\"marker\": {\"colorbar\": {\"outlinewidth\": 0, \"ticks\": \"\"}}, \"type\": \"histogram\"}], \"histogram2d\": [{\"colorbar\": {\"outlinewidth\": 0, \"ticks\": \"\"}, \"colorscale\": [[0.0, \"#0d0887\"], [0.1111111111111111, \"#46039f\"], [0.2222222222222222, \"#7201a8\"], [0.3333333333333333, \"#9c179e\"], [0.4444444444444444, \"#bd3786\"], [0.5555555555555556, \"#d8576b\"], [0.6666666666666666, \"#ed7953\"], [0.7777777777777778, \"#fb9f3a\"], [0.8888888888888888, \"#fdca26\"], [1.0, \"#f0f921\"]], \"type\": \"histogram2d\"}], \"histogram2dcontour\": [{\"colorbar\": {\"outlinewidth\": 0, \"ticks\": \"\"}, \"colorscale\": [[0.0, \"#0d0887\"], [0.1111111111111111, \"#46039f\"], [0.2222222222222222, \"#7201a8\"], [0.3333333333333333, \"#9c179e\"], [0.4444444444444444, \"#bd3786\"], [0.5555555555555556, \"#d8576b\"], [0.6666666666666666, \"#ed7953\"], [0.7777777777777778, \"#fb9f3a\"], [0.8888888888888888, \"#fdca26\"], [1.0, \"#f0f921\"]], \"type\": \"histogram2dcontour\"}], \"mesh3d\": [{\"colorbar\": {\"outlinewidth\": 0, \"ticks\": \"\"}, \"type\": \"mesh3d\"}], \"parcoords\": [{\"line\": {\"colorbar\": {\"outlinewidth\": 0, \"ticks\": \"\"}}, \"type\": \"parcoords\"}], \"pie\": [{\"automargin\": true, \"type\": \"pie\"}], \"scatter\": [{\"marker\": {\"colorbar\": {\"outlinewidth\": 0, \"ticks\": \"\"}}, \"type\": \"scatter\"}], \"scatter3d\": [{\"line\": {\"colorbar\": {\"outlinewidth\": 0, \"ticks\": \"\"}}, \"marker\": {\"colorbar\": {\"outlinewidth\": 0, \"ticks\": \"\"}}, \"type\": \"scatter3d\"}], \"scattercarpet\": [{\"marker\": {\"colorbar\": {\"outlinewidth\": 0, \"ticks\": \"\"}}, \"type\": \"scattercarpet\"}], \"scattergeo\": [{\"marker\": {\"colorbar\": {\"outlinewidth\": 0, \"ticks\": \"\"}}, \"type\": \"scattergeo\"}], \"scattergl\": [{\"marker\": {\"colorbar\": {\"outlinewidth\": 0, \"ticks\": \"\"}}, \"type\": \"scattergl\"}], \"scattermapbox\": [{\"marker\": {\"colorbar\": {\"outlinewidth\": 0, \"ticks\": \"\"}}, \"type\": \"scattermapbox\"}], \"scatterpolar\": [{\"marker\": {\"colorbar\": {\"outlinewidth\": 0, \"ticks\": \"\"}}, \"type\": \"scatterpolar\"}], \"scatterpolargl\": [{\"marker\": {\"colorbar\": {\"outlinewidth\": 0, \"ticks\": \"\"}}, \"type\": \"scatterpolargl\"}], \"scatterternary\": [{\"marker\": {\"colorbar\": {\"outlinewidth\": 0, \"ticks\": \"\"}}, \"type\": \"scatterternary\"}], \"surface\": [{\"colorbar\": {\"outlinewidth\": 0, \"ticks\": \"\"}, \"colorscale\": [[0.0, \"#0d0887\"], [0.1111111111111111, \"#46039f\"], [0.2222222222222222, \"#7201a8\"], [0.3333333333333333, \"#9c179e\"], [0.4444444444444444, \"#bd3786\"], [0.5555555555555556, \"#d8576b\"], [0.6666666666666666, \"#ed7953\"], [0.7777777777777778, \"#fb9f3a\"], [0.8888888888888888, \"#fdca26\"], [1.0, \"#f0f921\"]], \"type\": \"surface\"}], \"table\": [{\"cells\": {\"fill\": {\"color\": \"#EBF0F8\"}, \"line\": {\"color\": \"white\"}}, \"header\": {\"fill\": {\"color\": \"#C8D4E3\"}, \"line\": {\"color\": \"white\"}}, \"type\": \"table\"}]}, \"layout\": {\"annotationdefaults\": {\"arrowcolor\": \"#2a3f5f\", \"arrowhead\": 0, \"arrowwidth\": 1}, \"coloraxis\": {\"colorbar\": {\"outlinewidth\": 0, \"ticks\": \"\"}}, \"colorscale\": {\"diverging\": [[0, \"#8e0152\"], [0.1, \"#c51b7d\"], [0.2, \"#de77ae\"], [0.3, \"#f1b6da\"], [0.4, \"#fde0ef\"], [0.5, \"#f7f7f7\"], [0.6, \"#e6f5d0\"], [0.7, \"#b8e186\"], [0.8, \"#7fbc41\"], [0.9, \"#4d9221\"], [1, \"#276419\"]], \"sequential\": [[0.0, \"#0d0887\"], [0.1111111111111111, \"#46039f\"], [0.2222222222222222, \"#7201a8\"], [0.3333333333333333, \"#9c179e\"], [0.4444444444444444, \"#bd3786\"], [0.5555555555555556, \"#d8576b\"], [0.6666666666666666, \"#ed7953\"], [0.7777777777777778, \"#fb9f3a\"], [0.8888888888888888, \"#fdca26\"], [1.0, \"#f0f921\"]], \"sequentialminus\": [[0.0, \"#0d0887\"], [0.1111111111111111, \"#46039f\"], [0.2222222222222222, \"#7201a8\"], [0.3333333333333333, \"#9c179e\"], [0.4444444444444444, \"#bd3786\"], [0.5555555555555556, \"#d8576b\"], [0.6666666666666666, \"#ed7953\"], [0.7777777777777778, \"#fb9f3a\"], [0.8888888888888888, \"#fdca26\"], [1.0, \"#f0f921\"]]}, \"colorway\": [\"#636efa\", \"#EF553B\", \"#00cc96\", \"#ab63fa\", \"#FFA15A\", \"#19d3f3\", \"#FF6692\", \"#B6E880\", \"#FF97FF\", \"#FECB52\"], \"font\": {\"color\": \"#2a3f5f\"}, \"geo\": {\"bgcolor\": \"white\", \"lakecolor\": \"white\", \"landcolor\": \"#E5ECF6\", \"showlakes\": true, \"showland\": true, \"subunitcolor\": \"white\"}, \"hoverlabel\": {\"align\": \"left\"}, \"hovermode\": \"closest\", \"mapbox\": {\"style\": \"light\"}, \"paper_bgcolor\": \"white\", \"plot_bgcolor\": \"#E5ECF6\", \"polar\": {\"angularaxis\": {\"gridcolor\": \"white\", \"linecolor\": \"white\", \"ticks\": \"\"}, \"bgcolor\": \"#E5ECF6\", \"radialaxis\": {\"gridcolor\": \"white\", \"linecolor\": \"white\", \"ticks\": \"\"}}, \"scene\": {\"xaxis\": {\"backgroundcolor\": \"#E5ECF6\", \"gridcolor\": \"white\", \"gridwidth\": 2, \"linecolor\": \"white\", \"showbackground\": true, \"ticks\": \"\", \"zerolinecolor\": \"white\"}, \"yaxis\": {\"backgroundcolor\": \"#E5ECF6\", \"gridcolor\": \"white\", \"gridwidth\": 2, \"linecolor\": \"white\", \"showbackground\": true, \"ticks\": \"\", \"zerolinecolor\": \"white\"}, \"zaxis\": {\"backgroundcolor\": \"#E5ECF6\", \"gridcolor\": \"white\", \"gridwidth\": 2, \"linecolor\": \"white\", \"showbackground\": true, \"ticks\": \"\", \"zerolinecolor\": \"white\"}}, \"shapedefaults\": {\"line\": {\"color\": \"#2a3f5f\"}}, \"ternary\": {\"aaxis\": {\"gridcolor\": \"white\", \"linecolor\": \"white\", \"ticks\": \"\"}, \"baxis\": {\"gridcolor\": \"white\", \"linecolor\": \"white\", \"ticks\": \"\"}, \"bgcolor\": \"#E5ECF6\", \"caxis\": {\"gridcolor\": \"white\", \"linecolor\": \"white\", \"ticks\": \"\"}}, \"title\": {\"x\": 0.05}, \"xaxis\": {\"automargin\": true, \"gridcolor\": \"white\", \"linecolor\": \"white\", \"ticks\": \"\", \"title\": {\"standoff\": 15}, \"zerolinecolor\": \"white\", \"zerolinewidth\": 2}, \"yaxis\": {\"automargin\": true, \"gridcolor\": \"white\", \"linecolor\": \"white\", \"ticks\": \"\", \"title\": {\"standoff\": 15}, \"zerolinecolor\": \"white\", \"zerolinewidth\": 2}}}},\n",
       "                        {\"responsive\": true}\n",
       "                    ).then(function(){\n",
       "                            \n",
       "var gd = document.getElementById('4e999328-51be-4217-822f-053b6649064b');\n",
       "var x = new MutationObserver(function (mutations, observer) {{\n",
       "        var display = window.getComputedStyle(gd).display;\n",
       "        if (!display || display === 'none') {{\n",
       "            console.log([gd, 'removed!']);\n",
       "            Plotly.purge(gd);\n",
       "            observer.disconnect();\n",
       "        }}\n",
       "}});\n",
       "\n",
       "// Listen for the removal of the full notebook cells\n",
       "var notebookContainer = gd.closest('#notebook-container');\n",
       "if (notebookContainer) {{\n",
       "    x.observe(notebookContainer, {childList: true});\n",
       "}}\n",
       "\n",
       "// Listen for the clearing of the current output cell\n",
       "var outputEl = gd.closest('.output');\n",
       "if (outputEl) {{\n",
       "    x.observe(outputEl, {childList: true});\n",
       "}}\n",
       "\n",
       "                        })\n",
       "                };\n",
       "                });\n",
       "            </script>\n",
       "        </div>"
      ]
     },
     "metadata": {},
     "output_type": "display_data"
    }
   ],
   "source": [
    "import pandas as pd\n",
    "import plotly.express as px\n",
    "\n",
    "fig = px.scatter_mapbox(complete_results, \n",
    "                        lat=\"latitude\", lon=\"longitude\", \n",
    "                        hover_name=\"total_price\", \n",
    "                        hover_data=[\"bedrooms\",\"bathrooms\", \"area\",\"url\",\"type\"],\n",
    "                        color_discrete_sequence=[\"blue\"], \n",
    "                        zoom=6, height=800,\n",
    "                        size=\"price\")\n",
    "fig.update_layout(mapbox_style=\"open-street-map\")\n",
    "fig.update_layout(margin={\"r\":0,\"t\":0,\"l\":0,\"b\":0})\n",
    "fig.show()"
   ]
  }
 ],
 "metadata": {
  "kernelspec": {
   "display_name": "Python 3",
   "language": "python",
   "name": "python3"
  },
  "language_info": {
   "codemirror_mode": {
    "name": "ipython",
    "version": 3
   },
   "file_extension": ".py",
   "mimetype": "text/x-python",
   "name": "python",
   "nbconvert_exporter": "python",
   "pygments_lexer": "ipython3",
   "version": "3.7.7"
  }
 },
 "nbformat": 4,
 "nbformat_minor": 4
}
